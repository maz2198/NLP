{
 "cells": [
  {
   "cell_type": "markdown",
   "metadata": {
    "colab_type": "text",
    "heading_collapsed": true,
    "id": "qpF6H_4o3a7c"
   },
   "source": [
    "## **Loading Libraries**"
   ]
  },
  {
   "cell_type": "code",
   "execution_count": 80,
   "metadata": {
    "colab": {},
    "colab_type": "code",
    "hidden": true,
    "id": "UppVR4Id31Su"
   },
   "outputs": [],
   "source": [
    "import pandas as pd\n",
    "import numpy as np\n",
    "import matplotlib.pyplot as plt\n",
    "import seaborn as sns\n",
    "#from textblob import TextBlob\n",
    "import warnings\n",
    "warnings.filterwarnings(\"ignore\")\n",
    "from nltk.corpus import stopwords\n",
    "import time\n",
    "import re\n",
    "import random\n",
    "import os\n",
    "from os import path\n",
    "import io\n",
    "from collections import Counter\n",
    "import nltk\n",
    "from nltk.corpus import sentiwordnet as swn\n",
    "from nltk.stem.porter import *\n",
    "from nltk.stem import PorterStemmer\n",
    "from nltk.stem.snowball import SnowballStemmer\n",
    "from nltk.tokenize import word_tokenize\n",
    "from nltk import RegexpTagger\n",
    "from nltk import AffixTagger\n",
    "from nltk import NgramTagger\n",
    "from nltk import UnigramTagger\n",
    "from nltk.corpus import brown\n",
    "from wordcloud import WordCloud, STOPWORDS \n",
    "import matplotlib.pyplot as plt \n",
    "from nltk.corpus import brown\n",
    "nltk.download('brown', quiet=True)\n",
    "nltk.download('universal_tagset', quiet=True)\n",
    "from PIL import Image"
   ]
  },
  {
   "cell_type": "markdown",
   "metadata": {
    "colab_type": "text",
    "id": "wNMiBVzo4SUu"
   },
   "source": [
    "## **Loading Data**"
   ]
  },
  {
   "cell_type": "code",
   "execution_count": 164,
   "metadata": {
    "colab": {
     "base_uri": "https://localhost:8080/",
     "height": 497
    },
    "colab_type": "code",
    "id": "MGSljsCO4WVp",
    "outputId": "156dfc8d-d309-4d5f-b194-7f431a656372"
   },
   "outputs": [],
   "source": [
    "df1 = pd.read_csv(\"2.NLP MENTIONS - staysafe domesticviolence DomesticAbuse DomesticViolence.csv\")"
   ]
  },
  {
   "cell_type": "code",
   "execution_count": 165,
   "metadata": {
    "colab": {
     "base_uri": "https://localhost:8080/",
     "height": 714
    },
    "colab_type": "code",
    "id": "RIvCHzhqoaXF",
    "outputId": "82274d86-7c07-4415-efc3-71f2caf786ca"
   },
   "outputs": [
    {
     "name": "stdout",
     "output_type": "stream",
     "text": [
      "<class 'pandas.core.frame.DataFrame'>\n",
      "RangeIndex: 50000 entries, 0 to 49999\n",
      "Data columns (total 34 columns):\n",
      " #   Column           Non-Null Count  Dtype  \n",
      "---  ------           --------------  -----  \n",
      " 0   No               50000 non-null  int64  \n",
      " 1   Source           50000 non-null  object \n",
      " 2   Host             50000 non-null  object \n",
      " 3   Link             50000 non-null  object \n",
      " 4   Date(ET)         50000 non-null  object \n",
      " 5   Time(ET)         50000 non-null  object \n",
      " 6   LocalTime        50000 non-null  object \n",
      " 7   Category         0 non-null      float64\n",
      " 8   Author ID        50000 non-null  object \n",
      " 9   Author Name      50000 non-null  object \n",
      " 10  Author URL       50000 non-null  object \n",
      " 11  Authority        50000 non-null  int64  \n",
      " 12  Followers        50000 non-null  int64  \n",
      " 13  Following        50000 non-null  int64  \n",
      " 14  Age              0 non-null      float64\n",
      " 15  Gender           30266 non-null  object \n",
      " 16  Language         50000 non-null  object \n",
      " 17  Country          30463 non-null  object \n",
      " 18  Province/State   24826 non-null  object \n",
      " 19  City             17268 non-null  object \n",
      " 20  Location         37693 non-null  object \n",
      " 21  Sentiment        50000 non-null  object \n",
      " 22  Themes           38593 non-null  object \n",
      " 23  Classifications  46086 non-null  object \n",
      " 24  Entities         46087 non-null  object \n",
      " 25  Alexa Rank       0 non-null      float64\n",
      " 26  Alexa Reach      0 non-null      float64\n",
      " 27  Title            0 non-null      float64\n",
      " 28  Snippet          50000 non-null  object \n",
      " 29  Contents         50000 non-null  object \n",
      " 30  Summary          42909 non-null  object \n",
      " 31  Bio              44430 non-null  object \n",
      " 32  Unique ID        50000 non-null  float64\n",
      " 33  Post Source      49997 non-null  object \n",
      "dtypes: float64(6), int64(4), object(24)\n",
      "memory usage: 13.0+ MB\n"
     ]
    }
   ],
   "source": [
    "df1.info()"
   ]
  },
  {
   "cell_type": "code",
   "execution_count": 166,
   "metadata": {
    "colab": {
     "base_uri": "https://localhost:8080/",
     "height": 497
    },
    "colab_type": "code",
    "id": "LqtdSz0Ng-xu",
    "outputId": "162ae1e6-1733-4428-db9d-6687655b10f7"
   },
   "outputs": [],
   "source": [
    "df2 = pd.read_csv(\"5.NLP - Twitter Mentions- HeForSheAtHome.csv\")"
   ]
  },
  {
   "cell_type": "code",
   "execution_count": 167,
   "metadata": {
    "colab": {
     "base_uri": "https://localhost:8080/",
     "height": 714
    },
    "colab_type": "code",
    "id": "PlPeG3oHoq6W",
    "outputId": "9715b040-cf3d-4714-f75d-d02bb4f71219"
   },
   "outputs": [
    {
     "name": "stdout",
     "output_type": "stream",
     "text": [
      "<class 'pandas.core.frame.DataFrame'>\n",
      "RangeIndex: 50000 entries, 0 to 49999\n",
      "Data columns (total 34 columns):\n",
      " #   Column           Non-Null Count  Dtype  \n",
      "---  ------           --------------  -----  \n",
      " 0   No               50000 non-null  int64  \n",
      " 1   Source           50000 non-null  object \n",
      " 2   Host             50000 non-null  object \n",
      " 3   Link             50000 non-null  object \n",
      " 4   Date(ET)         50000 non-null  object \n",
      " 5   Time(ET)         50000 non-null  object \n",
      " 6   LocalTime        50000 non-null  object \n",
      " 7   Category         0 non-null      float64\n",
      " 8   Author ID        50000 non-null  object \n",
      " 9   Author Name      49999 non-null  object \n",
      " 10  Author URL       50000 non-null  object \n",
      " 11  Authority        50000 non-null  int64  \n",
      " 12  Followers        50000 non-null  int64  \n",
      " 13  Following        50000 non-null  int64  \n",
      " 14  Age              0 non-null      float64\n",
      " 15  Gender           26103 non-null  object \n",
      " 16  Language         50000 non-null  object \n",
      " 17  Country          29241 non-null  object \n",
      " 18  Province/State   20004 non-null  object \n",
      " 19  City             18132 non-null  object \n",
      " 20  Location         38205 non-null  object \n",
      " 21  Sentiment        50000 non-null  object \n",
      " 22  Themes           37211 non-null  object \n",
      " 23  Classifications  45057 non-null  object \n",
      " 24  Entities         45057 non-null  object \n",
      " 25  Alexa Rank       0 non-null      float64\n",
      " 26  Alexa Reach      0 non-null      float64\n",
      " 27  Title            0 non-null      float64\n",
      " 28  Snippet          50000 non-null  object \n",
      " 29  Contents         50000 non-null  object \n",
      " 30  Summary          44783 non-null  object \n",
      " 31  Bio              45290 non-null  object \n",
      " 32  Unique ID        50000 non-null  float64\n",
      " 33  Post Source      49997 non-null  object \n",
      "dtypes: float64(6), int64(4), object(24)\n",
      "memory usage: 13.0+ MB\n"
     ]
    }
   ],
   "source": [
    "df2.info()"
   ]
  },
  {
   "cell_type": "code",
   "execution_count": 168,
   "metadata": {
    "colab": {},
    "colab_type": "code",
    "id": "RHRBnTDfg-6g"
   },
   "outputs": [],
   "source": [
    "df3 = pd.read_csv(\"5.NLP-TWITTER-#METOO.csv\")"
   ]
  },
  {
   "cell_type": "code",
   "execution_count": 169,
   "metadata": {
    "colab": {
     "base_uri": "https://localhost:8080/",
     "height": 714
    },
    "colab_type": "code",
    "id": "FH2psr0QouSd",
    "outputId": "da2a1a0f-412d-42d5-a52b-c8a232a41698"
   },
   "outputs": [
    {
     "name": "stdout",
     "output_type": "stream",
     "text": [
      "<class 'pandas.core.frame.DataFrame'>\n",
      "RangeIndex: 3000 entries, 0 to 2999\n",
      "Data columns (total 34 columns):\n",
      " #   Column           Non-Null Count  Dtype  \n",
      "---  ------           --------------  -----  \n",
      " 0   No               3000 non-null   int64  \n",
      " 1   Source           3000 non-null   object \n",
      " 2   Host             3000 non-null   object \n",
      " 3   Link             3000 non-null   object \n",
      " 4   Date(ET)         3000 non-null   object \n",
      " 5   Time(ET)         3000 non-null   object \n",
      " 6   LocalTime        3000 non-null   object \n",
      " 7   Category         0 non-null      float64\n",
      " 8   Author ID        3000 non-null   object \n",
      " 9   Author Name      3000 non-null   object \n",
      " 10  Author URL       3000 non-null   object \n",
      " 11  Authority        3000 non-null   int64  \n",
      " 12  Followers        3000 non-null   int64  \n",
      " 13  Following        3000 non-null   int64  \n",
      " 14  Age              0 non-null      float64\n",
      " 15  Gender           1958 non-null   object \n",
      " 16  Language         3000 non-null   object \n",
      " 17  Country          1509 non-null   object \n",
      " 18  Province/State   1209 non-null   object \n",
      " 19  City             792 non-null    object \n",
      " 20  Location         2168 non-null   object \n",
      " 21  Sentiment        3000 non-null   object \n",
      " 22  Themes           2450 non-null   object \n",
      " 23  Classifications  2795 non-null   object \n",
      " 24  Entities         2795 non-null   object \n",
      " 25  Alexa Rank       0 non-null      float64\n",
      " 26  Alexa Reach      0 non-null      float64\n",
      " 27  Title            0 non-null      float64\n",
      " 28  Snippet          3000 non-null   object \n",
      " 29  Contents         3000 non-null   object \n",
      " 30  Summary          2663 non-null   object \n",
      " 31  Bio              2633 non-null   object \n",
      " 32  Unique ID        3000 non-null   float64\n",
      " 33  Post Source      3000 non-null   object \n",
      "dtypes: float64(6), int64(4), object(24)\n",
      "memory usage: 797.0+ KB\n"
     ]
    }
   ],
   "source": [
    "df3.info()"
   ]
  },
  {
   "cell_type": "code",
   "execution_count": 170,
   "metadata": {
    "colab": {},
    "colab_type": "code",
    "id": "8OYcnOI_g_Hm"
   },
   "outputs": [],
   "source": [
    "df4 = pd.read_csv(\"5.NLP-TWITTER-#WHYISTAYED_#WHYILEFT.csv\")"
   ]
  },
  {
   "cell_type": "code",
   "execution_count": 171,
   "metadata": {
    "colab": {
     "base_uri": "https://localhost:8080/",
     "height": 714
    },
    "colab_type": "code",
    "id": "qiwQryGSownq",
    "outputId": "8e823edc-9088-4a85-8a23-4cb6d289eaa5"
   },
   "outputs": [
    {
     "name": "stdout",
     "output_type": "stream",
     "text": [
      "<class 'pandas.core.frame.DataFrame'>\n",
      "RangeIndex: 2581 entries, 0 to 2580\n",
      "Data columns (total 34 columns):\n",
      " #   Column           Non-Null Count  Dtype  \n",
      "---  ------           --------------  -----  \n",
      " 0   No               2581 non-null   int64  \n",
      " 1   Source           2581 non-null   object \n",
      " 2   Host             2581 non-null   object \n",
      " 3   Link             2581 non-null   object \n",
      " 4   Date(ET)         2581 non-null   object \n",
      " 5   Time(ET)         2581 non-null   object \n",
      " 6   LocalTime        2581 non-null   object \n",
      " 7   Category         0 non-null      float64\n",
      " 8   Author ID        2581 non-null   object \n",
      " 9   Author Name      2581 non-null   object \n",
      " 10  Author URL       2581 non-null   object \n",
      " 11  Authority        2581 non-null   int64  \n",
      " 12  Followers        2581 non-null   int64  \n",
      " 13  Following        2581 non-null   int64  \n",
      " 14  Age              0 non-null      float64\n",
      " 15  Gender           1855 non-null   object \n",
      " 16  Language         2581 non-null   object \n",
      " 17  Country          1185 non-null   object \n",
      " 18  Province/State   969 non-null    object \n",
      " 19  City             709 non-null    object \n",
      " 20  Location         2217 non-null   object \n",
      " 21  Sentiment        2581 non-null   object \n",
      " 22  Themes           1518 non-null   object \n",
      " 23  Classifications  1601 non-null   object \n",
      " 24  Entities         1601 non-null   object \n",
      " 25  Alexa Rank       0 non-null      float64\n",
      " 26  Alexa Reach      0 non-null      float64\n",
      " 27  Title            0 non-null      float64\n",
      " 28  Snippet          2581 non-null   object \n",
      " 29  Contents         2581 non-null   object \n",
      " 30  Summary          1792 non-null   object \n",
      " 31  Bio              2463 non-null   object \n",
      " 32  Unique ID        2581 non-null   float64\n",
      " 33  Post Source      2581 non-null   object \n",
      "dtypes: float64(6), int64(4), object(24)\n",
      "memory usage: 685.7+ KB\n"
     ]
    }
   ],
   "source": [
    "df4.info()"
   ]
  },
  {
   "cell_type": "code",
   "execution_count": 173,
   "metadata": {
    "colab": {},
    "colab_type": "code",
    "id": "lptc88AKiGZP"
   },
   "outputs": [],
   "source": [
    "df = pd.concat([df1, df2,df3,df4], axis=0,ignore_index=True)\n"
   ]
  },
  {
   "cell_type": "markdown",
   "metadata": {},
   "source": [
    "# TOPIC MODELING"
   ]
  },
  {
   "cell_type": "code",
   "execution_count": 181,
   "metadata": {},
   "outputs": [],
   "source": [
    "# Remove Contractions \n",
    "def decontracted(phrase):\n",
    "    \"\"\"\n",
    "    Function uses regular expression to substitute common constructs used in text which \n",
    "    involve contractions.\n",
    "    A contraction is a shortened form of one or two words (one of which is usually a verb).\n",
    "    e.g. 'won't' will be replaced with 'will not'\n",
    "\n",
    "    parameters:\n",
    "    text (str): the text to use\n",
    "    \"\"\" \n",
    "    # specific\n",
    "    phrase = re.sub(r\"won\\'t\", \"will not\", phrase)\n",
    "    phrase = re.sub(r\"can\\'t\", \"can not\", phrase)\n",
    "    phrase = re.sub(r\"he\\ ’ s\", \"he is\", phrase)\n",
    "    phrase = re.sub(r\"i\\ ’ m\", \"he is\", phrase)\n",
    "   \n",
    "   \n",
    "\n",
    "    # general\n",
    "    phrase = re.sub(r\"n\\'t\", \" not\", phrase)\n",
    "    phrase = re.sub(r\"\\'re\", \" are\", phrase)\n",
    "    phrase = re.sub(r\"\\'s\", \" is\", phrase)\n",
    "    phrase = re.sub(r\"\\'d\", \" would\", phrase)\n",
    "    phrase = re.sub(r\"\\'ll\", \" will\", phrase)\n",
    "    phrase = re.sub(r\"\\'t\", \" not\", phrase)\n",
    "    phrase = re.sub(r\"\\'ve\", \" have\", phrase)\n",
    "    phrase = re.sub(r\"\\'m\", \" am\", phrase)\n",
    "    phrase = re.sub(r\"\\'didnt\", \" did not\", phrase)\n",
    "    return phrase"
   ]
  },
  {
   "cell_type": "code",
   "execution_count": 182,
   "metadata": {},
   "outputs": [],
   "source": [
    "# Reduce words length to avoid misspelling like \"happpppy\" will be \"happy\"\n",
    "\n",
    "def reduce_lengthening(text):\n",
    "    \"\"\"\n",
    "    Function uses regular expression to correct spelling errors from the text which involve incorrect repeated letters\n",
    "\n",
    "    parameters:\n",
    "    text (str): the text to use\n",
    "    \"\"\"  \n",
    "    pattern = re.compile(r\"(.)\\1{2,}\")\n",
    "    return pattern.sub(r\"\\1\\1\", text)\n",
    "# Apply the above pre-proessing functions to the Comment column\n",
    "\n",
    "df['Contents']=df['Contents'].apply(reduce_lengthening, 0) \n",
    "df['Contents']=df['Contents'].apply(decontracted, 0)"
   ]
  },
  {
   "cell_type": "code",
   "execution_count": 183,
   "metadata": {},
   "outputs": [
    {
     "name": "stderr",
     "output_type": "stream",
     "text": [
      "[nltk_data] Downloading package stopwords to\n",
      "[nltk_data]     /Users/begosfriiive/nltk_data...\n",
      "[nltk_data]   Package stopwords is already up-to-date!\n"
     ]
    }
   ],
   "source": [
    "#Setting Stopwords\n",
    "nltk.download('stopwords')\n",
    "from nltk.corpus import stopwords\n",
    "sw = stopwords.words('english')\n",
    "stw = sw + ['https','lot','httpstcoxn_tumhy', 'httpstcocgpu_hxya', 're', 'edu', 'use','good','really','quite','nice','well','little','need','keep','make','important','take','get','very','course','instructor','example']\n",
    "ps = PorterStemmer()\n",
    "lemmatizer = nltk.stem.WordNetLemmatizer()"
   ]
  },
  {
   "cell_type": "code",
   "execution_count": 184,
   "metadata": {},
   "outputs": [],
   "source": [
    "def nlpFunction(df):\n",
    "    \"\"\"\n",
    "    Function to carry out NLP type functions on the Comment text.\n",
    "    \n",
    "    the text is split into tokens \n",
    "    stopwords are removed\n",
    "    lemmatization is carried out\n",
    "      e.g.  am, are,is  => be\n",
    "            car, cars, car's, cars = > car\n",
    "    the <space> separated words are then added to a new column that will be used for sentiment analysis\n",
    "\n",
    "    parameters:\n",
    "    df (dataframe): the dataframe to use, the 'Comment' column is used \n",
    "    \"\"\" \n",
    "    df['com_token'] = df['Contents'].str.lower().str.split()\n",
    "    df['com_remv'] = df['com_token'].apply(lambda x: [y for y in x if y not in stw]) #tokenization\n",
    "    df[\"com_lemma\"] = df['com_remv'].apply(lambda x : [lemmatizer.lemmatize(y) for y in x]) # lemmatization\n",
    "    df[\"com_tok_str\"] = df[\"com_lemma\"].apply(', '.join)\n",
    "    df[\"com_full\"] = df[\"com_lemma\"].apply(' '.join)\n",
    "    return df"
   ]
  },
  {
   "cell_type": "code",
   "execution_count": 185,
   "metadata": {},
   "outputs": [
    {
     "name": "stderr",
     "output_type": "stream",
     "text": [
      "[nltk_data] Downloading package wordnet to\n",
      "[nltk_data]     /Users/begosfriiive/nltk_data...\n",
      "[nltk_data]   Package wordnet is already up-to-date!\n"
     ]
    },
    {
     "data": {
      "text/html": [
       "<div>\n",
       "<style scoped>\n",
       "    .dataframe tbody tr th:only-of-type {\n",
       "        vertical-align: middle;\n",
       "    }\n",
       "\n",
       "    .dataframe tbody tr th {\n",
       "        vertical-align: top;\n",
       "    }\n",
       "\n",
       "    .dataframe thead th {\n",
       "        text-align: right;\n",
       "    }\n",
       "</style>\n",
       "<table border=\"1\" class=\"dataframe\">\n",
       "  <thead>\n",
       "    <tr style=\"text-align: right;\">\n",
       "      <th></th>\n",
       "      <th>Orig_comment</th>\n",
       "      <th>Comment</th>\n",
       "    </tr>\n",
       "  </thead>\n",
       "  <tbody>\n",
       "    <tr>\n",
       "      <th>0</th>\n",
       "      <td>RT @RefugeCharity: Does your partner constantl...</td>\n",
       "      <td>rt @refugecharity: partner constantly undermin...</td>\n",
       "    </tr>\n",
       "    <tr>\n",
       "      <th>1</th>\n",
       "      <td>RT @SaheliEnfield: BBC News: UK lockdown: Call...</td>\n",
       "      <td>rt @sahelienfield: bbc news: uk lockdown: call...</td>\n",
       "    </tr>\n",
       "    <tr>\n",
       "      <th>2</th>\n",
       "      <td>RT @sallycroachy: @the_police_fdn @CommonsHome...</td>\n",
       "      <td>rt @sallycroachy: @the_police_fdn @commonshome...</td>\n",
       "    </tr>\n",
       "    <tr>\n",
       "      <th>3</th>\n",
       "      <td>RT @deAdder: cartoon for @TorontoStar #coronav...</td>\n",
       "      <td>rt @deadder: cartoon @torontostar #coronavirus...</td>\n",
       "    </tr>\n",
       "    <tr>\n",
       "      <th>4</th>\n",
       "      <td>RT @WALLAction: Men who kill their partners fo...</td>\n",
       "      <td>rt @wallaction: men kill partner follow \"homic...</td>\n",
       "    </tr>\n",
       "  </tbody>\n",
       "</table>\n",
       "</div>"
      ],
      "text/plain": [
       "                                        Orig_comment  \\\n",
       "0  RT @RefugeCharity: Does your partner constantl...   \n",
       "1  RT @SaheliEnfield: BBC News: UK lockdown: Call...   \n",
       "2  RT @sallycroachy: @the_police_fdn @CommonsHome...   \n",
       "3  RT @deAdder: cartoon for @TorontoStar #coronav...   \n",
       "4  RT @WALLAction: Men who kill their partners fo...   \n",
       "\n",
       "                                             Comment  \n",
       "0  rt @refugecharity: partner constantly undermin...  \n",
       "1  rt @sahelienfield: bbc news: uk lockdown: call...  \n",
       "2  rt @sallycroachy: @the_police_fdn @commonshome...  \n",
       "3  rt @deadder: cartoon @torontostar #coronavirus...  \n",
       "4  rt @wallaction: men kill partner follow \"homic...  "
      ]
     },
     "execution_count": 185,
     "metadata": {},
     "output_type": "execute_result"
    }
   ],
   "source": [
    "nltk.download('wordnet')\n",
    "df = nlpFunction(df)\n",
    "df[\"Orig_comment\"] = df[\"Contents\"]\n",
    "df[\"Comment\"] = df[\"com_full\"]\n",
    "df[['Orig_comment','Comment']].head()"
   ]
  },
  {
   "cell_type": "code",
   "execution_count": 186,
   "metadata": {},
   "outputs": [
    {
     "data": {
      "text/html": [
       "<div>\n",
       "<style scoped>\n",
       "    .dataframe tbody tr th:only-of-type {\n",
       "        vertical-align: middle;\n",
       "    }\n",
       "\n",
       "    .dataframe tbody tr th {\n",
       "        vertical-align: top;\n",
       "    }\n",
       "\n",
       "    .dataframe thead th {\n",
       "        text-align: right;\n",
       "    }\n",
       "</style>\n",
       "<table border=\"1\" class=\"dataframe\">\n",
       "  <thead>\n",
       "    <tr style=\"text-align: right;\">\n",
       "      <th></th>\n",
       "      <th>Orig_comment</th>\n",
       "      <th>Comment</th>\n",
       "    </tr>\n",
       "  </thead>\n",
       "  <tbody>\n",
       "    <tr>\n",
       "      <th>0</th>\n",
       "      <td>RT @RefugeCharity: Does your partner constantl...</td>\n",
       "      <td>rt @refugecharity: partner constantly undermin...</td>\n",
       "    </tr>\n",
       "    <tr>\n",
       "      <th>1</th>\n",
       "      <td>RT @SaheliEnfield: BBC News: UK lockdown: Call...</td>\n",
       "      <td>rt @sahelienfield: bbc news: uk lockdown: call...</td>\n",
       "    </tr>\n",
       "    <tr>\n",
       "      <th>2</th>\n",
       "      <td>RT @sallycroachy: @the_police_fdn @CommonsHome...</td>\n",
       "      <td>rt @sallycroachy: @the_police_fdn @commonshome...</td>\n",
       "    </tr>\n",
       "    <tr>\n",
       "      <th>3</th>\n",
       "      <td>RT @deAdder: cartoon for @TorontoStar #coronav...</td>\n",
       "      <td>rt @deadder: cartoon @torontostar #coronavirus...</td>\n",
       "    </tr>\n",
       "    <tr>\n",
       "      <th>4</th>\n",
       "      <td>RT @WALLAction: Men who kill their partners fo...</td>\n",
       "      <td>rt @wallaction: men kill partner follow \"homic...</td>\n",
       "    </tr>\n",
       "  </tbody>\n",
       "</table>\n",
       "</div>"
      ],
      "text/plain": [
       "                                        Orig_comment  \\\n",
       "0  RT @RefugeCharity: Does your partner constantl...   \n",
       "1  RT @SaheliEnfield: BBC News: UK lockdown: Call...   \n",
       "2  RT @sallycroachy: @the_police_fdn @CommonsHome...   \n",
       "3  RT @deAdder: cartoon for @TorontoStar #coronav...   \n",
       "4  RT @WALLAction: Men who kill their partners fo...   \n",
       "\n",
       "                                             Comment  \n",
       "0  rt @refugecharity: partner constantly undermin...  \n",
       "1  rt @sahelienfield: bbc news: uk lockdown: call...  \n",
       "2  rt @sallycroachy: @the_police_fdn @commonshome...  \n",
       "3  rt @deadder: cartoon @torontostar #coronavirus...  \n",
       "4  rt @wallaction: men kill partner follow \"homic...  "
      ]
     },
     "execution_count": 186,
     "metadata": {},
     "output_type": "execute_result"
    }
   ],
   "source": [
    "df[['Orig_comment','Comment']].head()"
   ]
  },
  {
   "cell_type": "code",
   "execution_count": 187,
   "metadata": {},
   "outputs": [
    {
     "name": "stdout",
     "output_type": "stream",
     "text": [
      "disaster\n"
     ]
    }
   ],
   "source": [
    "import string\n",
    "def remove_punct(text):\n",
    "    table=str.maketrans('','',string.punctuation)\n",
    "    return text.translate(table)\n",
    "\n",
    "example=\"?disaster\"\n",
    "print(remove_punct(example))"
   ]
  },
  {
   "cell_type": "code",
   "execution_count": 188,
   "metadata": {},
   "outputs": [],
   "source": [
    "import re\n",
    "def remove_URL(text):\n",
    "    url = re.compile(r'https?://\\S+|www\\.\\S+')\n",
    "    return url.sub(r'',text)\n",
    "df['Comment']=df['Comment'].apply(lambda x : remove_URL(x))"
   ]
  },
  {
   "cell_type": "code",
   "execution_count": 189,
   "metadata": {},
   "outputs": [],
   "source": [
    "df['Comment']=df['Comment'].apply(lambda x : remove_punct(x))"
   ]
  },
  {
   "cell_type": "code",
   "execution_count": 190,
   "metadata": {},
   "outputs": [
    {
     "data": {
      "text/plain": [
       "'rt ckneer ever reminding child victim witness domesticabuse moving input mark fletcher mp brings home powerfully dabill'"
      ]
     },
     "execution_count": 190,
     "metadata": {},
     "output_type": "execute_result"
    }
   ],
   "source": [
    "df['Comment'][16]"
   ]
  },
  {
   "cell_type": "markdown",
   "metadata": {},
   "source": [
    "# TOPIC MODELING"
   ]
  },
  {
   "cell_type": "code",
   "execution_count": 191,
   "metadata": {},
   "outputs": [
    {
     "name": "stdout",
     "output_type": "stream",
     "text": [
      "Requirement already satisfied: pyldavis in /Users/begosfriiive/anaconda/lib/python3.6/site-packages (2.1.2)\n",
      "Requirement already satisfied: pandas>=0.17.0 in /Users/begosfriiive/anaconda/lib/python3.6/site-packages (from pyldavis) (1.0.1)\n",
      "Requirement already satisfied: wheel>=0.23.0 in /Users/begosfriiive/anaconda/lib/python3.6/site-packages (from pyldavis) (0.34.2)\n",
      "Requirement already satisfied: numpy>=1.9.2 in /Users/begosfriiive/anaconda/lib/python3.6/site-packages (from pyldavis) (1.18.1)\n",
      "Requirement already satisfied: future in /Users/begosfriiive/anaconda/lib/python3.6/site-packages (from pyldavis) (0.18.2)\n",
      "Requirement already satisfied: pytest in /Users/begosfriiive/anaconda/lib/python3.6/site-packages (from pyldavis) (5.4.1)\n",
      "Requirement already satisfied: jinja2>=2.7.2 in /Users/begosfriiive/anaconda/lib/python3.6/site-packages (from pyldavis) (2.11.1)\n",
      "Requirement already satisfied: numexpr in /Users/begosfriiive/anaconda/lib/python3.6/site-packages (from pyldavis) (2.7.1)\n",
      "Requirement already satisfied: scipy>=0.18.0 in /Users/begosfriiive/anaconda/lib/python3.6/site-packages (from pyldavis) (1.4.1)\n",
      "Requirement already satisfied: funcy in /Users/begosfriiive/anaconda/lib/python3.6/site-packages (from pyldavis) (1.14)\n",
      "Requirement already satisfied: joblib>=0.8.4 in /Users/begosfriiive/anaconda/lib/python3.6/site-packages (from pyldavis) (0.14.1)\n",
      "Requirement already satisfied: pytz>=2017.2 in /Users/begosfriiive/anaconda/lib/python3.6/site-packages (from pandas>=0.17.0->pyldavis) (2019.3)\n",
      "Requirement already satisfied: python-dateutil>=2.6.1 in /Users/begosfriiive/anaconda/lib/python3.6/site-packages (from pandas>=0.17.0->pyldavis) (2.8.1)\n",
      "Requirement already satisfied: importlib-metadata>=0.12; python_version < \"3.8\" in /Users/begosfriiive/anaconda/lib/python3.6/site-packages (from pytest->pyldavis) (1.5.0)\n",
      "Requirement already satisfied: py>=1.5.0 in /Users/begosfriiive/anaconda/lib/python3.6/site-packages (from pytest->pyldavis) (1.8.1)\n",
      "Requirement already satisfied: more-itertools>=4.0.0 in /Users/begosfriiive/anaconda/lib/python3.6/site-packages (from pytest->pyldavis) (8.2.0)\n",
      "Requirement already satisfied: attrs>=17.4.0 in /Users/begosfriiive/anaconda/lib/python3.6/site-packages (from pytest->pyldavis) (19.3.0)\n",
      "Requirement already satisfied: wcwidth in /Users/begosfriiive/anaconda/lib/python3.6/site-packages (from pytest->pyldavis) (0.1.8)\n",
      "Requirement already satisfied: pluggy<1.0,>=0.12 in /Users/begosfriiive/anaconda/lib/python3.6/site-packages (from pytest->pyldavis) (0.13.1)\n",
      "Requirement already satisfied: packaging in /Users/begosfriiive/anaconda/lib/python3.6/site-packages (from pytest->pyldavis) (20.3)\n",
      "Requirement already satisfied: MarkupSafe>=0.23 in /Users/begosfriiive/anaconda/lib/python3.6/site-packages (from jinja2>=2.7.2->pyldavis) (1.1.1)\n",
      "Requirement already satisfied: six>=1.5 in /Users/begosfriiive/anaconda/lib/python3.6/site-packages (from python-dateutil>=2.6.1->pandas>=0.17.0->pyldavis) (1.14.0)\n",
      "Requirement already satisfied: zipp>=0.5 in /Users/begosfriiive/anaconda/lib/python3.6/site-packages (from importlib-metadata>=0.12; python_version < \"3.8\"->pytest->pyldavis) (3.1.0)\n",
      "Requirement already satisfied: pyparsing>=2.0.2 in /Users/begosfriiive/anaconda/lib/python3.6/site-packages (from packaging->pytest->pyldavis) (2.4.6)\n",
      "Note: you may need to restart the kernel to use updated packages.\n"
     ]
    }
   ],
   "source": [
    "pip install pyldavis"
   ]
  },
  {
   "cell_type": "code",
   "execution_count": 192,
   "metadata": {},
   "outputs": [],
   "source": [
    "try:\n",
    "    import re2 as re\n",
    "except ImportError:\n",
    "    import re\n",
    "import numpy as np\n",
    "import pandas as pd\n",
    "from pprint import pprint\n",
    "\n",
    "# Gensim\n",
    "import gensim\n",
    "import gensim.corpora as corpora\n",
    "from gensim.utils import simple_preprocess\n",
    "from gensim.models import CoherenceModel\n",
    "\n",
    "# spacy for lemmatization\n",
    "import spacy\n",
    "\n",
    "# Plotting tools\n",
    "import pyLDAvis\n",
    "import pyLDAvis.gensim  # don't skip this\n",
    "import matplotlib.pyplot as plt\n",
    "import logging\n",
    "logging.basicConfig(format='%(asctime)s : %(levelname)s : %(message)s', level=logging.ERROR)\n",
    "\n",
    "import warnings\n",
    "warnings.filterwarnings(\"ignore\",category=DeprecationWarning)\n",
    "%matplotlib inline"
   ]
  },
  {
   "cell_type": "code",
   "execution_count": 194,
   "metadata": {},
   "outputs": [
    {
     "name": "stdout",
     "output_type": "stream",
     "text": [
      "['rt refugecharity partner constantly undermine you control see spend money '\n",
      " 'domesticabuse physical team want talk confidence  ',\n",
      " 'rt sahelienfield bbc news uk lockdown call domestic abuse helpline jump '\n",
      " 'half  home always safe place everyone pls ☎️07483166493 help always you '\n",
      " 'domesticabuse mentalhealthduringcovid19 krishnajis',\n",
      " 'rt sallycroachy thepolicefdn commonshomeaffs encouraged language identifies '\n",
      " 'child experiencing domesticabuse rather simply witnessing real risk lie '\n",
      " 'moment time',\n",
      " 'rt deadder cartoon torontostar coronavirus covid19 domesticabuse ',\n",
      " 'rt wallaction men kill partner follow homicide timeline could tracked police '\n",
      " 'help prevent deaths criminology expert dr jane monckton smith found 8stage '\n",
      " 'pattern 372 killing uk domesticviolence domesticabuse womensaid ',\n",
      " 'qt livefearfree rt swpolice concerned domesticabuse victim may increased '\n",
      " 'risk harm mum dad child partner 👀 👂 friend neighbo…  think someone victim '\n",
      " 'domestic abuse give advice need touch advisor free charge 📞 0808 8010 800 📲 '\n",
      " 'text 0786 007 733 📧 email infolivefearfreehelplinewales 💻 live chat  ',\n",
      " 'rt helpwithemma inspired information emmawatson posted men woman '\n",
      " 'experiencing domesticviolence uk decided research support service around '\n",
      " 'world offer counseling shelter 👇 please stay safe ',\n",
      " 'rt drpsychninja chatted cbcmorninglive potential increased domesticviolence '\n",
      " 'violence covid19 pandemic increased stress isolation  feeling loss control '\n",
      " 'lead abuse households woried loved one reach out ',\n",
      " 'chatted cbcmorninglive potential increased domesticviolence violence covid19 '\n",
      " 'pandemic increased stress isolation  feeling loss control lead abuse '\n",
      " 'households woried loved one reach out ',\n",
      " 'sunrise pasco hold virtual fundraiser help domestic sexual violence victim '\n",
      " 'sunrisepasco domesticviolence covid19 coronavirus ',\n",
      " 'rt lisacybaniak ignore more  thank mike cameron men willing stand change '\n",
      " 'leading example  nomore domesticviolence standup domesticabuse',\n",
      " 'qt emmawatson rt crimestoppersuk useful contact victim domesticviolence  '\n",
      " 'domesticabuse victim think know someon…  someone know risk experiencing '\n",
      " 'domesticviolence uk isolation advice apply police response  support service '\n",
      " 'available 👇 ',\n",
      " 'qt deaddercanada rt loleenberdahl reminder home not safe place everyone  '\n",
      " 'cartoon torontostar coronavirus covid19 domesticviolence domesticabuse ',\n",
      " 'partner former partner ever belittle you put down blame abuse arguments deny '\n",
      " 'abuse happening play down destroy thing belong you youarenotalone '\n",
      " 'domesticabuse ',\n",
      " 'qt drjblaustein rt drbridgetharris  mollydragiewicz delaniewoodlock   '\n",
      " 'excited chapter incredible collection un sd…  25 years 26 chapters 48 '\n",
      " 'contributor 597 page later ready submit complete manuscript emeraldsoc '\n",
      " 'handbook crime justice sustainable development coedited katefitzgibbon '\n",
      " 'nwpino robwhite ',\n",
      " 'qt deaddercanada rt loleenberdahl reminder home not safe place everyone  '\n",
      " 'cartoon torontostar coronavirus covid19 domesticviolence domesticabuse ',\n",
      " 'rt ckneer ever reminding child victim witness domesticabuse moving input '\n",
      " 'mark fletcher mp brings home powerfully dabill',\n",
      " 'rt sammieb1980 hi harrietharman term domesticabuse please say domestic '\n",
      " 'violence people coercively controlled psychologically sexually financially '\n",
      " 'abused physically hurt know victim domesticabuse domesticabusebill',\n",
      " 'rt misstracygraham honoured mentioned house common today robertbuckland '\n",
      " 'thank you domesticabusebill domesticviolence youarenotalone ',\n",
      " 'rt idblab covid19 confinment increased domesticviolence region believe '\n",
      " 'blockchain technology help join blockchangelchallenge find solution combat '\n",
      " 'violence women child elderly  idblab lacchain fundacioneveris ']\n"
     ]
    }
   ],
   "source": [
    "# Convert to list\n",
    "data = df['Comment'].values.tolist()\n",
    "pprint(data[:20])"
   ]
  },
  {
   "cell_type": "code",
   "execution_count": 195,
   "metadata": {},
   "outputs": [
    {
     "name": "stdout",
     "output_type": "stream",
     "text": [
      "[['rt', 'refugecharity', 'partner', 'constantly', 'undermine', 'you', 'control', 'see', 'spend', 'money', 'domesticabuse', 'physical', 'team', 'want', 'talk', 'confidence'], ['rt', 'sahelienfield', 'bbc', 'news', 'uk', 'lockdown', 'call', 'domestic', 'abuse', 'helpline', 'jump', 'half', 'home', 'always', 'safe', 'place', 'everyone', 'pls', 'help', 'always', 'you', 'domesticabuse', 'krishnajis']]\n"
     ]
    }
   ],
   "source": [
    "def sent_to_words(sentences):\n",
    "    for sentence in sentences:\n",
    "        yield(gensim.utils.simple_preprocess(str(sentence), deacc=True))  # deacc=True removes punctuations\n",
    "\n",
    "data_words = list(sent_to_words(data))\n",
    "\n",
    "print(data_words[:2])"
   ]
  },
  {
   "cell_type": "code",
   "execution_count": 196,
   "metadata": {},
   "outputs": [
    {
     "name": "stdout",
     "output_type": "stream",
     "text": [
      "['rt', 'lisacybaniak', 'ignore', 'more', 'thank', 'mike', 'cameron', 'men', 'willing', 'stand', 'change', 'leading_example', 'nomore', 'standup', 'domesticabuse']\n"
     ]
    }
   ],
   "source": [
    "\n",
    "# Build the bigram and trigram models\n",
    "bigram = gensim.models.Phrases(data_words, min_count=2, threshold=5) # higher threshold fewer phrases.\n",
    "trigram = gensim.models.Phrases(bigram[data_words], threshold=3)  \n",
    "\n",
    "# Faster way to get a sentence clubbed as a trigram/bigram\n",
    "bigram_mod = gensim.models.phrases.Phraser(bigram)\n",
    "trigram_mod = gensim.models.phrases.Phraser(trigram)\n",
    "\n",
    "# See trigram example\n",
    "print(trigram_mod[bigram_mod[data_words[10]]])"
   ]
  },
  {
   "cell_type": "code",
   "execution_count": 197,
   "metadata": {},
   "outputs": [],
   "source": [
    "def remove_stopwords(texts):\n",
    "    return [[word for word in simple_preprocess(str(doc)) if word not in stw] for doc in texts]\n",
    "\n",
    "def make_bigrams(texts):\n",
    "    return [bigram_mod[doc] for doc in texts]\n",
    "\n",
    "def make_trigrams(texts):\n",
    "    return [trigram_mod[bigram_mod[doc]] for doc in texts]\n",
    "\n",
    "def lemmatization(texts, allowed_postags=['NOUN']):\n",
    "    \"\"\"https://spacy.io/api/annotation\"\"\"\n",
    "    texts_out = []\n",
    "    for sent in texts:\n",
    "        doc = nlp(\" \".join(sent)) \n",
    "        texts_out.append([token.lemma_ for token in doc if token.pos_ in allowed_postags])\n",
    "    return texts_out"
   ]
  },
  {
   "cell_type": "code",
   "execution_count": 198,
   "metadata": {},
   "outputs": [
    {
     "name": "stdout",
     "output_type": "stream",
     "text": [
      "[['control', 'domesticabuse', 'team', 'talk_confidence'], ['call', 'domestic_abuse', 'half', 'safe_place'], ['commonshomeaff', 'language', 'child', 'domesticabuse', 'risk', 'lie', 'moment', 'time'], ['domesticabuse'], ['help'], ['livefearfree', 'domesticabuse', 'victim', 'child', 'partner', 'victim', 'domestic_abuse', 'advice'], ['information', 'man', 'woman', 'around_world', 'offer_counseling', 'shelter', 'stay_safe'], ['violence', 'covid_pandemic', 'stress', 'isolation', 'control', 'lead', 'abuse', 'household'], ['violence', 'covid_pandemic', 'stress', 'isolation', 'control', 'lead', 'abuse', 'household'], ['fundraiser', 'violence', 'victim'], ['man', 'change'], ['contact', 'victim', 'domesticabuse', 'victim', 'advice_apply', 'police_response', 'support_service'], [], ['partner', 'blame', 'abuse', 'argument', 'abuse', 'thing'], ['collection', 'years_chapter', 'sustainable_development'], [], ['domesticabuse'], ['domesticabuse', 'victim', 'domesticabuse'], ['today'], ['technology', 'help', 'find_solution', 'combat', 'violence', 'woman', 'fundacioneveris']]\n"
     ]
    }
   ],
   "source": [
    "#Remove Stop Words\n",
    "data_words_nostops = remove_stopwords(data_words)\n",
    "\n",
    "# Form Bigrams\n",
    "data_words_bigrams = make_bigrams(data_words_nostops)\n",
    "\n",
    "# Initialize spacy 'en' model, keeping only tagger component (for efficiency)\n",
    "# python3 -m spacy download en\n",
    "nlp = spacy.load('en', disable=['parser', 'ner'])\n",
    "\n",
    "# Do lemmatization keeping only noun, adj, vb, adv\n",
    "data_lemmatized = lemmatization(data_words_bigrams)\n",
    "\n",
    "print(data_lemmatized[:20])"
   ]
  },
  {
   "cell_type": "code",
   "execution_count": 199,
   "metadata": {},
   "outputs": [
    {
     "name": "stdout",
     "output_type": "stream",
     "text": [
      "[[(0, 1), (1, 1), (2, 1), (3, 1)], [(4, 1), (5, 1), (6, 1), (7, 1)], [(1, 1), (8, 1), (9, 1), (10, 1), (11, 1), (12, 1), (13, 1), (14, 1)], [(1, 1)], [(15, 1)], [(1, 1), (5, 1), (8, 1), (16, 1), (17, 1), (18, 1), (19, 2)], [(20, 1), (21, 1), (22, 1), (23, 1), (24, 1), (25, 1), (26, 1)], [(0, 1), (27, 1), (28, 1), (29, 1), (30, 1), (31, 1), (32, 1), (33, 1)], [(0, 1), (27, 1), (28, 1), (29, 1), (30, 1), (31, 1), (32, 1), (33, 1)], [(19, 1), (33, 1), (34, 1)]]\n"
     ]
    }
   ],
   "source": [
    "# Create Dictionary\n",
    "id2word = corpora.Dictionary(data_lemmatized)\n",
    "#print('Number of unique words in initital documents:', len(dictionary))\n",
    "\n",
    "# Create Corpus\n",
    "texts = data_lemmatized\n",
    "\n",
    "# Term Document Frequency\n",
    "corpus = [id2word.doc2bow(text) for text in texts]\n",
    "\n",
    "# View\n",
    "print(corpus[:10])"
   ]
  },
  {
   "cell_type": "code",
   "execution_count": 200,
   "metadata": {},
   "outputs": [
    {
     "data": {
      "text/plain": [
       "[[('control', 1), ('domesticabuse', 1), ('talk_confidence', 1), ('team', 1)],\n",
       " [('call', 1), ('domestic_abuse', 1), ('half', 1), ('safe_place', 1)],\n",
       " [('domesticabuse', 1),\n",
       "  ('child', 1),\n",
       "  ('commonshomeaff', 1),\n",
       "  ('language', 1),\n",
       "  ('lie', 1),\n",
       "  ('moment', 1),\n",
       "  ('risk', 1),\n",
       "  ('time', 1)],\n",
       " [('domesticabuse', 1)],\n",
       " [('help', 1)],\n",
       " [('domesticabuse', 1),\n",
       "  ('domestic_abuse', 1),\n",
       "  ('child', 1),\n",
       "  ('advice', 1),\n",
       "  ('livefearfree', 1),\n",
       "  ('partner', 1),\n",
       "  ('victim', 2)],\n",
       " [('around_world', 1),\n",
       "  ('information', 1),\n",
       "  ('man', 1),\n",
       "  ('offer_counseling', 1),\n",
       "  ('shelter', 1),\n",
       "  ('stay_safe', 1),\n",
       "  ('woman', 1)],\n",
       " [('control', 1),\n",
       "  ('abuse', 1),\n",
       "  ('covid_pandemic', 1),\n",
       "  ('household', 1),\n",
       "  ('isolation', 1),\n",
       "  ('lead', 1),\n",
       "  ('stress', 1),\n",
       "  ('violence', 1)],\n",
       " [('control', 1),\n",
       "  ('abuse', 1),\n",
       "  ('covid_pandemic', 1),\n",
       "  ('household', 1),\n",
       "  ('isolation', 1),\n",
       "  ('lead', 1),\n",
       "  ('stress', 1),\n",
       "  ('violence', 1)],\n",
       " [('victim', 1), ('violence', 1), ('fundraiser', 1)]]"
      ]
     },
     "execution_count": 200,
     "metadata": {},
     "output_type": "execute_result"
    }
   ],
   "source": [
    "[[(id2word[id], freq) for id, freq in cp] for cp in corpus[:10]]"
   ]
  },
  {
   "cell_type": "code",
   "execution_count": 203,
   "metadata": {},
   "outputs": [],
   "source": [
    "lda_model = gensim.models.ldamodel.LdaModel(corpus=corpus,\n",
    "                                           id2word=id2word,\n",
    "                                           num_topics=6, \n",
    "                                           random_state=100,\n",
    "                                           update_every=1,\n",
    "                                           chunksize=100,\n",
    "                                           passes=10,\n",
    "                                           alpha='auto',\n",
    "                                           per_word_topics=True)"
   ]
  },
  {
   "cell_type": "code",
   "execution_count": 204,
   "metadata": {},
   "outputs": [
    {
     "name": "stdout",
     "output_type": "stream",
     "text": [
      "[(0,\n",
      "  '0.080*\"time\" + 0.042*\"thing\" + 0.035*\"work\" + 0.020*\"relationship\" + '\n",
      "  '0.020*\"gender\" + 0.019*\"allegation\" + 0.018*\"partner\" + '\n",
      "  '0.017*\"metoo_movement\" + 0.016*\"person\" + 0.015*\"part\"'),\n",
      " (1,\n",
      "  '0.093*\"metoo\" + 0.055*\"victim\" + 0.052*\"girl\" + 0.040*\"support\" + '\n",
      "  '0.039*\"survivor\" + 0.034*\"today\" + 0.028*\"world\" + 0.020*\"movement\" + '\n",
      "  '0.017*\"way\" + 0.015*\"whyileft\"'),\n",
      " (2,\n",
      "  '0.218*\"woman\" + 0.064*\"whyileft\" + 0.054*\"man\" + '\n",
      "  '0.053*\"relationship_saftey\" + 0.038*\"abuse\" + 0.031*\"people\" + '\n",
      "  '0.024*\"smday\" + 0.015*\"day\" + 0.012*\"life\" + 0.011*\"child\"'),\n",
      " (3,\n",
      "  '0.082*\"help\" + 0.058*\"shame\" + 0.045*\"fully_admit\" + 0.039*\"action\" + '\n",
      "  '0.038*\"family\" + 0.027*\"sex\" + 0.024*\"number\" + 0.024*\"money\" + '\n",
      "  '0.019*\"education\" + 0.017*\"book\"'),\n",
      " (4,\n",
      "  '0.163*\"whyileft\" + 0.157*\"relationship_saftey\" + 0.133*\"justice\" + '\n",
      "  '0.044*\"violence\" + 0.027*\"country\" + 0.020*\"ipuparliament\" + 0.016*\"case\" + '\n",
      "  '0.011*\"equality\" + 0.011*\"share\" + 0.011*\"love\"'),\n",
      " (5,\n",
      "  '0.104*\"story\" + 0.053*\"unwoman\" + 0.043*\"year\" + 0.035*\"rape\" + '\n",
      "  '0.024*\"week\" + 0.022*\"marriage\" + 0.020*\"campaign\" + 0.020*\"police\" + '\n",
      "  '0.014*\"report\" + 0.014*\"call\"')]\n"
     ]
    }
   ],
   "source": [
    "pprint(lda_model.print_topics())\n",
    "doc_lda = lda_model[corpus]"
   ]
  },
  {
   "cell_type": "code",
   "execution_count": 205,
   "metadata": {},
   "outputs": [],
   "source": [
    "ldatopics = lda_model.show_topics(formatted=False)"
   ]
  },
  {
   "cell_type": "code",
   "execution_count": 209,
   "metadata": {},
   "outputs": [
    {
     "name": "stdout",
     "output_type": "stream",
     "text": [
      "\n",
      "Perplexity:  -9.053384517307933\n",
      "\n",
      "Coherence Score:  0.4647001573752784\n"
     ]
    }
   ],
   "source": [
    "# Compute Perplexity\n",
    "print('\\nPerplexity: ', lda_model.log_perplexity(corpus))  # a measure of how good the model is. lower the better.\n",
    "\n",
    "# Compute Coherence Score\n",
    "coherence_model_lda = CoherenceModel(model=lda_model, texts=data_lemmatized, dictionary=id2word, coherence='c_v')\n",
    "coherence_lda = coherence_model_lda.get_coherence()\n",
    "print('\\nCoherence Score: ', coherence_lda)"
   ]
  },
  {
   "cell_type": "markdown",
   "metadata": {},
   "source": [
    "# # Interpretation of the 6 topics:"
   ]
  },
  {
   "attachments": {},
   "cell_type": "markdown",
   "metadata": {},
   "source": [
    "Through all the tweets the main conversation is from organizations and movements to invite people to join the movements through hashtags and facts, we can also perceive not only organizations but sponsors.  \n",
    "\n",
    "The most relevant movements revolve around different topics:\n",
    "\n",
    "1. #WHYILEFT, #METOO, #WITHHER: This movements revolve around raising awareness and take action with the organization - ipu parliament (global organization of national parliaments to promote peace, democracy and sustainability), also the sponsorship of women in sport.\n",
    "2. #METOO, #believewoman: Victims sharing their stories and support of one another and sharing their survivor stories, organization - ipu parliament (global organization of national parliaments to promote peace, democracy and sustainability), also the sponsorship of women in sport.\n",
    " 3. #genderequality: Feminism and equality - Backed by the organization \"everyday equality\" to drive equal social opportunities in UK.\n",
    "4.#timesup: Campaign to report and end violence thus creating an equal future, promoting also job quality and activism.\n",
    "5.Abuse regarding rape in family and work: organization - Orange the World: Generation Equality Stands against Rape\n",
    "6. Promotes discussion of psychological abuse, harassment and solution making.\n",
    "\n",
    "\n",
    "\n",
    "Main Insights:\n",
    "\n",
    "On Twitter is about joining the conversation and promoting the initiatives and campaigns, identified movements:\n",
    "\n",
    "whyistayed,metoo,timesup,heforshe,iwillgoout,yesallwomen,orangetheworld,niunamenos ,everydaysexism,womenshould \n",
    "\n",
    "Organizations: UN Women, womeninsport (company), ipu parliament, globalspotlight (A global, multi-year partnership between the #EU and the \n",
    "@UN\n",
    " to eliminate all forms of violence against women and girls)\n",
    "\n",
    "\n",
    "An improvement that can be done in twitter is not only promote de initiatives and join the conversation but invite victims to share their story via Reddit, because there is no character limit, thus increasing Reddit´s testimonies and having more information regarding this subject.\n",
    "\n"
   ]
  },
  {
   "cell_type": "code",
   "execution_count": 208,
   "metadata": {},
   "outputs": [
    {
     "data": {
      "text/html": [
       "\n",
       "<link rel=\"stylesheet\" type=\"text/css\" href=\"https://cdn.rawgit.com/bmabey/pyLDAvis/files/ldavis.v1.0.0.css\">\n",
       "\n",
       "\n",
       "<div id=\"ldavis_el6581130003719281597615304\"></div>\n",
       "<script type=\"text/javascript\">\n",
       "\n",
       "var ldavis_el6581130003719281597615304_data = {\"mdsDat\": {\"x\": [-0.22438962878061575, -0.031869493634579395, -0.2539433164986172, 0.10625307604873399, 0.16080752344735047, 0.2431418394177276], \"y\": [-0.04969746972626445, 0.12101396630312654, -0.095192379254185, 0.22442546862450943, 0.07958179446525343, -0.28013138041244007], \"topics\": [1, 2, 3, 4, 5, 6], \"cluster\": [1, 1, 1, 1, 1, 1], \"Freq\": [28.387365341186523, 19.6600341796875, 18.146862030029297, 14.098871231079102, 11.346086502075195, 8.360779762268066]}, \"tinfo\": {\"Term\": [\"woman\", \"justice\", \"relationship_saftey\", \"whyileft\", \"metoo\", \"story\", \"time\", \"man\", \"victim\", \"help\", \"girl\", \"abuse\", \"violence\", \"unwoman\", \"support\", \"survivor\", \"shame\", \"thing\", \"people\", \"today\", \"year\", \"work\", \"fully_admit\", \"world\", \"rape\", \"country\", \"action\", \"family\", \"movement\", \"ipuparliament\", \"woman\", \"man\", \"abuse\", \"people\", \"day\", \"life\", \"child\", \"iwd\", \"power\", \"abusive_relationship\", \"word\", \"name\", \"harassment\", \"feminism\", \"womeninsport\", \"matter\", \"music\", \"article\", \"impact\", \"parent\", \"moment\", \"place\", \"imagined_one\", \"join_tour\", \"conversation\", \"team\", \"thank\", \"government\", \"crime\", \"space\", \"vote\", \"think_appropriate\", \"love_interest\", \"via_collider\", \"smday\", \"whyileft\", \"relationship_saftey\", \"trump\", \"metoo\", \"victim\", \"girl\", \"support\", \"survivor\", \"today\", \"world\", \"movement\", \"way\", \"issue\", \"reason\", \"video\", \"end\", \"problem\", \"law\", \"fact\", \"age\", \"voice\", \"thread\", \"kid\", \"fight\", \"care\", \"situation\", \"mother\", \"head\", \"leave\", \"group\", \"company\", \"want\", \"response\", \"gpchildmarriage\", \"activism\", \"domestic_abuse\", \"evidence\", \"abuser\", \"whyileft\", \"relationship_saftey\", \"justice\", \"violence\", \"country\", \"ipuparliament\", \"case\", \"equality\", \"share\", \"love\", \"youth\", \"community\", \"hashtag\", \"gender_equality\", \"question\", \"friend\", \"other\", \"leader\", \"month\", \"awareness\", \"lie\", \"withher\", \"activist\", \"genderequality\", \"globalspotlight\", \"idea\", \"daughter\", \"show\", \"tweet\", \"twitter\", \"event\", \"account\", \"silence\", \"claim\", \"relationship_saftey\", \"whyileft\", \"everydaysexism\", \"time\", \"thing\", \"work\", \"relationship\", \"gender\", \"partner\", \"person\", \"part\", \"boy\", \"medium\", \"change\", \"society\", \"opportunity\", \"mind\", \"assault\", \"advocate\", \"court\", \"history\", \"culture\", \"level\", \"journalist\", \"difference\", \"career\", \"business\", \"husband\", \"know\", \"message\", \"discussion\", \"wife\", \"resource\", \"truth\", \"joke\", \"allegation\", \"domesticabuse\", \"guy\", \"accusation\", \"tara_reade\", \"pizza\", \"metoo_movement\", \"believewoman\", \"trump\", \"whyileft\", \"story\", \"unwoman\", \"year\", \"rape\", \"week\", \"marriage\", \"campaign\", \"report\", \"call\", \"job\", \"right\", \"ending_violence\", \"talk\", \"role\", \"news\", \"state\", \"post\", \"worker\", \"threat\", \"industry\", \"reality\", \"car\", \"order\", \"bit\", \"hour\", \"program\", \"review\", \"system\", \"tonight\", \"yesterday\", \"police\", \"biden\", \"lawyer\", \"complaint\", \"retaliation_silencing\", \"whyileft\", \"help\", \"shame\", \"action\", \"family\", \"sex\", \"number\", \"money\", \"education\", \"book\", \"hand\", \"point\", \"hope\", \"poverty\", \"promoting_inclusion\", \"woman_girl\", \"stand\", \"designing_solution\", \"struggle\", \"factor\", \"tip\", \"democracy\", \"night\", \"girls_everywhere\", \"initiative\", \"session\", \"research\", \"treatment\", \"heforshe\", \"audience\", \"child_marriage\", \"return\", \"fully_admit\", \"punished_innocent\", \"psychological_abuse\"], \"Freq\": [24655.0, 9600.0, 18583.0, 20770.0, 7334.0, 4706.0, 4484.0, 6154.0, 4328.0, 2729.0, 4084.0, 4348.0, 3161.0, 2399.0, 3113.0, 3025.0, 1932.0, 2345.0, 3531.0, 2689.0, 1966.0, 1959.0, 1585.0, 2208.0, 1581.0, 1934.0, 1314.0, 1273.0, 1568.0, 1448.0, 24654.78515625, 6152.9814453125, 4347.42236328125, 3530.669189453125, 1751.7742919921875, 1356.4932861328125, 1199.556396484375, 1070.177490234375, 802.3665771484375, 1102.932861328125, 691.783203125, 644.3093872070312, 636.5858154296875, 617.3612670898438, 530.848388671875, 520.0217895507812, 470.55621337890625, 461.0380859375, 424.83203125, 416.9552001953125, 409.40106201171875, 407.0802001953125, 402.1139831542969, 394.5092468261719, 373.9926452636719, 364.5889587402344, 360.7520446777344, 337.7808837890625, 331.291015625, 327.6568908691406, 329.53826904296875, 544.7676391601562, 544.7676391601562, 529.1768188476562, 2708.3896484375, 7195.36279296875, 6039.84033203125, 555.5197143554688, 7332.7900390625, 4327.01513671875, 4083.6689453125, 3112.448974609375, 3024.029052734375, 2688.433349609375, 2207.41552734375, 1567.14990234375, 1333.927001953125, 1102.20458984375, 1066.6119384765625, 809.2144775390625, 593.4996948242188, 589.2664184570312, 578.1380615234375, 557.49267578125, 552.7977294921875, 546.764892578125, 494.5307312011719, 446.4891662597656, 436.0489807128906, 417.3816833496094, 417.6739501953125, 398.8367614746094, 394.985595703125, 584.4451904296875, 359.13262939453125, 343.511474609375, 301.95501708984375, 290.7622985839844, 459.81298828125, 311.44964599609375, 546.7337646484375, 619.3565673828125, 454.037109375, 1143.0496826171875, 807.1693725585938, 9598.8681640625, 3160.645263671875, 1933.0750732421875, 1447.8052978515625, 1152.4049072265625, 793.2353515625, 780.4779052734375, 778.4198608398438, 686.2372436523438, 668.6384887695312, 662.6206665039062, 651.4323120117188, 579.9964599609375, 490.1417236328125, 465.42529296875, 459.58740234375, 417.6838073730469, 402.35296630859375, 434.1788024902344, 387.55401611328125, 363.1112060546875, 357.0250244140625, 349.3628845214844, 319.2218933105469, 302.9173278808594, 299.1382751464844, 294.51287841796875, 300.072265625, 267.2942810058594, 265.0019226074219, 330.2127990722656, 405.7874450683594, 11402.5869140625, 11836.6591796875, 458.0155334472656, 4483.30517578125, 2343.9345703125, 1958.833984375, 1138.78662109375, 1124.86669921875, 992.97021484375, 885.9523315429688, 820.70361328125, 784.1102294921875, 752.3712768554688, 681.6060180664062, 632.7874145507812, 603.3504028320312, 598.5474243164062, 674.2119140625, 405.9887390136719, 397.0151672363281, 350.2708435058594, 342.6845397949219, 321.8974609375, 309.38140869140625, 292.1374816894531, 282.2355041503906, 262.1324768066406, 286.09619140625, 254.0724639892578, 242.93109130859375, 237.3413848876953, 229.2887420654297, 228.7408447265625, 541.54052734375, 253.45809936523438, 1073.536865234375, 627.1951293945312, 644.7822875976562, 447.0928039550781, 541.6158447265625, 348.1395263671875, 973.6760864257812, 390.6058654785156, 349.739013671875, 345.1114196777344, 4705.33935546875, 2398.315673828125, 1965.3477783203125, 1579.958984375, 1090.178955078125, 999.8864135742188, 911.066650390625, 627.29638671875, 617.1715087890625, 576.093505859375, 543.0220947265625, 470.77398681640625, 454.3312683105469, 425.5400695800781, 414.8326110839844, 351.29205322265625, 324.52252197265625, 298.1395568847656, 272.8447265625, 241.32730102539062, 232.18226623535156, 239.94448852539062, 205.58909606933594, 201.09271240234375, 195.53884887695312, 193.8903350830078, 190.94705200195312, 182.8054962158203, 180.15159606933594, 172.66412353515625, 907.5258178710938, 378.9999084472656, 314.8824462890625, 230.88491821289062, 212.59605407714844, 211.44204711914062, 2728.1630859375, 1931.038818359375, 1313.4566650390625, 1272.3326416015625, 887.6778564453125, 794.8635864257812, 785.5880126953125, 627.1726684570312, 575.640869140625, 559.9845581054688, 543.5993041992188, 402.16717529296875, 336.1237487792969, 278.40777587890625, 277.7115173339844, 252.4968719482422, 243.40948486328125, 233.79002380371094, 226.41014099121094, 223.9640655517578, 245.88270568847656, 221.65103149414062, 215.05226135253906, 179.1136016845703, 176.37698364257812, 171.1362762451172, 171.58213806152344, 163.91961669921875, 159.7213134765625, 156.5559844970703, 164.86224365234375, 1503.485595703125, 271.31060791015625, 366.4546813964844], \"Total\": [24655.0, 9600.0, 18583.0, 20770.0, 7334.0, 4706.0, 4484.0, 6154.0, 4328.0, 2729.0, 4084.0, 4348.0, 3161.0, 2399.0, 3113.0, 3025.0, 1932.0, 2345.0, 3531.0, 2689.0, 1966.0, 1959.0, 1585.0, 2208.0, 1581.0, 1934.0, 1314.0, 1273.0, 1568.0, 1448.0, 24655.880859375, 6154.078125, 4348.52978515625, 3531.768310546875, 1752.8734130859375, 1357.5914306640625, 1200.65625, 1071.27099609375, 803.4635009765625, 1104.495361328125, 692.8853759765625, 645.4177856445312, 637.690185546875, 618.4622802734375, 531.9415283203125, 521.12255859375, 471.67218017578125, 462.14666748046875, 425.934814453125, 418.0617370605469, 410.5046081542969, 408.1842041015625, 403.2079162597656, 395.6048278808594, 375.09381103515625, 365.6861572265625, 361.8479919433594, 338.8787841796875, 332.39208984375, 328.7533264160156, 330.64453125, 564.3544311523438, 564.3544311523438, 548.2208862304688, 3426.7177734375, 20770.861328125, 18583.3515625, 1014.2662353515625, 7334.185546875, 4328.1142578125, 4084.758544921875, 3113.54052734375, 3025.12744140625, 2689.52587890625, 2208.50537109375, 1568.2442626953125, 1335.0203857421875, 1103.299072265625, 1067.7164306640625, 810.3074340820312, 594.5903930664062, 590.3663330078125, 579.2330932617188, 558.5880126953125, 553.8911743164062, 547.8555908203125, 495.6385192871094, 447.5864562988281, 437.14697265625, 418.4775390625, 418.7707214355469, 399.9331359863281, 396.0843505859375, 586.103515625, 360.2276611328125, 344.6106872558594, 303.0468444824219, 291.856201171875, 462.20709228515625, 312.6614074707031, 552.6114501953125, 628.9968872070312, 477.1372375488281, 20770.861328125, 18583.3515625, 9600.017578125, 3161.78662109375, 1934.2119140625, 1448.9420166015625, 1153.5523681640625, 794.3726196289062, 781.6197509765625, 779.565185546875, 687.3740234375, 669.7788696289062, 663.7691040039062, 652.5687866210938, 581.1408081054688, 491.2915344238281, 466.5705871582031, 460.7301330566406, 418.8276062011719, 403.4967041015625, 435.43505859375, 388.6903076171875, 364.2611389160156, 358.16278076171875, 350.4991455078125, 320.3702087402344, 304.0605163574219, 300.2825927734375, 295.6556701660156, 301.2523498535156, 268.4349365234375, 266.1484069824219, 332.6490173339844, 418.6324768066406, 18583.3515625, 20770.861328125, 592.1166381835938, 4484.396484375, 2345.030029296875, 1959.9228515625, 1139.886962890625, 1125.956298828125, 994.062744140625, 887.053955078125, 821.7932739257812, 785.2000732421875, 753.4657592773438, 682.6969604492188, 633.8775634765625, 604.4404907226562, 599.6436157226562, 675.6654663085938, 407.08294677734375, 398.10760498046875, 351.36199951171875, 343.7748718261719, 322.98822021484375, 310.4986572265625, 293.2275085449219, 283.33160400390625, 263.2225646972656, 287.3424987792969, 255.1826629638672, 244.0201416015625, 238.43173217773438, 230.37867736816406, 229.8339385986328, 547.2169799804688, 254.768310546875, 1098.947021484375, 638.6959228515625, 660.8953247070312, 462.4942321777344, 580.9603881835938, 363.912353515625, 1482.4005126953125, 447.16961669921875, 1014.2662353515625, 20770.861328125, 4706.43603515625, 2399.406982421875, 1966.4422607421875, 1581.0565185546875, 1091.2747802734375, 1000.9808959960938, 912.1608276367188, 628.38818359375, 618.2662963867188, 577.1890258789062, 544.1134033203125, 471.87127685546875, 455.4258728027344, 426.6314697265625, 415.928466796875, 352.38433837890625, 325.6223449707031, 299.2333984375, 273.9456481933594, 242.42236328125, 233.27386474609375, 241.1355743408203, 206.68527221679688, 202.1966094970703, 196.63525390625, 194.99072265625, 192.03863525390625, 183.9002227783203, 181.25376892089844, 173.75633239746094, 920.4678344726562, 382.626953125, 327.12066650390625, 281.489990234375, 331.3041076660156, 20770.861328125, 2729.205810546875, 1932.087158203125, 1314.4951171875, 1273.37353515625, 888.7218017578125, 795.90625, 786.63720703125, 628.2122802734375, 576.6891479492188, 561.025390625, 544.6522216796875, 403.209228515625, 337.16748046875, 279.44659423828125, 278.75030517578125, 253.5345458984375, 244.4477081298828, 234.83853149414062, 227.4539337158203, 225.005859375, 247.0533905029297, 222.70997619628906, 216.0905303955078, 180.15142822265625, 177.41627502441406, 172.179443359375, 172.6292266845703, 164.95933532714844, 160.7734375, 157.59341430664062, 165.95477294921875, 1585.0286865234375, 295.9833068847656, 546.9967041015625], \"Category\": [\"Default\", \"Default\", \"Default\", \"Default\", \"Default\", \"Default\", \"Default\", \"Default\", \"Default\", \"Default\", \"Default\", \"Default\", \"Default\", \"Default\", \"Default\", \"Default\", \"Default\", \"Default\", \"Default\", \"Default\", \"Default\", \"Default\", \"Default\", \"Default\", \"Default\", \"Default\", \"Default\", \"Default\", \"Default\", \"Default\", \"Topic1\", \"Topic1\", \"Topic1\", \"Topic1\", \"Topic1\", \"Topic1\", \"Topic1\", \"Topic1\", \"Topic1\", \"Topic1\", \"Topic1\", \"Topic1\", \"Topic1\", \"Topic1\", \"Topic1\", \"Topic1\", \"Topic1\", \"Topic1\", \"Topic1\", \"Topic1\", \"Topic1\", \"Topic1\", \"Topic1\", \"Topic1\", \"Topic1\", \"Topic1\", \"Topic1\", \"Topic1\", \"Topic1\", \"Topic1\", \"Topic1\", \"Topic1\", \"Topic1\", \"Topic1\", \"Topic1\", \"Topic1\", \"Topic1\", \"Topic1\", \"Topic2\", \"Topic2\", \"Topic2\", \"Topic2\", \"Topic2\", \"Topic2\", \"Topic2\", \"Topic2\", \"Topic2\", \"Topic2\", \"Topic2\", \"Topic2\", \"Topic2\", \"Topic2\", \"Topic2\", \"Topic2\", \"Topic2\", \"Topic2\", \"Topic2\", \"Topic2\", \"Topic2\", \"Topic2\", \"Topic2\", \"Topic2\", \"Topic2\", \"Topic2\", \"Topic2\", \"Topic2\", \"Topic2\", \"Topic2\", \"Topic2\", \"Topic2\", \"Topic2\", \"Topic2\", \"Topic2\", \"Topic2\", \"Topic2\", \"Topic3\", \"Topic3\", \"Topic3\", \"Topic3\", \"Topic3\", \"Topic3\", \"Topic3\", \"Topic3\", \"Topic3\", \"Topic3\", \"Topic3\", \"Topic3\", \"Topic3\", \"Topic3\", \"Topic3\", \"Topic3\", \"Topic3\", \"Topic3\", \"Topic3\", \"Topic3\", \"Topic3\", \"Topic3\", \"Topic3\", \"Topic3\", \"Topic3\", \"Topic3\", \"Topic3\", \"Topic3\", \"Topic3\", \"Topic3\", \"Topic3\", \"Topic3\", \"Topic3\", \"Topic3\", \"Topic3\", \"Topic4\", \"Topic4\", \"Topic4\", \"Topic4\", \"Topic4\", \"Topic4\", \"Topic4\", \"Topic4\", \"Topic4\", \"Topic4\", \"Topic4\", \"Topic4\", \"Topic4\", \"Topic4\", \"Topic4\", \"Topic4\", \"Topic4\", \"Topic4\", \"Topic4\", \"Topic4\", \"Topic4\", \"Topic4\", \"Topic4\", \"Topic4\", \"Topic4\", \"Topic4\", \"Topic4\", \"Topic4\", \"Topic4\", \"Topic4\", \"Topic4\", \"Topic4\", \"Topic4\", \"Topic4\", \"Topic4\", \"Topic4\", \"Topic4\", \"Topic4\", \"Topic4\", \"Topic4\", \"Topic4\", \"Topic4\", \"Topic5\", \"Topic5\", \"Topic5\", \"Topic5\", \"Topic5\", \"Topic5\", \"Topic5\", \"Topic5\", \"Topic5\", \"Topic5\", \"Topic5\", \"Topic5\", \"Topic5\", \"Topic5\", \"Topic5\", \"Topic5\", \"Topic5\", \"Topic5\", \"Topic5\", \"Topic5\", \"Topic5\", \"Topic5\", \"Topic5\", \"Topic5\", \"Topic5\", \"Topic5\", \"Topic5\", \"Topic5\", \"Topic5\", \"Topic5\", \"Topic5\", \"Topic5\", \"Topic5\", \"Topic5\", \"Topic5\", \"Topic5\", \"Topic6\", \"Topic6\", \"Topic6\", \"Topic6\", \"Topic6\", \"Topic6\", \"Topic6\", \"Topic6\", \"Topic6\", \"Topic6\", \"Topic6\", \"Topic6\", \"Topic6\", \"Topic6\", \"Topic6\", \"Topic6\", \"Topic6\", \"Topic6\", \"Topic6\", \"Topic6\", \"Topic6\", \"Topic6\", \"Topic6\", \"Topic6\", \"Topic6\", \"Topic6\", \"Topic6\", \"Topic6\", \"Topic6\", \"Topic6\", \"Topic6\", \"Topic6\", \"Topic6\", \"Topic6\"], \"logprob\": [30.0, 29.0, 28.0, 27.0, 26.0, 25.0, 24.0, 23.0, 22.0, 21.0, 20.0, 19.0, 18.0, 17.0, 16.0, 15.0, 14.0, 13.0, 12.0, 11.0, 10.0, 9.0, 8.0, 7.0, 6.0, 5.0, 4.0, 3.0, 2.0, 1.0, -1.524899959564209, -2.912899971008301, -3.260200023651123, -3.4683001041412354, -4.1691999435424805, -4.424900054931641, -4.547900199890137, -4.6620001792907715, -4.949999809265137, -4.631899833679199, -5.098299980163574, -5.169400215148926, -5.18149995803833, -5.212100028991699, -5.363100051879883, -5.383699893951416, -5.483699798583984, -5.5040998458862305, -5.585899829864502, -5.604599952697754, -5.622900009155273, -5.628600120544434, -5.6407999992370605, -5.659900188446045, -5.7133002281188965, -5.738800048828125, -5.7494001388549805, -5.815199851989746, -5.83459997177124, -5.845600128173828, -5.839900016784668, -5.337200164794922, -5.337200164794922, -5.366300106048584, -3.7335000038146973, -2.7564001083374023, -2.9314000606536865, -5.317699909210205, -2.3701000213623047, -2.897599935531616, -2.9554998874664307, -3.227099895477295, -3.2558999061584473, -3.373500108718872, -3.5706000328063965, -3.9131999015808105, -4.0742998123168945, -4.265200138092041, -4.297999858856201, -4.57420015335083, -4.884200096130371, -4.891300201416016, -4.910399913787842, -4.946800231933594, -4.9552001953125, -4.96619987487793, -5.0665998458862305, -5.168799877166748, -5.192500114440918, -5.236199855804443, -5.235499858856201, -5.281700134277344, -5.291399955749512, -4.899600028991699, -5.386499881744385, -5.431000232696533, -5.559899806976318, -5.597700119018555, -5.139400005340576, -5.5289998054504395, -4.966300010681152, -4.8414998054504395, -5.1519999504089355, -4.228799819946289, -4.576700210571289, -2.020699977874756, -3.1315999031066895, -3.623300075531006, -3.9123001098632812, -4.140500068664551, -4.513999938964844, -4.530200004577637, -4.532899856567383, -4.658899784088135, -4.684899806976318, -4.693900108337402, -4.710999965667725, -4.827099800109863, -4.9953999519348145, -5.0472002029418945, -5.059800148010254, -5.155399799346924, -5.192800045013428, -5.116700172424316, -5.230299949645996, -5.295400142669678, -5.312300205230713, -5.334000110626221, -5.424200057983398, -5.4766998291015625, -5.489200115203857, -5.504799842834473, -5.486100196838379, -5.601799964904785, -5.610400199890137, -5.390399932861328, -5.184299945831299, -1.8485000133514404, -1.8112000226974487, -5.063199996948242, -2.529599905014038, -3.178100109100342, -3.357599973678589, -3.9000000953674316, -3.9123001098632812, -4.0370001792907715, -4.151100158691406, -4.22760009765625, -4.273200035095215, -4.314499855041504, -4.413300037384033, -4.487599849700928, -4.535200119018555, -4.5432000160217285, -4.424200057983398, -4.931399822235107, -4.953800201416016, -5.078999996185303, -5.100900173187256, -5.16349983215332, -5.203199863433838, -5.260499954223633, -5.295000076293945, -5.368899822235107, -5.281400203704834, -5.400100231170654, -5.445000171661377, -5.468200206756592, -5.502799987792969, -5.505099773406982, -4.6433000564575195, -5.402500152587891, -3.9590001106262207, -4.496500015258789, -4.468800067901611, -4.835000038146973, -4.643199920654297, -5.085100173950195, -4.056700229644775, -4.96999979019165, -5.08050012588501, -5.093900203704834, -2.2641000747680664, -2.937999963760376, -3.1370999813079834, -3.3554000854492188, -3.7263998985290527, -3.8129000663757324, -3.905900001525879, -4.279099941253662, -4.295400142669678, -4.364200115203857, -4.423399925231934, -4.566100120544434, -4.6016998291015625, -4.667200088500977, -4.692599773406982, -4.85890007019043, -4.938199996948242, -5.022900104522705, -5.111599922180176, -5.234399795532227, -5.2729997634887695, -5.240099906921387, -5.394599914550781, -5.4166998863220215, -5.444799900054932, -5.453199863433838, -5.468500137329102, -5.5121002197265625, -5.526700019836426, -5.569200038909912, -3.9098000526428223, -4.7829999923706055, -4.968299865722656, -5.278600215911865, -5.361100196838379, -5.366600036621094, -2.5037999153137207, -2.849400043487549, -3.234800100326538, -3.2665998935699463, -3.6266000270843506, -3.736999988555908, -3.748800039291382, -3.9739999771118164, -4.059700012207031, -4.087299823760986, -4.117000102996826, -4.418300151824951, -4.597700119018555, -4.786099910736084, -4.788599967956543, -4.883800029754639, -4.920400142669678, -4.9608001708984375, -4.992800235748291, -5.003699779510498, -4.910299777984619, -5.014100074768066, -5.044300079345703, -5.227200031280518, -5.242599964141846, -5.27269983291626, -5.270100116729736, -5.315800189971924, -5.341800212860107, -5.361800193786621, -5.310100078582764, -3.099600076675415, -4.8119001388549805, -4.511300086975098], \"loglift\": [30.0, 29.0, 28.0, 27.0, 26.0, 25.0, 24.0, 23.0, 22.0, 21.0, 20.0, 19.0, 18.0, 17.0, 16.0, 15.0, 14.0, 13.0, 12.0, 11.0, 10.0, 9.0, 8.0, 7.0, 6.0, 5.0, 4.0, 3.0, 2.0, 1.0, 1.2591999769210815, 1.2589999437332153, 1.2589999437332153, 1.2589000463485718, 1.2585999965667725, 1.2583999633789062, 1.2582999467849731, 1.2582000494003296, 1.2578999996185303, 1.2577999830245972, 1.257599949836731, 1.2575000524520874, 1.2575000524520874, 1.2574000358581543, 1.257200002670288, 1.257099986076355, 1.2568999528884888, 1.2568000555038452, 1.256600022315979, 1.256600022315979, 1.256500005722046, 1.256500005722046, 1.256500005722046, 1.256500005722046, 1.2562999725341797, 1.2561999559402466, 1.2561999559402466, 1.25600004196167, 1.2559000253677368, 1.2559000253677368, 1.2559000253677368, 1.2238999605178833, 1.2238999605178833, 1.2238999605178833, 1.0240000486373901, 0.19910000264644623, 0.13529999554157257, 0.6571999788284302, 1.6263999938964844, 1.6262999773025513, 1.6262999773025513, 1.6261999607086182, 1.6261999607086182, 1.6261999607086182, 1.626099944114685, 1.6259000301361084, 1.6258000135421753, 1.625599980354309, 1.625499963760376, 1.6252000331878662, 1.6246999502182007, 1.6246999502182007, 1.6246999502182007, 1.6246000528335571, 1.6246000528335571, 1.6246000528335571, 1.6243000030517578, 1.6240999698638916, 1.6240999698638916, 1.6239999532699585, 1.6239999532699585, 1.6238000392913818, 1.6238000392913818, 1.6237000226974487, 1.6234999895095825, 1.6233999729156494, 1.6230000257492065, 1.6227999925613403, 1.621399998664856, 1.6226999759674072, 1.6159000396728516, 1.6110999584197998, 1.5770000219345093, -1.273300051689148, -1.5098999738693237, 1.7065999507904053, 1.7063000202178955, 1.7060999870300293, 1.705899953842163, 1.7057000398635864, 1.705199956893921, 1.705199956893921, 1.705199956893921, 1.7050000429153442, 1.7050000429153442, 1.7049000263214111, 1.7049000263214111, 1.704699993133545, 1.704300045967102, 1.704200029373169, 1.704200029373169, 1.7038999795913696, 1.7037999629974365, 1.7037999629974365, 1.7036999464035034, 1.7035000324249268, 1.7035000324249268, 1.7034000158309937, 1.7030999660491943, 1.7029000520706177, 1.7029000520706177, 1.7028000354766846, 1.7027000188827515, 1.7023999691009521, 1.7023999691009521, 1.6993000507354736, 1.6755000352859497, 1.2181999683380127, 1.1442999839782715, 1.4499000310897827, 1.958799958229065, 1.9586000442504883, 1.9585000276565552, 1.9580999612808228, 1.9580999612808228, 1.9579999446868896, 1.957800030708313, 1.9577000141143799, 1.9577000141143799, 1.9575999975204468, 1.9574999809265137, 1.9573999643325806, 1.9572999477386475, 1.957200050354004, 1.9569000005722046, 1.9564000368118286, 1.9563000202178955, 1.9559999704360962, 1.955899953842163, 1.9557000398635864, 1.9555000066757202, 1.955399990081787, 1.955199956893921, 1.9549000263214111, 1.954699993133545, 1.954699993133545, 1.9545999765396118, 1.9544999599456787, 1.954300045967102, 1.954300045967102, 1.9486000537872314, 1.9538999795913696, 1.9357000589370728, 1.9408999681472778, 1.934399962425232, 1.9251999855041504, 1.8890000581741333, 1.9148000478744507, 1.538699984550476, 1.823799967765808, 0.8942999839782715, -2.138400077819824, 2.176100015640259, 2.175800085067749, 2.1756999492645264, 2.175600051879883, 2.175299882888794, 2.1751999855041504, 2.175100088119507, 2.1745998859405518, 2.174499988555908, 2.1744000911712646, 2.174299955368042, 2.1740000247955322, 2.1738998889923096, 2.1737000942230225, 2.1737000942230225, 2.1731998920440674, 2.1728999614715576, 2.172600030899048, 2.172300100326538, 2.171799898147583, 2.171600103378296, 2.171299934387207, 2.1710000038146973, 2.170799970626831, 2.1707000732421875, 2.170599937438965, 2.170599937438965, 2.170300006866455, 2.1702001094818115, 2.1700000762939453, 2.162100076675415, 2.166800022125244, 2.138200044631958, 1.9780999422073364, 1.732699990272522, -2.411099910736084, 2.4811999797821045, 2.481100082397461, 2.480799913406372, 2.480799913406372, 2.4804000854492188, 2.480299949645996, 2.480299949645996, 2.4800000190734863, 2.47979998588562, 2.47979998588562, 2.4797000885009766, 2.4790000915527344, 2.4784998893737793, 2.4779000282287598, 2.4779000282287598, 2.4774999618530273, 2.477400064468384, 2.477099895477295, 2.4769999980926514, 2.4769999980926514, 2.476900100708008, 2.476900100708008, 2.476799964904785, 2.475800037384033, 2.4756999015808105, 2.4755001068115234, 2.4755001068115234, 2.4753000736236572, 2.475100040435791, 2.4749999046325684, 2.4749999046325684, 2.428800106048584, 2.3945999145507812, 2.0810999870300293]}, \"token.table\": {\"Topic\": [1, 1, 2, 3, 4, 5, 6, 1, 2, 3, 1, 2, 3, 4, 5, 6, 2, 3, 4, 2, 1, 2, 3, 4, 5, 1, 1, 4, 6, 3, 1, 2, 3, 4, 5, 1, 2, 3, 4, 5, 5, 6, 4, 4, 5, 5, 5, 2, 4, 3, 4, 1, 6, 2, 3, 4, 3, 2, 1, 2, 3, 4, 5, 6, 1, 3, 4, 1, 4, 3, 1, 6, 6, 4, 4, 1, 2, 5, 6, 1, 2, 3, 4, 6, 2, 5, 3, 3, 1, 2, 3, 4, 5, 1, 2, 3, 5, 2, 6, 6, 1, 2, 3, 1, 2, 3, 4, 5, 6, 4, 3, 3, 2, 6, 3, 1, 2, 5, 2, 1, 2, 3, 4, 5, 6, 1, 3, 2, 6, 6, 4, 6, 5, 4, 3, 1, 1, 5, 6, 3, 2, 1, 5, 1, 4, 4, 3, 2, 4, 2, 1, 2, 3, 5, 3, 2, 3, 4, 3, 1, 3, 1, 2, 3, 4, 5, 6, 1, 5, 1, 4, 4, 2, 1, 2, 3, 4, 5, 6, 4, 1, 6, 3, 2, 2, 1, 1, 5, 6, 6, 4, 5, 3, 1, 4, 4, 1, 4, 1, 2, 3, 4, 5, 6, 1, 6, 1, 2, 3, 4, 5, 6, 5, 6, 1, 2, 5, 6, 1, 2, 3, 4, 5, 6, 1, 2, 3, 4, 5, 6, 3, 5, 5, 2, 4, 1, 2, 3, 4, 5, 6, 5, 6, 4, 2, 1, 2, 3, 4, 5, 6, 6, 5, 5, 5, 6, 6, 6, 3, 3, 1, 3, 4, 5, 2, 1, 2, 3, 4, 5, 6, 4, 1, 6, 5, 5, 6, 2, 2, 5, 5, 1, 2, 3, 4, 5, 1, 1, 4, 1, 2, 3, 4, 5, 6, 2, 5, 4, 6, 2, 5, 6, 1, 2, 3, 4, 5, 6, 1, 2, 3, 4, 5, 3, 3, 5, 1, 2, 3, 4, 5, 6, 2, 2, 3, 2, 1, 2, 2, 5, 1, 2, 3, 4, 5, 6, 4, 3, 1, 6, 1, 1, 4, 5, 2, 5, 5, 3], \"Freq\": [0.9996482133865356, 0.01467083115130663, 0.9515082240104675, 0.018862497061491013, 0.0020958329550921917, 0.008383331820368767, 0.006287499330937862, 0.9986461400985718, 0.0009053908288478851, 0.9956851005554199, 0.025946268811821938, 0.0043243784457445145, 0.0021621892228722572, 0.9664985537528992, 0.0021621892228722572, 0.9988625645637512, 0.9946862459182739, 0.9965378046035767, 0.9973397254943848, 0.9983910918235779, 0.0072796959429979324, 0.005459771957248449, 0.005459771957248449, 0.977299153804779, 0.004549809731543064, 0.9975188374519348, 0.0014800223289057612, 0.9975350499153137, 0.9951892495155334, 0.9962906837463379, 0.00447257561609149, 0.08945151418447495, 0.006708863656967878, 0.874388575553894, 0.024599166586995125, 0.002613511634990573, 0.002613511634990573, 0.002613511634990573, 0.002613511634990573, 0.9905208945274353, 0.994081974029541, 0.9988049864768982, 0.9984716176986694, 0.9953553676605225, 0.997951865196228, 0.9987273812294006, 0.9952906966209412, 0.996469259262085, 0.9953001737594604, 0.9986542463302612, 0.9989790916442871, 0.9994534254074097, 0.9962345361709595, 0.0023887301795184612, 0.9698244333267212, 0.026276031509041786, 0.9988371133804321, 0.9982278943061829, 0.014210096560418606, 0.03197271749377251, 0.01065757218748331, 0.007105048280209303, 0.8206331133842468, 0.11368077248334885, 0.9970839023590088, 0.9993734359741211, 0.9972178339958191, 0.9958118796348572, 0.9977459907531738, 0.9965121746063232, 0.9995017051696777, 0.9957361817359924, 0.9940776228904724, 0.99581378698349, 0.993995189666748, 0.0036191793624311686, 0.9898455739021301, 0.0018095896812155843, 0.0036191793624311686, 0.015656903386116028, 0.0015656902687624097, 0.0015656902687624097, 0.9816877841949463, 0.998070240020752, 0.9973252415657043, 0.998153567314148, 0.9982720613479614, 0.9946544170379639, 0.18915192782878876, 0.0320882722735405, 0.7734962701797485, 0.0016888563986867666, 0.0016888563986867666, 0.0031796658877283335, 0.9841066002845764, 0.0015898329438641667, 0.0079491650685668, 0.997157096862793, 0.993607759475708, 0.9989213347434998, 0.9976356029510498, 0.9973762035369873, 0.9973711371421814, 0.03974691405892372, 0.004416323732584715, 0.004416323732584715, 0.0018927102210000157, 0.0012618068140000105, 0.9482478499412537, 0.9991506934165955, 0.9975959658622742, 0.9967535138130188, 0.9998142719268799, 0.9949533343315125, 0.9957228302955627, 0.9974067807197571, 0.9952248930931091, 0.0021635324228554964, 0.9965919852256775, 0.019670285284519196, 0.003026197897270322, 0.001513098948635161, 0.9759488105773926, 0.001513098948635161, 0.9981722831726074, 0.9989176988601685, 0.9988412857055664, 0.9972622990608215, 0.9941844344139099, 0.9995582103729248, 0.9961236715316772, 0.9970009922981262, 0.996769368648529, 0.995327889919281, 0.9957230687141418, 0.9970042109489441, 0.9978052377700806, 0.9941326975822449, 0.9936085343360901, 0.99934983253479, 0.9988225698471069, 0.9988135695457458, 0.997939944267273, 0.9984711408615112, 0.9930591583251953, 0.9951733946800232, 0.9998940229415894, 0.9964555501937866, 0.9953654408454895, 0.9978711605072021, 0.0030569760128855705, 0.018341856077313423, 0.015284879133105278, 0.962947428226471, 0.9984152913093567, 0.9964110255241394, 0.0017061833059415221, 0.9969403743743896, 0.9967043399810791, 0.9988277554512024, 0.997992217540741, 0.965705156326294, 0.010631617158651352, 0.015947425737977028, 0.005315808579325676, 0.0017719360766932368, 0.0017719360766932368, 0.9998248219490051, 0.9990200400352478, 0.9978458881378174, 0.9980546236038208, 0.9958194494247437, 0.9998383522033691, 0.17606577277183533, 0.10388555377721786, 0.05599026754498482, 0.657042384147644, 0.004047489259392023, 0.0033729076385498047, 0.9989266991615295, 0.9963347315788269, 0.9991899728775024, 0.9980239868164062, 0.9976667761802673, 0.9992066025733948, 0.9985749125480652, 0.9978033304214478, 0.9977677464485168, 0.996812105178833, 0.9988613724708557, 0.9976168274879456, 0.9966844916343689, 0.996633768081665, 0.9974603056907654, 0.9990347027778625, 0.9989309310913086, 0.9997824430465698, 0.9988118410110474, 0.013739571906626225, 0.002747914521023631, 0.010991658084094524, 0.9562742114067078, 0.013739571906626225, 0.005495829042047262, 0.9970988631248474, 0.9988024830818176, 0.0010864040814340115, 0.00760482857003808, 0.0010864040814340115, 0.0032592122443020344, 0.9864549040794373, 0.002172808162868023, 0.9980887770652771, 0.9965373873710632, 0.9981784820556641, 0.9976856112480164, 0.9949191212654114, 0.9948233366012573, 0.25411486625671387, 0.023766139522194862, 0.012797151692211628, 0.025594303384423256, 0.010968987829983234, 0.6691082119941711, 0.013514275662600994, 0.006757137831300497, 0.05067853257060051, 0.0033785689156502485, 0.0033785689156502485, 0.9155921936035156, 0.9980369210243225, 0.9993317723274231, 0.994539201259613, 0.9993290305137634, 0.9992218613624573, 0.3250221014022827, 0.043425966054201126, 0.6136137247085571, 0.00871748011559248, 0.007533624768257141, 0.0017219714354723692, 0.9977908730506897, 0.9931499361991882, 0.9963715672492981, 0.9970663785934448, 0.04829399660229683, 0.27769050002098083, 0.0181102491915226, 0.0090551245957613, 0.6429138779640198, 0.003018374787643552, 0.994246780872345, 0.9945915341377258, 0.9979537129402161, 0.9985198974609375, 0.9920172095298767, 0.9991878271102905, 0.9994373321533203, 0.997927725315094, 0.9957287311553955, 0.0030061714351177216, 0.9920365810394287, 0.0030061714351177216, 0.0030061714351177216, 0.9981595873832703, 0.7902606129646301, 0.09659388661384583, 0.08521273732185364, 0.013132099993526936, 0.01371574867516756, 0.0011672977125272155, 0.998615562915802, 0.9977085590362549, 0.9939473867416382, 0.9960715174674988, 0.9996948838233948, 0.9964293241500854, 0.9995052218437195, 0.9996272921562195, 0.9951048493385315, 0.9968691468238831, 0.008606438525021076, 0.034425754100084305, 0.006885150913149118, 0.9329379796981812, 0.017212877050042152, 0.9981236457824707, 0.997656524181366, 0.9995607733726501, 0.965705156326294, 0.010631617158651352, 0.015947425737977028, 0.005315808579325676, 0.0017719360766932368, 0.0017719360766932368, 0.9987117052078247, 0.996548056602478, 0.9996885657310486, 0.9955296516418457, 0.9994326829910278, 0.9930828213691711, 0.9963550567626953, 0.548179566860199, 0.030563967302441597, 0.0088734095916152, 0.3450770378112793, 0.06507167220115662, 0.0029578031972050667, 0.0018274286994710565, 0.0018274286994710565, 0.0018274286994710565, 0.9904663562774658, 0.003654857398942113, 0.997782289981842, 0.9958428740501404, 0.9994136095046997, 0.964939534664154, 0.010944494046270847, 0.01641673967242241, 0.005472247023135424, 0.0018240822246298194, 0.0018240822246298194, 0.9997425675392151, 0.9983865022659302, 0.9997512102127075, 0.99843829870224, 0.9980506896972656, 0.9965456128120422, 0.9992356896400452, 0.9988318681716919, 0.3463987410068512, 0.0550290122628212, 0.5698848962783813, 0.016609806567430496, 0.010158461518585682, 0.0018776303622871637, 0.9940155744552612, 0.9982240200042725, 0.9999642968177795, 0.9973083138465881, 0.9982300400733948, 0.9987221956253052, 0.9995291233062744, 0.9958781599998474, 0.9993183612823486, 0.9992665648460388, 0.9956471920013428, 0.9980010390281677], \"Term\": [\"abuse\", \"abuser\", \"abuser\", \"abuser\", \"abuser\", \"abuser\", \"abuser\", \"abusive_relationship\", \"abusive_relationship\", \"account\", \"accusation\", \"accusation\", \"accusation\", \"accusation\", \"accusation\", \"action\", \"activism\", \"activist\", \"advocate\", \"age\", \"allegation\", \"allegation\", \"allegation\", \"allegation\", \"allegation\", \"article\", \"assault\", \"assault\", \"audience\", \"awareness\", \"believewoman\", \"believewoman\", \"believewoman\", \"believewoman\", \"believewoman\", \"biden\", \"biden\", \"biden\", \"biden\", \"biden\", \"bit\", \"book\", \"boy\", \"business\", \"call\", \"campaign\", \"car\", \"care\", \"career\", \"case\", \"change\", \"child\", \"child_marriage\", \"claim\", \"claim\", \"claim\", \"community\", \"company\", \"complaint\", \"complaint\", \"complaint\", \"complaint\", \"complaint\", \"complaint\", \"conversation\", \"country\", \"court\", \"crime\", \"culture\", \"daughter\", \"day\", \"democracy\", \"designing_solution\", \"difference\", \"discussion\", \"domestic_abuse\", \"domestic_abuse\", \"domestic_abuse\", \"domestic_abuse\", \"domesticabuse\", \"domesticabuse\", \"domesticabuse\", \"domesticabuse\", \"education\", \"end\", \"ending_violence\", \"equality\", \"event\", \"everydaysexism\", \"everydaysexism\", \"everydaysexism\", \"everydaysexism\", \"everydaysexism\", \"evidence\", \"evidence\", \"evidence\", \"evidence\", \"fact\", \"factor\", \"family\", \"feminism\", \"fight\", \"friend\", \"fully_admit\", \"fully_admit\", \"fully_admit\", \"fully_admit\", \"fully_admit\", \"fully_admit\", \"gender\", \"gender_equality\", \"genderequality\", \"girl\", \"girls_everywhere\", \"globalspotlight\", \"government\", \"gpchildmarriage\", \"gpchildmarriage\", \"group\", \"guy\", \"guy\", \"guy\", \"guy\", \"guy\", \"hand\", \"harassment\", \"hashtag\", \"head\", \"heforshe\", \"help\", \"history\", \"hope\", \"hour\", \"husband\", \"idea\", \"imagined_one\", \"impact\", \"industry\", \"initiative\", \"ipuparliament\", \"issue\", \"iwd\", \"job\", \"join_tour\", \"joke\", \"journalist\", \"justice\", \"kid\", \"know\", \"law\", \"lawyer\", \"lawyer\", \"lawyer\", \"lawyer\", \"leader\", \"leave\", \"leave\", \"level\", \"lie\", \"life\", \"love\", \"love_interest\", \"love_interest\", \"love_interest\", \"love_interest\", \"love_interest\", \"love_interest\", \"man\", \"marriage\", \"matter\", \"medium\", \"message\", \"metoo\", \"metoo_movement\", \"metoo_movement\", \"metoo_movement\", \"metoo_movement\", \"metoo_movement\", \"metoo_movement\", \"mind\", \"moment\", \"money\", \"month\", \"mother\", \"movement\", \"music\", \"name\", \"news\", \"night\", \"number\", \"opportunity\", \"order\", \"other\", \"parent\", \"part\", \"partner\", \"people\", \"person\", \"pizza\", \"pizza\", \"pizza\", \"pizza\", \"pizza\", \"pizza\", \"place\", \"point\", \"police\", \"police\", \"police\", \"police\", \"police\", \"police\", \"post\", \"poverty\", \"power\", \"problem\", \"program\", \"promoting_inclusion\", \"psychological_abuse\", \"psychological_abuse\", \"psychological_abuse\", \"psychological_abuse\", \"psychological_abuse\", \"psychological_abuse\", \"punished_innocent\", \"punished_innocent\", \"punished_innocent\", \"punished_innocent\", \"punished_innocent\", \"punished_innocent\", \"question\", \"rape\", \"reality\", \"reason\", \"relationship\", \"relationship_saftey\", \"relationship_saftey\", \"relationship_saftey\", \"relationship_saftey\", \"relationship_saftey\", \"relationship_saftey\", \"report\", \"research\", \"resource\", \"response\", \"retaliation_silencing\", \"retaliation_silencing\", \"retaliation_silencing\", \"retaliation_silencing\", \"retaliation_silencing\", \"retaliation_silencing\", \"return\", \"review\", \"right\", \"role\", \"session\", \"sex\", \"shame\", \"share\", \"show\", \"silence\", \"silence\", \"silence\", \"silence\", \"situation\", \"smday\", \"smday\", \"smday\", \"smday\", \"smday\", \"smday\", \"society\", \"space\", \"stand\", \"state\", \"story\", \"struggle\", \"support\", \"survivor\", \"system\", \"talk\", \"tara_reade\", \"tara_reade\", \"tara_reade\", \"tara_reade\", \"tara_reade\", \"team\", \"thank\", \"thing\", \"think_appropriate\", \"think_appropriate\", \"think_appropriate\", \"think_appropriate\", \"think_appropriate\", \"think_appropriate\", \"thread\", \"threat\", \"time\", \"tip\", \"today\", \"tonight\", \"treatment\", \"trump\", \"trump\", \"trump\", \"trump\", \"trump\", \"trump\", \"truth\", \"truth\", \"truth\", \"truth\", \"truth\", \"tweet\", \"twitter\", \"unwoman\", \"via_collider\", \"via_collider\", \"via_collider\", \"via_collider\", \"via_collider\", \"via_collider\", \"victim\", \"video\", \"violence\", \"voice\", \"vote\", \"want\", \"way\", \"week\", \"whyileft\", \"whyileft\", \"whyileft\", \"whyileft\", \"whyileft\", \"whyileft\", \"wife\", \"withher\", \"woman\", \"woman_girl\", \"womeninsport\", \"word\", \"work\", \"worker\", \"world\", \"year\", \"yesterday\", \"youth\"]}, \"R\": 30, \"lambda.step\": 0.01, \"plot.opts\": {\"xlab\": \"PC1\", \"ylab\": \"PC2\"}, \"topic.order\": [3, 2, 5, 1, 6, 4]};\n",
       "\n",
       "function LDAvis_load_lib(url, callback){\n",
       "  var s = document.createElement('script');\n",
       "  s.src = url;\n",
       "  s.async = true;\n",
       "  s.onreadystatechange = s.onload = callback;\n",
       "  s.onerror = function(){console.warn(\"failed to load library \" + url);};\n",
       "  document.getElementsByTagName(\"head\")[0].appendChild(s);\n",
       "}\n",
       "\n",
       "if(typeof(LDAvis) !== \"undefined\"){\n",
       "   // already loaded: just create the visualization\n",
       "   !function(LDAvis){\n",
       "       new LDAvis(\"#\" + \"ldavis_el6581130003719281597615304\", ldavis_el6581130003719281597615304_data);\n",
       "   }(LDAvis);\n",
       "}else if(typeof define === \"function\" && define.amd){\n",
       "   // require.js is available: use it to load d3/LDAvis\n",
       "   require.config({paths: {d3: \"https://cdnjs.cloudflare.com/ajax/libs/d3/3.5.5/d3.min\"}});\n",
       "   require([\"d3\"], function(d3){\n",
       "      window.d3 = d3;\n",
       "      LDAvis_load_lib(\"https://cdn.rawgit.com/bmabey/pyLDAvis/files/ldavis.v1.0.0.js\", function(){\n",
       "        new LDAvis(\"#\" + \"ldavis_el6581130003719281597615304\", ldavis_el6581130003719281597615304_data);\n",
       "      });\n",
       "    });\n",
       "}else{\n",
       "    // require.js not available: dynamically load d3 & LDAvis\n",
       "    LDAvis_load_lib(\"https://cdnjs.cloudflare.com/ajax/libs/d3/3.5.5/d3.min.js\", function(){\n",
       "         LDAvis_load_lib(\"https://cdn.rawgit.com/bmabey/pyLDAvis/files/ldavis.v1.0.0.js\", function(){\n",
       "                 new LDAvis(\"#\" + \"ldavis_el6581130003719281597615304\", ldavis_el6581130003719281597615304_data);\n",
       "            })\n",
       "         });\n",
       "}\n",
       "</script>"
      ],
      "text/plain": [
       "PreparedData(topic_coordinates=              x         y  topics  cluster       Freq\n",
       "topic                                                \n",
       "2     -0.224390 -0.049697       1        1  28.387365\n",
       "1     -0.031869  0.121014       2        1  19.660034\n",
       "4     -0.253943 -0.095192       3        1  18.146862\n",
       "0      0.106253  0.224425       4        1  14.098871\n",
       "5      0.160808  0.079582       5        1  11.346087\n",
       "3      0.243142 -0.280131       6        1   8.360780, topic_info=                      Term          Freq         Total Category  logprob  \\\n",
       "26                   woman  24655.000000  24655.000000  Default  30.0000   \n",
       "62                 justice   9600.000000   9600.000000  Default  29.0000   \n",
       "17085  relationship_saftey  18583.000000  18583.000000  Default  28.0000   \n",
       "17086             whyileft  20770.000000  20770.000000  Default  27.0000   \n",
       "714                  metoo   7334.000000   7334.000000  Default  26.0000   \n",
       "...                    ...           ...           ...      ...      ...   \n",
       "5696        child_marriage    156.555984    157.593414   Topic6  -5.3618   \n",
       "3971                return    164.862244    165.954773   Topic6  -5.3101   \n",
       "15542          fully_admit   1503.485596   1585.028687   Topic6  -3.0996   \n",
       "16842    punished_innocent    271.310608    295.983307   Topic6  -4.8119   \n",
       "371    psychological_abuse    366.454681    546.996704   Topic6  -4.5113   \n",
       "\n",
       "       loglift  \n",
       "26     30.0000  \n",
       "62     29.0000  \n",
       "17085  28.0000  \n",
       "17086  27.0000  \n",
       "714    26.0000  \n",
       "...        ...  \n",
       "5696    2.4750  \n",
       "3971    2.4750  \n",
       "15542   2.4288  \n",
       "16842   2.3946  \n",
       "371     2.0811  \n",
       "\n",
       "[252 rows x 6 columns], token_table=      Topic      Freq       Term\n",
       "term                            \n",
       "27        1  0.999648      abuse\n",
       "311       1  0.014671     abuser\n",
       "311       2  0.951508     abuser\n",
       "311       3  0.018862     abuser\n",
       "311       4  0.002096     abuser\n",
       "...     ...       ...        ...\n",
       "731       5  0.995878     worker\n",
       "212       2  0.999318      world\n",
       "426       5  0.999267       year\n",
       "389       5  0.995647  yesterday\n",
       "1697      3  0.998001      youth\n",
       "\n",
       "[348 rows x 3 columns], R=30, lambda_step=0.01, plot_opts={'xlab': 'PC1', 'ylab': 'PC2'}, topic_order=[3, 2, 5, 1, 6, 4])"
      ]
     },
     "execution_count": 208,
     "metadata": {},
     "output_type": "execute_result"
    }
   ],
   "source": [
    "pyLDAvis.enable_notebook()\n",
    "vis = pyLDAvis.gensim.prepare(lda_model, corpus, id2word)\n",
    "vis"
   ]
  },
  {
   "cell_type": "code",
   "execution_count": 210,
   "metadata": {},
   "outputs": [],
   "source": [
    "pyLDAvis.save_html(vis, 'Twitter_All.html')"
   ]
  },
  {
   "cell_type": "markdown",
   "metadata": {},
   "source": [
    "# UK TOPIC CONVERSATION\n"
   ]
  },
  {
   "cell_type": "code",
   "execution_count": 94,
   "metadata": {},
   "outputs": [
    {
     "data": {
      "text/html": [
       "<div>\n",
       "<style scoped>\n",
       "    .dataframe tbody tr th:only-of-type {\n",
       "        vertical-align: middle;\n",
       "    }\n",
       "\n",
       "    .dataframe tbody tr th {\n",
       "        vertical-align: top;\n",
       "    }\n",
       "\n",
       "    .dataframe thead th {\n",
       "        text-align: right;\n",
       "    }\n",
       "</style>\n",
       "<table border=\"1\" class=\"dataframe\">\n",
       "  <thead>\n",
       "    <tr style=\"text-align: right;\">\n",
       "      <th></th>\n",
       "      <th>Country</th>\n",
       "      <th>Contents</th>\n",
       "    </tr>\n",
       "  </thead>\n",
       "  <tbody>\n",
       "    <tr>\n",
       "      <th>1</th>\n",
       "      <td>UK</td>\n",
       "      <td>RT @SaheliEnfield: BBC News: UK lockdown: Call...</td>\n",
       "    </tr>\n",
       "    <tr>\n",
       "      <th>16</th>\n",
       "      <td>UK</td>\n",
       "      <td>RT @C_Kneer: If ever we need reminding that ch...</td>\n",
       "    </tr>\n",
       "    <tr>\n",
       "      <th>17</th>\n",
       "      <td>UK</td>\n",
       "      <td>RT @Sammieb1980: Hi @HarrietHarman can we use ...</td>\n",
       "    </tr>\n",
       "    <tr>\n",
       "      <th>18</th>\n",
       "      <td>UK</td>\n",
       "      <td>RT @MissTracyGraham: So honoured to be mention...</td>\n",
       "    </tr>\n",
       "    <tr>\n",
       "      <th>23</th>\n",
       "      <td>UK</td>\n",
       "      <td>RT @EmilyDeekerSky: When home is not a safe pl...</td>\n",
       "    </tr>\n",
       "    <tr>\n",
       "      <th>...</th>\n",
       "      <td>...</td>\n",
       "      <td>...</td>\n",
       "    </tr>\n",
       "    <tr>\n",
       "      <th>105416</th>\n",
       "      <td>UK</td>\n",
       "      <td>\"Well directed and acted funny yet provocative...</td>\n",
       "    </tr>\n",
       "    <tr>\n",
       "      <th>105438</th>\n",
       "      <td>UK</td>\n",
       "      <td>\"A very entertaining evening with brilliant wr...</td>\n",
       "    </tr>\n",
       "    <tr>\n",
       "      <th>105442</th>\n",
       "      <td>UK</td>\n",
       "      <td>\"A great way to provoke serious reflection, gr...</td>\n",
       "    </tr>\n",
       "    <tr>\n",
       "      <th>105443</th>\n",
       "      <td>UK</td>\n",
       "      <td>\"A great way to provoke serious reflection, gr...</td>\n",
       "    </tr>\n",
       "    <tr>\n",
       "      <th>105447</th>\n",
       "      <td>UK</td>\n",
       "      <td>\"Do it again, again, again!\" @MAC_birmingham J...</td>\n",
       "    </tr>\n",
       "  </tbody>\n",
       "</table>\n",
       "<p>15834 rows × 2 columns</p>\n",
       "</div>"
      ],
      "text/plain": [
       "       Country                                           Contents\n",
       "1           UK  RT @SaheliEnfield: BBC News: UK lockdown: Call...\n",
       "16          UK  RT @C_Kneer: If ever we need reminding that ch...\n",
       "17          UK  RT @Sammieb1980: Hi @HarrietHarman can we use ...\n",
       "18          UK  RT @MissTracyGraham: So honoured to be mention...\n",
       "23          UK  RT @EmilyDeekerSky: When home is not a safe pl...\n",
       "...        ...                                                ...\n",
       "105416      UK  \"Well directed and acted funny yet provocative...\n",
       "105438      UK  \"A very entertaining evening with brilliant wr...\n",
       "105442      UK  \"A great way to provoke serious reflection, gr...\n",
       "105443      UK  \"A great way to provoke serious reflection, gr...\n",
       "105447      UK  \"Do it again, again, again!\" @MAC_birmingham J...\n",
       "\n",
       "[15834 rows x 2 columns]"
      ]
     },
     "execution_count": 94,
     "metadata": {},
     "output_type": "execute_result"
    }
   ],
   "source": [
    "UK=Country[Country.Country == 'UK']\n",
    "UK"
   ]
  },
  {
   "cell_type": "markdown",
   "metadata": {
    "heading_collapsed": true
   },
   "source": [
    "## Pre- Processing Data"
   ]
  },
  {
   "cell_type": "code",
   "execution_count": 95,
   "metadata": {
    "hidden": true
   },
   "outputs": [],
   "source": [
    "# Remove Contractions \n",
    "def decontracted(phrase):\n",
    "    \"\"\"\n",
    "    Function uses regular expression to substitute common constructs used in text which \n",
    "    involve contractions.\n",
    "    A contraction is a shortened form of one or two words (one of which is usually a verb).\n",
    "    e.g. 'won't' will be replaced with 'will not'\n",
    "\n",
    "    parameters:\n",
    "    text (str): the text to use\n",
    "    \"\"\" \n",
    "    # specific\n",
    "    phrase = re.sub(r\"won\\'t\", \"will not\", phrase)\n",
    "    phrase = re.sub(r\"can\\'t\", \"can not\", phrase)\n",
    "    phrase = re.sub(r\"he\\ ’ s\", \"he is\", phrase)\n",
    "    phrase = re.sub(r\"i\\ ’ m\", \"he is\", phrase)\n",
    "   \n",
    "   \n",
    "\n",
    "    # general\n",
    "    phrase = re.sub(r\"n\\'t\", \" not\", phrase)\n",
    "    phrase = re.sub(r\"\\'re\", \" are\", phrase)\n",
    "    phrase = re.sub(r\"\\'s\", \" is\", phrase)\n",
    "    phrase = re.sub(r\"\\'d\", \" would\", phrase)\n",
    "    phrase = re.sub(r\"\\'ll\", \" will\", phrase)\n",
    "    phrase = re.sub(r\"\\'t\", \" not\", phrase)\n",
    "    phrase = re.sub(r\"\\'ve\", \" have\", phrase)\n",
    "    phrase = re.sub(r\"\\'m\", \" am\", phrase)\n",
    "    phrase = re.sub(r\"\\'didnt\", \" did not\", phrase)\n",
    "    return phrase"
   ]
  },
  {
   "cell_type": "code",
   "execution_count": 96,
   "metadata": {
    "hidden": true
   },
   "outputs": [],
   "source": [
    "# Reduce words length to avoid misspelling like \"happpppy\" will be \"happy\"\n",
    "\n",
    "def reduce_lengthening(text):\n",
    "    \"\"\"\n",
    "    Function uses regular expression to correct spelling errors from the text which involve incorrect repeated letters\n",
    "\n",
    "    parameters:\n",
    "    text (str): the text to use\n",
    "    \"\"\"  \n",
    "    pattern = re.compile(r\"(.)\\1{2,}\")\n",
    "    return pattern.sub(r\"\\1\\1\", text)\n",
    "# Apply the above pre-proessing functions to the Comment column\n",
    "\n",
    "UK['Contents']=UK['Contents'].apply(reduce_lengthening, 0) \n",
    "UK['Contents']=UK['Contents'].apply(decontracted, 0)"
   ]
  },
  {
   "cell_type": "code",
   "execution_count": 108,
   "metadata": {
    "hidden": true
   },
   "outputs": [],
   "source": [
    "#Setting Stopwords\n",
    "nltk.download('stopwords')\n",
    "from nltk.corpus import stopwords\n",
    "sw = stopwords.words('english')\n",
    "stw = sw + ['https','lot','httpstcoxn_tumhy', 'httpstcocgpu_hxya', 're', 'edu', 'use','good','really','quite','nice','well','little','need','keep','make','important','take','get','very','course','instructor','example']\n",
    "ps = PorterStemmer()\n",
    "lemmatizer = nltk.stem.WordNetLemmatizer()"
   ]
  },
  {
   "cell_type": "code",
   "execution_count": 109,
   "metadata": {
    "hidden": true
   },
   "outputs": [],
   "source": [
    "def nlpFunction(df):\n",
    "    \"\"\"\n",
    "    Function to carry out NLP type functions on the Comment text.\n",
    "    \n",
    "    the text is split into tokens \n",
    "    stopwords are removed\n",
    "    lemmatization is carried out\n",
    "      e.g.  am, are,is  => be\n",
    "            car, cars, car's, cars = > car\n",
    "    the <space> separated words are then added to a new column that will be used for sentiment analysis\n",
    "\n",
    "    parameters:\n",
    "    df (dataframe): the dataframe to use, the 'Comment' column is used \n",
    "    \"\"\" \n",
    "    UK['com_token'] = UK['Contents'].str.lower().str.split()\n",
    "    UK['com_remv'] = UK['com_token'].apply(lambda x: [y for y in x if y not in stw]) #tokenization\n",
    "    UK[\"com_lemma\"] = UK['com_remv'].apply(lambda x : [lemmatizer.lemmatize(y) for y in x]) # lemmatization\n",
    "    UK[\"com_tok_str\"] = UK[\"com_lemma\"].apply(', '.join)\n",
    "    UK[\"com_full\"] = UK[\"com_lemma\"].apply(' '.join)\n",
    "    return df"
   ]
  },
  {
   "cell_type": "code",
   "execution_count": 110,
   "metadata": {
    "hidden": true
   },
   "outputs": [
    {
     "name": "stderr",
     "output_type": "stream",
     "text": [
      "[nltk_data] Downloading package wordnet to\n",
      "[nltk_data]     /Users/begosfriiive/nltk_data...\n",
      "[nltk_data]   Package wordnet is already up-to-date!\n"
     ]
    }
   ],
   "source": [
    "nltk.download('wordnet')\n",
    "UK = nlpFunction(UK)\n",
    "UK[\"Orig_comment\"] = UK[\"Contents\"]\n",
    "UK[\"Comment\"] = UK[\"com_full\"]\n",
    "UK[['Orig_comment','Comment']].head()"
   ]
  },
  {
   "cell_type": "code",
   "execution_count": 111,
   "metadata": {
    "hidden": true
   },
   "outputs": [
    {
     "data": {
      "text/html": [
       "<div>\n",
       "<style scoped>\n",
       "    .dataframe tbody tr th:only-of-type {\n",
       "        vertical-align: middle;\n",
       "    }\n",
       "\n",
       "    .dataframe tbody tr th {\n",
       "        vertical-align: top;\n",
       "    }\n",
       "\n",
       "    .dataframe thead th {\n",
       "        text-align: right;\n",
       "    }\n",
       "</style>\n",
       "<table border=\"1\" class=\"dataframe\">\n",
       "  <thead>\n",
       "    <tr style=\"text-align: right;\">\n",
       "      <th></th>\n",
       "      <th>Orig_comment</th>\n",
       "      <th>Comment</th>\n",
       "    </tr>\n",
       "  </thead>\n",
       "  <tbody>\n",
       "    <tr>\n",
       "      <th>1</th>\n",
       "      <td>RT @SaheliEnfield: BBC News: UK lockdown: Call...</td>\n",
       "      <td>rt @sahelienfield: bbc news: uk lockdown: call...</td>\n",
       "    </tr>\n",
       "    <tr>\n",
       "      <th>16</th>\n",
       "      <td>RT @C_Kneer: If ever we need reminding that ch...</td>\n",
       "      <td>rt @c_kneer: ever reminding child victim witne...</td>\n",
       "    </tr>\n",
       "    <tr>\n",
       "      <th>17</th>\n",
       "      <td>RT @Sammieb1980: Hi @HarrietHarman can we use ...</td>\n",
       "      <td>rt @sammieb1980: hi @harrietharman term #domes...</td>\n",
       "    </tr>\n",
       "    <tr>\n",
       "      <th>18</th>\n",
       "      <td>RT @MissTracyGraham: So honoured to be mention...</td>\n",
       "      <td>rt @misstracygraham: honoured mentioned house ...</td>\n",
       "    </tr>\n",
       "    <tr>\n",
       "      <th>23</th>\n",
       "      <td>RT @EmilyDeekerSky: When home is not a safe pl...</td>\n",
       "      <td>rt @emilydeekersky: home safe place be. tune @...</td>\n",
       "    </tr>\n",
       "  </tbody>\n",
       "</table>\n",
       "</div>"
      ],
      "text/plain": [
       "                                         Orig_comment  \\\n",
       "1   RT @SaheliEnfield: BBC News: UK lockdown: Call...   \n",
       "16  RT @C_Kneer: If ever we need reminding that ch...   \n",
       "17  RT @Sammieb1980: Hi @HarrietHarman can we use ...   \n",
       "18  RT @MissTracyGraham: So honoured to be mention...   \n",
       "23  RT @EmilyDeekerSky: When home is not a safe pl...   \n",
       "\n",
       "                                              Comment  \n",
       "1   rt @sahelienfield: bbc news: uk lockdown: call...  \n",
       "16  rt @c_kneer: ever reminding child victim witne...  \n",
       "17  rt @sammieb1980: hi @harrietharman term #domes...  \n",
       "18  rt @misstracygraham: honoured mentioned house ...  \n",
       "23  rt @emilydeekersky: home safe place be. tune @...  "
      ]
     },
     "execution_count": 111,
     "metadata": {},
     "output_type": "execute_result"
    }
   ],
   "source": [
    "UK[['Orig_comment','Comment']].head()"
   ]
  },
  {
   "cell_type": "code",
   "execution_count": 112,
   "metadata": {
    "hidden": true
   },
   "outputs": [
    {
     "name": "stdout",
     "output_type": "stream",
     "text": [
      "disaster\n"
     ]
    }
   ],
   "source": [
    "import string\n",
    "def remove_punct(text):\n",
    "    table=str.maketrans('','',string.punctuation)\n",
    "    return text.translate(table)\n",
    "\n",
    "example=\"?disaster\"\n",
    "print(remove_punct(example))"
   ]
  },
  {
   "cell_type": "code",
   "execution_count": 113,
   "metadata": {
    "hidden": true
   },
   "outputs": [],
   "source": [
    "import re\n",
    "def remove_URL(text):\n",
    "    url = re.compile(r'https?://\\S+|www\\.\\S+')\n",
    "    return url.sub(r'',text)\n",
    "UK['Comment']=UK['Comment'].apply(lambda x : remove_URL(x))"
   ]
  },
  {
   "cell_type": "code",
   "execution_count": 114,
   "metadata": {
    "hidden": true
   },
   "outputs": [],
   "source": [
    "UK['Comment']=UK['Comment'].apply(lambda x : remove_punct(x))"
   ]
  },
  {
   "cell_type": "code",
   "execution_count": 115,
   "metadata": {
    "hidden": true,
    "scrolled": true
   },
   "outputs": [
    {
     "data": {
      "text/plain": [
       "'rt ckneer ever reminding child victim witness domesticabuse moving input mark fletcher mp brings home powerfully dabill'"
      ]
     },
     "execution_count": 115,
     "metadata": {},
     "output_type": "execute_result"
    }
   ],
   "source": [
    "UK['Comment'][16]"
   ]
  },
  {
   "cell_type": "code",
   "execution_count": 116,
   "metadata": {
    "hidden": true
   },
   "outputs": [
    {
     "name": "stdout",
     "output_type": "stream",
     "text": [
      "httpstcoxn_tumhy\n"
     ]
    }
   ],
   "source": [
    "example=\"httpstcoxn_tumhy\"\n",
    "print(remove_URL(example))"
   ]
  },
  {
   "cell_type": "markdown",
   "metadata": {
    "heading_collapsed": true
   },
   "source": [
    "# Topic Modeling-UK"
   ]
  },
  {
   "cell_type": "code",
   "execution_count": 117,
   "metadata": {
    "hidden": true
   },
   "outputs": [
    {
     "name": "stdout",
     "output_type": "stream",
     "text": [
      "Requirement already satisfied: pyldavis in /Users/begosfriiive/anaconda/lib/python3.6/site-packages (2.1.2)\n",
      "Requirement already satisfied: joblib>=0.8.4 in /Users/begosfriiive/anaconda/lib/python3.6/site-packages (from pyldavis) (0.14.1)\n",
      "Requirement already satisfied: numpy>=1.9.2 in /Users/begosfriiive/anaconda/lib/python3.6/site-packages (from pyldavis) (1.18.1)\n",
      "Requirement already satisfied: jinja2>=2.7.2 in /Users/begosfriiive/anaconda/lib/python3.6/site-packages (from pyldavis) (2.11.1)\n",
      "Requirement already satisfied: future in /Users/begosfriiive/anaconda/lib/python3.6/site-packages (from pyldavis) (0.18.2)\n",
      "Requirement already satisfied: scipy>=0.18.0 in /Users/begosfriiive/anaconda/lib/python3.6/site-packages (from pyldavis) (1.4.1)\n",
      "Requirement already satisfied: pytest in /Users/begosfriiive/anaconda/lib/python3.6/site-packages (from pyldavis) (5.4.1)\n",
      "Requirement already satisfied: numexpr in /Users/begosfriiive/anaconda/lib/python3.6/site-packages (from pyldavis) (2.7.1)\n",
      "Requirement already satisfied: funcy in /Users/begosfriiive/anaconda/lib/python3.6/site-packages (from pyldavis) (1.14)\n",
      "Requirement already satisfied: pandas>=0.17.0 in /Users/begosfriiive/anaconda/lib/python3.6/site-packages (from pyldavis) (1.0.1)\n",
      "Requirement already satisfied: wheel>=0.23.0 in /Users/begosfriiive/anaconda/lib/python3.6/site-packages (from pyldavis) (0.34.2)\n",
      "Requirement already satisfied: MarkupSafe>=0.23 in /Users/begosfriiive/anaconda/lib/python3.6/site-packages (from jinja2>=2.7.2->pyldavis) (1.1.1)\n",
      "Requirement already satisfied: pluggy<1.0,>=0.12 in /Users/begosfriiive/anaconda/lib/python3.6/site-packages (from pytest->pyldavis) (0.13.1)\n",
      "Requirement already satisfied: attrs>=17.4.0 in /Users/begosfriiive/anaconda/lib/python3.6/site-packages (from pytest->pyldavis) (19.3.0)\n",
      "Requirement already satisfied: py>=1.5.0 in /Users/begosfriiive/anaconda/lib/python3.6/site-packages (from pytest->pyldavis) (1.8.1)\n",
      "Requirement already satisfied: more-itertools>=4.0.0 in /Users/begosfriiive/anaconda/lib/python3.6/site-packages (from pytest->pyldavis) (8.2.0)\n",
      "Requirement already satisfied: wcwidth in /Users/begosfriiive/anaconda/lib/python3.6/site-packages (from pytest->pyldavis) (0.1.8)\n",
      "Requirement already satisfied: importlib-metadata>=0.12; python_version < \"3.8\" in /Users/begosfriiive/anaconda/lib/python3.6/site-packages (from pytest->pyldavis) (1.5.0)\n",
      "Requirement already satisfied: packaging in /Users/begosfriiive/anaconda/lib/python3.6/site-packages (from pytest->pyldavis) (20.3)\n",
      "Requirement already satisfied: pytz>=2017.2 in /Users/begosfriiive/anaconda/lib/python3.6/site-packages (from pandas>=0.17.0->pyldavis) (2019.3)\n",
      "Requirement already satisfied: python-dateutil>=2.6.1 in /Users/begosfriiive/anaconda/lib/python3.6/site-packages (from pandas>=0.17.0->pyldavis) (2.8.1)\n",
      "Requirement already satisfied: zipp>=0.5 in /Users/begosfriiive/anaconda/lib/python3.6/site-packages (from importlib-metadata>=0.12; python_version < \"3.8\"->pytest->pyldavis) (3.1.0)\n",
      "Requirement already satisfied: pyparsing>=2.0.2 in /Users/begosfriiive/anaconda/lib/python3.6/site-packages (from packaging->pytest->pyldavis) (2.4.6)\n",
      "Requirement already satisfied: six in /Users/begosfriiive/anaconda/lib/python3.6/site-packages (from packaging->pytest->pyldavis) (1.14.0)\n",
      "Note: you may need to restart the kernel to use updated packages.\n"
     ]
    }
   ],
   "source": [
    "pip install pyldavis"
   ]
  },
  {
   "cell_type": "code",
   "execution_count": 118,
   "metadata": {
    "hidden": true
   },
   "outputs": [],
   "source": [
    "try:\n",
    "    import re2 as re\n",
    "except ImportError:\n",
    "    import re\n",
    "import numpy as np\n",
    "import pandas as pd\n",
    "from pprint import pprint\n",
    "\n",
    "# Gensim\n",
    "import gensim\n",
    "import gensim.corpora as corpora\n",
    "from gensim.utils import simple_preprocess\n",
    "from gensim.models import CoherenceModel\n",
    "\n",
    "# spacy for lemmatization\n",
    "import spacy\n",
    "\n",
    "# Plotting tools\n",
    "import pyLDAvis\n",
    "import pyLDAvis.gensim  # don't skip this\n",
    "import matplotlib.pyplot as plt\n",
    "import logging\n",
    "logging.basicConfig(format='%(asctime)s : %(levelname)s : %(message)s', level=logging.ERROR)\n",
    "\n",
    "import warnings\n",
    "warnings.filterwarnings(\"ignore\",category=DeprecationWarning)\n",
    "%matplotlib inline"
   ]
  },
  {
   "cell_type": "code",
   "execution_count": 119,
   "metadata": {
    "hidden": true
   },
   "outputs": [
    {
     "name": "stdout",
     "output_type": "stream",
     "text": [
      "['rt sahelienfield bbc news uk lockdown call domestic abuse helpline jump '\n",
      " 'half  home always safe place everyone pls ☎️07483166493 help always you '\n",
      " 'domesticabuse mentalhealthduringcovid19 krishnajis',\n",
      " 'rt ckneer ever reminding child victim witness domesticabuse moving input '\n",
      " 'mark fletcher mp brings home powerfully dabill',\n",
      " 'rt sammieb1980 hi harrietharman term domesticabuse please say domestic '\n",
      " 'violence people coercively controlled psychologically sexually financially '\n",
      " 'abused physically hurt know victim domesticabuse domesticabusebill',\n",
      " 'rt misstracygraham honoured mentioned house common today robertbuckland '\n",
      " 'thank you domesticabusebill domesticviolence youarenotalone ',\n",
      " 'rt emilydeekersky home safe place be tune skynews 735pm hear one brave young '\n",
      " 'woman chose speak out working hard help domesticabuse covid19safe swindonwa '\n",
      " 'carolineblack22 wiltshirewoman jasonfarrellsky robertbuckland ',\n",
      " 'rt stagainstdv great mopacldn london vawg coordinators call morning see la’s '\n",
      " 'domesticabuse covid19 including specialistservices ukhousing marac cjs '\n",
      " 'pharmacies communities perpetrators thanks jlemom2 aishateesharif chairing 😊',\n",
      " 'rt refugecharity rosieduffield1 accurately defines perpetrator domesticabuse '\n",
      " 'what almighty coward are domesticabusebill',\n",
      " 'qt emilyflorenceh1 rt marcellamcd annafriel emilyflorenceh1 solacewomensaid '\n",
      " 'lemontwittor anna thank you much could retweet link as…  lefta '\n",
      " 'punchedbloodied nose exi trappedscaredconfusedbroken fast forward woman '\n",
      " 'right wearing caroline’s ‘be kind’ tee solacewomensaid helped womanplease '\n",
      " 'reach help domesticabuse domesticviolence covid19 lemontwittor ',\n",
      " 'rt sammieb1980 hi harrietharman term domesticabuse please say domestic '\n",
      " 'violence people coercively controlled psychologically sexually financially '\n",
      " 'abused physically hurt know victim domesticabuse domesticabusebill',\n",
      " 'rt refugecharity thank much rosieduffield1 another excellent brave '\n",
      " 'articulate speech domesticabusebill raised impact covid19 domesticabuse '\n",
      " 'survivor funding vawg services 👏',\n",
      " 'rt gazettenewsdesk victim abuse received help police campaign '\n",
      " 'domesticviolence lockdown  ',\n",
      " 'rt refugecharity “the saddest thing feeling like couldn’t always save mum ” '\n",
      " 'estimated 20 child live home domesticabuse take place dabill must ensure '\n",
      " 'sustainable funding child ever turned away ',\n",
      " 'qt justiceni rt victimsupportni bill long overdue  pleased see getting stage '\n",
      " 'many many victim domestic viol…  today minister long brought second stage '\n",
      " 'domesticabuse bill niassembly this significant piece legislation help '\n",
      " 'thousand people across ni experiencing domestic abuse male female young old  '\n",
      " 'sexual orientations ',\n",
      " 'qt emilyflorenceh1 annafriel emilyflorenceh1 solacewomensaid lemontwittor '\n",
      " 'please could everyone like retweet post   lefta punchedbloodied nose exi '\n",
      " 'trappedscaredconfusedbroken fast forward woman right wearing caroline’s ‘be '\n",
      " 'kind’ tee solacewomensaid helped womanplease reach help domesticabuse '\n",
      " 'domesticviolence covid19 lemontwittor ',\n",
      " 'another certificate today domestic violence form ok know it’s always easy '\n",
      " 'talk help maybe word away ready x behindthemask domesticviolence survivors '\n",
      " 'domesticabuse domesticviolenceawareness onlinecourses ',\n",
      " 'qt emilyflorenceh1 annafriel emilyflorenceh1 solacewomensaid lemontwittor '\n",
      " 'anna thank you much could retweet link emily’s story thank you million thank '\n",
      " '💚  lefta punchedbloodied nose exi trappedscaredconfusedbroken fast forward '\n",
      " 'woman right wearing caroline’s ‘be kind’ tee solacewomensaid helped '\n",
      " 'womanplease reach help domesticabuse domesticviolence covid19 lemontwittor ',\n",
      " 'rt gardencourtlaw response lockdown measures family team barrister offering '\n",
      " 'free 1hr legaladvice keyworkers secure injunction protection domesticabuse '\n",
      " 'initiative association weareadvocate find ',\n",
      " 'rt refugecharity partner constantly undermine you control see spend money '\n",
      " 'domesticabuse physical team want talk confidence  ',\n",
      " 'qt emilyflorenceh1 rt thewomensorg change come please reach help relate '\n",
      " 'ldaservice still available help along nation…  lefta punchedbloodied nose '\n",
      " 'exi trappedscaredconfusedbroken fast forward woman right wearing caroline’s '\n",
      " '‘be kind’ tee solacewomensaid helped womanplease reach help domesticabuse '\n",
      " 'domesticviolence covid19 lemontwittor ',\n",
      " 'rt searesource great hear coyleneil support asafehome campaign  calling '\n",
      " 'govuk ensure domesticabusebill make provision ensure survivor domesticabuse '\n",
      " 'access safe home housing economicabuse']\n"
     ]
    }
   ],
   "source": [
    "# Convert to list\n",
    "data_UK = UK['Comment'].values.tolist()\n",
    "pprint(data_UK[:20])"
   ]
  },
  {
   "cell_type": "code",
   "execution_count": 120,
   "metadata": {
    "hidden": true
   },
   "outputs": [
    {
     "name": "stdout",
     "output_type": "stream",
     "text": [
      "[['rt', 'sahelienfield', 'bbc', 'news', 'uk', 'lockdown', 'call', 'domestic', 'abuse', 'helpline', 'jump', 'half', 'home', 'always', 'safe', 'place', 'everyone', 'pls', 'help', 'always', 'you', 'domesticabuse', 'krishnajis'], ['rt', 'ckneer', 'ever', 'reminding', 'child', 'victim', 'witness', 'domesticabuse', 'moving', 'input', 'mark', 'fletcher', 'mp', 'brings', 'home', 'powerfully', 'dabill']]\n"
     ]
    }
   ],
   "source": [
    "def sent_to_words(sentences):\n",
    "    for sentence in sentences:\n",
    "        yield(gensim.utils.simple_preprocess(str(sentence), deacc=True))  # deacc=True removes punctuations\n",
    "\n",
    "data_words_UK = list(sent_to_words(data_UK))\n",
    "\n",
    "print(data_words_UK[:2])"
   ]
  },
  {
   "cell_type": "code",
   "execution_count": 121,
   "metadata": {
    "hidden": true
   },
   "outputs": [
    {
     "name": "stdout",
     "output_type": "stream",
     "text": [
      "['rt', 'gazettenewsdesk', 'victim', 'abuse', 'received', 'help', 'police', 'campaign', 'lockdown']\n"
     ]
    }
   ],
   "source": [
    "\n",
    "# Build the bigram and trigram models\n",
    "bigram = gensim.models.Phrases(data_words_UK, min_count=2, threshold=5) # higher threshold fewer phrases.\n",
    "trigram = gensim.models.Phrases(bigram[data_words_UK], threshold=3)  \n",
    "\n",
    "# Faster way to get a sentence clubbed as a trigram/bigram\n",
    "bigram_mod = gensim.models.phrases.Phraser(bigram)\n",
    "trigram_mod = gensim.models.phrases.Phraser(trigram)\n",
    "\n",
    "# See trigram example\n",
    "print(trigram_mod[bigram_mod[data_words_UK[10]]])"
   ]
  },
  {
   "cell_type": "code",
   "execution_count": 122,
   "metadata": {
    "hidden": true
   },
   "outputs": [],
   "source": [
    "def remove_stopwords(texts):\n",
    "    return [[word for word in simple_preprocess(str(doc)) if word not in stw] for doc in texts]\n",
    "\n",
    "def make_bigrams(texts):\n",
    "    return [bigram_mod[doc] for doc in texts]\n",
    "\n",
    "def make_trigrams(texts):\n",
    "    return [trigram_mod[bigram_mod[doc]] for doc in texts]\n",
    "\n",
    "def lemmatization(texts, allowed_postags=['NOUN']):\n",
    "    \"\"\"https://spacy.io/api/annotation\"\"\"\n",
    "    texts_out = []\n",
    "    for sent in texts:\n",
    "        doc = nlp(\" \".join(sent)) \n",
    "        texts_out.append([token.lemma_ for token in doc if token.pos_ in allowed_postags])\n",
    "    return texts_out"
   ]
  },
  {
   "cell_type": "code",
   "execution_count": 123,
   "metadata": {
    "hidden": true
   },
   "outputs": [
    {
     "name": "stdout",
     "output_type": "stream",
     "text": [
      "[['call', 'half', 'home'], ['domesticabuse']]\n"
     ]
    }
   ],
   "source": [
    "#Remove Stop Words\n",
    "data_words_nostops = remove_stopwords(data_words_UK)\n",
    "\n",
    "# Form Bigrams\n",
    "data_words_bigrams = make_bigrams(data_words_nostops)\n",
    "\n",
    "# Initialize spacy 'en' model, keeping only tagger component (for efficiency)\n",
    "# python3 -m spacy download en\n",
    "nlp = spacy.load('en', disable=['parser', 'ner'])\n",
    "\n",
    "# Do lemmatization keeping only noun, adj, vb, adv\n",
    "data_lemmatized = lemmatization(data_words_bigrams)\n",
    "\n",
    "print(data_lemmatized[:2])"
   ]
  },
  {
   "cell_type": "code",
   "execution_count": 124,
   "metadata": {
    "hidden": true
   },
   "outputs": [
    {
     "name": "stdout",
     "output_type": "stream",
     "text": [
      "[[(0, 1), (1, 1), (2, 1)], [(3, 1)], [(3, 2), (4, 1), (5, 1)], [(6, 1)], [], [(3, 1), (7, 1), (8, 1), (9, 1), (10, 1), (11, 1)], [(10, 1)], [(12, 1)], [(3, 2), (4, 1), (5, 1)], [(3, 1), (13, 1), (14, 1), (15, 1)]]\n"
     ]
    }
   ],
   "source": [
    "# Create Dictionary\n",
    "id2word = corpora.Dictionary(data_lemmatized)\n",
    "#print('Number of unique words in initital documents:', len(dictionary))\n",
    "\n",
    "# Create Corpus\n",
    "texts = data_lemmatized\n",
    "\n",
    "# Term Document Frequency\n",
    "corpus = [id2word.doc2bow(text) for text in texts]\n",
    "\n",
    "# View\n",
    "print(corpus[:10])"
   ]
  },
  {
   "cell_type": "code",
   "execution_count": 125,
   "metadata": {
    "hidden": true
   },
   "outputs": [
    {
     "data": {
      "text/plain": [
       "[[('call', 1), ('half', 1), ('home', 1)],\n",
       " [('domesticabuse', 1)],\n",
       " [('domesticabuse', 2), ('term', 1), ('victim', 1)],\n",
       " [('today', 1)],\n",
       " [],\n",
       " [('domesticabuse', 1),\n",
       "  ('cjs', 1),\n",
       "  ('coordinator', 1),\n",
       "  ('morning', 1),\n",
       "  ('perpetrator', 1),\n",
       "  ('thank', 1)],\n",
       " [('perpetrator', 1)],\n",
       " [('help', 1)],\n",
       " [('domesticabuse', 2), ('term', 1), ('victim', 1)],\n",
       " [('domesticabuse', 1), ('funding', 1), ('survivor', 1), ('vawg_service', 1)]]"
      ]
     },
     "execution_count": 125,
     "metadata": {},
     "output_type": "execute_result"
    }
   ],
   "source": [
    "[[(id2word[id], freq) for id, freq in cp] for cp in corpus[:10]]"
   ]
  },
  {
   "cell_type": "code",
   "execution_count": 126,
   "metadata": {
    "hidden": true
   },
   "outputs": [],
   "source": [
    "lda_model_UK = gensim.models.ldamodel.LdaModel(corpus=corpus,\n",
    "                                           id2word=id2word,\n",
    "                                           num_topics=8, \n",
    "                                           random_state=100,\n",
    "                                           update_every=1,\n",
    "                                           chunksize=100,\n",
    "                                           passes=10,\n",
    "                                           alpha='auto',\n",
    "                                           per_word_topics=True)"
   ]
  },
  {
   "cell_type": "code",
   "execution_count": 127,
   "metadata": {
    "hidden": true
   },
   "outputs": [
    {
     "name": "stdout",
     "output_type": "stream",
     "text": [
      "[(0,\n",
      "  '0.070*\"job\" + 0.068*\"service\" + 0.061*\"danger\" + 0.027*\"sector\" + '\n",
      "  '0.027*\"reflection\" + 0.025*\"friend\" + 0.024*\"apply_police\" + 0.023*\"chance\" '\n",
      "  '+ 0.022*\"find_support\" + 0.021*\"mind\"'),\n",
      " (1,\n",
      "  '0.298*\"woman\" + 0.056*\"man\" + 0.025*\"year\" + 0.025*\"response\" + '\n",
      "  '0.017*\"share\" + 0.017*\"call\" + 0.017*\"story\" + 0.012*\"iwd\" + '\n",
      "  '0.011*\"withher\" + 0.011*\"thank\"'),\n",
      " (2,\n",
      "  '0.070*\"unwoman\" + 0.066*\"home\" + 0.065*\"girl\" + 0.052*\"people\" + '\n",
      "  '0.043*\"way\" + 0.038*\"world\" + 0.023*\"child\" + 0.020*\"change\" + '\n",
      "  '0.018*\"family\" + 0.018*\"love\"'),\n",
      " (3,\n",
      "  '0.196*\"support\" + 0.081*\"domestic_abuse\" + 0.060*\"call_immediate\" + '\n",
      "  '0.051*\"response_support\" + 0.031*\"lockdown\" + 0.020*\"covid_pandemic\" + '\n",
      "  '0.018*\"crisis\" + 0.017*\"inequality\" + 0.017*\"life\" + 0.015*\"smday\"'),\n",
      " (4,\n",
      "  '0.051*\"justice\" + 0.050*\"equality\" + 0.047*\"find\" + 0.045*\"country\" + '\n",
      "  '0.043*\"survivor\" + 0.038*\"level_power\" + 0.038*\"especially_top\" + '\n",
      "  '0.038*\"still_across\" + 0.034*\"action\" + 0.022*\"issue\"'),\n",
      " (5,\n",
      "  '0.194*\"help\" + 0.080*\"community\" + 0.038*\"challenge\" + 0.028*\"campaign\" + '\n",
      "  '0.027*\"government\" + 0.025*\"pandemic\" + 0.024*\"recourse\" + 0.018*\"other\" + '\n",
      "  '0.017*\"lockdown_commander\" + 0.016*\"nowhere_stay\"'),\n",
      " (6,\n",
      "  '0.191*\"work\" + 0.071*\"support_service\" + 0.045*\"remain_available\" + '\n",
      "  '0.041*\"day\" + 0.039*\"emergency\" + 0.037*\"helpline\" + 0.021*\"area\" + '\n",
      "  '0.018*\"apply\" + 0.015*\"order\" + 0.015*\"refuge\"'),\n",
      " (7,\n",
      "  '0.154*\"domesticabuse\" + 0.072*\"time\" + 0.057*\"violence\" + 0.051*\"victim\" + '\n",
      "  '0.042*\"abuse\" + 0.028*\"police\" + 0.022*\"today\" + 0.022*\"gender_equality\" + '\n",
      "  '0.021*\"report\" + 0.019*\"team\"')]\n"
     ]
    }
   ],
   "source": [
    "pprint(lda_model_UK.print_topics())\n",
    "doc_lda = lda_model_UK[corpus]"
   ]
  },
  {
   "cell_type": "code",
   "execution_count": 128,
   "metadata": {
    "hidden": true
   },
   "outputs": [],
   "source": [
    "ldatopics = lda_model_UK.show_topics(formatted=False)"
   ]
  },
  {
   "cell_type": "code",
   "execution_count": 129,
   "metadata": {
    "hidden": true
   },
   "outputs": [
    {
     "name": "stdout",
     "output_type": "stream",
     "text": [
      "\n",
      "Perplexity:  -7.497766703319882\n",
      "\n",
      "Coherence Score:  0.4842116318419627\n"
     ]
    }
   ],
   "source": [
    "# Compute Perplexity\n",
    "print('\\nPerplexity: ', lda_model_UK.log_perplexity(corpus))  # a measure of how good the model is. lower the better.\n",
    "\n",
    "# Compute Coherence Score\n",
    "coherence_model_lda_UK = CoherenceModel(model=lda_model_UK, texts=data_lemmatized, dictionary=id2word, coherence='c_v')\n",
    "coherence_lda = coherence_model_lda_UK.get_coherence()\n",
    "print('\\nCoherence Score: ', coherence_lda)"
   ]
  },
  {
   "cell_type": "markdown",
   "metadata": {
    "heading_collapsed": true
   },
   "source": [
    "# Interpretation of the 8 topics:"
   ]
  },
  {
   "cell_type": "markdown",
   "metadata": {
    "hidden": true
   },
   "source": [
    "UK topic are not only about organizations, but the topics revolve around mainly domestic abuse, trying to aid women, in the second topic inviting women to call immediately during COVID. \n",
    "\n",
    "There movements present are: gender_equality,genderbased_violence and metoo,womencount we also identify organizations: UN Women, Women in sport and globalspotlight_scaling.\n",
    "\n",
    "1:#gender_equality: sponsored by women in sport, inviting to stop violence and abuse . \n",
    "2. Covid help: Aiding women to call during the actual crisis and trying to aid women. \n",
    "3. International Women Day and with her movement. \n",
    "4. All about organization´s hashtags: prevention centers, facts and promoting prevention and aid: Organizations: Unwoman and globalspotlight.\n",
    "5, 6, and 8. Aid during COVID promoting a helpline and communicating that support service remains availiable. \n",
    "7. RT of UNWoman  promoting justice, equality and action. "
   ]
  },
  {
   "cell_type": "code",
   "execution_count": 130,
   "metadata": {
    "hidden": true
   },
   "outputs": [
    {
     "data": {
      "text/html": [
       "\n",
       "<link rel=\"stylesheet\" type=\"text/css\" href=\"https://cdn.rawgit.com/bmabey/pyLDAvis/files/ldavis.v1.0.0.css\">\n",
       "\n",
       "\n",
       "<div id=\"ldavis_el6581123011428089532392559\"></div>\n",
       "<script type=\"text/javascript\">\n",
       "\n",
       "var ldavis_el6581123011428089532392559_data = {\"mdsDat\": {\"x\": [-0.28096590460141657, -0.11851064549719757, -0.13776078376588233, -0.02625567034015017, 0.14022658240656324, 0.12039405475643422, 0.16677395780816132, 0.13609840923348798], \"y\": [-0.1679608085146566, -0.152777538492276, 0.30552962393993577, 0.16718852165680406, -0.07348935235922517, -0.05952542684798028, 0.04027309082441962, -0.05923811020702131], \"topics\": [1, 2, 3, 4, 5, 6, 7, 8], \"cluster\": [1, 1, 1, 1, 1, 1, 1, 1], \"Freq\": [28.840097427368164, 16.826129913330078, 15.512450218200684, 11.91910171508789, 7.914524555206299, 7.287525177001953, 6.486392021179199, 5.213785171508789]}, \"tinfo\": {\"Term\": [\"woman\", \"support\", \"domesticabuse\", \"help\", \"work\", \"time\", \"domestic_abuse\", \"violence\", \"victim\", \"call_immediate\", \"unwoman\", \"home\", \"girl\", \"community\", \"man\", \"response_support\", \"abuse\", \"support_service\", \"people\", \"way\", \"job\", \"service\", \"police\", \"world\", \"danger\", \"lockdown\", \"justice\", \"equality\", \"remain_available\", \"find\", \"domesticabuse\", \"time\", \"violence\", \"victim\", \"abuse\", \"police\", \"today\", \"report\", \"team\", \"gender\", \"genderbased_violence\", \"risk\", \"metoo\", \"end\", \"future\", \"advice\", \"partner\", \"part\", \"effort\", \"play\", \"detail\", \"book\", \"respect\", \"money\", \"behaviour\", \"question\", \"information\", \"mother\", \"emergency_order\", \"initiative\", \"movement\", \"calling_man\", \"gender_equality\", \"womeninsport\", \"smday\", \"withher\", \"womencount\", \"support\", \"domestic_abuse\", \"call_immediate\", \"response_support\", \"lockdown\", \"covid_pandemic\", \"crisis\", \"inequality\", \"life\", \"society\", \"increase\", \"join\", \"generation\", \"group\", \"staff\", \"safety\", \"age\", \"council\", \"resource\", \"discussion\", \"rate\", \"sexual_violence\", \"fact\", \"watch\", \"mentalhealth\", \"heart\", \"endviolence\", \"virus\", \"line\", \"visit\", \"happywomensday_iwd\", \"lift\", \"industry\", \"bystander\", \"imagined_one\", \"join_tour\", \"equality_none\", \"smday\", \"sexism\", \"woman\", \"man\", \"year\", \"response\", \"share\", \"call\", \"story\", \"thank\", \"access\", \"daughter\", \"week\", \"video\", \"leader\", \"cause\", \"experience\", \"rape\", \"workplace\", \"event\", \"abuser\", \"isolation\", \"law\", \"number\", \"datum\", \"hope\", \"excuse\", \"sister\", \"article\", \"situation\", \"message\", \"strength\", \"right_activist\", \"leadership\", \"iwd\", \"community_via\", \"fao\", \"withher\", \"globalspotlight\", \"unwoman\", \"home\", \"girl\", \"people\", \"way\", \"world\", \"child\", \"change\", \"family\", \"love\", \"impact\", \"voice\", \"opportunity\", \"education\", \"thing\", \"school\", \"place\", \"reality\", \"protection\", \"boy\", \"shame\", \"project\", \"post\", \"month\", \"decision\", \"reason\", \"protect\", \"sex\", \"abusive_relationship\", \"moment\", \"globalspotlight_scaling\", \"prevention_service\", \"billion_people\", \"mean_safety\", \"music\", \"genderequality\", \"help\", \"community\", \"challenge\", \"campaign\", \"government\", \"pandemic\", \"other\", \"lockdown_commander\", \"model\", \"nationally_since\", \"colleague\", \"minority\", \"lack\", \"organisation\", \"partnership\", \"suffering_domesticabuse\", \"threat\", \"passed_law\", \"employee\", \"measure\", \"covid\", \"worldsailing_committing\", \"wsailingtrust\", \"declaration_thank\", \"rise\", \"emergency_alway\", \"court\", \"courage\", \"surge_information\", \"guidance\", \"recourse\", \"proof\", \"housing_encouraged\", \"nowhere_stay\", \"water\", \"limit\", \"talent\", \"work\", \"support_service\", \"remain_available\", \"day\", \"emergency\", \"helpline\", \"area\", \"apply\", \"order\", \"refuge\", \"wife\", \"point\", \"westmidsvru_wmpolice\", \"house\", \"wmpolice\", \"contact\", \"launch\", \"police_response\", \"night\", \"live_chat\", \"would_like\", \"business\", \"bcwomensaid_westmidspcc\", \"room\", \"still_available\", \"link_list\", \"support_unsettling\", \"feel_alone\", \"infouavaorguk_call\", \"deal\", \"caring_other\", \"watch_listen\", \"appeal_hours\", \"got_friend\", \"scale_inspiration\", \"justice\", \"equality\", \"find\", \"country\", \"survivor\", \"action\", \"issue\", \"especially_top\", \"still_across\", \"level_power\", \"power\", \"perpetrator\", \"talk\", \"right\", \"role\", \"case\", \"step\", \"hashtag\", \"health\", \"housing\", \"importance\", \"word\", \"relationship\", \"form\", \"child_move\", \"survey\", \"war\", \"address\", \"programme\", \"space\", \"rt_unwoman\", \"career\", \"gbv\", \"politic\", \"race\", \"thank_angeliquekidjo\", \"deserve_excuse\", \"iwd\", \"ipuparliament\", \"job\", \"service\", \"danger\", \"sector\", \"reflection\", \"friend\", \"apply_police\", \"chance\", \"find_support\", \"mind\", \"evening\", \"support_victimsurvivor\", \"charityjobs\", \"door\", \"side\", \"matter\", \"statement\", \"pm\", \"case_involving\", \"link\", \"sexualviolence\", \"list\", \"touch\", \"solicitors_advice\", \"frontline\", \"answer\", \"development\", \"ability_ethnicity\", \"concern\", \"aid\", \"promote\", \"sport\", \"football\", \"immigration\", \"leymahrgbowee\"], \"Freq\": [3258.0, 2326.0, 3123.0, 1082.0, 983.0, 1471.0, 963.0, 1154.0, 1032.0, 707.0, 587.0, 553.0, 548.0, 449.0, 608.0, 604.0, 848.0, 364.0, 437.0, 366.0, 258.0, 250.0, 571.0, 318.0, 223.0, 366.0, 233.0, 230.0, 233.0, 214.0, 3122.77880859375, 1470.42138671875, 1153.043701171875, 1031.432861328125, 847.3917846679688, 570.764404296875, 447.0243225097656, 430.5546875, 394.9378967285156, 376.0760803222656, 308.4169006347656, 271.44378662109375, 282.4073791503906, 238.9147186279297, 229.40733337402344, 213.84054565429688, 203.40093994140625, 200.8087921142578, 130.01260375976562, 120.26273345947266, 104.4739761352539, 102.3682632446289, 94.0361328125, 89.2256088256836, 88.92656707763672, 88.84650421142578, 80.41698455810547, 78.52088928222656, 86.80863189697266, 73.44730377197266, 144.1830291748047, 206.2712860107422, 444.1802062988281, 206.224365234375, 337.8905029296875, 235.87928771972656, 109.98306274414062, 2325.342529296875, 962.6288452148438, 706.826904296875, 603.6864013671875, 365.2535400390625, 235.31658935546875, 208.13662719726562, 203.1601104736328, 198.97329711914062, 163.31903076171875, 159.3486785888672, 159.4544219970703, 166.3865203857422, 145.20179748535156, 129.4066619873047, 99.4657211303711, 98.65997314453125, 113.26686096191406, 96.08744049072266, 89.99883270263672, 61.60968780517578, 60.54336166381836, 71.45228576660156, 54.23591232299805, 52.22096252441406, 47.003456115722656, 51.372161865234375, 45.797630310058594, 44.085594177246094, 40.912357330322266, 58.80400085449219, 69.90657806396484, 81.23878479003906, 56.864715576171875, 90.28540802001953, 90.28540802001953, 90.28540802001953, 181.7218017578125, 64.3248291015625, 3257.71728515625, 607.1050415039062, 273.06414794921875, 270.02001953125, 191.03089904785156, 184.9535369873047, 183.41314697265625, 122.27194213867188, 96.3414306640625, 91.64635467529297, 89.40030670166016, 89.00428771972656, 87.77181243896484, 79.36548614501953, 71.77063751220703, 69.26345825195312, 63.99522018432617, 60.8065185546875, 60.34217071533203, 57.65180206298828, 53.03999710083008, 52.60625457763672, 52.205936431884766, 50.90520477294922, 48.9226188659668, 47.42145919799805, 46.54446792602539, 46.42597579956055, 44.902305603027344, 41.750736236572266, 62.90895462036133, 84.32208251953125, 134.040283203125, 54.16383361816406, 54.16383361816406, 123.84239959716797, 54.53587341308594, 586.1566162109375, 552.590087890625, 546.92626953125, 436.72021484375, 364.9373474121094, 317.28350830078125, 194.97535705566406, 165.7161407470703, 150.88404846191406, 149.65428161621094, 141.51638793945312, 118.87960052490234, 104.25017547607422, 106.596435546875, 81.86084747314453, 72.7798080444336, 71.11783599853516, 66.75633239746094, 64.4555435180664, 59.75221252441406, 60.546024322509766, 58.647525787353516, 51.43569564819336, 48.858062744140625, 49.40562057495117, 47.6773796081543, 45.14000701904297, 43.75908660888672, 43.2503547668457, 42.222434997558594, 97.05662536621094, 97.05662536621094, 97.05662536621094, 97.05662536621094, 55.91160583496094, 61.26498794555664, 1081.1328125, 448.4914855957031, 211.41903686523438, 157.9420928955078, 149.79373168945312, 139.97352600097656, 100.76041412353516, 97.451416015625, 69.0825424194336, 62.97464370727539, 59.257320404052734, 59.45140075683594, 55.385826110839844, 50.97734451293945, 46.033363342285156, 42.298683166503906, 37.21379470825195, 36.86756134033203, 33.93492889404297, 32.66648864746094, 30.39957618713379, 51.00493240356445, 51.00493240356445, 51.00493240356445, 26.749975204467773, 25.712648391723633, 24.401823043823242, 23.07634925842285, 23.148195266723633, 19.822303771972656, 134.94989013671875, 89.52333068847656, 89.52333068847656, 89.52333068847656, 46.96409225463867, 33.342857360839844, 34.28630447387695, 982.4285888671875, 363.2232666015625, 232.27685546875, 212.9186553955078, 198.4995574951172, 187.88296508789062, 105.55500030517578, 94.74347686767578, 79.51890563964844, 76.24183654785156, 72.58592987060547, 65.41609954833984, 63.22395324707031, 63.63997268676758, 48.25627136230469, 47.264976501464844, 46.36040115356445, 43.35184097290039, 42.810150146484375, 42.42918014526367, 39.800758361816406, 36.362274169921875, 33.1153678894043, 22.87906837463379, 21.307147979736328, 21.307147979736328, 21.748491287231445, 21.748491287231445, 21.748491287231445, 20.62595558166504, 66.35614776611328, 27.021564483642578, 24.246543884277344, 24.246543884277344, 24.45614242553711, 231.87374877929688, 229.80810546875, 213.56427001953125, 205.11257934570312, 195.10414123535156, 156.70623779296875, 102.20671844482422, 173.46295166015625, 173.46295166015625, 173.46295166015625, 91.24766540527344, 86.47732543945312, 70.76520538330078, 61.827640533447266, 61.92585372924805, 53.098480224609375, 43.21868133544922, 42.45454406738281, 38.15234375, 36.41694259643555, 35.32966232299805, 35.07817077636719, 32.299991607666016, 30.776884078979492, 30.614776611328125, 26.629302978515625, 25.59214210510254, 24.06900405883789, 23.522274017333984, 21.869403839111328, 63.89071273803711, 48.78120803833008, 38.82498550415039, 27.444400787353516, 37.4846305847168, 36.60995864868164, 36.60995864868164, 64.96002197265625, 35.496646881103516, 257.63287353515625, 249.85292053222656, 222.42295837402344, 100.983154296875, 99.407958984375, 90.64096069335938, 86.39190673828125, 85.88773345947266, 80.66033935546875, 77.48886108398438, 74.20591735839844, 64.82533264160156, 64.6534652709961, 61.379371643066406, 47.8748779296875, 44.2456169128418, 40.39268493652344, 31.736906051635742, 31.562780380249023, 29.095779418945312, 28.38631248474121, 27.815675735473633, 27.376543045043945, 25.243953704833984, 24.617094039916992, 23.386032104492188, 67.64329528808594, 21.870676040649414, 21.24039077758789, 21.237916946411133, 41.06393051147461, 40.05208206176758, 31.02940559387207, 34.86475372314453, 28.14543342590332], \"Total\": [3258.0, 2326.0, 3123.0, 1082.0, 983.0, 1471.0, 963.0, 1154.0, 1032.0, 707.0, 587.0, 553.0, 548.0, 449.0, 608.0, 604.0, 848.0, 364.0, 437.0, 366.0, 258.0, 250.0, 571.0, 318.0, 223.0, 366.0, 233.0, 230.0, 233.0, 214.0, 3123.801025390625, 1471.44482421875, 1154.066650390625, 1032.4554443359375, 848.4146118164062, 571.7875366210938, 448.047607421875, 431.57763671875, 395.9617004394531, 377.0999755859375, 309.51715087890625, 272.4665832519531, 283.477783203125, 239.93797302246094, 230.4462127685547, 214.86331176757812, 204.4238739013672, 201.83233642578125, 131.03805541992188, 121.29822540283203, 105.4967041015625, 103.39181518554688, 95.06007385253906, 90.25032043457031, 89.94892120361328, 89.87042236328125, 81.43952941894531, 79.54547119140625, 87.9517822265625, 74.47017669677734, 146.3570556640625, 210.59048461914062, 490.7130126953125, 240.35260009765625, 528.1150512695312, 369.5010681152344, 141.57669067382812, 2326.347900390625, 963.63427734375, 707.8321533203125, 604.6915283203125, 366.2588195800781, 236.32298278808594, 209.1425018310547, 204.16690063476562, 199.97909545898438, 164.32574462890625, 160.3541717529297, 160.4608612060547, 167.5174560546875, 146.20884704589844, 130.41444396972656, 100.47174072265625, 99.66643524169922, 114.42562866210938, 97.09320068359375, 91.00796508789062, 62.61626434326172, 61.550594329833984, 72.71588897705078, 55.2420768737793, 53.2261848449707, 48.00963592529297, 52.47552490234375, 46.80379867553711, 45.093074798583984, 41.9181022644043, 60.34309005737305, 72.784423828125, 87.54217529296875, 60.12405776977539, 111.99452209472656, 111.99452209472656, 111.99452209472656, 528.1150512695312, 82.3116226196289, 3258.84765625, 608.2356567382812, 274.19549560546875, 271.14996337890625, 192.16110229492188, 186.083251953125, 184.54412841796875, 123.40210723876953, 97.4717788696289, 92.77816009521484, 90.53033447265625, 90.13511657714844, 88.90902709960938, 80.4959487915039, 72.90106964111328, 70.39614868164062, 65.15032958984375, 61.94398498535156, 61.47468185424805, 58.7816276550293, 54.173789978027344, 53.73624038696289, 53.337318420410156, 52.036094665527344, 50.05695724487305, 48.55506896972656, 47.67498779296875, 47.55712890625, 46.03211212158203, 42.88231658935547, 64.70639038085938, 89.01945495605469, 205.58050537109375, 59.24177169799805, 59.24177169799805, 369.5010681152344, 67.24162292480469, 587.2916259765625, 553.7232055664062, 548.0606689453125, 437.85418701171875, 366.0716857910156, 318.4183044433594, 196.10873413085938, 166.8505401611328, 152.017333984375, 150.78970336914062, 142.650146484375, 120.0135726928711, 105.38536834716797, 107.90044403076172, 82.99504852294922, 73.91329193115234, 72.25161743164062, 67.89256286621094, 65.58892059326172, 60.88761901855469, 61.71232223510742, 59.782169342041016, 52.56975555419922, 49.993839263916016, 50.557472229003906, 48.81253433227539, 46.278812408447266, 44.89579391479492, 44.386959075927734, 43.3574104309082, 105.65825653076172, 105.65825653076172, 105.65825653076172, 105.65825653076172, 58.94411849975586, 80.24868774414062, 1082.19873046875, 449.5579833984375, 212.48561096191406, 159.00833129882812, 150.85992431640625, 141.03927612304688, 101.82669067382812, 98.52218627929688, 70.15640258789062, 64.04625701904297, 60.32418441772461, 60.530826568603516, 56.45930862426758, 52.043209075927734, 47.15913391113281, 43.364341735839844, 38.28280258178711, 37.9887809753418, 35.01033401489258, 33.732669830322266, 31.465726852416992, 52.887062072753906, 52.887062072753906, 52.887062072753906, 27.815715789794922, 26.77828598022461, 25.468692779541016, 24.143787384033203, 24.32636070251465, 20.88833236694336, 143.00747680664062, 96.5339584350586, 96.5339584350586, 96.5339584350586, 50.134178161621094, 35.59174346923828, 41.495635986328125, 983.4453735351562, 364.23907470703125, 233.29273986816406, 213.9351806640625, 199.51556396484375, 188.89895629882812, 106.57162475585938, 95.75924682617188, 80.54086303710938, 77.2577896118164, 73.60316467285156, 66.43267822265625, 64.23987579345703, 64.83100128173828, 49.272056579589844, 48.28085708618164, 47.377559661865234, 44.3675651550293, 43.83045959472656, 43.44529724121094, 40.82070541381836, 37.381778717041016, 34.13823699951172, 23.895620346069336, 22.322866439819336, 22.322866439819336, 22.789167404174805, 22.789167404174805, 22.789167404174805, 21.646385192871094, 71.00119018554688, 28.471824645996094, 25.686359405517578, 25.686359405517578, 26.311784744262695, 233.02871704101562, 230.96420288085938, 214.71055603027344, 206.2598876953125, 196.25035095214844, 157.8529510498047, 103.35416412353516, 175.6048583984375, 175.6048583984375, 175.6048583984375, 92.39542388916016, 87.623046875, 71.91204071044922, 62.97468566894531, 63.075462341308594, 54.24555206298828, 44.365318298339844, 43.68571472167969, 39.29912567138672, 37.57215118408203, 36.479248046875, 36.225120544433594, 33.44630813598633, 31.923704147338867, 31.880733489990234, 27.788192749023438, 26.806907653808594, 25.217010498046875, 24.67141342163086, 23.015975952148438, 67.38460540771484, 51.73241424560547, 42.39927673339844, 29.08643341064453, 42.91627502441406, 53.56786346435547, 53.56786346435547, 205.58050537109375, 74.92407989501953, 258.7134094238281, 250.93092346191406, 223.50099182128906, 102.06144714355469, 100.49490356445312, 91.7196044921875, 87.46980285644531, 86.96765899658203, 81.73848724365234, 78.57090759277344, 75.30149841308594, 65.90337371826172, 65.73139953613281, 62.461524963378906, 48.95545196533203, 45.33208465576172, 41.471099853515625, 32.81647872924805, 32.64097595214844, 30.174171447753906, 29.46426773071289, 28.894689559936523, 28.456174850463867, 26.321813583374023, 25.696041107177734, 24.47625160217285, 70.89228057861328, 22.975101470947266, 22.3187313079834, 22.316431045532227, 45.3441276550293, 47.94422912597656, 36.02798080444336, 46.59213638305664, 40.28197479248047], \"Category\": [\"Default\", \"Default\", \"Default\", \"Default\", \"Default\", \"Default\", \"Default\", \"Default\", \"Default\", \"Default\", \"Default\", \"Default\", \"Default\", \"Default\", \"Default\", \"Default\", \"Default\", \"Default\", \"Default\", \"Default\", \"Default\", \"Default\", \"Default\", \"Default\", \"Default\", \"Default\", \"Default\", \"Default\", \"Default\", \"Default\", \"Topic1\", \"Topic1\", \"Topic1\", \"Topic1\", \"Topic1\", \"Topic1\", \"Topic1\", \"Topic1\", \"Topic1\", \"Topic1\", \"Topic1\", \"Topic1\", \"Topic1\", \"Topic1\", \"Topic1\", \"Topic1\", \"Topic1\", \"Topic1\", \"Topic1\", \"Topic1\", \"Topic1\", \"Topic1\", \"Topic1\", \"Topic1\", \"Topic1\", \"Topic1\", \"Topic1\", \"Topic1\", \"Topic1\", \"Topic1\", \"Topic1\", \"Topic1\", \"Topic1\", \"Topic1\", \"Topic1\", \"Topic1\", \"Topic1\", \"Topic2\", \"Topic2\", \"Topic2\", \"Topic2\", \"Topic2\", \"Topic2\", \"Topic2\", \"Topic2\", \"Topic2\", \"Topic2\", \"Topic2\", \"Topic2\", \"Topic2\", \"Topic2\", \"Topic2\", \"Topic2\", \"Topic2\", \"Topic2\", \"Topic2\", \"Topic2\", \"Topic2\", \"Topic2\", \"Topic2\", \"Topic2\", \"Topic2\", \"Topic2\", \"Topic2\", \"Topic2\", \"Topic2\", \"Topic2\", \"Topic2\", \"Topic2\", \"Topic2\", \"Topic2\", \"Topic2\", \"Topic2\", \"Topic2\", \"Topic2\", \"Topic2\", \"Topic3\", \"Topic3\", \"Topic3\", \"Topic3\", \"Topic3\", \"Topic3\", \"Topic3\", \"Topic3\", \"Topic3\", \"Topic3\", \"Topic3\", \"Topic3\", \"Topic3\", \"Topic3\", \"Topic3\", \"Topic3\", \"Topic3\", \"Topic3\", \"Topic3\", \"Topic3\", \"Topic3\", \"Topic3\", \"Topic3\", \"Topic3\", \"Topic3\", \"Topic3\", \"Topic3\", \"Topic3\", \"Topic3\", \"Topic3\", \"Topic3\", \"Topic3\", \"Topic3\", \"Topic3\", \"Topic3\", \"Topic3\", \"Topic3\", \"Topic4\", \"Topic4\", \"Topic4\", \"Topic4\", \"Topic4\", \"Topic4\", \"Topic4\", \"Topic4\", \"Topic4\", \"Topic4\", \"Topic4\", \"Topic4\", \"Topic4\", \"Topic4\", \"Topic4\", \"Topic4\", \"Topic4\", \"Topic4\", \"Topic4\", \"Topic4\", \"Topic4\", \"Topic4\", \"Topic4\", \"Topic4\", \"Topic4\", \"Topic4\", \"Topic4\", \"Topic4\", \"Topic4\", \"Topic4\", \"Topic4\", \"Topic4\", \"Topic4\", \"Topic4\", \"Topic4\", \"Topic4\", \"Topic5\", \"Topic5\", \"Topic5\", \"Topic5\", \"Topic5\", \"Topic5\", \"Topic5\", \"Topic5\", \"Topic5\", \"Topic5\", \"Topic5\", \"Topic5\", \"Topic5\", \"Topic5\", \"Topic5\", \"Topic5\", \"Topic5\", \"Topic5\", \"Topic5\", \"Topic5\", \"Topic5\", \"Topic5\", \"Topic5\", \"Topic5\", \"Topic5\", \"Topic5\", \"Topic5\", \"Topic5\", \"Topic5\", \"Topic5\", \"Topic5\", \"Topic5\", \"Topic5\", \"Topic5\", \"Topic5\", \"Topic5\", \"Topic5\", \"Topic6\", \"Topic6\", \"Topic6\", \"Topic6\", \"Topic6\", \"Topic6\", \"Topic6\", \"Topic6\", \"Topic6\", \"Topic6\", \"Topic6\", \"Topic6\", \"Topic6\", \"Topic6\", \"Topic6\", \"Topic6\", \"Topic6\", \"Topic6\", \"Topic6\", \"Topic6\", \"Topic6\", \"Topic6\", \"Topic6\", \"Topic6\", \"Topic6\", \"Topic6\", \"Topic6\", \"Topic6\", \"Topic6\", \"Topic6\", \"Topic6\", \"Topic6\", \"Topic6\", \"Topic6\", \"Topic6\", \"Topic7\", \"Topic7\", \"Topic7\", \"Topic7\", \"Topic7\", \"Topic7\", \"Topic7\", \"Topic7\", \"Topic7\", \"Topic7\", \"Topic7\", \"Topic7\", \"Topic7\", \"Topic7\", \"Topic7\", \"Topic7\", \"Topic7\", \"Topic7\", \"Topic7\", \"Topic7\", \"Topic7\", \"Topic7\", \"Topic7\", \"Topic7\", \"Topic7\", \"Topic7\", \"Topic7\", \"Topic7\", \"Topic7\", \"Topic7\", \"Topic7\", \"Topic7\", \"Topic7\", \"Topic7\", \"Topic7\", \"Topic7\", \"Topic7\", \"Topic7\", \"Topic7\", \"Topic8\", \"Topic8\", \"Topic8\", \"Topic8\", \"Topic8\", \"Topic8\", \"Topic8\", \"Topic8\", \"Topic8\", \"Topic8\", \"Topic8\", \"Topic8\", \"Topic8\", \"Topic8\", \"Topic8\", \"Topic8\", \"Topic8\", \"Topic8\", \"Topic8\", \"Topic8\", \"Topic8\", \"Topic8\", \"Topic8\", \"Topic8\", \"Topic8\", \"Topic8\", \"Topic8\", \"Topic8\", \"Topic8\", \"Topic8\", \"Topic8\", \"Topic8\", \"Topic8\", \"Topic8\", \"Topic8\"], \"logprob\": [30.0, 29.0, 28.0, 27.0, 26.0, 25.0, 24.0, 23.0, 22.0, 21.0, 20.0, 19.0, 18.0, 17.0, 16.0, 15.0, 14.0, 13.0, 12.0, 11.0, 10.0, 9.0, 8.0, 7.0, 6.0, 5.0, 4.0, 3.0, 2.0, 1.0, -1.8733999729156494, -2.626499891281128, -2.8696999549865723, -2.981100082397461, -3.1777000427246094, -3.5729000568389893, -3.817199945449829, -3.85479998588562, -3.9410998821258545, -3.9900999069213867, -4.188399791717529, -4.316100120544434, -4.276500225067139, -4.443699836730957, -4.484300136566162, -4.554599761962891, -4.604700088500977, -4.617499828338623, -5.052199840545654, -5.130199909210205, -5.270899772644043, -5.291299819946289, -5.376200199127197, -5.428699970245361, -5.432000160217285, -5.4328999519348145, -5.532599925994873, -5.55649995803833, -5.456099987030029, -5.623300075531006, -4.948800086975098, -4.590700149536133, -3.8236000537872314, -4.59089994430542, -4.097099781036377, -4.456500053405762, -5.2195000648498535, -1.6294000148773193, -2.5113000869750977, -2.820199966430664, -2.9779999256134033, -3.4804000854492188, -3.920099973678589, -4.042799949645996, -4.066999912261963, -4.087800025939941, -4.285299777984619, -4.309899806976318, -4.309299945831299, -4.26669979095459, -4.402900218963623, -4.518099784851074, -4.781199932098389, -4.789299964904785, -4.651299953460693, -4.815800189971924, -4.881199836730957, -5.260200023651123, -5.277699947357178, -5.111999988555908, -5.387700080871582, -5.42549991607666, -5.530799865722656, -5.44189977645874, -5.55679988861084, -5.594900131225586, -5.669600009918213, -5.30679988861084, -5.133900165557861, -4.98360013961792, -5.3403000831604, -4.877999782562256, -4.877999782562256, -4.877999782562256, -4.178500175476074, -5.217100143432617, -1.2108999490737915, -2.8910000324249268, -3.690000057220459, -3.701200008392334, -4.047299861907959, -4.079599857330322, -4.0879998207092285, -4.493500232696533, -4.731800079345703, -4.781799793243408, -4.806600093841553, -4.810999870300293, -4.824999809265137, -4.9257001876831055, -5.026199817657471, -5.061800003051758, -5.140900135040283, -5.191999912261963, -5.199699878692627, -5.245299816131592, -5.328700065612793, -5.336900234222412, -5.3445000648498535, -5.369800090789795, -5.4095001220703125, -5.4405999183654785, -5.4593000411987305, -5.461900234222412, -5.495200157165527, -5.567999839782715, -5.1579999923706055, -4.865099906921387, -4.401599884033203, -5.307700157165527, -5.307700157165527, -4.4807000160217285, -5.300899982452393, -2.662600040435791, -2.72160005569458, -2.7318999767303467, -2.956899881362915, -3.1364998817443848, -3.276400089263916, -3.7632999420166016, -3.9258999824523926, -4.019700050354004, -4.027900218963623, -4.083799839019775, -4.2581000328063965, -4.389400005340576, -4.367199897766113, -4.631199836730957, -4.748799800872803, -4.771900177001953, -4.83519983291626, -4.870200157165527, -4.946000099182129, -4.932799816131592, -4.964700222015381, -5.095900058746338, -5.147299766540527, -5.136199951171875, -5.171800136566162, -5.226500034332275, -5.257500171661377, -5.269199848175049, -5.293300151824951, -4.460899829864502, -4.460899829864502, -4.460899829864502, -4.460899829864502, -5.012400150299072, -4.921000003814697, -1.6410000324249268, -2.520900011062622, -3.272900104522705, -3.564500093460083, -3.617500066757202, -3.68530011177063, -4.013999938964844, -4.047399997711182, -4.391499996185303, -4.484000205993652, -4.544899940490723, -4.541600227355957, -4.612500190734863, -4.695400238037109, -4.797399997711182, -4.881999969482422, -5.0100998878479, -5.019400119781494, -5.10230016708374, -5.140399932861328, -5.212299823760986, -4.694900035858154, -4.694900035858154, -4.694900035858154, -5.340199947357178, -5.379799842834473, -5.43209981918335, -5.48799991607666, -5.484899997711182, -5.639999866485596, -3.72189998626709, -4.132299900054932, -4.132299900054932, -4.132299900054932, -4.777400016784668, -5.119900226593018, -5.0920000076293945, -1.6541999578475952, -2.649199962615967, -3.096299886703491, -3.183300018310547, -3.253499984741211, -3.3083999156951904, -3.884999990463257, -3.9930999279022217, -4.1682000160217285, -4.210299968719482, -4.259500026702881, -4.363500118255615, -4.397600173950195, -4.390999794006348, -4.667699813842773, -4.688499927520752, -4.707799911499023, -4.774899959564209, -4.787499904632568, -4.79640007019043, -4.860400199890137, -4.950699806213379, -5.0441999435424805, -5.414000034332275, -5.485199928283691, -5.485199928283691, -5.464700222015381, -5.464700222015381, -5.464700222015381, -5.5177001953125, -4.3491997718811035, -5.247600078582764, -5.355999946594238, -5.355999946594238, -5.347400188446045, -2.981600046157837, -2.990499973297119, -3.063800096511841, -3.1041998863220215, -3.1542999744415283, -3.3733999729156494, -3.800800085067749, -3.2718000411987305, -3.2718000411987305, -3.2718000411987305, -3.9142000675201416, -3.967900037765503, -4.168399810791016, -4.303400039672852, -4.301799774169922, -4.455599784851074, -4.661499977111816, -4.6793999671936035, -4.786200046539307, -4.832799911499023, -4.863100051879883, -4.870200157165527, -4.952700138092041, -5.000999927520752, -5.00629997253418, -5.1458001136779785, -5.185500144958496, -5.2469000816345215, -5.269800186157227, -5.342700004577637, -4.270599842071533, -4.54040002822876, -4.768700122833252, -5.115600109100342, -4.803899765014648, -4.827499866485596, -4.827499866485596, -4.254000186920166, -4.85830020904541, -2.6577999591827393, -2.688499927520752, -2.804800033569336, -3.594399929046631, -3.6101999282836914, -3.702500104904175, -3.750499963760376, -3.7562999725341797, -3.8190999031066895, -3.8592000007629395, -3.9024999141693115, -4.037700176239014, -4.040299892425537, -4.092299938201904, -4.340799808502197, -4.419600009918213, -4.510700225830078, -4.7519001960754395, -4.757400035858154, -4.838799953460693, -4.863500118255615, -4.883800029754639, -4.899700164794922, -4.980800151824951, -5.005899906158447, -5.057199954986572, -3.9951000213623047, -5.124199867248535, -5.153500080108643, -5.153600215911865, -4.49429988861084, -4.519199848175049, -4.774400234222412, -4.657899856567383, -4.872000217437744], \"loglift\": [30.0, 29.0, 28.0, 27.0, 26.0, 25.0, 24.0, 23.0, 22.0, 21.0, 20.0, 19.0, 18.0, 17.0, 16.0, 15.0, 14.0, 13.0, 12.0, 11.0, 10.0, 9.0, 8.0, 7.0, 6.0, 5.0, 4.0, 3.0, 2.0, 1.0, 1.2431000471115112, 1.2426999807357788, 1.2424999475479126, 1.242400050163269, 1.2422000169754028, 1.2416000366210938, 1.2410999536514282, 1.2410000562667847, 1.2408000230789185, 1.2407000064849854, 1.239799976348877, 1.2395999431610107, 1.2395999431610107, 1.2390999794006348, 1.2388999462127686, 1.2386000156402588, 1.2383999824523926, 1.2382999658584595, 1.2354999780654907, 1.2347999811172485, 1.2337000370025635, 1.2335000038146973, 1.2325999736785889, 1.2319999933242798, 1.2319999933242798, 1.2318999767303467, 1.2308000326156616, 1.2303999662399292, 1.230299949645996, 1.229599952697754, 1.2283999919891357, 1.2226999998092651, 1.1438000202178955, 1.0902999639511108, 0.7968000173568726, 0.7946000099182129, 0.9908999800682068, 1.7818000316619873, 1.7812000513076782, 1.7807999849319458, 1.7805999517440796, 1.7795000076293945, 1.777999997138977, 1.777400016784668, 1.7773000001907349, 1.7771999835968018, 1.7761000394821167, 1.7759000062942505, 1.7759000062942505, 1.7755000591278076, 1.7753000259399414, 1.7745000123977661, 1.7721999883651733, 1.7720999717712402, 1.7720999717712402, 1.7718000411987305, 1.7711000442504883, 1.7660000324249268, 1.7656999826431274, 1.7647000551223755, 1.7639000415802002, 1.763200044631958, 1.7611000537872314, 1.7610000371932983, 1.7604999542236328, 1.759600043296814, 1.7580000162124634, 1.7563999891281128, 1.7418999671936035, 1.7074999809265137, 1.7265000343322754, 1.5667999982833862, 1.5667999982833862, 1.5667999982833862, 0.715399980545044, 1.5356999635696411, 1.8631999492645264, 1.8617000579833984, 1.8594000339508057, 1.8594000339508057, 1.8575999736785889, 1.8573999404907227, 1.8573999404907227, 1.8543000221252441, 1.8518999814987183, 1.8513000011444092, 1.8509999513626099, 1.8509000539779663, 1.8507000207901, 1.8494000434875488, 1.8479000329971313, 1.8473000526428223, 1.8456000089645386, 1.8450000286102295, 1.8449000120162964, 1.844099998474121, 1.8423999547958374, 1.8423000574111938, 1.8421000242233276, 1.841599941253662, 1.8406000137329102, 1.839900016784668, 1.8394999504089355, 1.8394999504089355, 1.8387000560760498, 1.8367999792099, 1.8353999853134155, 1.8092999458312988, 1.4357999563217163, 1.773900032043457, 1.773900032043457, 0.7703999876976013, 1.654099941253662, 2.1250998973846436, 2.125, 2.125, 2.1243999004364014, 2.1238999366760254, 2.123500108718872, 2.1212000846862793, 2.1201999187469482, 2.119499921798706, 2.119499921798706, 2.11899995803833, 2.117500066757202, 2.1161999702453613, 2.1149001121520996, 2.113300085067749, 2.111599922180176, 2.1112000942230225, 2.1101999282836914, 2.109600067138672, 2.1082000732421875, 2.1078999042510986, 2.1078999042510986, 2.1052000522613525, 2.1040000915527344, 2.1040000915527344, 2.1034998893737793, 2.102099895477295, 2.1013998985290527, 2.101099967956543, 2.1005001068115234, 2.042099952697754, 2.042099952697754, 2.042099952697754, 2.042099952697754, 2.074199914932251, 1.857100009918213, 2.5355000495910645, 2.53410005569458, 2.531399965286255, 2.5297000408172607, 2.529400110244751, 2.528899908065796, 2.525899887084961, 2.5255000591278076, 2.5209999084472656, 2.5195999145507812, 2.5185999870300293, 2.5185000896453857, 2.5172998905181885, 2.5157999992370605, 2.5123000144958496, 2.5116000175476074, 2.5081000328063965, 2.506500005722046, 2.5053000450134277, 2.5044000148773193, 2.502000093460083, 2.500200033187866, 2.500200033187866, 2.500200033187866, 2.4974000453948975, 2.4958999156951904, 2.4937000274658203, 2.491300106048584, 2.486799955368042, 2.484100103378296, 2.4784998893737793, 2.4611001014709473, 2.4611001014709473, 2.4611001014709473, 2.4711999893188477, 2.4711999893188477, 2.345599889755249, 2.618000030517578, 2.6161999702453613, 2.6145999431610107, 2.6142001152038574, 2.6138999462127686, 2.613600015640259, 2.6094000339508057, 2.608299970626831, 2.6061999797821045, 2.605799913406372, 2.60509991645813, 2.603600025177002, 2.603100061416626, 2.6005001068115234, 2.5982000827789307, 2.5977001190185547, 2.5973000526428223, 2.5957999229431152, 2.5954999923706055, 2.5952999591827393, 2.5936999320983887, 2.591399908065796, 2.588599920272827, 2.575500011444092, 2.5724000930786133, 2.5724000930786133, 2.5722999572753906, 2.5722999572753906, 2.5722999572753906, 2.57069993019104, 2.551300048828125, 2.566699981689453, 2.561300039291382, 2.561300039291382, 2.5459001064300537, 2.7304999828338623, 2.7304000854492188, 2.73009991645813, 2.7298998832702637, 2.729599952697754, 2.7281999588012695, 2.724299907684326, 2.7232000827789307, 2.7232000827789307, 2.7232000827789307, 2.7230000495910645, 2.7223000526428223, 2.719399929046631, 2.717099905014038, 2.717099905014038, 2.714099884033203, 2.7093000411987305, 2.706899881362915, 2.7058000564575195, 2.704200029373169, 2.703399896621704, 2.7032999992370605, 2.7005999088287354, 2.698899984359741, 2.6949000358581543, 2.6928999423980713, 2.6891000270843506, 2.6888999938964844, 2.6877999305725098, 2.6844000816345215, 2.6821999549865723, 2.6767001152038574, 2.64739990234375, 2.6774001121520996, 2.600100040435791, 2.35479998588562, 2.35479998588562, 1.583400011062622, 1.9883999824523926, 2.949700117111206, 2.9495999813079834, 2.9489998817443848, 2.94320011138916, 2.943000078201294, 2.941999912261963, 2.941499948501587, 2.9414000511169434, 2.9405999183654785, 2.940000057220459, 2.939199924468994, 2.9374001026153564, 2.937299966812134, 2.9363999366760254, 2.93149995803833, 2.9296000003814697, 2.927500009536743, 2.9203999042510986, 2.920300006866455, 2.9175000190734863, 2.916599988937378, 2.915800094604492, 2.9151999950408936, 2.912100076675415, 2.9110000133514404, 2.9082999229431152, 2.9070000648498535, 2.904599905014038, 2.9042999744415283, 2.9042999744415283, 2.8547000885009766, 2.7739999294281006, 2.804500102996826, 2.6638998985290527, 2.5952999591827393]}, \"token.table\": {\"Topic\": [8, 1, 3, 4, 3, 7, 7, 1, 2, 8, 8, 6, 6, 8, 6, 3, 6, 1, 1, 2, 4, 1, 4, 6, 1, 2, 6, 3, 2, 1, 2, 4, 5, 2, 7, 1, 6, 7, 8, 3, 5, 8, 4, 8, 4, 7, 5, 5, 1, 2, 3, 8, 6, 2, 7, 5, 5, 5, 2, 2, 8, 3, 3, 6, 6, 4, 5, 1, 2, 3, 7, 1, 4, 8, 2, 2, 1, 8, 4, 1, 6, 5, 1, 5, 1, 2, 7, 1, 2, 4, 7, 8, 3, 3, 3, 2, 4, 1, 2, 3, 6, 7, 8, 1, 2, 3, 8, 7, 8, 8, 1, 1, 3, 5, 7, 1, 1, 2, 3, 4, 1, 1, 3, 4, 2, 4, 1, 2, 3, 1, 2, 4, 6, 5, 2, 5, 1, 2, 7, 7, 2, 5, 6, 4, 3, 6, 7, 1, 2, 3, 5, 1, 2, 1, 2, 3, 4, 5, 8, 4, 7, 2, 1, 2, 3, 5, 2, 1, 6, 1, 1, 2, 3, 4, 5, 6, 7, 3, 7, 1, 3, 4, 7, 8, 2, 1, 2, 7, 5, 6, 3, 3, 2, 3, 4, 4, 7, 1, 2, 3, 4, 7, 8, 2, 1, 2, 1, 2, 5, 2, 8, 6, 8, 6, 2, 5, 4, 3, 8, 1, 2, 4, 5, 2, 3, 1, 8, 5, 5, 4, 1, 4, 1, 1, 2, 5, 1, 3, 4, 5, 6, 1, 2, 3, 5, 3, 4, 6, 5, 5, 5, 1, 1, 5, 5, 4, 7, 4, 1, 8, 6, 1, 6, 7, 4, 7, 1, 2, 4, 7, 4, 6, 8, 1, 2, 3, 5, 4, 4, 1, 4, 7, 3, 2, 4, 4, 1, 2, 3, 5, 8, 6, 7, 6, 1, 2, 1, 3, 2, 7, 3, 5, 1, 7, 6, 1, 2, 7, 2, 6, 4, 8, 8, 4, 1, 2, 3, 6, 2, 8, 4, 3, 8, 3, 3, 1, 2, 3, 4, 5, 6, 2, 8, 7, 1, 2, 3, 8, 2, 8, 7, 4, 7, 6, 3, 3, 5, 2, 6, 6, 8, 5, 7, 7, 1, 2, 3, 5, 7, 1, 3, 1, 2, 3, 7, 4, 5, 1, 1, 8, 4, 1, 3, 1, 2, 2, 4, 7, 2, 6, 3, 5, 4, 3, 6, 6, 1, 2, 3, 4, 6, 6, 3, 1, 2, 3, 4, 1, 2, 7, 6, 3, 4, 5, 6, 5, 3], \"Freq\": [0.9575583338737488, 0.9983326196670532, 0.9760115742683411, 0.9687529802322388, 0.9849004745483398, 0.994596540927887, 0.9517385363578796, 0.9959820508956909, 0.9933133721351624, 0.9410106539726257, 0.9396863579750061, 0.9343480467796326, 0.992071270942688, 0.9831964373588562, 0.9946362376213074, 0.9858418703079224, 0.9666579961776733, 0.9894504547119141, 0.06625133007764816, 0.009464475326240063, 0.9180541634559631, 0.9865384101867676, 0.9854220151901245, 0.963036060333252, 0.01663227751851082, 0.9480398297309875, 0.01663227751851082, 0.9941786527633667, 0.9988243579864502, 0.9782018661499023, 0.014245658181607723, 0.004748552571982145, 0.9936586022377014, 0.019330240786075592, 0.947181761264801, 0.056337084621191025, 0.9295618534088135, 0.9770386219024658, 0.9803628325462341, 0.981415867805481, 0.9930084347724915, 0.9888733625411987, 0.9949023723602295, 0.9888728857040405, 0.9943463206291199, 0.9723741412162781, 0.9780488610267639, 0.9965344071388245, 0.05063994228839874, 0.033759962767362595, 0.9115189909934998, 0.9409136772155762, 0.9734706878662109, 0.9875410199165344, 0.9938917756080627, 0.9526259899139404, 0.9423334002494812, 0.9534183144569397, 0.9944018125534058, 0.9945372343063354, 0.9932841658592224, 0.9749271273612976, 0.9916126728057861, 0.9956286549568176, 0.9701389074325562, 0.9691940546035767, 0.9643190503120422, 0.2053470015525818, 0.018667908385396004, 0.05600372701883316, 0.6907126307487488, 0.985812783241272, 0.028211817145347595, 0.9592017531394958, 0.9889244437217712, 0.9993417859077454, 0.9997435808181763, 0.9766011834144592, 0.9916548728942871, 0.9920781850814819, 0.9924038052558899, 0.9709359407424927, 0.9891783595085144, 0.9711418151855469, 0.9960907697677612, 0.971881628036499, 0.9958252906799316, 0.18750916421413422, 0.8036107420921326, 0.005694603081792593, 0.9851663708686829, 0.9827161431312561, 0.9847606420516968, 0.9788849353790283, 0.987639844417572, 0.9764028191566467, 0.9933077692985535, 0.05063994228839874, 0.033759962767362595, 0.9115189909934998, 0.9653709530830383, 0.9966906309127808, 0.9909652471542358, 0.055512409657239914, 0.055512409657239914, 0.027756204828619957, 0.8604423403739929, 0.9710652828216553, 0.9921543002128601, 0.9729124903678894, 0.9937242865562439, 0.023585308343172073, 0.023585308343172073, 0.023585308343172073, 0.9198269844055176, 0.9970830678939819, 0.9048058390617371, 0.08355189114809036, 0.0081514036282897, 0.002037850907072425, 0.995098352432251, 0.12461262941360474, 0.09969010204076767, 0.7601370215415955, 0.9909415245056152, 0.9980646967887878, 0.14871740341186523, 0.029743481427431107, 0.8179457783699036, 0.06625133007764816, 0.009464475326240063, 0.9180541634559631, 0.9343480467796326, 0.9942998290061951, 0.9917320609092712, 0.9574723243713379, 0.016571905463933945, 0.9777424335479736, 0.9614126682281494, 0.9669426083564758, 0.9789701104164124, 0.9988923072814941, 0.9952410459518433, 0.9986939430236816, 0.9800889492034912, 0.9871820211410522, 0.9581564664840698, 0.051795244216918945, 0.010359048843383789, 0.010359048843383789, 0.932314395904541, 0.18750916421413422, 0.8036107420921326, 0.1717027872800827, 0.021462848410010338, 0.021462848410010338, 0.021462848410010338, 0.021462848410010338, 0.7511997222900391, 0.9954423904418945, 0.9594495892524719, 0.9915550947189331, 0.034269195050001144, 0.925268292427063, 0.022846130654215813, 0.011423065327107906, 0.9942845702171326, 0.982323944568634, 0.9653709530830383, 0.9802581667900085, 0.24024319648742676, 0.21354950964450836, 0.026693688705563545, 0.013346844352781773, 0.013346844352781773, 0.013346844352781773, 0.4671395421028137, 0.9867028594017029, 0.9868978261947632, 0.009728549048304558, 0.6518127918243408, 0.019457098096609116, 0.3161778450012207, 0.9972424507141113, 0.9908958673477173, 0.18750916421413422, 0.8036107420921326, 0.9955854415893555, 0.9741529226303101, 0.9709237813949585, 0.9783328771591187, 0.9897757768630981, 0.011233499273657799, 0.9436139464378357, 0.022466998547315598, 0.005694603081792593, 0.9851663708686829, 0.04964999854564667, 0.09929999709129333, 0.07447499781847, 0.024824999272823334, 0.07447499781847, 0.6951000094413757, 0.9951040148735046, 0.027478406205773354, 0.9617442488670349, 0.028096403926610947, 0.028096403926610947, 0.9271813035011292, 0.9757595658302307, 0.9610868692398071, 0.9407393932342529, 0.9690362215042114, 0.966732919216156, 0.9965630173683167, 0.9845498204231262, 0.9947628974914551, 0.9979684352874756, 0.9706149697303772, 0.06625133007764816, 0.009464475326240063, 0.9180541634559631, 0.9782801270484924, 0.9769627451896667, 0.9775784611701965, 0.9947869777679443, 0.9800065159797668, 0.9747099876403809, 0.9835168123245239, 0.9686925411224365, 0.986146092414856, 0.9801207780838013, 0.9931426644325256, 0.9838951826095581, 0.006832605227828026, 0.006832605227828026, 0.016965221613645554, 0.016965221613645554, 0.9500523805618286, 0.9836640357971191, 0.9810529351234436, 0.051795244216918945, 0.010359048843383789, 0.010359048843383789, 0.932314395904541, 0.9862989783287048, 0.9868542551994324, 0.9932846426963806, 0.9799549579620361, 0.9918813705444336, 0.9926313161849976, 0.9958760738372803, 0.9930347204208374, 0.9754207730293274, 0.9739717841148376, 0.9980491399765015, 0.9814769625663757, 0.9826769828796387, 0.9892972707748413, 0.9751198291778564, 0.978434145450592, 0.9986226558685303, 0.9691764712333679, 0.9282678365707397, 0.9701395630836487, 0.984897255897522, 0.06625133007764816, 0.009464475326240063, 0.9180541634559631, 0.9727857708930969, 0.9869163632392883, 0.06616071611642838, 0.9041964411735535, 0.051795244216918945, 0.010359048843383789, 0.010359048843383789, 0.932314395904541, 0.9723672270774841, 0.9757745862007141, 0.9903147220611572, 0.09320473670959473, 0.8621438145637512, 0.9801672697067261, 0.9901580810546875, 0.986853301525116, 0.9833539724349976, 0.034963205456733704, 0.006992641370743513, 0.006992641370743513, 0.9440065622329712, 0.9851245880126953, 0.9837195873260498, 0.9567573070526123, 0.9944587349891663, 0.9986615777015686, 0.9887406826019287, 0.9888483881950378, 0.9957589507102966, 0.9988563656806946, 0.9845225811004639, 0.9736286997795105, 0.9706742763519287, 0.9946174025535583, 0.9829496145248413, 0.9625194668769836, 0.014840184710919857, 0.029680369421839714, 0.9497718214988708, 0.9853516817092896, 0.912138819694519, 0.9876437187194824, 0.9895999431610107, 0.9962901473045349, 0.9800472855567932, 0.1214895248413086, 0.7775329947471619, 0.02429790608584881, 0.0607447624206543, 0.9910545945167542, 0.9503036141395569, 0.9884573817253113, 0.9939576387405396, 0.9804832339286804, 0.9679731130599976, 0.9672577381134033, 0.6400120854377747, 0.344621866941452, 0.007574107032269239, 0.0037870535161346197, 0.0018935267580673099, 0.0018935267580673099, 0.991932213306427, 0.9497825503349304, 0.9558578133583069, 0.10428784042596817, 0.020857566967606544, 0.04171513393521309, 0.8343027234077454, 0.9891542196273804, 0.9645271301269531, 0.9692255258560181, 0.005694603081792593, 0.9851663708686829, 0.9407393932342529, 0.9916327595710754, 0.9794247150421143, 0.9685376882553101, 0.9994205832481384, 0.9965981841087341, 0.9653709530830383, 0.9862924218177795, 0.9454764127731323, 0.9716356992721558, 0.9936287999153137, 0.024098919704556465, 0.07229676097631454, 0.07229676097631454, 0.8193632960319519, 0.9873172640800476, 0.9975712299346924, 0.9886379241943359, 0.2053470015525818, 0.018667908385396004, 0.05600372701883316, 0.6907126307487488, 0.9880107641220093, 0.9664914011955261, 0.9990180730819702, 0.997661828994751, 0.9488274455070496, 0.9978007078170776, 0.9985902905464172, 0.9874064922332764, 0.9990757703781128, 0.9828262329101562, 0.9780977368354797, 0.9915544986724854, 0.9698992371559143, 0.9775157570838928, 0.9483059048652649, 0.019946472719311714, 0.9374842047691345, 0.9970724582672119, 0.9830958843231201, 0.9806993007659912, 0.9918051958084106, 0.6386991143226624, 0.01623811200261116, 0.33558765053749084, 0.00811905600130558, 0.0027063521556556225, 0.9741830229759216, 0.9997398853302002, 0.7769640684127808, 0.1553928107023239, 0.056506477296352386, 0.007063309662044048, 0.8570741415023804, 0.13729828596115112, 0.9661803841590881, 0.9985302686691284, 0.9823434352874756, 0.9955458045005798, 0.9643190503120422, 0.9798948764801025, 0.9643190503120422, 0.995639979839325], \"Term\": [\"ability_ethnicity\", \"abuse\", \"abuser\", \"abusive_relationship\", \"access\", \"action\", \"address\", \"advice\", \"age\", \"aid\", \"answer\", \"appeal_hours\", \"apply\", \"apply_police\", \"area\", \"article\", \"bcwomensaid_westmidspcc\", \"behaviour\", \"billion_people\", \"billion_people\", \"billion_people\", \"book\", \"boy\", \"business\", \"bystander\", \"bystander\", \"bystander\", \"call\", \"call_immediate\", \"calling_man\", \"calling_man\", \"calling_man\", \"campaign\", \"career\", \"career\", \"caring_other\", \"caring_other\", \"case\", \"case_involving\", \"cause\", \"challenge\", \"chance\", \"change\", \"charityjobs\", \"child\", \"child_move\", \"colleague\", \"community\", \"community_via\", \"community_via\", \"community_via\", \"concern\", \"contact\", \"council\", \"country\", \"courage\", \"court\", \"covid\", \"covid_pandemic\", \"crisis\", \"danger\", \"datum\", \"daughter\", \"day\", \"deal\", \"decision\", \"declaration_thank\", \"deserve_excuse\", \"deserve_excuse\", \"deserve_excuse\", \"deserve_excuse\", \"detail\", \"development\", \"development\", \"discussion\", \"domestic_abuse\", \"domesticabuse\", \"door\", \"education\", \"effort\", \"emergency\", \"emergency_alway\", \"emergency_order\", \"employee\", \"end\", \"endviolence\", \"equality\", \"equality_none\", \"equality_none\", \"especially_top\", \"especially_top\", \"evening\", \"event\", \"excuse\", \"experience\", \"fact\", \"family\", \"fao\", \"fao\", \"fao\", \"feel_alone\", \"find\", \"find_support\", \"football\", \"football\", \"football\", \"football\", \"form\", \"friend\", \"frontline\", \"future\", \"gbv\", \"gbv\", \"gbv\", \"gbv\", \"gender\", \"gender_equality\", \"gender_equality\", \"gender_equality\", \"gender_equality\", \"genderbased_violence\", \"genderequality\", \"genderequality\", \"genderequality\", \"generation\", \"girl\", \"globalspotlight\", \"globalspotlight\", \"globalspotlight\", \"globalspotlight_scaling\", \"globalspotlight_scaling\", \"globalspotlight_scaling\", \"got_friend\", \"government\", \"group\", \"guidance\", \"happywomensday_iwd\", \"happywomensday_iwd\", \"hashtag\", \"health\", \"heart\", \"help\", \"helpline\", \"home\", \"hope\", \"house\", \"housing\", \"housing_encouraged\", \"housing_encouraged\", \"housing_encouraged\", \"housing_encouraged\", \"imagined_one\", \"imagined_one\", \"immigration\", \"immigration\", \"immigration\", \"immigration\", \"immigration\", \"immigration\", \"impact\", \"importance\", \"increase\", \"industry\", \"industry\", \"industry\", \"industry\", \"inequality\", \"information\", \"infouavaorguk_call\", \"initiative\", \"ipuparliament\", \"ipuparliament\", \"ipuparliament\", \"ipuparliament\", \"ipuparliament\", \"ipuparliament\", \"ipuparliament\", \"isolation\", \"issue\", \"iwd\", \"iwd\", \"iwd\", \"iwd\", \"job\", \"join\", \"join_tour\", \"join_tour\", \"justice\", \"lack\", \"launch\", \"law\", \"leader\", \"leadership\", \"leadership\", \"leadership\", \"level_power\", \"level_power\", \"leymahrgbowee\", \"leymahrgbowee\", \"leymahrgbowee\", \"leymahrgbowee\", \"leymahrgbowee\", \"leymahrgbowee\", \"life\", \"lift\", \"lift\", \"limit\", \"limit\", \"limit\", \"line\", \"link\", \"link_list\", \"list\", \"live_chat\", \"lockdown\", \"lockdown_commander\", \"love\", \"man\", \"matter\", \"mean_safety\", \"mean_safety\", \"mean_safety\", \"measure\", \"mentalhealth\", \"message\", \"metoo\", \"mind\", \"minority\", \"model\", \"moment\", \"money\", \"month\", \"mother\", \"movement\", \"movement\", \"movement\", \"music\", \"music\", \"music\", \"nationally_since\", \"night\", \"nowhere_stay\", \"nowhere_stay\", \"nowhere_stay\", \"nowhere_stay\", \"number\", \"opportunity\", \"order\", \"organisation\", \"other\", \"pandemic\", \"part\", \"partner\", \"partnership\", \"passed_law\", \"people\", \"perpetrator\", \"place\", \"play\", \"pm\", \"point\", \"police\", \"police_response\", \"politic\", \"post\", \"power\", \"prevention_service\", \"prevention_service\", \"prevention_service\", \"programme\", \"project\", \"promote\", \"promote\", \"proof\", \"proof\", \"proof\", \"proof\", \"protect\", \"protection\", \"question\", \"race\", \"race\", \"rape\", \"rate\", \"reality\", \"reason\", \"recourse\", \"recourse\", \"recourse\", \"recourse\", \"reflection\", \"refuge\", \"relationship\", \"remain_available\", \"report\", \"resource\", \"respect\", \"response\", \"response_support\", \"right\", \"right_activist\", \"rise\", \"risk\", \"role\", \"room\", \"rt_unwoman\", \"rt_unwoman\", \"rt_unwoman\", \"safety\", \"scale_inspiration\", \"school\", \"sector\", \"service\", \"sex\", \"sexism\", \"sexism\", \"sexism\", \"sexism\", \"sexual_violence\", \"sexualviolence\", \"shame\", \"share\", \"side\", \"sister\", \"situation\", \"smday\", \"smday\", \"smday\", \"smday\", \"smday\", \"smday\", \"society\", \"solicitors_advice\", \"space\", \"sport\", \"sport\", \"sport\", \"sport\", \"staff\", \"statement\", \"step\", \"still_across\", \"still_across\", \"still_available\", \"story\", \"strength\", \"suffering_domesticabuse\", \"support\", \"support_service\", \"support_unsettling\", \"support_victimsurvivor\", \"surge_information\", \"survey\", \"survivor\", \"talent\", \"talent\", \"talent\", \"talent\", \"talk\", \"team\", \"thank\", \"thank_angeliquekidjo\", \"thank_angeliquekidjo\", \"thank_angeliquekidjo\", \"thank_angeliquekidjo\", \"thing\", \"threat\", \"time\", \"today\", \"touch\", \"unwoman\", \"victim\", \"video\", \"violence\", \"virus\", \"visit\", \"voice\", \"war\", \"watch\", \"watch_listen\", \"water\", \"water\", \"way\", \"week\", \"westmidsvru_wmpolice\", \"wife\", \"withher\", \"withher\", \"withher\", \"withher\", \"withher\", \"wmpolice\", \"woman\", \"womencount\", \"womencount\", \"womencount\", \"womencount\", \"womeninsport\", \"womeninsport\", \"word\", \"work\", \"workplace\", \"world\", \"worldsailing_committing\", \"would_like\", \"wsailingtrust\", \"year\"]}, \"R\": 30, \"lambda.step\": 0.01, \"plot.opts\": {\"xlab\": \"PC1\", \"ylab\": \"PC2\"}, \"topic.order\": [8, 4, 2, 3, 6, 7, 5, 1]};\n",
       "\n",
       "function LDAvis_load_lib(url, callback){\n",
       "  var s = document.createElement('script');\n",
       "  s.src = url;\n",
       "  s.async = true;\n",
       "  s.onreadystatechange = s.onload = callback;\n",
       "  s.onerror = function(){console.warn(\"failed to load library \" + url);};\n",
       "  document.getElementsByTagName(\"head\")[0].appendChild(s);\n",
       "}\n",
       "\n",
       "if(typeof(LDAvis) !== \"undefined\"){\n",
       "   // already loaded: just create the visualization\n",
       "   !function(LDAvis){\n",
       "       new LDAvis(\"#\" + \"ldavis_el6581123011428089532392559\", ldavis_el6581123011428089532392559_data);\n",
       "   }(LDAvis);\n",
       "}else if(typeof define === \"function\" && define.amd){\n",
       "   // require.js is available: use it to load d3/LDAvis\n",
       "   require.config({paths: {d3: \"https://cdnjs.cloudflare.com/ajax/libs/d3/3.5.5/d3.min\"}});\n",
       "   require([\"d3\"], function(d3){\n",
       "      window.d3 = d3;\n",
       "      LDAvis_load_lib(\"https://cdn.rawgit.com/bmabey/pyLDAvis/files/ldavis.v1.0.0.js\", function(){\n",
       "        new LDAvis(\"#\" + \"ldavis_el6581123011428089532392559\", ldavis_el6581123011428089532392559_data);\n",
       "      });\n",
       "    });\n",
       "}else{\n",
       "    // require.js not available: dynamically load d3 & LDAvis\n",
       "    LDAvis_load_lib(\"https://cdnjs.cloudflare.com/ajax/libs/d3/3.5.5/d3.min.js\", function(){\n",
       "         LDAvis_load_lib(\"https://cdn.rawgit.com/bmabey/pyLDAvis/files/ldavis.v1.0.0.js\", function(){\n",
       "                 new LDAvis(\"#\" + \"ldavis_el6581123011428089532392559\", ldavis_el6581123011428089532392559_data);\n",
       "            })\n",
       "         });\n",
       "}\n",
       "</script>"
      ],
      "text/plain": [
       "PreparedData(topic_coordinates=              x         y  topics  cluster       Freq\n",
       "topic                                                \n",
       "7     -0.280966 -0.167961       1        1  28.840097\n",
       "3     -0.118511 -0.152778       2        1  16.826130\n",
       "1     -0.137761  0.305530       3        1  15.512450\n",
       "2     -0.026256  0.167189       4        1  11.919102\n",
       "5      0.140227 -0.073489       5        1   7.914525\n",
       "6      0.120394 -0.059525       6        1   7.287525\n",
       "4      0.166774  0.040273       7        1   6.486392\n",
       "0      0.136098 -0.059238       8        1   5.213785, topic_info=               Term         Freq        Total Category  logprob  loglift\n",
       "66            woman  3258.000000  3258.000000  Default  30.0000  30.0000\n",
       "48          support  2326.000000  2326.000000  Default  29.0000  29.0000\n",
       "3     domesticabuse  3123.000000  3123.000000  Default  28.0000  28.0000\n",
       "12             help  1082.000000  1082.000000  Default  27.0000  27.0000\n",
       "129            work   983.000000   983.000000  Default  26.0000  26.0000\n",
       "...             ...          ...          ...      ...      ...      ...\n",
       "4791        promote    41.063931    45.344128   Topic8  -4.4943   2.8547\n",
       "5273          sport    40.052082    47.944229   Topic8  -4.5192   2.7740\n",
       "4195       football    31.029406    36.027981   Topic8  -4.7744   2.8045\n",
       "1609    immigration    34.864754    46.592136   Topic8  -4.6579   2.6639\n",
       "4917  leymahrgbowee    28.145433    40.281975   Topic8  -4.8720   2.5953\n",
       "\n",
       "[325 rows x 6 columns], token_table=      Topic      Freq                     Term\n",
       "term                                          \n",
       "3828      8  0.957558        ability_ethnicity\n",
       "16        1  0.998333                    abuse\n",
       "413       3  0.976012                   abuser\n",
       "415       4  0.968753     abusive_relationship\n",
       "388       3  0.984900                   access\n",
       "...     ...       ...                      ...\n",
       "606       4  0.995546                    world\n",
       "5301      5  0.964319  worldsailing_committing\n",
       "1345      6  0.979895               would_like\n",
       "5302      5  0.964319            wsailingtrust\n",
       "193       3  0.995640                     year\n",
       "\n",
       "[407 rows x 3 columns], R=30, lambda_step=0.01, plot_opts={'xlab': 'PC1', 'ylab': 'PC2'}, topic_order=[8, 4, 2, 3, 6, 7, 5, 1])"
      ]
     },
     "execution_count": 130,
     "metadata": {},
     "output_type": "execute_result"
    }
   ],
   "source": [
    "pyLDAvis.enable_notebook()\n",
    "vis = pyLDAvis.gensim.prepare(lda_model_UK, corpus, id2word)\n",
    "vis"
   ]
  },
  {
   "cell_type": "markdown",
   "metadata": {
    "heading_collapsed": true
   },
   "source": [
    "# Saving Visualization-UK"
   ]
  },
  {
   "cell_type": "code",
   "execution_count": 75,
   "metadata": {
    "hidden": true
   },
   "outputs": [],
   "source": [
    "pyLDAvis.save_html(vis, 'twitter_uk.html')"
   ]
  },
  {
   "cell_type": "code",
   "execution_count": 76,
   "metadata": {
    "hidden": true
   },
   "outputs": [],
   "source": [
    "def compute_coherence_values(dictionary, corpus, texts, limit, start=2, step=3):\n",
    "    \"\"\"\n",
    "    Compute c_v coherence for various number of topics\n",
    "\n",
    "    Parameters:\n",
    "    ----------\n",
    "    dictionary : Gensim dictionary\n",
    "    corpus : Gensim corpus\n",
    "    texts : List of input texts\n",
    "    limit : Max num of topics\n",
    "\n",
    "    Returns:\n",
    "    -------\n",
    "    model_list : List of LDA topic models\n",
    "    coherence_values : Coherence values corresponding to the LDA model with respective number of topics\n",
    "    \"\"\"\n",
    "    coherence_values = []\n",
    "    model_list = []\n",
    "    for num_topics in range(start, limit, step):\n",
    "        model = gensim.models.ldamodel.LdaModel(corpus=corpus,\n",
    "                                           id2word=id2word,\n",
    "                                           num_topics=num_topics)\n",
    "        model_list.append(model)\n",
    "        coherencemodel = CoherenceModel(model=model, texts=texts, dictionary=dictionary, coherence='c_v')\n",
    "        coherence_values.append(coherencemodel.get_coherence())\n",
    "\n",
    "    return model_list, coherence_values"
   ]
  },
  {
   "cell_type": "code",
   "execution_count": 77,
   "metadata": {
    "hidden": true
   },
   "outputs": [],
   "source": [
    "model_list, coherence_values = compute_coherence_values(dictionary=id2word, corpus=corpus, texts=data_lemmatized, start=2, limit=40, step=6)"
   ]
  },
  {
   "cell_type": "code",
   "execution_count": 78,
   "metadata": {
    "hidden": true
   },
   "outputs": [
    {
     "data": {
      "image/png": "[encoded data removed]",
      "text/plain": [
       "<Figure size 432x288 with 1 Axes>"
      ]
     },
     "metadata": {
      "needs_background": "light"
     },
     "output_type": "display_data"
    }
   ],
   "source": [
    "# Show graph\n",
    "limit=40; start=2; step=6;\n",
    "x = range(start, limit, step)\n",
    "plt.plot(x, coherence_values)\n",
    "plt.xlabel(\"Num Topics\")\n",
    "plt.ylabel(\"Coherence score\")\n",
    "plt.legend((\"coherence_values\"), loc='best')\n",
    "plt.show()"
   ]
  },
  {
   "cell_type": "code",
   "execution_count": 79,
   "metadata": {
    "hidden": true
   },
   "outputs": [
    {
     "name": "stdout",
     "output_type": "stream",
     "text": [
      "Num Topics = 2  has Coherence Value of 0.394\n",
      "Num Topics = 8  has Coherence Value of 0.4469\n",
      "Num Topics = 14  has Coherence Value of 0.4414\n",
      "Num Topics = 20  has Coherence Value of 0.4368\n",
      "Num Topics = 26  has Coherence Value of 0.4487\n",
      "Num Topics = 32  has Coherence Value of 0.4409\n",
      "Num Topics = 38  has Coherence Value of 0.427\n"
     ]
    }
   ],
   "source": [
    "for m, cv in zip(x, coherence_values):\n",
    "    print(\"Num Topics =\", m, \" has Coherence Value of\", round(cv, 4))"
   ]
  }
 ],
 "metadata": {
  "colab": {
   "collapsed_sections": [
    "J-mOnH18M0qR",
    "Etbtply2i2FQ",
    "YTkbQIXkjjJp",
    "2uzgICNaj_Py"
   ],
   "name": "Merged 1. NLP - Twitter-ipynb",
   "provenance": [],
   "toc_visible": true
  },
  "kernelspec": {
   "display_name": "Python 3",
   "language": "python",
   "name": "python3"
  },
  "language_info": {
   "codemirror_mode": {
    "name": "ipython",
    "version": 3
   },
   "file_extension": ".py",
   "mimetype": "text/x-python",
   "name": "python",
   "nbconvert_exporter": "python",
   "pygments_lexer": "ipython3",
   "version": "3.6.10"
  },
  "toc": {
   "base_numbering": 1,
   "nav_menu": {},
   "number_sections": true,
   "sideBar": true,
   "skip_h1_title": false,
   "title_cell": "Table of Contents",
   "title_sidebar": "Contents",
   "toc_cell": false,
   "toc_position": {},
   "toc_section_display": true,
   "toc_window_display": false
  }
 },
 "nbformat": 4,
 "nbformat_minor": 1
}
