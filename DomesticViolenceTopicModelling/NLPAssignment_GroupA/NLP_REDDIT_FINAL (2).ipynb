{
  "nbformat": 4,
  "nbformat_minor": 0,
  "metadata": {
    "colab": {
      "name": "2. NLP - REDDIT_FINAL.ipynb",
      "provenance": [],
      "toc_visible": true
    },
    "kernelspec": {
      "name": "python3",
      "display_name": "Python 3"
    }
  },
  "cells": [
    {
      "cell_type": "code",
      "metadata": {
        "id": "ZD1x7-ETjxbM",
        "colab_type": "code",
        "colab": {}
      },
      "source": [
        "import pandas as pd\n",
        "import numpy as np\n",
        "import matplotlib.pyplot as plt\n",
        "import seaborn as sns\n",
        "from textblob import TextBlob\n",
        "import warnings\n",
        "warnings.filterwarnings(\"ignore\")\n",
        "from nltk.corpus import stopwords\n",
        "import time\n",
        "import re\n",
        "import random\n",
        "import os\n",
        "from os import path\n",
        "import io\n",
        "from collections import Counter\n",
        "import nltk\n",
        "from nltk.corpus import sentiwordnet as swn\n",
        "from nltk.stem.porter import *\n",
        "from nltk.stem import PorterStemmer\n",
        "from nltk.stem.snowball import SnowballStemmer\n",
        "from nltk.tokenize import word_tokenize\n",
        "from nltk import RegexpTagger\n",
        "from nltk import AffixTagger\n",
        "from nltk import NgramTagger\n",
        "from nltk import UnigramTagger\n",
        "from nltk.corpus import brown\n",
        "from wordcloud import WordCloud, STOPWORDS \n",
        "import matplotlib.pyplot as plt \n",
        "from nltk.corpus import brown\n",
        "nltk.download('brown', quiet=True)\n",
        "nltk.download('universal_tagset', quiet=True)\n",
        "from PIL import Image"
      ],
      "execution_count": 0,
      "outputs": []
    },
    {
      "cell_type": "markdown",
      "metadata": {
        "id": "NZo9lKQ0kknG",
        "colab_type": "text"
      },
      "source": [
        "#Loading Data"
      ]
    },
    {
      "cell_type": "code",
      "metadata": {
        "id": "L4wPkckEkFNv",
        "colab_type": "code",
        "colab": {}
      },
      "source": [
        "df = pd.read_csv(\"7-NLP-REDDIT-2.csv\")"
      ],
      "execution_count": 0,
      "outputs": []
    },
    {
      "cell_type": "markdown",
      "metadata": {
        "id": "OGfkaXcAHzlg",
        "colab_type": "text"
      },
      "source": [
        "# Describing the Data Set \n",
        "The use of Reddit data was decided upon reviewing the subject \"domestic violence\" and \"domestic abuse\", where 10.2K users, mainly women share their testomonies of abuse either family abuse or relationship abuse of them or their friends, seeking different subjects as: testimonials, advice, doubts among others. \n",
        "\n",
        "We retrieved a sample of the data (821 testimonies) through a scrapping tool, due through the limitations of the scrapping tool (Scrape Storm)"
      ]
    },
    {
      "cell_type": "markdown",
      "metadata": {
        "id": "p6GeKuBrl_Sg",
        "colab_type": "text"
      },
      "source": [
        "# Pre Processing\n",
        "Since the column \"Title\", \"Body_1\",\"Body_2\" have all the components of the comments, we concatenate them, to have the whole testimonies. "
      ]
    },
    {
      "cell_type": "code",
      "metadata": {
        "id": "4BX03ygJmIlZ",
        "colab_type": "code",
        "colab": {}
      },
      "source": [
        "#concatanate title and content\n",
        "df['Content'] = df['Title'].map(str) + ' ' + df['Body_1'].map(str) + ' ' +  df['Body_2'].map(str)"
      ],
      "execution_count": 0,
      "outputs": []
    },
    {
      "cell_type": "code",
      "metadata": {
        "id": "OFp0RLsEnb0E",
        "colab_type": "code",
        "colab": {}
      },
      "source": [
        "# Remove Contractions \n",
        "def decontracted(phrase):\n",
        "    \"\"\"\n",
        "    Function uses regular expression to substitute common constructs used in text which \n",
        "    involve contractions.\n",
        "    A contraction is a shortened form of one or two words (one of which is usually a verb).\n",
        "    e.g. 'won't' will be replaced with 'will not'\n",
        "\n",
        "    parameters:\n",
        "    text (str): the text to use\n",
        "    \"\"\" \n",
        "    # specific\n",
        "    phrase = re.sub(r\"won\\'t\", \"will not\", phrase)\n",
        "    phrase = re.sub(r\"can\\'t\", \"can not\", phrase)\n",
        "    phrase = re.sub(r\"he\\ ’ s\", \"he is\", phrase)\n",
        "    phrase = re.sub(r\"i\\ ’ m\", \"he is\", phrase)\n",
        "   \n",
        "   \n",
        "\n",
        "    # general\n",
        "    phrase = re.sub(r\"n\\'t\", \" not\", phrase)\n",
        "    phrase = re.sub(r\"\\'re\", \" are\", phrase)\n",
        "    phrase = re.sub(r\"\\'s\", \" is\", phrase)\n",
        "    phrase = re.sub(r\"\\'d\", \" would\", phrase)\n",
        "    phrase = re.sub(r\"\\'ll\", \" will\", phrase)\n",
        "    phrase = re.sub(r\"\\'t\", \" not\", phrase)\n",
        "    phrase = re.sub(r\"\\'ve\", \" have\", phrase)\n",
        "    phrase = re.sub(r\"\\'m\", \" am\", phrase)\n",
        "    phrase = re.sub(r\"\\'didnt\", \" did not\", phrase)\n",
        "    return phrase"
      ],
      "execution_count": 0,
      "outputs": []
    },
    {
      "cell_type": "code",
      "metadata": {
        "id": "F84Hg7RynebC",
        "colab_type": "code",
        "colab": {}
      },
      "source": [
        "# Reduce words length to avoid misspelling like \"happpppy\" will be \"happy\"\n",
        "\n",
        "def reduce_lengthening(text):\n",
        "    \"\"\"\n",
        "    Function uses regular expression to correct spelling errors from the text which involve incorrect repeated letters\n",
        "\n",
        "    parameters:\n",
        "    text (str): the text to use\n",
        "    \"\"\"  \n",
        "    pattern = re.compile(r\"(.)\\1{2,}\")\n",
        "    return pattern.sub(r\"\\1\\1\", text)"
      ],
      "execution_count": 0,
      "outputs": []
    },
    {
      "cell_type": "code",
      "metadata": {
        "id": "R3rdjPzlnhVi",
        "colab_type": "code",
        "colab": {}
      },
      "source": [
        "# Apply the above pre-proessing functions to the Comment column\n",
        "\n",
        "df['Content']=df['Content'].apply(reduce_lengthening, 0) \n",
        "df['Content']=df['Content'].apply(decontracted, 0)"
      ],
      "execution_count": 0,
      "outputs": []
    },
    {
      "cell_type": "code",
      "metadata": {
        "id": "x6WNaLO_oDJy",
        "colab_type": "code",
        "outputId": "c3b59989-9afd-46f4-8e90-31e2fdedf78c",
        "colab": {
          "base_uri": "https://localhost:8080/",
          "height": 68
        }
      },
      "source": [
        "nltk.download('stopwords')"
      ],
      "execution_count": 9,
      "outputs": [
        {
          "output_type": "stream",
          "text": [
            "[nltk_data] Downloading package stopwords to /root/nltk_data...\n",
            "[nltk_data]   Unzipping corpora/stopwords.zip.\n"
          ],
          "name": "stdout"
        },
        {
          "output_type": "execute_result",
          "data": {
            "text/plain": [
              "True"
            ]
          },
          "metadata": {
            "tags": []
          },
          "execution_count": 9
        }
      ]
    },
    {
      "cell_type": "code",
      "metadata": {
        "id": "ArFagjfkoF3Z",
        "colab_type": "code",
        "colab": {}
      },
      "source": [
        "#Setting Stopwords\n",
        "\n",
        "from nltk.corpus import stopwords\n",
        "sw = stopwords.words('english')\n",
        "stw = sw + ['lot','frog','ppl','tldr','time','nan','thing', 'subject', 're', 'edu', 'use','good','really','quite','nice','well','little','need','keep','make','important','take','get','very','course','instructor','example']\n",
        "ps = PorterStemmer()\n",
        "lemmatizer = nltk.stem.WordNetLemmatizer()"
      ],
      "execution_count": 0,
      "outputs": []
    },
    {
      "cell_type": "code",
      "metadata": {
        "id": "XL29kKXuoHB_",
        "colab_type": "code",
        "colab": {}
      },
      "source": [
        "def nlpFunction(df):\n",
        "    \"\"\"\n",
        "    Function to carry out NLP type functions on the Comment text.\n",
        "    \n",
        "    the text is split into tokens \n",
        "    stopwords are removed\n",
        "    lemmatization is carried out\n",
        "      e.g.  am, are,is  => be\n",
        "            car, cars, car's, cars = > car\n",
        "    the <space> separated words are then added to a new column that will be used for sentiment analysis\n",
        "\n",
        "    parameters:\n",
        "    df (dataframe): the dataframe to use, the 'Comment' column is used \n",
        "    \"\"\" \n",
        "    df['com_token'] = df['Content'].str.lower().str.split()\n",
        "    df['com_remv'] = df['com_token'].apply(lambda x: [y for y in x if y not in stw]) #tokenization\n",
        "    df[\"com_lemma\"] = df['com_remv'].apply(lambda x : [lemmatizer.lemmatize(y) for y in x]) # lemmatization\n",
        "    df[\"com_tok_str\"] = df[\"com_lemma\"].apply(', '.join)\n",
        "    df[\"com_full\"] = df[\"com_lemma\"].apply(' '.join)\n",
        "    return df"
      ],
      "execution_count": 0,
      "outputs": []
    },
    {
      "cell_type": "code",
      "metadata": {
        "id": "jO0UbdAGoJQt",
        "colab_type": "code",
        "outputId": "764300f9-f861-4d13-8a3a-88a102dd3b40",
        "colab": {
          "base_uri": "https://localhost:8080/",
          "height": 51
        }
      },
      "source": [
        "nltk.download('wordnet')\n",
        "df = nlpFunction(df)\n",
        "df[\"Orig_comment\"] = df[\"Content\"]\n",
        "df[\"Comment\"] = df[\"com_full\"]"
      ],
      "execution_count": 12,
      "outputs": [
        {
          "output_type": "stream",
          "text": [
            "[nltk_data] Downloading package wordnet to /root/nltk_data...\n",
            "[nltk_data]   Unzipping corpora/wordnet.zip.\n"
          ],
          "name": "stdout"
        }
      ]
    },
    {
      "cell_type": "code",
      "metadata": {
        "id": "piMBDYfmoLPT",
        "colab_type": "code",
        "outputId": "dc3043ea-a454-4ebd-f691-b0a590e8b16c",
        "colab": {
          "base_uri": "https://localhost:8080/",
          "height": 204
        }
      },
      "source": [
        "df[['Orig_comment','Comment']].head()"
      ],
      "execution_count": 13,
      "outputs": [
        {
          "output_type": "execute_result",
          "data": {
            "text/html": [
              "<div>\n",
              "<style scoped>\n",
              "    .dataframe tbody tr th:only-of-type {\n",
              "        vertical-align: middle;\n",
              "    }\n",
              "\n",
              "    .dataframe tbody tr th {\n",
              "        vertical-align: top;\n",
              "    }\n",
              "\n",
              "    .dataframe thead th {\n",
              "        text-align: right;\n",
              "    }\n",
              "</style>\n",
              "<table border=\"1\" class=\"dataframe\">\n",
              "  <thead>\n",
              "    <tr style=\"text-align: right;\">\n",
              "      <th></th>\n",
              "      <th>Orig_comment</th>\n",
              "      <th>Comment</th>\n",
              "    </tr>\n",
              "  </thead>\n",
              "  <tbody>\n",
              "    <tr>\n",
              "      <th>0</th>\n",
              "      <td>COVID-19 RESOURCES FOR ABUSE VICTIMS nan nan</td>\n",
              "      <td>covid-19 resource abuse victim</td>\n",
              "    </tr>\n",
              "    <tr>\n",
              "      <th>1</th>\n",
              "      <td>Girl I’m “talking” to has a TPO out on her ex ...</td>\n",
              "      <td>girl i’m “talking” tpo ex messaged me. talking...</td>\n",
              "    </tr>\n",
              "    <tr>\n",
              "      <th>2</th>\n",
              "      <td>Coronavirus: How is lockdown affecting domesti...</td>\n",
              "      <td>coronavirus: lockdown affecting domestic viole...</td>\n",
              "    </tr>\n",
              "    <tr>\n",
              "      <th>3</th>\n",
              "      <td>Concerned friend.. What can I do? Hoping someo...</td>\n",
              "      <td>concerned friend.. do? hoping someone help she...</td>\n",
              "    </tr>\n",
              "    <tr>\n",
              "      <th>4</th>\n",
              "      <td>Is it rare that i am a guy who is abused by my...</td>\n",
              "      <td>rare guy abused mom? often feel pretty alone t...</td>\n",
              "    </tr>\n",
              "  </tbody>\n",
              "</table>\n",
              "</div>"
            ],
            "text/plain": [
              "                                        Orig_comment                                            Comment\n",
              "0       COVID-19 RESOURCES FOR ABUSE VICTIMS nan nan                     covid-19 resource abuse victim\n",
              "1  Girl I’m “talking” to has a TPO out on her ex ...  girl i’m “talking” tpo ex messaged me. talking...\n",
              "2  Coronavirus: How is lockdown affecting domesti...  coronavirus: lockdown affecting domestic viole...\n",
              "3  Concerned friend.. What can I do? Hoping someo...  concerned friend.. do? hoping someone help she...\n",
              "4  Is it rare that i am a guy who is abused by my...  rare guy abused mom? often feel pretty alone t..."
            ]
          },
          "metadata": {
            "tags": []
          },
          "execution_count": 13
        }
      ]
    },
    {
      "cell_type": "code",
      "metadata": {
        "id": "94yuDmkKoN-W",
        "colab_type": "code",
        "outputId": "b6f7a867-f2c1-4cd0-bd59-2b9f21ee1d47",
        "colab": {
          "base_uri": "https://localhost:8080/",
          "height": 34
        }
      },
      "source": [
        "import string\n",
        "def remove_punct(text):\n",
        "    table=str.maketrans('','',string.punctuation)\n",
        "    return text.translate(table)\n",
        "\n",
        "example=\"?disaster\"\n",
        "print(remove_punct(example))"
      ],
      "execution_count": 14,
      "outputs": [
        {
          "output_type": "stream",
          "text": [
            "disaster\n"
          ],
          "name": "stdout"
        }
      ]
    },
    {
      "cell_type": "code",
      "metadata": {
        "id": "H6Pd40m1oQMG",
        "colab_type": "code",
        "colab": {}
      },
      "source": [
        "df['Comment']=df['Comment'].apply(lambda x : remove_punct(x))"
      ],
      "execution_count": 0,
      "outputs": []
    },
    {
      "cell_type": "code",
      "metadata": {
        "id": "o24QRxn8oSGZ",
        "colab_type": "code",
        "outputId": "c1558d66-3afd-4c74-e2da-9e7759fe838a",
        "colab": {
          "base_uri": "https://localhost:8080/",
          "height": 34
        }
      },
      "source": [
        "df['Comment'][2]"
      ],
      "execution_count": 16,
      "outputs": [
        {
          "output_type": "execute_result",
          "data": {
            "text/plain": [
              "'coronavirus lockdown affecting domestic violence  stream'"
            ]
          },
          "metadata": {
            "tags": []
          },
          "execution_count": 16
        }
      ]
    },
    {
      "cell_type": "code",
      "metadata": {
        "id": "7bygOpKMoToi",
        "colab_type": "code",
        "colab": {}
      },
      "source": [
        ""
      ],
      "execution_count": 0,
      "outputs": []
    },
    {
      "cell_type": "markdown",
      "metadata": {
        "id": "mvfYiqKpoVTo",
        "colab_type": "text"
      },
      "source": [
        "# POS TAGGING"
      ]
    },
    {
      "cell_type": "code",
      "metadata": {
        "id": "6wETmxRkoYIt",
        "colab_type": "code",
        "outputId": "3d51faa4-96dd-4a55-f060-455e0f282bf3",
        "colab": {
          "base_uri": "https://localhost:8080/",
          "height": 119
        }
      },
      "source": [
        "#Import Libraries that threw errors\n",
        "\n",
        "import nltk\n",
        "nltk.download('punkt')\n",
        "nltk.download('averaged_perceptron_tagger')\n",
        "  "
      ],
      "execution_count": 0,
      "outputs": [
        {
          "output_type": "stream",
          "text": [
            "[nltk_data] Downloading package punkt to /root/nltk_data...\n",
            "[nltk_data]   Unzipping tokenizers/punkt.zip.\n",
            "[nltk_data] Downloading package averaged_perceptron_tagger to\n",
            "[nltk_data]     /root/nltk_data...\n",
            "[nltk_data]   Unzipping taggers/averaged_perceptron_tagger.zip.\n"
          ],
          "name": "stdout"
        },
        {
          "output_type": "execute_result",
          "data": {
            "text/plain": [
              "True"
            ]
          },
          "metadata": {
            "tags": []
          },
          "execution_count": 17
        }
      ]
    },
    {
      "cell_type": "code",
      "metadata": {
        "id": "H85yqzp8pHO0",
        "colab_type": "code",
        "colab": {}
      },
      "source": [
        "def pos_tagging(Comment):\n",
        "    pos_text = nltk.pos_tag(nltk.word_tokenize(Comment))\n",
        "    return \" \".join([t + \"_\" + pos for t, pos in pos_text])"
      ],
      "execution_count": 0,
      "outputs": []
    },
    {
      "cell_type": "code",
      "metadata": {
        "id": "mADHVPnwpJST",
        "colab_type": "code",
        "outputId": "21965206-70d9-4899-c131-a7442be6aa56",
        "colab": {
          "base_uri": "https://localhost:8080/",
          "height": 34
        }
      },
      "source": [
        "pos_tagging('This is a sentence')"
      ],
      "execution_count": 0,
      "outputs": [
        {
          "output_type": "execute_result",
          "data": {
            "text/plain": [
              "'This_DT is_VBZ a_DT sentence_NN'"
            ]
          },
          "metadata": {
            "tags": []
          },
          "execution_count": 19
        }
      ]
    },
    {
      "cell_type": "code",
      "metadata": {
        "id": "8MPpWwIwpS9Z",
        "colab_type": "code",
        "colab": {}
      },
      "source": [
        "df['pos_tagged_text'] = df.Comment.apply(pos_tagging)"
      ],
      "execution_count": 0,
      "outputs": []
    },
    {
      "cell_type": "code",
      "metadata": {
        "id": "hHqUpPoUpV9a",
        "colab_type": "code",
        "outputId": "f8f59cad-5f12-4f06-be0e-f465b2b46382",
        "colab": {
          "base_uri": "https://localhost:8080/",
          "height": 221
        }
      },
      "source": [
        "df.pos_tagged_text"
      ],
      "execution_count": 0,
      "outputs": [
        {
          "output_type": "execute_result",
          "data": {
            "text/plain": [
              "0              covid19_NN resource_NN abuse_NN victim_NN\n",
              "1      girl_NN i_NN ’_VBP m_NN “_NN talking_VBG ”_JJ ...\n",
              "2      coronavirus_NN lockdown_JJ affecting_VBG domes...\n",
              "3      concerned_JJ friend_NN do_VBP hoping_VBG someo...\n",
              "4      rare_JJ guy_NN abused_VBN mom_RB often_RB feel...\n",
              "                             ...                        \n",
              "816    does_VBZ too_RB whatever_WDT take_VB u_JJ work...\n",
              "817    feeling_VBG ex_NN texted_VBD lonely_RB red_JJ ...\n",
              "818    think_VB start_NN feeling_VBG isolated_VBN phy...\n",
              "819    over_IN finally_RB took_VBD matter_NN hand_NN ...\n",
              "820    over_IN finally_RB took_VBD matter_NN hand_NN ...\n",
              "Name: pos_tagged_text, Length: 821, dtype: object"
            ]
          },
          "metadata": {
            "tags": []
          },
          "execution_count": 21
        }
      ]
    },
    {
      "cell_type": "code",
      "metadata": {
        "id": "VzIvmeK1pX7H",
        "colab_type": "code",
        "colab": {}
      },
      "source": [
        "#Pos Taggin - Nouns\n",
        "def pos_tagging_only_nouns(Comment):\n",
        "    import nltk\n",
        "    pos_text = nltk.pos_tag(nltk.word_tokenize(Comment))\n",
        "    return \" \".join([t + \"_\" + pos for t, pos in pos_text if pos in ['NN', 'NNP', 'NNPS', 'NNS']])"
      ],
      "execution_count": 0,
      "outputs": []
    },
    {
      "cell_type": "code",
      "metadata": {
        "id": "OuSO8rscpa_v",
        "colab_type": "code",
        "outputId": "e49ee4d9-31be-4848-ddb5-f6e0b3a41a30",
        "colab": {
          "base_uri": "https://localhost:8080/",
          "height": 34
        }
      },
      "source": [
        "pos_tagging_only_nouns('This is a abuse')"
      ],
      "execution_count": 0,
      "outputs": [
        {
          "output_type": "execute_result",
          "data": {
            "text/plain": [
              "'abuse_NN'"
            ]
          },
          "metadata": {
            "tags": []
          },
          "execution_count": 23
        }
      ]
    },
    {
      "cell_type": "code",
      "metadata": {
        "id": "XI-6FPj4pdn-",
        "colab_type": "code",
        "colab": {}
      },
      "source": [
        "df['nouns'] = df.Comment.apply(pos_tagging_only_nouns)"
      ],
      "execution_count": 0,
      "outputs": []
    },
    {
      "cell_type": "code",
      "metadata": {
        "id": "e1wpVGbqpfQl",
        "colab_type": "code",
        "outputId": "0cf8fb97-e994-4680-d0be-abaa928c5a79",
        "colab": {
          "base_uri": "https://localhost:8080/",
          "height": 221
        }
      },
      "source": [
        "df.nouns"
      ],
      "execution_count": 0,
      "outputs": [
        {
          "output_type": "execute_result",
          "data": {
            "text/plain": [
              "0              covid19_NN resource_NN abuse_NN victim_NN\n",
              "1      girl_NN i_NN m_NN “_NN tpo_NN ex_NN weeks_NNS ...\n",
              "2                   coronavirus_NN violence_NN stream_NN\n",
              "3      friend_NN someone_NN help_NN situation_NN frie...\n",
              "4      guy_NN experience_NN cuz_NN people_NNS woman_N...\n",
              "                             ...                        \n",
              "816    work_NN year_NN situation_NN way_NN years_NNS ...\n",
              "817    ex_NN heart_NN ’_NNP t_NN months_NNS man_NN li...\n",
              "818    start_NN path_NN feel_NN couple_NN night_NN wa...\n",
              "819    matter_NN hand_NN year_NN year_NN drain_NN mar...\n",
              "820    matter_NN hand_NN year_NN year_NN drain_NN mar...\n",
              "Name: nouns, Length: 821, dtype: object"
            ]
          },
          "metadata": {
            "tags": []
          },
          "execution_count": 25
        }
      ]
    },
    {
      "cell_type": "code",
      "metadata": {
        "id": "nYp4ez6Tpg3X",
        "colab_type": "code",
        "colab": {}
      },
      "source": [
        ""
      ],
      "execution_count": 0,
      "outputs": []
    },
    {
      "cell_type": "markdown",
      "metadata": {
        "id": "xaBYvJUUpifA",
        "colab_type": "text"
      },
      "source": [
        "NER\n",
        "Information extraction that seeks to locate and classify named entities in text into pre-defined categories.\n",
        "\n",
        "it can help answering many real-world questions, such as:\n",
        "Which companies were mentioned in the news article?\n",
        "Were specified products mentioned in complaints or reviews?\n",
        "Does the tweet contain the name of a person? Does the tweet contain this person’s location?"
      ]
    },
    {
      "cell_type": "code",
      "metadata": {
        "id": "_oZzpU_pp3jn",
        "colab_type": "code",
        "outputId": "4bd744c2-a4d5-4663-d986-2d7e642725a1",
        "colab": {
          "base_uri": "https://localhost:8080/",
          "height": 1000
        }
      },
      "source": [
        "\n",
        "from nltk.corpus import conll2000\n",
        "from nltk.chunk import conlltags2tree, tree2conlltags\n",
        "from nltk.chunk import ne_chunk\n",
        "from nltk import pos_tag\n",
        "nltk.download('all')"
      ],
      "execution_count": 0,
      "outputs": [
        {
          "output_type": "stream",
          "text": [
            "[nltk_data] Downloading collection 'all'\n",
            "[nltk_data]    | \n",
            "[nltk_data]    | Downloading package abc to /root/nltk_data...\n",
            "[nltk_data]    |   Unzipping corpora/abc.zip.\n",
            "[nltk_data]    | Downloading package alpino to /root/nltk_data...\n",
            "[nltk_data]    |   Unzipping corpora/alpino.zip.\n",
            "[nltk_data]    | Downloading package biocreative_ppi to\n",
            "[nltk_data]    |     /root/nltk_data...\n",
            "[nltk_data]    |   Unzipping corpora/biocreative_ppi.zip.\n",
            "[nltk_data]    | Downloading package brown to /root/nltk_data...\n",
            "[nltk_data]    |   Package brown is already up-to-date!\n",
            "[nltk_data]    | Downloading package brown_tei to /root/nltk_data...\n",
            "[nltk_data]    |   Unzipping corpora/brown_tei.zip.\n",
            "[nltk_data]    | Downloading package cess_cat to /root/nltk_data...\n",
            "[nltk_data]    |   Unzipping corpora/cess_cat.zip.\n",
            "[nltk_data]    | Downloading package cess_esp to /root/nltk_data...\n",
            "[nltk_data]    |   Unzipping corpora/cess_esp.zip.\n",
            "[nltk_data]    | Downloading package chat80 to /root/nltk_data...\n",
            "[nltk_data]    |   Unzipping corpora/chat80.zip.\n",
            "[nltk_data]    | Downloading package city_database to\n",
            "[nltk_data]    |     /root/nltk_data...\n",
            "[nltk_data]    |   Unzipping corpora/city_database.zip.\n",
            "[nltk_data]    | Downloading package cmudict to /root/nltk_data...\n",
            "[nltk_data]    |   Unzipping corpora/cmudict.zip.\n",
            "[nltk_data]    | Downloading package comparative_sentences to\n",
            "[nltk_data]    |     /root/nltk_data...\n",
            "[nltk_data]    |   Unzipping corpora/comparative_sentences.zip.\n",
            "[nltk_data]    | Downloading package comtrans to /root/nltk_data...\n",
            "[nltk_data]    | Downloading package conll2000 to /root/nltk_data...\n",
            "[nltk_data]    |   Unzipping corpora/conll2000.zip.\n",
            "[nltk_data]    | Downloading package conll2002 to /root/nltk_data...\n",
            "[nltk_data]    |   Unzipping corpora/conll2002.zip.\n",
            "[nltk_data]    | Downloading package conll2007 to /root/nltk_data...\n",
            "[nltk_data]    | Downloading package crubadan to /root/nltk_data...\n",
            "[nltk_data]    |   Unzipping corpora/crubadan.zip.\n",
            "[nltk_data]    | Downloading package dependency_treebank to\n",
            "[nltk_data]    |     /root/nltk_data...\n",
            "[nltk_data]    |   Unzipping corpora/dependency_treebank.zip.\n",
            "[nltk_data]    | Downloading package dolch to /root/nltk_data...\n",
            "[nltk_data]    |   Unzipping corpora/dolch.zip.\n",
            "[nltk_data]    | Downloading package europarl_raw to\n",
            "[nltk_data]    |     /root/nltk_data...\n",
            "[nltk_data]    |   Unzipping corpora/europarl_raw.zip.\n",
            "[nltk_data]    | Downloading package floresta to /root/nltk_data...\n",
            "[nltk_data]    |   Unzipping corpora/floresta.zip.\n",
            "[nltk_data]    | Downloading package framenet_v15 to\n",
            "[nltk_data]    |     /root/nltk_data...\n",
            "[nltk_data]    |   Unzipping corpora/framenet_v15.zip.\n",
            "[nltk_data]    | Downloading package framenet_v17 to\n",
            "[nltk_data]    |     /root/nltk_data...\n",
            "[nltk_data]    |   Unzipping corpora/framenet_v17.zip.\n",
            "[nltk_data]    | Downloading package gazetteers to /root/nltk_data...\n",
            "[nltk_data]    |   Unzipping corpora/gazetteers.zip.\n",
            "[nltk_data]    | Downloading package genesis to /root/nltk_data...\n",
            "[nltk_data]    |   Unzipping corpora/genesis.zip.\n",
            "[nltk_data]    | Downloading package gutenberg to /root/nltk_data...\n",
            "[nltk_data]    |   Unzipping corpora/gutenberg.zip.\n",
            "[nltk_data]    | Downloading package ieer to /root/nltk_data...\n",
            "[nltk_data]    |   Unzipping corpora/ieer.zip.\n",
            "[nltk_data]    | Downloading package inaugural to /root/nltk_data...\n",
            "[nltk_data]    |   Unzipping corpora/inaugural.zip.\n",
            "[nltk_data]    | Downloading package indian to /root/nltk_data...\n",
            "[nltk_data]    |   Unzipping corpora/indian.zip.\n",
            "[nltk_data]    | Downloading package jeita to /root/nltk_data...\n",
            "[nltk_data]    | Downloading package kimmo to /root/nltk_data...\n",
            "[nltk_data]    |   Unzipping corpora/kimmo.zip.\n",
            "[nltk_data]    | Downloading package knbc to /root/nltk_data...\n",
            "[nltk_data]    | Downloading package lin_thesaurus to\n",
            "[nltk_data]    |     /root/nltk_data...\n",
            "[nltk_data]    |   Unzipping corpora/lin_thesaurus.zip.\n",
            "[nltk_data]    | Downloading package mac_morpho to /root/nltk_data...\n",
            "[nltk_data]    |   Unzipping corpora/mac_morpho.zip.\n",
            "[nltk_data]    | Downloading package machado to /root/nltk_data...\n",
            "[nltk_data]    | Downloading package masc_tagged to /root/nltk_data...\n",
            "[nltk_data]    | Downloading package moses_sample to\n",
            "[nltk_data]    |     /root/nltk_data...\n",
            "[nltk_data]    |   Unzipping models/moses_sample.zip.\n",
            "[nltk_data]    | Downloading package movie_reviews to\n",
            "[nltk_data]    |     /root/nltk_data...\n",
            "[nltk_data]    |   Unzipping corpora/movie_reviews.zip.\n",
            "[nltk_data]    | Downloading package names to /root/nltk_data...\n",
            "[nltk_data]    |   Unzipping corpora/names.zip.\n",
            "[nltk_data]    | Downloading package nombank.1.0 to /root/nltk_data...\n",
            "[nltk_data]    | Downloading package nps_chat to /root/nltk_data...\n",
            "[nltk_data]    |   Unzipping corpora/nps_chat.zip.\n",
            "[nltk_data]    | Downloading package omw to /root/nltk_data...\n",
            "[nltk_data]    |   Unzipping corpora/omw.zip.\n",
            "[nltk_data]    | Downloading package opinion_lexicon to\n",
            "[nltk_data]    |     /root/nltk_data...\n",
            "[nltk_data]    |   Unzipping corpora/opinion_lexicon.zip.\n",
            "[nltk_data]    | Downloading package paradigms to /root/nltk_data...\n",
            "[nltk_data]    |   Unzipping corpora/paradigms.zip.\n",
            "[nltk_data]    | Downloading package pil to /root/nltk_data...\n",
            "[nltk_data]    |   Unzipping corpora/pil.zip.\n",
            "[nltk_data]    | Downloading package pl196x to /root/nltk_data...\n",
            "[nltk_data]    |   Unzipping corpora/pl196x.zip.\n",
            "[nltk_data]    | Downloading package ppattach to /root/nltk_data...\n",
            "[nltk_data]    |   Unzipping corpora/ppattach.zip.\n",
            "[nltk_data]    | Downloading package problem_reports to\n",
            "[nltk_data]    |     /root/nltk_data...\n",
            "[nltk_data]    |   Unzipping corpora/problem_reports.zip.\n",
            "[nltk_data]    | Downloading package propbank to /root/nltk_data...\n",
            "[nltk_data]    | Downloading package ptb to /root/nltk_data...\n",
            "[nltk_data]    |   Unzipping corpora/ptb.zip.\n",
            "[nltk_data]    | Downloading package product_reviews_1 to\n",
            "[nltk_data]    |     /root/nltk_data...\n",
            "[nltk_data]    |   Unzipping corpora/product_reviews_1.zip.\n",
            "[nltk_data]    | Downloading package product_reviews_2 to\n",
            "[nltk_data]    |     /root/nltk_data...\n",
            "[nltk_data]    |   Unzipping corpora/product_reviews_2.zip.\n",
            "[nltk_data]    | Downloading package pros_cons to /root/nltk_data...\n",
            "[nltk_data]    |   Unzipping corpora/pros_cons.zip.\n",
            "[nltk_data]    | Downloading package qc to /root/nltk_data...\n",
            "[nltk_data]    |   Unzipping corpora/qc.zip.\n",
            "[nltk_data]    | Downloading package reuters to /root/nltk_data...\n",
            "[nltk_data]    | Downloading package rte to /root/nltk_data...\n",
            "[nltk_data]    |   Unzipping corpora/rte.zip.\n",
            "[nltk_data]    | Downloading package semcor to /root/nltk_data...\n",
            "[nltk_data]    | Downloading package senseval to /root/nltk_data...\n",
            "[nltk_data]    |   Unzipping corpora/senseval.zip.\n",
            "[nltk_data]    | Downloading package sentiwordnet to\n",
            "[nltk_data]    |     /root/nltk_data...\n",
            "[nltk_data]    |   Unzipping corpora/sentiwordnet.zip.\n",
            "[nltk_data]    | Downloading package sentence_polarity to\n",
            "[nltk_data]    |     /root/nltk_data...\n",
            "[nltk_data]    |   Unzipping corpora/sentence_polarity.zip.\n",
            "[nltk_data]    | Downloading package shakespeare to /root/nltk_data...\n",
            "[nltk_data]    |   Unzipping corpora/shakespeare.zip.\n",
            "[nltk_data]    | Downloading package sinica_treebank to\n",
            "[nltk_data]    |     /root/nltk_data...\n",
            "[nltk_data]    |   Unzipping corpora/sinica_treebank.zip.\n",
            "[nltk_data]    | Downloading package smultron to /root/nltk_data...\n",
            "[nltk_data]    |   Unzipping corpora/smultron.zip.\n",
            "[nltk_data]    | Downloading package state_union to /root/nltk_data...\n",
            "[nltk_data]    |   Unzipping corpora/state_union.zip.\n",
            "[nltk_data]    | Downloading package stopwords to /root/nltk_data...\n",
            "[nltk_data]    |   Package stopwords is already up-to-date!\n",
            "[nltk_data]    | Downloading package subjectivity to\n",
            "[nltk_data]    |     /root/nltk_data...\n",
            "[nltk_data]    |   Unzipping corpora/subjectivity.zip.\n",
            "[nltk_data]    | Downloading package swadesh to /root/nltk_data...\n",
            "[nltk_data]    |   Unzipping corpora/swadesh.zip.\n",
            "[nltk_data]    | Downloading package switchboard to /root/nltk_data...\n",
            "[nltk_data]    |   Unzipping corpora/switchboard.zip.\n",
            "[nltk_data]    | Downloading package timit to /root/nltk_data...\n",
            "[nltk_data]    |   Unzipping corpora/timit.zip.\n",
            "[nltk_data]    | Downloading package toolbox to /root/nltk_data...\n",
            "[nltk_data]    |   Unzipping corpora/toolbox.zip.\n",
            "[nltk_data]    | Downloading package treebank to /root/nltk_data...\n",
            "[nltk_data]    |   Unzipping corpora/treebank.zip.\n",
            "[nltk_data]    | Downloading package twitter_samples to\n",
            "[nltk_data]    |     /root/nltk_data...\n",
            "[nltk_data]    |   Unzipping corpora/twitter_samples.zip.\n",
            "[nltk_data]    | Downloading package udhr to /root/nltk_data...\n",
            "[nltk_data]    |   Unzipping corpora/udhr.zip.\n",
            "[nltk_data]    | Downloading package udhr2 to /root/nltk_data...\n",
            "[nltk_data]    |   Unzipping corpora/udhr2.zip.\n",
            "[nltk_data]    | Downloading package unicode_samples to\n",
            "[nltk_data]    |     /root/nltk_data...\n",
            "[nltk_data]    |   Unzipping corpora/unicode_samples.zip.\n",
            "[nltk_data]    | Downloading package universal_treebanks_v20 to\n",
            "[nltk_data]    |     /root/nltk_data...\n",
            "[nltk_data]    | Downloading package verbnet to /root/nltk_data...\n",
            "[nltk_data]    |   Unzipping corpora/verbnet.zip.\n",
            "[nltk_data]    | Downloading package verbnet3 to /root/nltk_data...\n",
            "[nltk_data]    |   Unzipping corpora/verbnet3.zip.\n",
            "[nltk_data]    | Downloading package webtext to /root/nltk_data...\n",
            "[nltk_data]    |   Unzipping corpora/webtext.zip.\n",
            "[nltk_data]    | Downloading package wordnet to /root/nltk_data...\n",
            "[nltk_data]    |   Package wordnet is already up-to-date!\n",
            "[nltk_data]    | Downloading package wordnet_ic to /root/nltk_data...\n",
            "[nltk_data]    |   Unzipping corpora/wordnet_ic.zip.\n",
            "[nltk_data]    | Downloading package words to /root/nltk_data...\n",
            "[nltk_data]    |   Unzipping corpora/words.zip.\n",
            "[nltk_data]    | Downloading package ycoe to /root/nltk_data...\n",
            "[nltk_data]    |   Unzipping corpora/ycoe.zip.\n",
            "[nltk_data]    | Downloading package rslp to /root/nltk_data...\n",
            "[nltk_data]    |   Unzipping stemmers/rslp.zip.\n",
            "[nltk_data]    | Downloading package maxent_treebank_pos_tagger to\n",
            "[nltk_data]    |     /root/nltk_data...\n",
            "[nltk_data]    |   Unzipping taggers/maxent_treebank_pos_tagger.zip.\n",
            "[nltk_data]    | Downloading package universal_tagset to\n",
            "[nltk_data]    |     /root/nltk_data...\n",
            "[nltk_data]    |   Package universal_tagset is already up-to-date!\n",
            "[nltk_data]    | Downloading package maxent_ne_chunker to\n",
            "[nltk_data]    |     /root/nltk_data...\n",
            "[nltk_data]    |   Unzipping chunkers/maxent_ne_chunker.zip.\n",
            "[nltk_data]    | Downloading package punkt to /root/nltk_data...\n",
            "[nltk_data]    |   Package punkt is already up-to-date!\n",
            "[nltk_data]    | Downloading package book_grammars to\n",
            "[nltk_data]    |     /root/nltk_data...\n",
            "[nltk_data]    |   Unzipping grammars/book_grammars.zip.\n",
            "[nltk_data]    | Downloading package sample_grammars to\n",
            "[nltk_data]    |     /root/nltk_data...\n",
            "[nltk_data]    |   Unzipping grammars/sample_grammars.zip.\n",
            "[nltk_data]    | Downloading package spanish_grammars to\n",
            "[nltk_data]    |     /root/nltk_data...\n",
            "[nltk_data]    |   Unzipping grammars/spanish_grammars.zip.\n",
            "[nltk_data]    | Downloading package basque_grammars to\n",
            "[nltk_data]    |     /root/nltk_data...\n",
            "[nltk_data]    |   Unzipping grammars/basque_grammars.zip.\n",
            "[nltk_data]    | Downloading package large_grammars to\n",
            "[nltk_data]    |     /root/nltk_data...\n",
            "[nltk_data]    |   Unzipping grammars/large_grammars.zip.\n",
            "[nltk_data]    | Downloading package tagsets to /root/nltk_data...\n",
            "[nltk_data]    |   Unzipping help/tagsets.zip.\n",
            "[nltk_data]    | Downloading package snowball_data to\n",
            "[nltk_data]    |     /root/nltk_data...\n",
            "[nltk_data]    | Downloading package bllip_wsj_no_aux to\n",
            "[nltk_data]    |     /root/nltk_data...\n",
            "[nltk_data]    |   Unzipping models/bllip_wsj_no_aux.zip.\n",
            "[nltk_data]    | Downloading package word2vec_sample to\n",
            "[nltk_data]    |     /root/nltk_data...\n",
            "[nltk_data]    |   Unzipping models/word2vec_sample.zip.\n",
            "[nltk_data]    | Downloading package panlex_swadesh to\n",
            "[nltk_data]    |     /root/nltk_data...\n",
            "[nltk_data]    | Downloading package mte_teip5 to /root/nltk_data...\n",
            "[nltk_data]    |   Unzipping corpora/mte_teip5.zip.\n",
            "[nltk_data]    | Downloading package averaged_perceptron_tagger to\n",
            "[nltk_data]    |     /root/nltk_data...\n",
            "[nltk_data]    |   Package averaged_perceptron_tagger is already up-\n",
            "[nltk_data]    |       to-date!\n",
            "[nltk_data]    | Downloading package averaged_perceptron_tagger_ru to\n",
            "[nltk_data]    |     /root/nltk_data...\n",
            "[nltk_data]    |   Unzipping\n",
            "[nltk_data]    |       taggers/averaged_perceptron_tagger_ru.zip.\n",
            "[nltk_data]    | Downloading package perluniprops to\n",
            "[nltk_data]    |     /root/nltk_data...\n",
            "[nltk_data]    |   Unzipping misc/perluniprops.zip.\n",
            "[nltk_data]    | Downloading package nonbreaking_prefixes to\n",
            "[nltk_data]    |     /root/nltk_data...\n",
            "[nltk_data]    |   Unzipping corpora/nonbreaking_prefixes.zip.\n",
            "[nltk_data]    | Downloading package vader_lexicon to\n",
            "[nltk_data]    |     /root/nltk_data...\n",
            "[nltk_data]    | Downloading package porter_test to /root/nltk_data...\n",
            "[nltk_data]    |   Unzipping stemmers/porter_test.zip.\n",
            "[nltk_data]    | Downloading package wmt15_eval to /root/nltk_data...\n",
            "[nltk_data]    |   Unzipping models/wmt15_eval.zip.\n",
            "[nltk_data]    | Downloading package mwa_ppdb to /root/nltk_data...\n",
            "[nltk_data]    |   Unzipping misc/mwa_ppdb.zip.\n",
            "[nltk_data]    | \n",
            "[nltk_data]  Done downloading collection all\n"
          ],
          "name": "stdout"
        },
        {
          "output_type": "execute_result",
          "data": {
            "text/plain": [
              "True"
            ]
          },
          "metadata": {
            "tags": []
          },
          "execution_count": 26
        }
      ]
    },
    {
      "cell_type": "code",
      "metadata": {
        "id": "Rx8SzU1vp6O_",
        "colab_type": "code",
        "colab": {}
      },
      "source": [
        "def ner_tagging(Comment):\n",
        "    pos_text = nltk.pos_tag(nltk.word_tokenize(Comment))\n",
        "    ne_text  = ne_chunk(pos_text)\n",
        "\n",
        "    \n",
        "    ner_text = \"\"\n",
        "    for chunk in ne_text:\n",
        "        if hasattr(chunk, 'label'):\n",
        "            ner_text=ner_text +\"NER_\"+chunk.label()+\" \"\n",
        "        else:\n",
        "            ner_text=ner_text+str(chunk[0])+\" \"\n",
        "    return ner_text"
      ],
      "execution_count": 0,
      "outputs": []
    },
    {
      "cell_type": "code",
      "metadata": {
        "id": "KDVNqTMUuQRB",
        "colab_type": "code",
        "outputId": "b9fd0268-da2c-457a-908d-0c5350c28566",
        "colab": {
          "base_uri": "https://localhost:8080/",
          "height": 34
        }
      },
      "source": [
        "ner_tagging(\"President Trump Australia said that the crisis was over, according to the Wall Street Journal\")"
      ],
      "execution_count": 0,
      "outputs": [
        {
          "output_type": "execute_result",
          "data": {
            "text/plain": [
              "'President NER_PERSON said that the crisis was over , according to the NER_FACILITY '"
            ]
          },
          "metadata": {
            "tags": []
          },
          "execution_count": 28
        }
      ]
    },
    {
      "cell_type": "code",
      "metadata": {
        "id": "T0ClrhZEuUX6",
        "colab_type": "code",
        "outputId": "469a1735-52f1-49c4-e74b-1f3cea38b862",
        "colab": {
          "base_uri": "https://localhost:8080/",
          "height": 54
        }
      },
      "source": [
        "ner_tagging(\"aid pay legal fee tldr anyone know aid program help pay back legal fee accrued due domestic violence advicedirection would greatly appreciated ex convited judge trial maryland assulting stalking me appealed violated order landing court five time seven months paid lawyer 200 represent me my ex conviction upheld entire time\")"
      ],
      "execution_count": 0,
      "outputs": [
        {
          "output_type": "execute_result",
          "data": {
            "text/plain": [
              "'aid pay legal fee tldr anyone know aid program help pay back legal fee accrued due domestic violence advicedirection would greatly appreciated ex convited judge trial maryland assulting stalking me appealed violated order landing court five time seven months paid lawyer 200 represent me my ex conviction upheld entire time '"
            ]
          },
          "metadata": {
            "tags": []
          },
          "execution_count": 29
        }
      ]
    },
    {
      "cell_type": "code",
      "metadata": {
        "id": "NImWOV99uWsc",
        "colab_type": "code",
        "outputId": "4b420308-5ffb-4193-f47c-9c101c4858e6",
        "colab": {
          "base_uri": "https://localhost:8080/",
          "height": 54
        }
      },
      "source": [
        "df['Comment'][200]"
      ],
      "execution_count": 0,
      "outputs": [
        {
          "output_type": "execute_result",
          "data": {
            "text/plain": [
              "'think domestic violence  i’m 16f boyfriend 17m got licence recently picked took house life town mum  dad lot property anyway room house annoying trying convince thing wasn’t comfortable kept saying no wouldn’t stop asking said wanted go home said wouldn’t drive home atleast tried wanted ‘see liked it’  asking blow him'"
            ]
          },
          "metadata": {
            "tags": []
          },
          "execution_count": 31
        }
      ]
    },
    {
      "cell_type": "code",
      "metadata": {
        "id": "qJcvywkkudr1",
        "colab_type": "code",
        "colab": {}
      },
      "source": [
        "df['NER'] = df.Comment.apply(ner_tagging)"
      ],
      "execution_count": 0,
      "outputs": []
    },
    {
      "cell_type": "markdown",
      "metadata": {
        "id": "98Nfaacru8Vs",
        "colab_type": "text"
      },
      "source": [
        "# Topic Modeling"
      ]
    },
    {
      "cell_type": "code",
      "metadata": {
        "id": "j56ucs0ourzP",
        "colab_type": "code",
        "outputId": "2872e337-c8f2-4f8b-ef02-6e8d72f77425",
        "colab": {
          "base_uri": "https://localhost:8080/",
          "height": 632
        }
      },
      "source": [
        "pip install pyldavis"
      ],
      "execution_count": 17,
      "outputs": [
        {
          "output_type": "stream",
          "text": [
            "Collecting pyldavis\n",
            "\u001b[?25l  Downloading https://files.pythonhosted.org/packages/a5/3a/af82e070a8a96e13217c8f362f9a73e82d61ac8fff3a2561946a97f96266/pyLDAvis-2.1.2.tar.gz (1.6MB)\n",
            "\u001b[K     |████████████████████████████████| 1.6MB 2.8MB/s \n",
            "\u001b[?25hRequirement already satisfied: wheel>=0.23.0 in /usr/local/lib/python3.6/dist-packages (from pyldavis) (0.34.2)\n",
            "Requirement already satisfied: numpy>=1.9.2 in /usr/local/lib/python3.6/dist-packages (from pyldavis) (1.18.3)\n",
            "Requirement already satisfied: scipy>=0.18.0 in /usr/local/lib/python3.6/dist-packages (from pyldavis) (1.4.1)\n",
            "Requirement already satisfied: pandas>=0.17.0 in /usr/local/lib/python3.6/dist-packages (from pyldavis) (1.0.3)\n",
            "Requirement already satisfied: joblib>=0.8.4 in /usr/local/lib/python3.6/dist-packages (from pyldavis) (0.14.1)\n",
            "Requirement already satisfied: jinja2>=2.7.2 in /usr/local/lib/python3.6/dist-packages (from pyldavis) (2.11.2)\n",
            "Requirement already satisfied: numexpr in /usr/local/lib/python3.6/dist-packages (from pyldavis) (2.7.1)\n",
            "Requirement already satisfied: pytest in /usr/local/lib/python3.6/dist-packages (from pyldavis) (3.6.4)\n",
            "Requirement already satisfied: future in /usr/local/lib/python3.6/dist-packages (from pyldavis) (0.16.0)\n",
            "Collecting funcy\n",
            "\u001b[?25l  Downloading https://files.pythonhosted.org/packages/ce/4b/6ffa76544e46614123de31574ad95758c421aae391a1764921b8a81e1eae/funcy-1.14.tar.gz (548kB)\n",
            "\u001b[K     |████████████████████████████████| 552kB 46.2MB/s \n",
            "\u001b[?25hRequirement already satisfied: pytz>=2017.2 in /usr/local/lib/python3.6/dist-packages (from pandas>=0.17.0->pyldavis) (2018.9)\n",
            "Requirement already satisfied: python-dateutil>=2.6.1 in /usr/local/lib/python3.6/dist-packages (from pandas>=0.17.0->pyldavis) (2.8.1)\n",
            "Requirement already satisfied: MarkupSafe>=0.23 in /usr/local/lib/python3.6/dist-packages (from jinja2>=2.7.2->pyldavis) (1.1.1)\n",
            "Requirement already satisfied: six>=1.10.0 in /usr/local/lib/python3.6/dist-packages (from pytest->pyldavis) (1.12.0)\n",
            "Requirement already satisfied: setuptools in /usr/local/lib/python3.6/dist-packages (from pytest->pyldavis) (46.1.3)\n",
            "Requirement already satisfied: pluggy<0.8,>=0.5 in /usr/local/lib/python3.6/dist-packages (from pytest->pyldavis) (0.7.1)\n",
            "Requirement already satisfied: py>=1.5.0 in /usr/local/lib/python3.6/dist-packages (from pytest->pyldavis) (1.8.1)\n",
            "Requirement already satisfied: atomicwrites>=1.0 in /usr/local/lib/python3.6/dist-packages (from pytest->pyldavis) (1.3.0)\n",
            "Requirement already satisfied: attrs>=17.4.0 in /usr/local/lib/python3.6/dist-packages (from pytest->pyldavis) (19.3.0)\n",
            "Requirement already satisfied: more-itertools>=4.0.0 in /usr/local/lib/python3.6/dist-packages (from pytest->pyldavis) (8.2.0)\n",
            "Building wheels for collected packages: pyldavis, funcy\n",
            "  Building wheel for pyldavis (setup.py) ... \u001b[?25l\u001b[?25hdone\n",
            "  Created wheel for pyldavis: filename=pyLDAvis-2.1.2-py2.py3-none-any.whl size=97711 sha256=54a3083ddbfd88575e6aca3cc95099edfdbcd46b52a96e861aa482084773aeaa\n",
            "  Stored in directory: /root/.cache/pip/wheels/98/71/24/513a99e58bb6b8465bae4d2d5e9dba8f0bef8179e3051ac414\n",
            "  Building wheel for funcy (setup.py) ... \u001b[?25l\u001b[?25hdone\n",
            "  Created wheel for funcy: filename=funcy-1.14-py2.py3-none-any.whl size=32042 sha256=4aa40981ee4b7e7c3b38bd94d65bc9fa92614914b6a15dcb6454b4b09661966f\n",
            "  Stored in directory: /root/.cache/pip/wheels/20/5a/d8/1d875df03deae6f178dfdf70238cca33f948ef8a6f5209f2eb\n",
            "Successfully built pyldavis funcy\n",
            "Installing collected packages: funcy, pyldavis\n",
            "Successfully installed funcy-1.14 pyldavis-2.1.2\n"
          ],
          "name": "stdout"
        }
      ]
    },
    {
      "cell_type": "code",
      "metadata": {
        "id": "ijgdFlruvR0q",
        "colab_type": "code",
        "colab": {}
      },
      "source": [
        "try:\n",
        "    import re2 as re\n",
        "except ImportError:\n",
        "    import re\n",
        "import numpy as np\n",
        "import pandas as pd\n",
        "from pprint import pprint\n",
        "\n",
        "# Gensim\n",
        "import gensim\n",
        "import gensim.corpora as corpora\n",
        "from gensim.utils import simple_preprocess\n",
        "from gensim.models import CoherenceModel\n",
        "\n",
        "# spacy for lemmatization\n",
        "import spacy\n",
        "\n",
        "# Plotting tools\n",
        "import pyLDAvis\n",
        "import pyLDAvis.gensim  # don't skip this\n",
        "import matplotlib.pyplot as plt\n",
        "import logging\n",
        "logging.basicConfig(format='%(asctime)s : %(levelname)s : %(message)s', level=logging.ERROR)\n",
        "\n",
        "import warnings\n",
        "warnings.filterwarnings(\"ignore\",category=DeprecationWarning)\n",
        "%matplotlib inline"
      ],
      "execution_count": 0,
      "outputs": []
    },
    {
      "cell_type": "code",
      "metadata": {
        "id": "xkI0kOcLvWop",
        "colab_type": "code",
        "colab": {}
      },
      "source": [
        "import re\n",
        "def remove_URL(text):\n",
        "    url = re.compile(r'https?://\\S+|www\\.\\S+')\n",
        "    return url.sub(r'',text)"
      ],
      "execution_count": 0,
      "outputs": []
    },
    {
      "cell_type": "code",
      "metadata": {
        "id": "3XUiBD2ivYyc",
        "colab_type": "code",
        "colab": {}
      },
      "source": [
        "df['Comment']=df['Comment'].apply(lambda x : remove_URL(x))"
      ],
      "execution_count": 0,
      "outputs": []
    },
    {
      "cell_type": "code",
      "metadata": {
        "id": "Hq2wXGiHvb3j",
        "colab_type": "code",
        "outputId": "4a083c75-ed46-486e-dec3-764ff187591f",
        "colab": {
          "base_uri": "https://localhost:8080/",
          "height": 1000
        }
      },
      "source": [
        "# Convert to list\n",
        "data = df['Comment'].values.tolist()\n",
        "pprint(data[:20])"
      ],
      "execution_count": 21,
      "outputs": [
        {
          "output_type": "stream",
          "text": [
            "['covid19 resource abuse victim',\n",
            " 'girl i’m “talking” tpo ex messaged me talking girl fairly frequently last 3 '\n",
            " 'weeks first week talking supposed come hang stopped responding me turn ex '\n",
            " 'boyfriend stopped apartment beat her arrested got temporary protection order '\n",
            " 'him since violated protection order warrant arrest',\n",
            " 'coronavirus lockdown affecting domestic violence  stream',\n",
            " 'concerned friend do hoping someone help shed light current situation best '\n",
            " 'friend 20yr old recently moved abusive boyfriend fought constantly moved '\n",
            " 'would break multiple thing threaten kill crash car recent express concern '\n",
            " 'relationship although knew denial tonight called cry barely able form '\n",
            " 'sentence asked could come ofc welcomed stay night almost hour passed calling '\n",
            " 'phone unavailable mind racing knew something right hopped car drive place '\n",
            " 'starting worry thing got hand received message boyfriend friend account '\n",
            " 'managed hold of told hid bathroom throwing up concerned waited leaving '\n",
            " 'without see her asked pick broken phone thrown balcony multiple friend '\n",
            " 'blindly ignored violent situation unfolded apartment found way talked car '\n",
            " 'broke told threatened stab family left broke him sat talked 2 hour begged '\n",
            " 'come home would scared hurting family her also consumed xanax smoked weed '\n",
            " 'which regular occurrence returned back room degraded forced sexually told '\n",
            " 'want leave scared confused researching service hotlines help help need still '\n",
            " 'feel bit helpless',\n",
            " 'rare guy abused mom often feel pretty alone talking experience cuz seems '\n",
            " 'people victim behaviour woman male partner parents grew mom emotional '\n",
            " 'problems mom would often violently beat stick hanger shoe miss behaved '\n",
            " 'leaving bruised leg arm back would hateful way felt like man would suffered '\n",
            " 'much greater physical harm hold back one 11 mom chased house kitchen knife '\n",
            " 'year always apologize making mad always say reason beat cuz bad oftentimes '\n",
            " 'excuse like you remember beat yell come remember bought expensive toy video '\n",
            " 'game took travel le physical violence simply small disagreement would lash '\n",
            " 'violent manner would rage several day hide room avoid confrontation know '\n",
            " 'always twist around sound like victim woman older feel like people believe '\n",
            " 'me shared friend coworkers expressed supportive attitude feel like still '\n",
            " 'word her',\n",
            " 'referred rrelationships referred post made rrelationships long story short '\n",
            " 'f21 ex m23 would call name stupid bitch loser pathetic piece shit etc still '\n",
            " 'hangout can’t seem separate him',\n",
            " 'lost help okay going try much sense possible two year ago left kid dad '\n",
            " 'abusive towards them took kid left stayed homeless shelter six month program '\n",
            " 'homeless shelter got place yearandahalf ago since met somebody else luck '\n",
            " 'abusive to much physically mentally emotionally like threatening suicide '\n",
            " 'threatening lose kids top hoping stimulus check away decided self income way '\n",
            " 'file tax cuz thought tax filer going guess something wrong know say still '\n",
            " 'processing tax return mean eligible stimulus know wait letter irs try call '\n",
            " 'live person talk to top nobody talk family friends wish phone somebody irs '\n",
            " 'see fix return money away 8 year old boy 7 year old girl 5 year old boy 3 '\n",
            " 'year old girl want girl grow thinking okay man treat way seen treated want '\n",
            " 'boy grow thinking okay treat woman like anybody income child support cash '\n",
            " 'assistance government nothing',\n",
            " 'nightmare year abused me didn’t see that perhaps ‘that’ was arrested 2018 '\n",
            " 'pulled knife me following month physical assaults even wasn’t enough '\n",
            " 'arrested attacked one night daughter rang police understood right and went '\n",
            " 'along prosecution social service got involved said placing child section '\n",
            " 'could child away safeguarding them dropped charges didn’t want s lives seven '\n",
            " 'month arrest restraining order lifted got touch obviously sorry changed '\n",
            " 'expected stupidly fell it convinced closest u give another chance changed '\n",
            " 'fat chance that reality was found better way disguise it began slow soon '\n",
            " 'built up thought hid well week middle lockdown stood street threatened stab '\n",
            " 'me front neighbour friends then threatened stab kill them drunk probably '\n",
            " 'couldn’t remember name then jumped vehicle drove off soon caught crashed '\n",
            " 'wall refused give breath test obviously arrested threw cell police involved '\n",
            " 'haven’t pressed charges seems didn’t too one neighbour reported hearing cry '\n",
            " 'called slag hit me neighbour reported witnessing behaviour towards me heard '\n",
            " 'say kill and worst mean worst teenage daughter reported witnessing beat push '\n",
            " 'stairs didn’t know saw it can’t even begin describe guilt feel like complete '\n",
            " 'idiot friend neighbour know happening thought hid it seems didn’t even well',\n",
            " 'truly free hi guys never posted finding this felt to know purpose post guess '\n",
            " 'want finally much chest maybe ask question people always made out etc want '\n",
            " 'super long context describe happened me 19 met him 20 met online definitely '\n",
            " 'naive came dating lived pretty big distance away way spoke immediately '\n",
            " 'caught attention absolutely obsessed dated before would never felt drawn '\n",
            " 'someone realise like things intensity made feel typical particularly healthy',\n",
            " 'emotional physical abuse advice live grandma brother gran 70 year old still '\n",
            " 'working struggling share put money it 45 year ago kicked older sister house '\n",
            " 'abusing gran brother would hold sister granbrother doesnt hurt brother '\n",
            " 'disability adhd sister gone stayed bf lived parent age 47 i know right '\n",
            " 'parent move house rid them staying here baby boy leverage u feel guilty '\n",
            " 'wanting rid emotional physical abuse receive them tried kick many time '\n",
            " 'continue refuse staying u 6 month even put single cent help out eat food '\n",
            " 'whatever granted everyday argument fist fight tired lifestyle gran brother '\n",
            " 'called cop come talk go even shuts down yesterday got black eye sister '\n",
            " 'unhappy eat home eat sister still nerve complain still take u happy till get '\n",
            " 'better half things life hard make thing worse us wanna call child line could '\n",
            " 'nephew away threat saying going people come attack u street like eg walking '\n",
            " 'shop is honesty tired anything life good do tried explaining reality worse',\n",
            " 'mom step brother fight help im 13 13 name damian youngest step brother step '\n",
            " 'dad mom mom brother fight got physical one called cop recently wednesday cop '\n",
            " 'anything sometimes violent thought hurt step brother brung depression  '\n",
            " 'suicdel stuff anxiety punched wall idk police anything bc 18 13 year old '\n",
            " 'making call 911 one dose anything step dad sits dose anything sit idk '\n",
            " 'sometimes rage fire hyped mostly wall people loud punch wall im pissed shit '\n",
            " 'show idk tried talk everyone gave went therapist got pill help anxiety',\n",
            " 'wish code word law enforcement trained hear domestic violence victims would '\n",
            " 'awareness domestic violence support group women’s shelter counselors one way '\n",
            " 'first need established taught law enforcement mandated like reporter abuser '\n",
            " 'around couldn’t call cop myself able contact interpersonal violence risk '\n",
            " 'manager university called cop me encouraged tell cop truth going on scared '\n",
            " 'life wanted cop come scared would react that found law enforcement coming '\n",
            " 'lost it it’s hard describe longer him couldn’t talk down natural instinct '\n",
            " 'diffuse situation feel better trained year do different terrified me cop '\n",
            " 'came talked first resumed natural charismatic state able calm enough play '\n",
            " 'happening cop bought it scared tell scared scared would kid over wouldn’t '\n",
            " 'protected forever said nothing would protect then didn’t want bad guy',\n",
            " 'tw violence 34f choked ex flbf 30m sense update post originally posted '\n",
            " 'another subreddit better fit fairly new relationship w bf covid hit 2 months '\n",
            " 'decided quarantine together said love u felt like could major relationship '\n",
            " 'lives glimpse emotional verbal abuse he would wildly curse ice refuse '\n",
            " 'affection accuse manipulative controlling whenever expressed thing like '\n",
            " 'thought moving passed this one week sat berated everything packed thing go '\n",
            " 'ended wanting stay talked therapist remotely decided space apartment bc '\n",
            " 'covid great week gave affection needed gave freedom w video games exploded',\n",
            " '25f boyfriend 28m threatened kill think meant it tried posting '\n",
            " 'rrelationships mod told serious post would better suited here think '\n",
            " 'unsettled unemotional said it deadpan angry anything unsettling happen '\n",
            " 'recently note placid person known 10 year dated 4 think heard raise voice '\n",
            " 'maybe twice towards me violent know whether even threat seriously unsure '\n",
            " 'would hurt fly said said unsettle greatly',\n",
            " 'told abuse sure even know put words longi 32f married foreigner 9 year ago '\n",
            " 'live country nationality last may relationship came end alleging domestic '\n",
            " 'abuse saying assaulted one night depressed drunk arrested pursued assault '\n",
            " 'charge me said threatened kill children used kicked home life 2 young '\n",
            " 'children nowhere go moved different city mother friend spare roomin '\n",
            " 'meanwhile exhusband let see child enforced rule see took matter court social '\n",
            " 'service became involved told sort lie saying withheld food eldest child '\n",
            " 'punish her threw dinner away gave unhealthy food eat neglected made look '\n",
            " 'younger brother etc also told leave country leave children way vindictively '\n",
            " 'thing made suspect something 2 week incident say assaulted him depressed '\n",
            " 'suicidal told want die asked prescription medication overdose on gave left '\n",
            " 'it took pill told going sit car die let me woke next morning scared '\n",
            " 'realising died went back house asked call ambulance hesitated call one end '\n",
            " 'bother come hospital see many hour later depression since teenager',\n",
            " 'im confused never used reddit sorry wrong outsider view current situation in '\n",
            " 'started seeing person 2 month ago beginning charming quickly understood '\n",
            " 'controllingdominant first sort attractive thing started catch attention '\n",
            " 'pretty demanding sexual favor beginning almost started feel like option '\n",
            " 'begging would stop would feel guilty one started choke declined kind blind '\n",
            " 'sided it could tell supposed sexual turned awkward meant intimidating '\n",
            " 'shrugged off continued often choked sometimes blue would say feel like '\n",
            " 'victim abuse know like happening often say thing suggest prove self worth '\n",
            " 'associated person higher power me define relationship tell still talking '\n",
            " 'people yet expect loyal them often call somebody claim mentor explain '\n",
            " 'mentoring for know person namegender ever bring thing sit right end saying '\n",
            " 'sorry somehow often comment pimp play joking manner one confused told ever '\n",
            " 'want around friend never want around mine want know one crazy feeling valid '\n",
            " 'feel driven psychosis emotional abuse overthinking i tend overthink lot',\n",
            " 'mom step brother experiencing domestic violence mom step brother '\n",
            " 'mentallyphysically abused daily basis husband beat her hit object shout kid '\n",
            " 'every see over anything literally anything convinced mom audio record '\n",
            " 'incident send email want seek help brainwashed believe powerful whatever '\n",
            " 'want whoever wants check phone almost daily basis restricts communication '\n",
            " 'almost every part family voice recording shouting cursing around kid too '\n",
            " 'call possible combination curse words lawyer told safe kid safe harm come '\n",
            " 'decides action scared want that afraid losing kid men country custody child '\n",
            " 'almost situation want lose scared might afraid safety step brother futures '\n",
            " 'love death anymore know do know done situation short mother 2 child '\n",
            " 'physically mentally abused husband afraid seek help threatened countless '\n",
            " 'time feel unsafe so live islamic country favor citizen everyone else '\n",
            " 'citizenship therefore guarantee anything',\n",
            " 'am23f positive mom56f verbally abused father70m honestly sure ask advice '\n",
            " 'love parents always have father always difficult along closer mother still '\n",
            " 'love father always father me parent together 6 year never actually married '\n",
            " 'always lived together family mom side land entire life mom struggled '\n",
            " 'depression know always seen try hide never saying depressed always one cried '\n",
            " 'long remember never actually thought parent happy relationship thought would '\n",
            " 'probably eventually separate never have parent work together scenic artist '\n",
            " 'name two man group everything work movie work people houses known entire '\n",
            " 'life dad hell work mom usually cried kid apparently gotten older gotten '\n",
            " 'worse i honestly sure believe though',\n",
            " 'confused scared please help clear mind hi everybody reading post husband hit '\n",
            " 'hand heavily fist wonder whether domestic violence talking happily bed go '\n",
            " 'sleep slightly touching edge undies 3 second literally start angry hit hand '\n",
            " 'twice hurt second later apologized tbh isn’t first suddenly becomes angry '\n",
            " 'without reasons immediately talked this got even angrier stopped talking me '\n",
            " 'quickly asleep though i’m scared confused right now want stay room anymore '\n",
            " 'anybody give advice',\n",
            " 'tonight straw broke camel back know story going current situation living in '\n",
            " 'rather violent abusive controlling psycho adoptive mother tonight incident '\n",
            " 'straw broke camel back literally']\n"
          ],
          "name": "stdout"
        }
      ]
    },
    {
      "cell_type": "code",
      "metadata": {
        "id": "ZOXU3f2RvdDG",
        "colab_type": "code",
        "outputId": "59464b65-242b-49a4-81f8-030707f48883",
        "colab": {
          "base_uri": "https://localhost:8080/",
          "height": 54
        }
      },
      "source": [
        "def sent_to_words(sentences):\n",
        "    for sentence in sentences:\n",
        "        yield(gensim.utils.simple_preprocess(str(sentence), deacc=True))  # deacc=True removes punctuations\n",
        "\n",
        "data_words = list(sent_to_words(data))\n",
        "\n",
        "print(data_words[:2])"
      ],
      "execution_count": 22,
      "outputs": [
        {
          "output_type": "stream",
          "text": [
            "[['covid', 'resource', 'abuse', 'victim'], ['girl', 'talking', 'tpo', 'ex', 'messaged', 'me', 'talking', 'girl', 'fairly', 'frequently', 'last', 'weeks', 'first', 'week', 'talking', 'supposed', 'come', 'hang', 'stopped', 'responding', 'me', 'turn', 'ex', 'boyfriend', 'stopped', 'apartment', 'beat', 'her', 'arrested', 'got', 'temporary', 'protection', 'order', 'him', 'since', 'violated', 'protection', 'order', 'warrant', 'arrest']]\n"
          ],
          "name": "stdout"
        }
      ]
    },
    {
      "cell_type": "code",
      "metadata": {
        "id": "HoK_4T_Kvgfe",
        "colab_type": "code",
        "outputId": "01953a41-3e79-4fe5-8a0b-1eb7e69e27c6",
        "colab": {
          "base_uri": "https://localhost:8080/",
          "height": 54
        }
      },
      "source": [
        "# Build the bigram and trigram models\n",
        "bigram = gensim.models.Phrases(data_words, min_count=2, threshold=5) # higher threshold fewer phrases.\n",
        "trigram = gensim.models.Phrases(bigram[data_words], threshold=3)  \n",
        "\n",
        "# Faster way to get a sentence clubbed as a trigram/bigram\n",
        "bigram_mod = gensim.models.phrases.Phraser(bigram)\n",
        "trigram_mod = gensim.models.phrases.Phraser(trigram)\n",
        "\n",
        "# See trigram example\n",
        "print(trigram_mod[bigram_mod[data_words[10]]])"
      ],
      "execution_count": 23,
      "outputs": [
        {
          "output_type": "stream",
          "text": [
            "['mom_step', 'brother', 'fight', 'help', 'im', 'name', 'damian', 'youngest', 'step_brother', 'step_dad', 'mom', 'mom', 'brother', 'fight', 'got_physical', 'one', 'called_cop', 'recently', 'wednesday', 'cop', 'anything', 'sometimes', 'violent', 'thought', 'hurt', 'step_brother', 'brung', 'depression', 'suicdel', 'stuff', 'anxiety', 'punched', 'wall', 'idk', 'police', 'anything', 'bc', 'year_old', 'making', 'call', 'one', 'dose', 'anything', 'step_dad', 'sits', 'dose', 'anything', 'sit', 'idk', 'sometimes', 'rage', 'fire', 'hyped', 'mostly', 'wall', 'people', 'loud', 'punch', 'wall', 'im', 'pissed', 'shit', 'show', 'idk', 'tried', 'talk', 'everyone', 'gave', 'went', 'therapist', 'got', 'pill', 'help', 'anxiety']\n"
          ],
          "name": "stdout"
        }
      ]
    },
    {
      "cell_type": "code",
      "metadata": {
        "id": "r-AuA9A2vj33",
        "colab_type": "code",
        "colab": {}
      },
      "source": [
        "def remove_stopwords(texts):\n",
        "    return [[word for word in simple_preprocess(str(doc)) if word not in stw] for doc in texts]\n",
        "\n",
        "def make_bigrams(texts):\n",
        "    return [bigram_mod[doc] for doc in texts]\n",
        "\n",
        "def make_trigrams(texts):\n",
        "    return [trigram_mod[bigram_mod[doc]] for doc in texts]\n",
        "\n",
        "def lemmatization(texts, allowed_postags=['NOUN']):\n",
        "    \"\"\"https://spacy.io/api/annotation\"\"\"\n",
        "    texts_out = []\n",
        "    for sent in texts:\n",
        "        doc = nlp(\" \".join(sent)) \n",
        "        texts_out.append([token.lemma_ for token in doc if token.pos_ in allowed_postags])\n",
        "    return texts_out"
      ],
      "execution_count": 0,
      "outputs": []
    },
    {
      "cell_type": "code",
      "metadata": {
        "id": "-RJPuD-Mvmsl",
        "colab_type": "code",
        "outputId": "bdd3b70f-9851-4503-c214-46065ab241cf",
        "colab": {
          "base_uri": "https://localhost:8080/",
          "height": 34
        }
      },
      "source": [
        " #Remove Stop Words\n",
        "data_words_nostops = remove_stopwords(data_words)\n",
        "\n",
        "# Form Bigrams\n",
        "data_words_bigrams = make_bigrams(data_words_nostops)\n",
        "\n",
        "# Initialize spacy 'en' model, keeping only tagger component (for efficiency)\n",
        "# python3 -m spacy download en\n",
        "nlp = spacy.load('en', disable=['parser', 'ner'])\n",
        "\n",
        "# Do lemmatization keeping only noun, adj, vb, adv\n",
        "data_lemmatized = lemmatization(data_words_bigrams)\n",
        "\n",
        "print(data_lemmatized[:2])"
      ],
      "execution_count": 26,
      "outputs": [
        {
          "output_type": "stream",
          "text": [
            "[['resource'], ['week', 'week', 'turn', 'apartment', 'beat', 'warrant', 'arrest']]\n"
          ],
          "name": "stdout"
        }
      ]
    },
    {
      "cell_type": "code",
      "metadata": {
        "id": "q8I-MgGYvuOL",
        "colab_type": "code",
        "outputId": "e73b215e-57f2-41f6-e7cc-b3e0b3ca1aa1",
        "colab": {
          "base_uri": "https://localhost:8080/",
          "height": 54
        }
      },
      "source": [
        "# Create Dictionary\n",
        "id2word = corpora.Dictionary(data_lemmatized)\n",
        "#print('Number of unique words in initital documents:', len(dictionary))\n",
        "\n",
        "# Create Corpus\n",
        "texts = data_lemmatized\n",
        "\n",
        "# Term Document Frequency\n",
        "corpus = [id2word.doc2bow(text) for text in texts]\n",
        "\n",
        "# View\n",
        "print(corpus[:10])"
      ],
      "execution_count": 27,
      "outputs": [
        {
          "output_type": "stream",
          "text": [
            "[[(0, 1)], [(1, 1), (2, 1), (3, 1), (4, 1), (5, 1), (6, 2)], [(7, 1)], [(1, 1), (8, 1), (9, 1), (10, 1), (11, 1), (12, 1), (13, 2), (14, 1), (15, 1), (16, 1), (17, 1), (18, 2), (19, 1), (20, 3), (21, 1), (22, 1), (23, 1), (24, 1), (25, 2), (26, 1), (27, 1), (28, 1), (29, 1), (30, 2), (31, 1), (32, 1), (33, 1), (34, 1), (35, 1), (36, 1), (37, 1), (38, 1), (39, 1), (40, 1), (41, 1)], [(20, 1), (35, 1), (40, 1), (42, 1), (43, 1), (44, 1), (45, 1), (46, 1), (47, 1), (48, 1), (49, 1), (50, 1), (51, 1), (52, 1), (53, 1), (54, 1), (55, 1), (56, 1), (57, 1), (58, 4), (59, 1), (60, 1), (61, 1), (62, 1), (63, 1), (64, 1), (65, 1), (66, 1), (67, 1), (68, 2), (69, 1), (70, 1), (71, 2), (72, 1), (73, 1)], [(74, 1), (75, 1), (76, 1), (77, 2)], [(22, 1), (30, 1), (32, 1), (40, 2), (56, 1), (71, 1), (78, 1), (79, 1), (80, 1), (81, 1), (82, 1), (83, 1), (84, 1), (85, 3), (86, 1), (87, 1), (88, 2), (89, 3), (90, 1), (91, 1), (92, 1), (93, 1), (94, 1), (95, 1), (96, 1), (97, 1), (98, 2), (99, 2), (100, 1), (101, 2), (102, 3), (103, 1), (104, 1), (105, 1)], [(2, 1), (3, 1), (6, 1), (20, 2), (40, 1), (44, 1), (73, 1), (106, 1), (107, 1), (108, 1), (109, 1), (110, 1), (111, 2), (112, 1), (113, 1), (114, 2), (115, 1), (116, 1), (117, 1), (118, 2), (119, 1), (120, 3), (121, 1), (122, 1), (123, 1), (124, 1), (125, 1), (126, 1), (127, 1), (128, 1), (129, 1), (130, 1), (131, 1), (132, 1)], [(40, 1), (62, 1), (76, 1), (133, 1), (134, 1), (135, 1), (136, 1), (137, 1), (138, 1), (139, 1), (140, 1), (141, 1), (142, 1), (143, 1)], [(22, 1), (60, 2), (62, 1), (92, 1), (101, 1), (118, 1), (124, 1), (143, 1), (144, 2), (145, 1), (146, 1), (147, 1), (148, 1), (149, 1), (150, 1), (151, 4), (152, 1), (153, 1), (154, 1), (155, 1), (156, 1), (157, 1), (158, 1), (159, 1), (160, 1), (161, 2), (162, 1), (163, 1), (164, 1), (165, 1), (166, 1), (167, 4), (168, 1), (169, 1), (170, 1), (171, 1)]]\n"
          ],
          "name": "stdout"
        }
      ]
    },
    {
      "cell_type": "code",
      "metadata": {
        "id": "LcmFWc9HvyGA",
        "colab_type": "code",
        "outputId": "8c4edfd6-88f1-49ae-be55-ade583475d9e",
        "colab": {
          "base_uri": "https://localhost:8080/",
          "height": 1000
        }
      },
      "source": [
        "[[(id2word[id], freq) for id, freq in cp] for cp in corpus[:10]]"
      ],
      "execution_count": 28,
      "outputs": [
        {
          "output_type": "execute_result",
          "data": {
            "text/plain": [
              "[[('resource', 1)],\n",
              " [('apartment', 1),\n",
              "  ('arrest', 1),\n",
              "  ('beat', 1),\n",
              "  ('turn', 1),\n",
              "  ('warrant', 1),\n",
              "  ('week', 2)],\n",
              " [('stream', 1)],\n",
              " [('apartment', 1),\n",
              "  ('account', 1),\n",
              "  ('bathroom', 1),\n",
              "  ('bit', 1),\n",
              "  ('boyfriend', 1),\n",
              "  ('called_cry', 1),\n",
              "  ('car', 2),\n",
              "  ('concern', 1),\n",
              "  ('crash', 1),\n",
              "  ('current_situation', 1),\n",
              "  ('denial', 1),\n",
              "  ('family', 2),\n",
              "  ('form', 1),\n",
              "  ('friend', 3),\n",
              "  ('hand', 1),\n",
              "  ('help', 1),\n",
              "  ('hold', 1),\n",
              "  ('hotline', 1),\n",
              "  ('hour', 2),\n",
              "  ('message', 1),\n",
              "  ('mind', 1),\n",
              "  ('night', 1),\n",
              "  ('occurrence', 1),\n",
              "  ('phone', 2),\n",
              "  ('pick', 1),\n",
              "  ('place', 1),\n",
              "  ('racing', 1),\n",
              "  ('relationship', 1),\n",
              "  ('room', 1),\n",
              "  ('sentence', 1),\n",
              "  ('service', 1),\n",
              "  ('situation', 1),\n",
              "  ('tonight', 1),\n",
              "  ('way', 1),\n",
              "  ('worry', 1)],\n",
              " [('friend', 1),\n",
              "  ('room', 1),\n",
              "  ('way', 1),\n",
              "  ('arm', 1),\n",
              "  ('attitude', 1),\n",
              "  ('behaviour', 1),\n",
              "  ('confrontation', 1),\n",
              "  ('coworker', 1),\n",
              "  ('cuz', 1),\n",
              "  ('day', 1),\n",
              "  ('disagreement', 1),\n",
              "  ('experience', 1),\n",
              "  ('game', 1),\n",
              "  ('guy', 1),\n",
              "  ('harm', 1),\n",
              "  ('hide', 1),\n",
              "  ('leg', 1),\n",
              "  ('man', 1),\n",
              "  ('manner', 1),\n",
              "  ('mom', 4),\n",
              "  ('oftentime', 1),\n",
              "  ('parent', 1),\n",
              "  ('partner', 1),\n",
              "  ('people', 1),\n",
              "  ('problem', 1),\n",
              "  ('reason', 1),\n",
              "  ('sound_like', 1),\n",
              "  ('toy', 1),\n",
              "  ('travel', 1),\n",
              "  ('victim', 2),\n",
              "  ('video', 1),\n",
              "  ('violence', 1),\n",
              "  ('woman', 2),\n",
              "  ('word', 1),\n",
              "  ('year', 1)],\n",
              " [('call_name', 1), ('ex', 1), ('post', 1), ('rrelationship', 2)],\n",
              " [('help', 1),\n",
              "  ('phone', 1),\n",
              "  ('place', 1),\n",
              "  ('way', 2),\n",
              "  ('man', 1),\n",
              "  ('woman', 1),\n",
              "  ('assistance', 1),\n",
              "  ('boy', 1),\n",
              "  ('cash', 1),\n",
              "  ('family_friend', 1),\n",
              "  ('file', 1),\n",
              "  ('filer', 1),\n",
              "  ('fix', 1),\n",
              "  ('girl', 3),\n",
              "  ('going_try', 1),\n",
              "  ('government', 1),\n",
              "  ('income', 2),\n",
              "  ('kid', 3),\n",
              "  ('left', 1),\n",
              "  ('luck', 1),\n",
              "  ('money', 1),\n",
              "  ('person', 1),\n",
              "  ('program', 1),\n",
              "  ('return', 1),\n",
              "  ('self', 1),\n",
              "  ('sense', 1),\n",
              "  ('shelter', 2),\n",
              "  ('stimulus', 2),\n",
              "  ('suicide', 1),\n",
              "  ('talk', 2),\n",
              "  ('tax', 3),\n",
              "  ('treat', 1),\n",
              "  ('want', 1),\n",
              "  ('yearandahalf', 1)],\n",
              " [('arrest', 1),\n",
              "  ('beat', 1),\n",
              "  ('week', 1),\n",
              "  ('friend', 2),\n",
              "  ('way', 1),\n",
              "  ('behaviour', 1),\n",
              "  ('year', 1),\n",
              "  ('another_chance', 1),\n",
              "  ('assault', 1),\n",
              "  ('breath', 1),\n",
              "  ('cell', 1),\n",
              "  ('chance', 1),\n",
              "  ('charge', 2),\n",
              "  ('child', 1),\n",
              "  ('cry', 1),\n",
              "  ('daughter', 2),\n",
              "  ('disguise', 1),\n",
              "  ('guilt', 1),\n",
              "  ('knife', 1),\n",
              "  ('month', 2),\n",
              "  ('name', 1),\n",
              "  ('neighbour', 3),\n",
              "  ('police', 1),\n",
              "  ('prosecution', 1),\n",
              "  ('push', 1),\n",
              "  ('reality', 1),\n",
              "  ('section', 1),\n",
              "  ('slag', 1),\n",
              "  ('stair', 1),\n",
              "  ('test', 1),\n",
              "  ('thought', 1),\n",
              "  ('touch', 1),\n",
              "  ('vehicle', 1),\n",
              "  ('wall', 1)],\n",
              " [('way', 1),\n",
              "  ('people', 1),\n",
              "  ('post', 1),\n",
              "  ('attention', 1),\n",
              "  ('chest', 1),\n",
              "  ('context', 1),\n",
              "  ('describe', 1),\n",
              "  ('distance', 1),\n",
              "  ('finding', 1),\n",
              "  ('guess', 1),\n",
              "  ('intensity', 1),\n",
              "  ('know', 1),\n",
              "  ('purpose', 1),\n",
              "  ('thing', 1)],\n",
              " [('help', 1),\n",
              "  ('parent', 2),\n",
              "  ('people', 1),\n",
              "  ('money', 1),\n",
              "  ('talk', 1),\n",
              "  ('month', 1),\n",
              "  ('reality', 1),\n",
              "  ('thing', 1),\n",
              "  ('abuse', 2),\n",
              "  ('advice', 1),\n",
              "  ('age', 1),\n",
              "  ('argument', 1),\n",
              "  ('attack', 1),\n",
              "  ('bf', 1),\n",
              "  ('black_eye', 1),\n",
              "  ('brother', 4),\n",
              "  ('cent', 1),\n",
              "  ('complain', 1),\n",
              "  ('eat', 1),\n",
              "  ('fight', 1),\n",
              "  ('fist', 1),\n",
              "  ('food', 1),\n",
              "  ('home', 1),\n",
              "  ('honesty', 1),\n",
              "  ('house', 1),\n",
              "  ('life', 2),\n",
              "  ('lifestyle', 1),\n",
              "  ('line', 1),\n",
              "  ('share', 1),\n",
              "  ('shop', 1),\n",
              "  ('shut', 1),\n",
              "  ('sister', 4),\n",
              "  ('street', 1),\n",
              "  ('threat', 1),\n",
              "  ('wanting', 1),\n",
              "  ('yesterday', 1)]]"
            ]
          },
          "metadata": {
            "tags": []
          },
          "execution_count": 28
        }
      ]
    },
    {
      "cell_type": "code",
      "metadata": {
        "id": "EA032T_iv5M7",
        "colab_type": "code",
        "colab": {}
      },
      "source": [
        "lda_model = gensim.models.ldamodel.LdaModel(corpus=corpus,\n",
        "                                           id2word=id2word,\n",
        "                                           num_topics=8, \n",
        "                                           random_state=100,\n",
        "                                           update_every=1,\n",
        "                                           chunksize=100,\n",
        "                                           passes=10,\n",
        "                                           alpha='auto',\n",
        "                                           per_word_topics=True)"
      ],
      "execution_count": 0,
      "outputs": []
    },
    {
      "cell_type": "code",
      "metadata": {
        "id": "9vU-A7c3wAKX",
        "colab_type": "code",
        "outputId": "e9fef2b8-99d9-4613-f4cc-074dc86bfc70",
        "colab": {
          "base_uri": "https://localhost:8080/",
          "height": 561
        }
      },
      "source": [
        "pprint(lda_model.print_topics())\n",
        "doc_lda = lda_model[corpus]"
      ],
      "execution_count": 30,
      "outputs": [
        {
          "output_type": "stream",
          "text": [
            "[(0,\n",
            "  '0.053*\"brother\" + 0.018*\"survivor\" + 0.018*\"money\" + 0.018*\"adult\" + '\n",
            "  '0.014*\"reality\" + 0.014*\"girlfriend\" + 0.014*\"straw\" + 0.014*\"decision\" + '\n",
            "  '0.014*\"gate\" + 0.014*\"leverage\"'),\n",
            " (1,\n",
            "  '0.054*\"husband\" + 0.022*\"friend\" + 0.019*\"night\" + 0.019*\"apartment\" + '\n",
            "  '0.018*\"abuser\" + 0.015*\"start\" + 0.015*\"household\" + 0.013*\"bit\" + '\n",
            "  '0.013*\"situation\" + 0.012*\"tonight\"'),\n",
            " (2,\n",
            "  '0.036*\"friend\" + 0.026*\"abuse\" + 0.023*\"help\" + 0.021*\"year\" + '\n",
            "  '0.020*\"family\" + 0.017*\"way\" + 0.017*\"couple\" + 0.015*\"night\" + '\n",
            "  '0.015*\"daughter\" + 0.015*\"work\"'),\n",
            " (3,\n",
            "  '0.031*\"bed\" + 0.028*\"alcohol\" + 0.026*\"room\" + 0.024*\"head\" + 0.021*\"baby\" '\n",
            "  '+ 0.016*\"start\" + 0.014*\"heart\" + 0.013*\"floor\" + 0.012*\"neck\" + '\n",
            "  '0.012*\"time\"'),\n",
            " (4,\n",
            "  '0.037*\"year\" + 0.032*\"child\" + 0.030*\"kid\" + 0.028*\"mom\" + 0.028*\"day\" + '\n",
            "  '0.026*\"life\" + 0.021*\"father\" + 0.019*\"relationship\" + 0.019*\"parent\" + '\n",
            "  '0.019*\"mother\"'),\n",
            " (5,\n",
            "  '0.032*\"hate\" + 0.022*\"drug\" + 0.020*\"other\" + 0.018*\"memory\" + '\n",
            "  '0.017*\"street\" + 0.016*\"father\" + 0.016*\"wife\" + 0.015*\"door\" + '\n",
            "  '0.015*\"come_back\" + 0.014*\"jail\"'),\n",
            " (6,\n",
            "  '0.035*\"face\" + 0.030*\"hour\" + 0.025*\"stuff\" + 0.024*\"part\" + '\n",
            "  '0.023*\"relationship\" + 0.017*\"partner\" + 0.015*\"drink\" + 0.014*\"anger\" + '\n",
            "  '0.013*\"fact\" + 0.011*\"people\"'),\n",
            " (7,\n",
            "  '0.029*\"boyfriend\" + 0.024*\"trauma\" + 0.015*\"victim\" + 0.014*\"man\" + '\n",
            "  '0.014*\"anxiety\" + 0.013*\"world\" + 0.012*\"hospital\" + 0.012*\"country\" + '\n",
            "  '0.010*\"cousin\" + 0.010*\"month_ago\"')]\n"
          ],
          "name": "stdout"
        }
      ]
    },
    {
      "cell_type": "code",
      "metadata": {
        "id": "Uf1gD17rwBfT",
        "colab_type": "code",
        "colab": {}
      },
      "source": [
        "ldatopics = lda_model.show_topics(formatted=False)"
      ],
      "execution_count": 0,
      "outputs": []
    },
    {
      "cell_type": "code",
      "metadata": {
        "id": "VPWUml0owGJW",
        "colab_type": "code",
        "outputId": "4632d963-1fdc-4e78-b64e-5432c530ed22",
        "colab": {
          "base_uri": "https://localhost:8080/",
          "height": 85
        }
      },
      "source": [
        "# Compute Perplexity\n",
        "print('\\nPerplexity: ', lda_model.log_perplexity(corpus))  # a measure of how good the model is. lower the better.\n",
        "\n",
        "# Compute Coherence Score\n",
        "coherence_model_lda = CoherenceModel(model=lda_model, texts=data_lemmatized, dictionary=id2word, coherence='c_v')\n",
        "coherence_lda = coherence_model_lda.get_coherence()\n",
        "print('\\nCoherence Score: ', coherence_lda)"
      ],
      "execution_count": 32,
      "outputs": [
        {
          "output_type": "stream",
          "text": [
            "\n",
            "Perplexity:  -7.432521462742499\n",
            "\n",
            "Coherence Score:  0.395295647895377\n"
          ],
          "name": "stdout"
        }
      ]
    },
    {
      "cell_type": "markdown",
      "metadata": {
        "id": "ULuhfo4DK2nc",
        "colab_type": "text"
      },
      "source": [
        "## Interpretation of the 8 topics:\n",
        "\n",
        "Through all the comments, mainly women are seeking help, sharing their abuse stories, how they survived and how they want to help other people. \n",
        "\n",
        "One of the main insights is that the **most important topic is about family abuse**, not relationship abuse, **mentioning mother, father, relationship and child as well as kid, we make the assimption that this people are not fully grown adults** but young adults or teenagers living woith their families. \n",
        "\n",
        "Time is also a concept that is frequent among all topics, **quoting \"year\", \"month\", \"day\"** as important words describing the testimonies. \n",
        "\n",
        "Topic describing: \n",
        "\n",
        "1. **Family abuse testimony:**\n",
        "2. **People seeking help for a friend**\n",
        "3. **Partner Abuse:** Description of abuse caused by Alcohol - describing partner and relationship\n",
        "4. **How abuse started: Taliking about a third party:** \"Friend\"\n",
        "5. **Description of abuse:** Violence, attack and drunkenn abuse: Also related to Partner abuse\n",
        "6.** Violent abuse: **Describing a trauma that lead to an injury, quoting \"hospital\" and \"death\"\n",
        "7. **Surviving statement:** second word being survivor and describing the people involved: family and relationships, also what stands out is the third word \"money\" which can be directly related to surviving abuse by having the means on how to move from it as well as therapy. \n",
        "8. **Drugs and physical abuse**: Also can be realted to family since there is a mention of \"Father\". "
      ]
    },
    {
      "cell_type": "markdown",
      "metadata": {
        "id": "UJjPbeAsQ5M8",
        "colab_type": "text"
      },
      "source": [
        "## Main Insights:\n",
        "Organizations and NGO, should have iniciatives and communication through Reddit since it is a space in which people share their testimonies, is a channel where the iniciatives can be communicated to the right people. \n",
        "\n",
        "The main insights from the topics is:\n",
        "1. Family Abuse is the main type. \n",
        "2. Friends want to help friends, seeking advice on how to do so \n",
        "3. Abuse related to alcohol is related to partner\n",
        "4. Testimonies about how abuse starting talking in third party can help NGO´s with the communication on start of abuse talking about a friend. \n",
        "5. Surviving statements have words related to money and therapy. \n",
        "\n",
        "This social media can also be a way of communicating safety for people who are in close proximity with abusers similar to this pandemic. "
      ]
    },
    {
      "cell_type": "code",
      "metadata": {
        "id": "sETRv_6JwHGm",
        "colab_type": "code",
        "outputId": "761bee8f-e9a5-4a8c-fa3c-5e23aed1acbc",
        "colab": {
          "base_uri": "https://localhost:8080/",
          "height": 881
        }
      },
      "source": [
        "pyLDAvis.enable_notebook()\n",
        "vis = pyLDAvis.gensim.prepare(lda_model, corpus, id2word)\n",
        "vis"
      ],
      "execution_count": 33,
      "outputs": [
        {
          "output_type": "execute_result",
          "data": {
            "text/html": [
              "\n",
              "<link rel=\"stylesheet\" type=\"text/css\" href=\"https://cdn.rawgit.com/bmabey/pyLDAvis/files/ldavis.v1.0.0.css\">\n",
              "\n",
              "\n",
              "<div id=\"ldavis_el1211398675544005602063641787\"></div>\n",
              "<script type=\"text/javascript\">\n",
              "\n",
              "var ldavis_el1211398675544005602063641787_data = {\"mdsDat\": {\"x\": [-0.26348486325399845, -0.22280242906355, 0.05949774617772784, 0.015364192440600829, 0.1488863611445589, 0.09815125596798786, 0.06870580121865272, 0.09568193536802061], \"y\": [-0.0009180282773066246, 0.00946394574000764, -0.24368395771535975, 0.1528484700925245, 0.08431131171040186, -0.07673912091207169, -0.0684712539458335, 0.14318863330763773], \"topics\": [1, 2, 3, 4, 5, 6, 7, 8], \"cluster\": [1, 1, 1, 1, 1, 1, 1, 1], \"Freq\": [26.737308502197266, 24.23426055908203, 9.974943161010742, 9.115277290344238, 8.490917205810547, 7.803401470184326, 6.956079006195068, 6.687816143035889]}, \"tinfo\": {\"Term\": [\"husband\", \"child\", \"friend\", \"brother\", \"mom\", \"year\", \"kid\", \"father\", \"face\", \"day\", \"night\", \"hour\", \"bed\", \"boyfriend\", \"parent\", \"ex\", \"relationship\", \"alcohol\", \"mother\", \"hate\", \"stuff\", \"room\", \"part\", \"life\", \"couple\", \"baby\", \"wife\", \"head\", \"anger\", \"money\", \"child\", \"mom\", \"parent\", \"ex\", \"school\", \"guy\", \"word\", \"problem\", \"dad\", \"cause\", \"depression\", \"family_friend\", \"mark\", \"finding\", \"snuck\", \"broom\", \"mess\", \"hope\", \"escape\", \"income\", \"arm\", \"suicide\", \"bedroom\", \"hole\", \"day\", \"want\", \"listen\", \"shelter\", \"feeling\", \"video\", \"kid\", \"mother\", \"girl\", \"fault\", \"sister\", \"father\", \"car\", \"moment\", \"life\", \"fight\", \"year\", \"picture\", \"son\", \"anger\", \"home\", \"relationship\", \"reason\", \"work\", \"abuse\", \"help\", \"advice\", \"family\", \"couple\", \"daughter\", \"name\", \"question\", \"leave\", \"control\", \"text\", \"bruise\", \"doctor\", \"cop\", \"injury\", \"resource\", \"bf\", \"chance\", \"power\", \"tip\", \"charge\", \"custody\", \"divorce\", \"answer\", \"body\", \"history\", \"best_friend\", \"trouble\", \"kill\", \"drinking\", \"class\", \"path\", \"business\", \"trust\", \"safety\", \"call\", \"access\", \"police\", \"issue\", \"friend\", \"point\", \"week\", \"today\", \"way\", \"night\", \"abuse\", \"wife\", \"help\", \"family\", \"court\", \"month\", \"story\", \"work\", \"situation\", \"year\", \"money\", \"life\", \"argument\", \"boyfriend\", \"part\", \"drink\", \"water\", \"voice\", \"boiling\", \"bush\", \"tshirt\", \"childhood\", \"face\", \"book\", \"blood\", \"criticism\", \"therapist\", \"wait\", \"comment\", \"service\", \"console\", \"eachother\", \"belligerent\", \"party\", \"crash\", \"holiday\", \"strength\", \"distraught\", \"outburst\", \"hour\", \"spawn\", \"hurt\", \"healing\", \"blame\", \"fact\", \"stuff\", \"partner\", \"mind\", \"post\", \"fiance\", \"relationship\", \"anger\", \"people\", \"love\", \"break\", \"head\", \"incident\", \"family\", \"help\", \"household\", \"bar\", \"box\", \"storm\", \"husband\", \"kind\", \"offense\", \"composure\", \"cheater\", \"right\", \"piece\", \"mood\", \"leaf\", \"security\", \"abuser\", \"building\", \"slap\", \"weekend\", \"visit\", \"top\", \"sound\", \"comfort\", \"hit\", \"ear\", \"addict\", \"wine\", \"pillow\", \"harassment\", \"attitude\", \"term\", \"number\", \"apartment\", \"tonight\", \"message\", \"bit\", \"age\", \"contact\", \"tomorrow\", \"sleep\", \"account\", \"start\", \"night\", \"jail\", \"friend\", \"advice\", \"situation\", \"reason\", \"pain\", \"thing\", \"sister\", \"minute\", \"argument\", \"bed\", \"alcohol\", \"heart\", \"neck\", \"marriage\", \"trip\", \"sign\", \"bottle\", \"morning\", \"matter\", \"date\", \"andor\", \"think\", \"vibe\", \"report\", \"feel\", \"mistake\", \"got_drunk\", \"drive\", \"conversation\", \"advocate\", \"couch\", \"career\", \"mine\", \"find\", \"birthday\", \"choking\", \"note\", \"apology\", \"felony\", \"head\", \"room\", \"time\", \"baby\", \"floor\", \"start\", \"wall\", \"violence\", \"woman\", \"neighbor\", \"attack\", \"door\", \"world\", \"hospital\", \"country\", \"cousin\", \"month_ago\", \"death\", \"emotion\", \"domestic_abuse\", \"walk\", \"fool\", \"update\", \"hormone\", \"stress\", \"go\", \"city\", \"future\", \"attention\", \"put\", \"bitch\", \"level\", \"lying\", \"regret\", \"opinion\", \"document\", \"surgery\", \"temper\", \"scream\", \"ride\", \"ambulance\", \"act\", \"trauma\", \"action\", \"anxiety\", \"boyfriend\", \"therapy\", \"thought\", \"dinner\", \"victim\", \"support\", \"man\", \"yesterday\", \"relationship\", \"apartment\", \"end\", \"person\", \"attack\", \"love\", \"brother\", \"survivor\", \"adult\", \"reality\", \"decision\", \"straw\", \"girlfriend\", \"gate\", \"leverage\", \"threat\", \"line\", \"behavior\", \"share\", \"granny\", \"trial\", \"stepgrandfather\", \"cycle\", \"provider\", \"half_ago\", \"grandma\", \"brother_sister\", \"lawsorry\", \"bank\", \"choice\", \"doubt\", \"response\", \"stay\", \"card\", \"aunt\", \"environment\", \"food\", \"money\", \"trigger\", \"story\", \"people\", \"stuff\", \"abuse\", \"experience\", \"month\", \"today\", \"mother\", \"hate\", \"drug\", \"memory\", \"street\", \"come_back\", \"horror\", \"heartbroken\", \"nightmare\", \"dog\", \"started_hitting\", \"emergency\", \"statement\", \"pay\", \"change\", \"track\", \"text_message\", \"treatment\", \"assistance\", \"abusive_relationship\", \"turn\", \"credit\", \"cat\", \"recommendation\", \"score\", \"event\", \"vacation\", \"promise\", \"birth\", \"look\", \"other\", \"order\", \"jail\", \"door\", \"thank\", \"wife\", \"father\", \"partner\", \"would_kill\", \"mourning\", \"drain\", \"fence\", \"beater\", \"doneinstead\", \"blacked_eye\", \"person\", \"reason\", \"advice\"], \"Freq\": [86.0, 142.0, 185.0, 62.0, 126.0, 255.0, 142.0, 115.0, 60.0, 129.0, 89.0, 54.0, 45.0, 74.0, 86.0, 82.0, 148.0, 40.0, 93.0, 36.0, 53.0, 56.0, 41.0, 162.0, 69.0, 52.0, 61.0, 49.0, 78.0, 64.0, 141.81703186035156, 126.20489501953125, 85.66815185546875, 82.00836944580078, 54.83658981323242, 51.63219451904297, 43.09247589111328, 40.768455505371094, 36.2279052734375, 32.78101348876953, 25.53761100769043, 23.32889175415039, 21.85138702392578, 21.500408172607422, 20.88134002685547, 19.562660217285156, 19.507246017456055, 19.066938400268555, 16.54165267944336, 16.46137809753418, 16.272680282592773, 15.917121887207031, 15.526083946228027, 15.472636222839355, 122.84346771240234, 40.587406158447266, 13.102371215820312, 12.132153511047363, 11.730056762695312, 11.637630462646484, 132.8325958251953, 84.90345001220703, 35.32855224609375, 30.8175048828125, 70.71288299560547, 93.64386749267578, 77.42447662353516, 23.7122859954834, 116.53639221191406, 46.91368865966797, 166.5271759033203, 30.439905166625977, 56.57322692871094, 54.38829803466797, 62.280029296875, 86.39654541015625, 48.71318817138672, 63.57876968383789, 71.04452514648438, 64.67143249511719, 41.131317138671875, 48.75232696533203, 69.11375427246094, 59.38469314575195, 49.179752349853516, 46.324851989746094, 52.915828704833984, 35.187835693359375, 30.66077423095703, 26.93736457824707, 26.14789581298828, 25.670740127563477, 25.59869384765625, 21.91625213623047, 21.580947875976562, 20.506446838378906, 19.427085876464844, 19.178800582885742, 18.46944808959961, 17.829288482666016, 17.620773315429688, 17.179391860961914, 17.8121395111084, 16.814542770385742, 16.476839065551758, 15.953083992004395, 15.503408432006836, 14.71103572845459, 13.185968399047852, 12.943533897399902, 12.83169937133789, 12.753189086914062, 15.2110013961792, 44.5399284362793, 15.084212303161621, 45.47367477416992, 38.90766525268555, 145.98646545410156, 52.97267532348633, 50.15452575683594, 52.76874923706055, 69.30603790283203, 59.50320053100586, 103.50428009033203, 43.43751525878906, 92.04235076904297, 82.29198455810547, 28.88839340209961, 53.764278411865234, 35.63378143310547, 58.98942184448242, 51.52492141723633, 86.63748168945312, 32.782230377197266, 41.71205139160156, 27.150827407836914, 27.41094970703125, 40.64476776123047, 24.8663330078125, 17.02105712890625, 16.5694637298584, 16.415010452270508, 16.415010452270508, 16.415010452270508, 15.028541564941406, 57.458465576171875, 14.547446250915527, 13.40204906463623, 11.985710144042969, 11.479236602783203, 10.779916763305664, 10.5652437210083, 9.55866527557373, 9.566206932067871, 9.487977981567383, 9.259899139404297, 9.229716300964355, 9.223321914672852, 9.116023063659668, 8.746979713439941, 8.7795991897583, 8.600646018981934, 50.253597259521484, 8.256848335266113, 8.158806800842285, 8.09154224395752, 7.916468143463135, 20.83018684387207, 42.210487365722656, 28.70068359375, 17.879474639892578, 16.770021438598633, 11.44276237487793, 38.65288162231445, 23.20009994506836, 18.384206771850586, 16.818653106689453, 11.272605895996094, 14.328329086303711, 11.863724708557129, 14.176775932312012, 11.89832878112793, 22.148305892944336, 15.478297233581543, 12.6477689743042, 11.753754615783691, 81.69463348388672, 11.212968826293945, 9.748814582824707, 8.920798301696777, 8.920798301696777, 8.499106407165527, 8.208813667297363, 6.97376823425293, 6.7274627685546875, 6.4713006019592285, 27.315109252929688, 6.169279098510742, 6.073489189147949, 6.035930633544922, 5.987072944641113, 5.776857376098633, 5.399780750274658, 5.365029335021973, 5.256621360778809, 4.98089075088501, 4.942668914794922, 4.925704479217529, 4.8512444496154785, 4.8384833335876465, 4.839191436767578, 4.678945541381836, 11.195158958435059, 29.201520919799805, 18.669004440307617, 17.761987686157227, 19.60366439819336, 12.35833740234375, 14.02908706665039, 14.630504608154297, 14.460760116577148, 14.31634521484375, 22.983600616455078, 29.526880264282227, 15.35467529296875, 32.76920700073242, 17.13423728942871, 19.5628719329834, 14.803768157958984, 11.04459285736084, 10.146550178527832, 11.207934379577637, 9.789834976196289, 9.427858352661133, 44.32631301879883, 39.95876693725586, 19.368432998657227, 17.651872634887695, 16.737836837768555, 14.29068374633789, 13.612095832824707, 13.46920108795166, 12.831348419189453, 12.380311965942383, 11.38596248626709, 11.08390998840332, 10.749248504638672, 10.30927848815918, 9.989339828491211, 9.922688484191895, 9.722862243652344, 9.413115501403809, 9.109161376953125, 8.693352699279785, 8.510809898376465, 8.489309310913086, 8.483139991760254, 8.451546669006348, 7.5635762214660645, 7.048796653747559, 6.656842231750488, 6.406188488006592, 6.329207897186279, 5.732079982757568, 33.73314666748047, 37.23480987548828, 17.414350509643555, 29.77553367614746, 17.710397720336914, 23.017820358276367, 14.32711124420166, 12.990992546081543, 14.077739715576172, 10.59086799621582, 9.701498985290527, 9.136802673339844, 16.759807586669922, 15.954070091247559, 15.845244407653809, 13.255047798156738, 13.22040843963623, 12.731345176696777, 12.185731887817383, 11.557421684265137, 10.779741287231445, 10.763819694519043, 9.335709571838379, 9.287625312805176, 9.23161506652832, 9.097331047058105, 8.615706443786621, 8.043927192687988, 7.982789516448975, 7.724278450012207, 7.543070316314697, 7.099130630493164, 6.322234153747559, 6.328713893890381, 6.178842067718506, 5.517980575561523, 5.331383228302002, 5.212127208709717, 5.071008205413818, 5.047128200531006, 4.970130920410156, 4.959037780761719, 31.214967727661133, 7.977924823760986, 17.772327423095703, 38.22676467895508, 11.696207046508789, 13.215737342834473, 9.2652587890625, 19.347829818725586, 12.539673805236816, 18.52100372314453, 11.158670425415039, 11.873998641967773, 9.075037956237793, 8.655917167663574, 8.971899032592773, 8.289998054504395, 8.324493408203125, 61.46916580200195, 21.0609130859375, 20.465620040893555, 16.726703643798828, 16.559236526489258, 16.583293914794922, 16.6612548828125, 16.436233520507812, 15.724713325500488, 15.082846641540527, 13.333969116210938, 11.909036636352539, 10.73820686340332, 10.064666748046875, 9.642721176147461, 8.852957725524902, 8.34080696105957, 8.19851303100586, 8.055643081665039, 7.784504413604736, 7.936637878417969, 7.6404709815979, 7.016343593597412, 7.001184463500977, 6.619927883148193, 6.257802486419678, 6.091706275939941, 5.577062129974365, 5.182804107666016, 5.082723140716553, 12.354333877563477, 20.707250595092773, 9.822202682495117, 14.718600273132324, 12.007149696350098, 10.687474250793457, 12.539081573486328, 8.359947204589844, 9.633790969848633, 8.500447273254395, 7.965371131896973, 35.26020812988281, 24.925966262817383, 19.746246337890625, 19.486495971679688, 17.193626403808594, 14.6017484664917, 14.52406120300293, 14.466529846191406, 14.087542533874512, 13.521110534667969, 10.987439155578613, 10.868159294128418, 10.43580150604248, 10.346362113952637, 9.458020210266113, 9.177617073059082, 8.563606262207031, 7.9864726066589355, 7.6554131507873535, 7.560967445373535, 7.434182167053223, 7.183355808258057, 6.966200351715088, 6.80090856552124, 5.848453998565674, 5.166262149810791, 4.96279239654541, 4.849100589752197, 4.735684394836426, 22.55646324157715, 14.614855766296387, 16.0316219329834, 17.20414924621582, 9.385557174682617, 17.363462448120117, 18.157148361206055, 9.886594772338867, 8.171757698059082, 8.171757698059082, 8.171757698059082, 8.171757698059082, 8.171757698059082, 8.171757698059082, 8.171757698059082, 8.49678897857666, 8.22777271270752, 8.17629623413086], \"Total\": [86.0, 142.0, 185.0, 62.0, 126.0, 255.0, 142.0, 115.0, 60.0, 129.0, 89.0, 54.0, 45.0, 74.0, 86.0, 82.0, 148.0, 40.0, 93.0, 36.0, 53.0, 56.0, 41.0, 162.0, 69.0, 52.0, 61.0, 49.0, 78.0, 64.0, 142.60653686523438, 126.96060943603516, 86.42536163330078, 82.75875854492188, 55.58694839477539, 52.383113861083984, 43.84298324584961, 41.6059455871582, 36.97809600830078, 33.5316162109375, 26.288541793823242, 24.078947067260742, 22.602426528930664, 22.251768112182617, 21.63254165649414, 20.314374923706055, 20.257583618164062, 19.818037033081055, 17.2928409576416, 17.21242332458496, 17.02383041381836, 16.667470932006836, 16.277238845825195, 16.227516174316406, 129.20689392089844, 42.744686126708984, 13.854480743408203, 12.882543563842773, 12.480518341064453, 12.388177871704102, 142.4679718017578, 93.52664184570312, 39.0261116027832, 33.99510192871094, 82.56177520751953, 115.00021362304688, 97.4361572265625, 26.09922981262207, 162.71766662597656, 57.39278793334961, 255.9146728515625, 35.59775161743164, 78.24501037597656, 78.23809051513672, 94.83634948730469, 148.79721069335938, 79.32140350341797, 128.62322998046875, 193.76190185546875, 170.06185913085938, 68.69267272949219, 146.33511352539062, 69.8453598022461, 60.11457061767578, 49.909732818603516, 47.05526351928711, 53.764305114746094, 35.917755126953125, 31.390798568725586, 27.667770385742188, 26.87835121154785, 26.40094566345215, 26.330062866210938, 22.64607048034668, 22.315101623535156, 21.236801147460938, 20.157535552978516, 19.909286499023438, 19.199951171875, 18.55898666381836, 18.350704193115234, 17.909738540649414, 18.56968116760254, 17.544288635253906, 17.206453323364258, 16.683837890625, 16.2331485748291, 15.441558837890625, 13.916187286376953, 13.674834251403809, 13.563852310180664, 13.48769760131836, 16.087615966796875, 48.277793884277344, 16.023107528686523, 51.08721160888672, 44.1562385559082, 185.72991943359375, 65.32003784179688, 62.14860534667969, 68.98212432861328, 99.78244018554688, 89.65385437011719, 193.76190185546875, 61.448326110839844, 170.06185913085938, 146.33511352539062, 36.28840255737305, 102.4725112915039, 53.8927116394043, 128.62322998046875, 102.22881317138672, 255.9146728515625, 64.04583740234375, 162.71766662597656, 37.19972610473633, 74.77433776855469, 41.409908294677734, 25.629709243774414, 17.783376693725586, 17.333112716674805, 17.177413940429688, 17.177413940429688, 17.177413940429688, 15.79251480102539, 60.43360900878906, 15.31140422821045, 14.16504955291748, 12.751262664794922, 12.242138862609863, 11.546653747558594, 11.328207969665527, 10.322103500366211, 10.330778121948242, 10.257119178771973, 10.022747039794922, 9.992786407470703, 9.988163948059082, 9.879680633544922, 9.5099458694458, 9.545741081237793, 9.363664627075195, 54.82875442504883, 9.020411491394043, 8.921741485595703, 8.854113578796387, 8.679216384887695, 23.53693389892578, 53.56776428222656, 39.26697540283203, 25.951705932617188, 24.888973236083984, 15.23808479309082, 148.79721069335938, 78.23809051513672, 74.05713653564453, 57.655391693115234, 17.976383209228516, 49.33090591430664, 29.789426803588867, 146.33511352539062, 170.06185913085938, 22.918193817138672, 16.233627319335938, 13.40487289428711, 12.509126663208008, 86.96907043457031, 11.968254089355469, 10.505459785461426, 9.677074432373047, 9.677074432373047, 9.253957748413086, 8.964676856994629, 7.72885799407959, 7.482842445373535, 7.226485729217529, 30.619937896728516, 6.9247918128967285, 6.829156875610352, 6.790989875793457, 6.741560935974121, 6.5316643714904785, 6.154292106628418, 6.1197686195373535, 6.012126445770264, 5.735590934753418, 5.699037551879883, 5.680744171142578, 5.606698513031006, 5.593446731567383, 5.59492301940918, 5.435126781463623, 13.818297386169434, 38.917686462402344, 24.252901077270508, 23.116121292114258, 26.28593635559082, 17.165557861328125, 22.230745315551758, 25.1973819732666, 26.11612892150879, 25.840417861938477, 56.937564849853516, 89.65385437011719, 32.058135986328125, 185.72991943359375, 68.69267272949219, 102.22881317138672, 79.32140350341797, 38.83209228515625, 28.99913215637207, 82.56177520751953, 34.78598403930664, 37.19972610473633, 45.07518768310547, 40.70887756347656, 20.118776321411133, 18.40044593811035, 17.486530303955078, 15.039994239807129, 14.36124038696289, 14.21911907196045, 13.581232070922852, 13.12905502319336, 12.136034965515137, 11.834210395812988, 11.498144149780273, 11.060599327087402, 10.738016128540039, 10.672025680541992, 10.472023963928223, 10.163015365600586, 9.858284950256348, 9.442582130432129, 9.259928703308105, 9.237778663635254, 9.232545852661133, 9.200909614562988, 8.312636375427246, 7.798211574554443, 7.406032562255859, 7.154847145080566, 7.0782318115234375, 6.4806742668151855, 49.33090591430664, 56.799781799316406, 25.811628341674805, 52.07754135131836, 28.570636749267578, 56.937564849853516, 26.86363410949707, 26.41710662841797, 58.37503433227539, 24.783788681030273, 18.626895904541016, 36.095245361328125, 17.510366439819336, 16.70429801940918, 16.59515380859375, 14.005010604858398, 13.97092056274414, 13.481721878051758, 12.936036109924316, 12.307108879089355, 11.530375480651855, 11.514483451843262, 10.086037635803223, 10.040318489074707, 9.982304573059082, 9.848631858825684, 9.367222785949707, 8.794758796691895, 8.734538078308105, 8.47453498840332, 8.294182777404785, 7.849564075469971, 7.07365608215332, 7.089439392089844, 6.928811073303223, 6.2680768966674805, 6.081746578216553, 5.962493419647217, 5.820792198181152, 5.797548770904541, 5.720614910125732, 5.709998607635498, 36.342342376708984, 9.828330039978027, 25.680835723876953, 74.77433776855469, 17.20747947692871, 21.451902389526367, 13.296592712402344, 49.62741470336914, 30.51446533203125, 77.04151916503906, 25.142860412597656, 148.79721069335938, 38.917686462402344, 33.97675323486328, 68.63297271728516, 18.626895904541016, 57.655391693115234, 62.241943359375, 21.831262588500977, 21.23616600036621, 17.501008987426758, 17.3299560546875, 17.35761833190918, 17.441957473754883, 17.210933685302734, 16.501420974731445, 15.85434341430664, 14.105339050292969, 12.679465293884277, 11.509032249450684, 10.836113929748535, 10.414080619812012, 9.623408317565918, 9.1111421585083, 8.971670150756836, 8.82614803314209, 8.55451774597168, 8.732195854187012, 8.410924911499023, 7.786815166473389, 7.77187442779541, 7.395392417907715, 7.028385639190674, 6.862903118133545, 6.34808349609375, 5.9567484855651855, 5.85357666015625, 25.230289459228516, 64.04583740234375, 21.344860076904297, 53.8927116394043, 74.05713653564453, 53.56776428222656, 193.76190185546875, 21.416988372802734, 102.4725112915039, 68.98212432861328, 93.52664184570312, 36.040828704833984, 25.70743751525879, 20.527156829833984, 20.26742172241211, 17.977285385131836, 15.383193969726562, 15.304978370666504, 15.247119903564453, 14.868561744689941, 14.304220199584961, 11.7702054977417, 11.648962020874023, 11.217185020446777, 11.128349304199219, 10.241069793701172, 9.95981502532959, 9.344822883605957, 8.7676420211792, 8.436848640441895, 8.341826438903809, 8.215347290039062, 7.963578224182129, 7.749678134918213, 7.5843706130981445, 6.629643440246582, 5.946990013122559, 5.744091510772705, 5.632527828216553, 5.517168998718262, 26.455934524536133, 23.327945709228516, 32.058135986328125, 36.095245361328125, 18.013595581054688, 61.448326110839844, 115.00021362304688, 39.26697540283203, 16.248477935791016, 16.248477935791016, 16.248477935791016, 16.248477935791016, 16.248477935791016, 16.248477935791016, 16.248477935791016, 68.63297271728516, 79.32140350341797, 68.69267272949219], \"Category\": [\"Default\", \"Default\", \"Default\", \"Default\", \"Default\", \"Default\", \"Default\", \"Default\", \"Default\", \"Default\", \"Default\", \"Default\", \"Default\", \"Default\", \"Default\", \"Default\", \"Default\", \"Default\", \"Default\", \"Default\", \"Default\", \"Default\", \"Default\", \"Default\", \"Default\", \"Default\", \"Default\", \"Default\", \"Default\", \"Default\", \"Topic1\", \"Topic1\", \"Topic1\", \"Topic1\", \"Topic1\", \"Topic1\", \"Topic1\", \"Topic1\", \"Topic1\", \"Topic1\", \"Topic1\", \"Topic1\", \"Topic1\", \"Topic1\", \"Topic1\", \"Topic1\", \"Topic1\", \"Topic1\", \"Topic1\", \"Topic1\", \"Topic1\", \"Topic1\", \"Topic1\", \"Topic1\", \"Topic1\", \"Topic1\", \"Topic1\", \"Topic1\", \"Topic1\", \"Topic1\", \"Topic1\", \"Topic1\", \"Topic1\", \"Topic1\", \"Topic1\", \"Topic1\", \"Topic1\", \"Topic1\", \"Topic1\", \"Topic1\", \"Topic1\", \"Topic1\", \"Topic1\", \"Topic1\", \"Topic1\", \"Topic1\", \"Topic1\", \"Topic1\", \"Topic1\", \"Topic1\", \"Topic1\", \"Topic1\", \"Topic2\", \"Topic2\", \"Topic2\", \"Topic2\", \"Topic2\", \"Topic2\", \"Topic2\", \"Topic2\", \"Topic2\", \"Topic2\", \"Topic2\", \"Topic2\", \"Topic2\", \"Topic2\", \"Topic2\", \"Topic2\", \"Topic2\", \"Topic2\", \"Topic2\", \"Topic2\", \"Topic2\", \"Topic2\", \"Topic2\", \"Topic2\", \"Topic2\", \"Topic2\", \"Topic2\", \"Topic2\", \"Topic2\", \"Topic2\", \"Topic2\", \"Topic2\", \"Topic2\", \"Topic2\", \"Topic2\", \"Topic2\", \"Topic2\", \"Topic2\", \"Topic2\", \"Topic2\", \"Topic2\", \"Topic2\", \"Topic2\", \"Topic2\", \"Topic2\", \"Topic2\", \"Topic2\", \"Topic2\", \"Topic2\", \"Topic2\", \"Topic2\", \"Topic2\", \"Topic2\", \"Topic2\", \"Topic2\", \"Topic3\", \"Topic3\", \"Topic3\", \"Topic3\", \"Topic3\", \"Topic3\", \"Topic3\", \"Topic3\", \"Topic3\", \"Topic3\", \"Topic3\", \"Topic3\", \"Topic3\", \"Topic3\", \"Topic3\", \"Topic3\", \"Topic3\", \"Topic3\", \"Topic3\", \"Topic3\", \"Topic3\", \"Topic3\", \"Topic3\", \"Topic3\", \"Topic3\", \"Topic3\", \"Topic3\", \"Topic3\", \"Topic3\", \"Topic3\", \"Topic3\", \"Topic3\", \"Topic3\", \"Topic3\", \"Topic3\", \"Topic3\", \"Topic3\", \"Topic3\", \"Topic3\", \"Topic3\", \"Topic3\", \"Topic3\", \"Topic3\", \"Topic3\", \"Topic3\", \"Topic4\", \"Topic4\", \"Topic4\", \"Topic4\", \"Topic4\", \"Topic4\", \"Topic4\", \"Topic4\", \"Topic4\", \"Topic4\", \"Topic4\", \"Topic4\", \"Topic4\", \"Topic4\", \"Topic4\", \"Topic4\", \"Topic4\", \"Topic4\", \"Topic4\", \"Topic4\", \"Topic4\", \"Topic4\", \"Topic4\", \"Topic4\", \"Topic4\", \"Topic4\", \"Topic4\", \"Topic4\", \"Topic4\", \"Topic4\", \"Topic4\", \"Topic4\", \"Topic4\", \"Topic4\", \"Topic4\", \"Topic4\", \"Topic4\", \"Topic4\", \"Topic4\", \"Topic4\", \"Topic4\", \"Topic4\", \"Topic4\", \"Topic4\", \"Topic4\", \"Topic4\", \"Topic4\", \"Topic4\", \"Topic4\", \"Topic4\", \"Topic4\", \"Topic4\", \"Topic5\", \"Topic5\", \"Topic5\", \"Topic5\", \"Topic5\", \"Topic5\", \"Topic5\", \"Topic5\", \"Topic5\", \"Topic5\", \"Topic5\", \"Topic5\", \"Topic5\", \"Topic5\", \"Topic5\", \"Topic5\", \"Topic5\", \"Topic5\", \"Topic5\", \"Topic5\", \"Topic5\", \"Topic5\", \"Topic5\", \"Topic5\", \"Topic5\", \"Topic5\", \"Topic5\", \"Topic5\", \"Topic5\", \"Topic5\", \"Topic5\", \"Topic5\", \"Topic5\", \"Topic5\", \"Topic5\", \"Topic5\", \"Topic5\", \"Topic5\", \"Topic5\", \"Topic5\", \"Topic5\", \"Topic5\", \"Topic6\", \"Topic6\", \"Topic6\", \"Topic6\", \"Topic6\", \"Topic6\", \"Topic6\", \"Topic6\", \"Topic6\", \"Topic6\", \"Topic6\", \"Topic6\", \"Topic6\", \"Topic6\", \"Topic6\", \"Topic6\", \"Topic6\", \"Topic6\", \"Topic6\", \"Topic6\", \"Topic6\", \"Topic6\", \"Topic6\", \"Topic6\", \"Topic6\", \"Topic6\", \"Topic6\", \"Topic6\", \"Topic6\", \"Topic6\", \"Topic6\", \"Topic6\", \"Topic6\", \"Topic6\", \"Topic6\", \"Topic6\", \"Topic6\", \"Topic6\", \"Topic6\", \"Topic6\", \"Topic6\", \"Topic6\", \"Topic6\", \"Topic6\", \"Topic6\", \"Topic6\", \"Topic6\", \"Topic7\", \"Topic7\", \"Topic7\", \"Topic7\", \"Topic7\", \"Topic7\", \"Topic7\", \"Topic7\", \"Topic7\", \"Topic7\", \"Topic7\", \"Topic7\", \"Topic7\", \"Topic7\", \"Topic7\", \"Topic7\", \"Topic7\", \"Topic7\", \"Topic7\", \"Topic7\", \"Topic7\", \"Topic7\", \"Topic7\", \"Topic7\", \"Topic7\", \"Topic7\", \"Topic7\", \"Topic7\", \"Topic7\", \"Topic7\", \"Topic7\", \"Topic7\", \"Topic7\", \"Topic7\", \"Topic7\", \"Topic7\", \"Topic7\", \"Topic7\", \"Topic7\", \"Topic7\", \"Topic7\", \"Topic8\", \"Topic8\", \"Topic8\", \"Topic8\", \"Topic8\", \"Topic8\", \"Topic8\", \"Topic8\", \"Topic8\", \"Topic8\", \"Topic8\", \"Topic8\", \"Topic8\", \"Topic8\", \"Topic8\", \"Topic8\", \"Topic8\", \"Topic8\", \"Topic8\", \"Topic8\", \"Topic8\", \"Topic8\", \"Topic8\", \"Topic8\", \"Topic8\", \"Topic8\", \"Topic8\", \"Topic8\", \"Topic8\", \"Topic8\", \"Topic8\", \"Topic8\", \"Topic8\", \"Topic8\", \"Topic8\", \"Topic8\", \"Topic8\", \"Topic8\", \"Topic8\", \"Topic8\", \"Topic8\", \"Topic8\", \"Topic8\", \"Topic8\", \"Topic8\", \"Topic8\", \"Topic8\"], \"logprob\": [30.0, 29.0, 28.0, 27.0, 26.0, 25.0, 24.0, 23.0, 22.0, 21.0, 20.0, 19.0, 18.0, 17.0, 16.0, 15.0, 14.0, 13.0, 12.0, 11.0, 10.0, 9.0, 8.0, 7.0, 6.0, 5.0, 4.0, 3.0, 2.0, 1.0, -3.4481000900268555, -3.5648000240325928, -3.952199935913086, -3.9958999156951904, -4.3983001708984375, -4.458499908447266, -4.6392998695373535, -4.694799900054932, -4.81279993057251, -4.912799835205078, -5.162499904632568, -5.252999782562256, -5.318399906158447, -5.33459997177124, -5.363800048828125, -5.429100036621094, -5.4319000244140625, -5.454699993133545, -5.596799850463867, -5.6016998291015625, -5.6132001876831055, -5.635300159454346, -5.660200119018555, -5.663599967956543, -3.5917999744415283, -4.69920015335083, -5.829899787902832, -5.906799793243408, -5.940499782562256, -5.948400020599365, -3.5136001110076904, -3.961199998855591, -4.8379998207092285, -4.974599838256836, -4.144000053405762, -3.8631999492645264, -4.053400039672852, -5.236700057983398, -3.6445000171661377, -4.5543999671936035, -3.2874999046325684, -4.9868998527526855, -4.367099761962891, -4.406499862670898, -4.270999908447266, -3.943700075149536, -4.51669979095459, -4.250400066375732, -4.139400005340576, -4.233399868011475, -4.6859002113342285, -4.515900135040283, -4.068600177764893, -4.220300197601318, -4.408899784088135, -4.468699932098389, -4.335700035095215, -4.74370002746582, -4.881400108337402, -5.010900020599365, -5.040599822998047, -5.059000015258789, -5.061800003051758, -5.217199802398682, -5.232600212097168, -5.283599853515625, -5.337699890136719, -5.350599765777588, -5.388299942016602, -5.423500061035156, -5.435299873352051, -5.460700035095215, -5.424499988555908, -5.482100009918213, -5.502399921417236, -5.5346999168396, -5.563300132751465, -5.615799903869629, -5.725200176239014, -5.743800163269043, -5.752500057220459, -5.758600234985352, -5.582399845123291, -4.507999897003174, -5.590700149536133, -4.487199783325195, -4.643199920654297, -3.3208999633789062, -4.33459997177124, -4.3892998695373535, -4.338500022888184, -4.065899848937988, -4.218400001525879, -3.664799928665161, -4.533100128173828, -3.782099962234497, -3.8940999507904053, -4.940899848937988, -4.319799900054932, -4.731100082397461, -4.2270002365112305, -4.362299919128418, -3.8427000045776367, -4.814499855041504, -4.573599815368652, -5.002999782562256, -4.9934000968933105, -3.7118000984191895, -4.203199863433838, -4.582200050354004, -4.609099864959717, -4.618500232696533, -4.618500232696533, -4.618500232696533, -4.706699848175049, -3.365600109100342, -4.739299774169922, -4.821300029754639, -4.933000087738037, -4.976200103759766, -5.039000034332275, -5.059100151062012, -5.159200191497803, -5.1585001945495605, -5.1666998863220215, -5.190999984741211, -5.194300174713135, -5.195000171661377, -5.206699848175049, -5.248000144958496, -5.24429988861084, -5.264900207519531, -3.4995999336242676, -5.305600166320801, -5.317599773406982, -5.325900077819824, -5.347700119018555, -4.380300045013428, -3.6740000247955322, -4.059800148010254, -4.5329999923706055, -4.597099781036377, -4.979300022125244, -3.7620999813079834, -4.272500038146973, -4.505199909210205, -4.594200134277344, -4.99429988861084, -4.754499912261963, -4.94320011138916, -4.765100002288818, -4.940299987792969, -4.228799819946289, -4.587100028991699, -4.789100170135498, -4.862400054931641, -2.9235999584198, -4.9095001220703125, -5.0493998527526855, -5.138199806213379, -5.138199806213379, -5.186600208282471, -5.221399784088135, -5.384399890899658, -5.420400142669678, -5.459199905395508, -4.019100189208984, -5.506999969482422, -5.522600173950195, -5.528800010681152, -5.5370001792907715, -5.572700023651123, -5.640200138092041, -5.646699905395508, -5.667099952697754, -5.7210001945495605, -5.728700160980225, -5.732100009918213, -5.747300148010254, -5.75, -5.749800205230713, -5.7835001945495605, -4.911099910736084, -3.9523000717163086, -4.399700164794922, -4.44950008392334, -4.350900173187256, -4.81220006942749, -4.685400009155273, -4.643499851226807, -4.655099868774414, -4.665200233459473, -4.191800117492676, -3.9412999153137207, -4.595099925994873, -3.837100028991699, -4.485499858856201, -4.35290002822876, -4.631700038909912, -4.924600124359131, -5.009399890899658, -4.909900188446045, -5.045199871063232, -5.082900047302246, -3.4639999866485596, -3.5678000450134277, -4.291999816894531, -4.384799957275391, -4.437900066375732, -4.5960001945495605, -4.644700050354004, -4.655200004577637, -4.703700065612793, -4.739500045776367, -4.823200225830078, -4.850100040435791, -4.880799770355225, -4.922599792480469, -4.954100131988525, -4.9608001708984375, -4.981100082397461, -5.013500213623047, -5.046299934387207, -5.093100070953369, -5.114299774169922, -5.116799831390381, -5.117499828338623, -5.121300220489502, -5.2322998046875, -5.302800178527832, -5.360000133514404, -5.3983001708984375, -5.410399913787842, -5.509500026702881, -3.7370998859405518, -3.638400077819824, -4.3983001708984375, -3.8619000911712646, -4.381499767303467, -4.11929988861084, -4.593500137329102, -4.691400051116943, -4.611000061035156, -4.895599842071533, -4.98330020904541, -5.043300151824951, -4.352200031280518, -4.401500225067139, -4.408299922943115, -4.5868000984191895, -4.589399814605713, -4.627099990844727, -4.670899868011475, -4.723800182342529, -4.793499946594238, -4.795000076293945, -4.937300205230713, -4.942500114440918, -4.948500156402588, -4.963200092315674, -5.017600059509277, -5.086299896240234, -5.093900203704834, -5.126800060272217, -5.1504998207092285, -5.21120023727417, -5.327099800109863, -5.326099872589111, -5.349999904632568, -5.463200092315674, -5.497600078582764, -5.520199775695801, -5.547599792480469, -5.5524001121521, -5.567699909210205, -5.570000171661377, -3.730299949645996, -5.0945000648498535, -4.293499946594238, -3.527600049972534, -4.711900234222412, -4.589799880981445, -4.944900035858154, -4.208600044250488, -4.642300128936768, -4.252299785614014, -4.758999824523926, -4.696800231933594, -4.96560001373291, -5.012899875640869, -4.977099895477295, -5.056099891662598, -5.052000045776367, -2.937700033187866, -4.008800029754639, -4.037499904632568, -4.239200115203857, -4.249300003051758, -4.247799873352051, -4.243100166320801, -4.256700038909912, -4.301000118255615, -4.342700004577637, -4.46589994430542, -4.57889986038208, -4.682400226593018, -4.747200012207031, -4.789999961853027, -4.875500202178955, -4.935100078582764, -4.952300071716309, -4.969900131225586, -5.0040998458862305, -4.9847002029418945, -5.022799968719482, -5.107999801635742, -5.110199928283691, -5.166100025177002, -5.222400188446045, -5.249300003051758, -5.337600231170654, -5.410900115966797, -5.4303998947143555, -4.542200088500977, -4.025700092315674, -4.771599769592285, -4.367099761962891, -4.570700168609619, -4.68720006942749, -4.527400016784668, -4.932799816131592, -4.790999889373779, -4.916100025177002, -4.981100082397461, -3.4540998935699463, -3.8010001182556152, -4.033899784088135, -4.0472002029418945, -4.172399997711182, -4.3358001708984375, -4.341100215911865, -4.345099925994873, -4.371600151062012, -4.412700176239014, -4.620200157165527, -4.631100177764893, -4.6717000007629395, -4.680300235748291, -4.769999980926514, -4.800099849700928, -4.8694000244140625, -4.939199924468994, -4.981500148773193, -4.993899822235107, -5.010799884796143, -5.045100212097168, -5.075799942016602, -5.099800109863281, -5.250699996948242, -5.374800205230713, -5.414899826049805, -5.4380998611450195, -5.4618000984191895, -3.900899887084961, -4.33489990234375, -4.242300033569336, -4.171800136566162, -4.777699947357178, -4.162499904632568, -4.117800235748291, -4.7256999015808105, -4.916200160980225, -4.916200160980225, -4.916200160980225, -4.916200160980225, -4.916200160980225, -4.916200160980225, -4.916200160980225, -4.877200126647949, -4.90939998626709, -4.9156999588012695], \"loglift\": [30.0, 29.0, 28.0, 27.0, 26.0, 25.0, 24.0, 23.0, 22.0, 21.0, 20.0, 19.0, 18.0, 17.0, 16.0, 15.0, 14.0, 13.0, 12.0, 11.0, 10.0, 9.0, 8.0, 7.0, 6.0, 5.0, 4.0, 3.0, 2.0, 1.0, 1.313599944114685, 1.313099980354309, 1.3102999925613403, 1.309999942779541, 1.3055000305175781, 1.3047000169754028, 1.301800012588501, 1.298799991607666, 1.2985999584197998, 1.2964999675750732, 1.2900999784469604, 1.287500023841858, 1.2853000164031982, 1.2848000526428223, 1.2838000059127808, 1.2813999652862549, 1.2813999652862549, 1.280500054359436, 1.2747000455856323, 1.2745000123977661, 1.2740000486373901, 1.2730000019073486, 1.2719000577926636, 1.2714999914169312, 1.2685999870300293, 1.267300009727478, 1.2632999420166016, 1.2590999603271484, 1.257099986076355, 1.256600022315979, 1.2490999698638916, 1.2223999500274658, 1.219599962234497, 1.2209999561309814, 1.164199948310852, 1.113700032234192, 1.0892000198364258, 1.2231999635696411, 0.9853000044822693, 1.1174999475479126, 0.8894000053405762, 1.162600040435791, 0.9947999715805054, 0.9555000066757202, 0.8985999822616577, 0.7754999995231628, 0.83160001039505, 0.6144999861717224, 0.3158000111579895, 0.3522999882698059, 0.8062000274658203, 0.2199999988079071, 1.4069000482559204, 1.4052000045776367, 1.4026999473571777, 1.4018000364303589, 1.4014999866485596, 1.3969000577926636, 1.3939000368118286, 1.3905999660491943, 1.3898999691009521, 1.3894000053405762, 1.38919997215271, 1.384600043296814, 1.3839999437332153, 1.3824000358581543, 1.3804999589920044, 1.3799999952316284, 1.378600001335144, 1.3773000240325928, 1.3767999410629272, 1.3758000135421753, 1.3758000135421753, 1.374899983406067, 1.3740999698638916, 1.3725999593734741, 1.371399998664856, 1.368899941444397, 1.3634999990463257, 1.3624000549316406, 1.361899971961975, 1.3614000082015991, 1.3614000082015991, 1.3367999792099, 1.3569999933242798, 1.3009999990463257, 1.2908999919891357, 1.1765999794006348, 1.207900047302246, 1.2029999494552612, 1.1495000123977661, 1.052899956703186, 1.0075000524520874, 0.7904000282287598, 1.0705000162124634, 0.8034999966621399, 0.8417999744415283, 1.1892999410629272, 0.7724000215530396, 1.0037000179290771, 0.6378999948501587, 0.7322999835014343, 0.3343000113964081, 0.7476999759674072, 0.05620000138878822, 1.1024999618530273, 0.4138999879360199, 2.286400079727173, 2.274899959564209, 2.2613000869750977, 2.259999990463257, 2.259700059890747, 2.259700059890747, 2.259700059890747, 2.255500078201294, 2.2546000480651855, 2.2539000511169434, 2.2497000694274902, 2.2432000637054443, 2.2407000064849854, 2.2363998889923096, 2.2353999614715576, 2.228300094604492, 2.2281999588012695, 2.227099895477295, 2.2258999347686768, 2.2256999015808105, 2.225399971008301, 2.224600076675415, 2.2214999198913574, 2.221400022506714, 2.220099925994873, 2.2179999351501465, 2.216599941253662, 2.2156999111175537, 2.2149999141693115, 2.213099956512451, 2.1828999519348145, 2.066800117492676, 1.9916000366210938, 1.9325000047683716, 1.9103000164031982, 2.018699884414673, 0.957099974155426, 1.0894999504089355, 0.9117000102996826, 1.073099970817566, 1.8384000062942505, 1.0687999725341797, 1.3844000101089478, -0.029200000688433647, -0.3546999990940094, 2.3610000610351562, 2.347599983215332, 2.337100028991699, 2.332900047302246, 2.33270001411438, 2.3299999237060547, 2.320499897003174, 2.313800096511841, 2.313800096511841, 2.3101000785827637, 2.3071000576019287, 2.2923998832702637, 2.288800001144409, 2.2848000526428223, 2.2809998989105225, 2.2797000408172607, 2.2780001163482666, 2.277400016784668, 2.2764999866485596, 2.27239990234375, 2.264400005340576, 2.2636001110076904, 2.2609000205993652, 2.2541000843048096, 2.2527999877929688, 2.2525999546051025, 2.250499963760376, 2.250200033187866, 2.2500998973846436, 2.2453999519348145, 2.1847000122070312, 2.1080000400543213, 2.133500099182129, 2.131700038909912, 2.101900100708008, 2.0666000843048096, 1.9349000453948975, 1.8516000509262085, 1.8041000366210938, 1.8047000169754028, 1.4880000352859497, 1.284600019454956, 1.65910005569458, 0.6603999733924866, 1.006700038909912, 0.741599977016449, 0.7166000008583069, 1.1378999948501587, 1.3451000452041626, 0.3982999920845032, 1.1273000240325928, 1.0226000547409058, 2.449399948120117, 2.4475998878479004, 2.4282000064849854, 2.4245998859405518, 2.4223999977111816, 2.41510009765625, 2.412600040435791, 2.4119999408721924, 2.40939998626709, 2.4075000286102295, 2.402400016784668, 2.400700092315674, 2.3987998962402344, 2.3958001136779785, 2.393899917602539, 2.393399953842163, 2.391900062561035, 2.3894999027252197, 2.3870999813079834, 2.383500099182129, 2.3817999362945557, 2.381700038909912, 2.381500005722046, 2.381200075149536, 2.3717000484466553, 2.3650999069213867, 2.359499931335449, 2.355600118637085, 2.354300022125244, 2.343400001525879, 2.0861001014709473, 2.0439000129699707, 2.0725998878479004, 1.907099962234497, 1.9879000186920166, 1.5605000257492065, 1.8375999927520752, 1.7563999891281128, 1.0439000129699707, 1.6160000562667847, 1.8137999773025513, 1.0923000574111938, 2.5067999362945557, 2.504699945449829, 2.5044000148773193, 2.4955999851226807, 2.4953999519348145, 2.493299961090088, 2.4909000396728516, 2.487799882888794, 2.483299970626831, 2.4832000732421875, 2.473299980163574, 2.4727001190185547, 2.472399950027466, 2.471299886703491, 2.4670000076293945, 2.461400032043457, 2.460599899291992, 2.457900047302246, 2.455699920654297, 2.4500999450683594, 2.4382998943328857, 2.4370999336242676, 2.4361000061035156, 2.4231998920440674, 2.4189000129699707, 2.416100025177002, 2.4126999378204346, 2.4119999408721924, 2.4100000858306885, 2.409600019454956, 2.3984999656677246, 2.3420000076293945, 2.182499885559082, 1.879699945449829, 2.1644999980926514, 2.066200017929077, 2.1893999576568604, 1.6086000204086304, 1.6612999439239502, 1.1252000331878662, 1.7382999658584595, 0.02239999920129776, 1.0946999788284302, 1.1832000017166138, 0.5159000158309937, 1.7410999536514282, 0.6152999997138977, 2.65310001373291, 2.6296000480651855, 2.6285998821258545, 2.620300054550171, 2.6201000213623047, 2.6198999881744385, 2.619800090789795, 2.619499921798706, 2.617300033569336, 2.6157000064849854, 2.609299898147583, 2.6029000282287598, 2.5961999893188477, 2.5917000770568848, 2.588599920272827, 2.5820999145507812, 2.577199935913086, 2.5754001140594482, 2.574199914932251, 2.571199893951416, 2.569999933242798, 2.569499969482422, 2.5613999366760254, 2.5611000061035156, 2.554800033569336, 2.5494000911712646, 2.5464000701904297, 2.536099910736084, 2.526400089263916, 2.5243000984191895, 1.9515000581741333, 1.5363999605178833, 1.8894000053405762, 1.3676999807357788, 0.8461999893188477, 1.0536999702453613, -0.0722000002861023, 1.7247999906539917, 0.3012000024318695, 0.5717999935150146, 0.20239999890327454, 2.683000087738037, 2.6740000247955322, 2.666100025177002, 2.665600061416626, 2.6603000164031982, 2.6526999473571777, 2.6524999141693115, 2.6522998809814453, 2.650899887084961, 2.6486001014709473, 2.6361000537872314, 2.635499954223633, 2.632699966430664, 2.631999969482422, 2.6252999305725098, 2.6231000423431396, 2.6175999641418457, 2.611599922180176, 2.6077001094818115, 2.606600046157837, 2.6050000190734863, 2.601799964904785, 2.598299980163574, 2.5957999229431152, 2.5794999599456787, 2.5641000270843506, 2.5587000846862793, 2.5550999641418457, 2.5520999431610107, 2.5453999042510986, 2.237299919128418, 2.011899948120117, 1.9638999700546265, 2.0529000759124756, 1.441100001335144, 0.859000027179718, 1.325700044631958, 2.0176000595092773, 2.0176000595092773, 2.0176000595092773, 2.0176000595092773, 2.0176000595092773, 2.0176000595092773, 2.0176000595092773, 0.6158000230789185, 0.4388999938964844, 0.5764999985694885]}, \"token.table\": {\"Topic\": [1, 2, 3, 6, 7, 8, 4, 8, 8, 2, 1, 2, 4, 6, 5, 6, 4, 7, 1, 4, 7, 8, 5, 4, 8, 5, 6, 5, 1, 3, 2, 3, 6, 4, 6, 5, 2, 4, 1, 8, 5, 6, 6, 4, 7, 1, 5, 7, 4, 1, 8, 5, 1, 7, 3, 2, 2, 8, 5, 3, 4, 7, 6, 1, 8, 3, 3, 2, 3, 3, 5, 4, 1, 2, 3, 4, 6, 2, 3, 5, 1, 7, 7, 2, 4, 3, 2, 1, 2, 5, 1, 2, 7, 5, 8, 1, 2, 8, 2, 4, 1, 3, 7, 5, 6, 2, 8, 4, 3, 4, 3, 4, 8, 2, 5, 2, 5, 6, 2, 1, 2, 6, 6, 3, 8, 3, 2, 7, 1, 5, 2, 1, 3, 4, 6, 7, 1, 6, 7, 3, 2, 2, 6, 8, 6, 1, 8, 4, 5, 8, 7, 1, 8, 3, 2, 5, 8, 3, 4, 8, 6, 2, 3, 5, 6, 7, 1, 8, 1, 1, 7, 3, 6, 3, 8, 1, 2, 3, 4, 1, 1, 2, 8, 1, 6, 5, 1, 5, 1, 8, 2, 3, 1, 2, 3, 5, 1, 2, 5, 1, 5, 7, 6, 1, 2, 3, 4, 6, 6, 7, 1, 2, 7, 6, 5, 7, 7, 1, 7, 4, 8, 2, 3, 5, 3, 5, 8, 1, 2, 3, 4, 2, 4, 1, 3, 1, 2, 4, 7, 1, 6, 8, 6, 2, 3, 4, 4, 3, 3, 4, 1, 3, 6, 7, 1, 2, 1, 2, 8, 4, 8, 1, 2, 2, 4, 7, 4, 2, 6, 7, 1, 2, 3, 7, 7, 1, 8, 1, 2, 3, 6, 6, 1, 2, 6, 1, 5, 5, 8, 1, 1, 4, 3, 4, 7, 5, 2, 4, 6, 5, 1, 1, 2, 1, 2, 7, 1, 2, 3, 4, 6, 7, 8, 6, 4, 5, 1, 7, 1, 8, 2, 5, 1, 2, 5, 2, 4, 8, 5, 2, 4, 4, 6, 5, 8, 4, 8, 3, 1, 4, 5, 8, 1, 3, 3, 8, 3, 2, 8, 1, 2, 3, 6, 7, 1, 2, 3, 6, 8, 1, 4, 4, 4, 2, 4, 5, 1, 2, 3, 6, 7, 2, 1, 8, 7, 6, 2, 7, 1, 4, 7, 8, 8, 6, 1, 2, 3, 5, 6, 8, 5, 2, 7, 6, 4, 1, 2, 4, 5, 2, 1, 8, 6, 4, 3, 7, 1, 5, 1, 4, 1, 2, 4, 4, 2, 4, 1, 1, 2, 4, 3, 1, 2, 4, 5, 8, 8, 7, 7, 4, 2, 7, 8, 7, 8, 3, 6, 3, 7, 1, 1, 6, 8, 6, 7, 6, 4, 2, 8, 2, 7, 8, 3, 3, 6, 1, 2, 4, 5, 1, 3, 6, 7, 4, 5, 2, 1, 2, 7, 2, 4, 3, 4, 7, 4, 8, 2, 6, 8, 7, 2, 7, 5, 2, 2, 3, 8, 6, 8, 5, 1, 6, 8, 1, 1, 5, 6, 4, 3, 3, 6, 2, 3, 5, 1, 2, 3, 1, 2, 3, 4, 2, 6, 8, 4, 2, 8, 4, 1, 2, 5, 1, 1, 2, 3, 4, 6, 1, 8, 1, 2, 7, 2, 6], \"Freq\": [0.36642909049987793, 0.5367411971092224, 0.020643893629312515, 0.005160973407328129, 0.0670926496386528, 0.005160973407328129, 0.8817784190177917, 0.09797538071870804, 0.9482213258743286, 0.9361479878425598, 0.19349531829357147, 0.23219439387321472, 0.5417869091033936, 0.8756569623947144, 0.10174668580293655, 0.8139734864234924, 0.8773411512374878, 0.9417895674705505, 0.5968613028526306, 0.24747908115386963, 0.029115187004208565, 0.11646074801683426, 0.9719297289848328, 0.6990742683410645, 0.23302476108074188, 0.982586681842804, 0.8740319013595581, 0.9295085668563843, 0.6902008652687073, 0.29397445917129517, 0.9492042660713196, 0.27257680892944336, 0.7009117603302002, 0.7451624870300293, 0.23125731945037842, 0.8476693034172058, 0.725811779499054, 0.24193726480007172, 0.9398589730262756, 0.9124460220336914, 0.536858081817627, 0.429486483335495, 0.91590416431427, 0.8936673402786255, 0.8393840789794922, 0.42244696617126465, 0.5760640501976013, 0.8989554643630981, 0.9240078926086426, 0.4308095872402191, 0.49235379695892334, 0.9761468172073364, 0.9829676747322083, 0.9464121460914612, 0.8979573845863342, 0.9298836588859558, 0.9858794212341309, 0.8877009153366089, 0.8976417183876038, 0.07608631253242493, 0.7608631253242493, 0.15217262506484985, 0.964531421661377, 0.4308095872402191, 0.49235379695892334, 0.9217422008514404, 0.9177518486976624, 0.9693219661712646, 0.931455671787262, 0.9796619415283203, 0.9142619967460632, 0.9697965979576111, 0.05349428951740265, 0.3610864579677582, 0.04012071713805199, 0.026747144758701324, 0.5081957578659058, 0.1668856292963028, 0.6119139790534973, 0.22251416742801666, 0.9845244884490967, 0.9800465106964111, 0.9161498546600342, 0.9758647084236145, 0.8664520382881165, 0.931455671787262, 0.958429753780365, 0.04142691195011139, 0.932105541229248, 0.020713455975055695, 0.7902610301971436, 0.19499948620796204, 0.9451671242713928, 0.8664999008178711, 0.8790018558502197, 0.9841458201408386, 0.9888494610786438, 0.8986058831214905, 0.937502384185791, 0.9300331473350525, 0.9957467913627625, 0.9498170614242554, 0.9006836414337158, 0.9451754093170166, 0.9607970714569092, 0.9341639280319214, 0.9456377625465393, 0.8170243501663208, 0.9710273742675781, 0.9300331473350525, 0.9679812788963318, 0.6297584772109985, 0.35986196994781494, 0.9744484424591064, 0.9531291127204895, 0.9848132133483887, 0.8660090565681458, 0.9641368985176086, 0.9878966808319092, 0.08267103880643845, 0.7991533875465393, 0.1102280542254448, 0.9282392263412476, 0.9010664820671082, 0.852063775062561, 0.9410832524299622, 0.9698805212974548, 0.8780457973480225, 0.9735493063926697, 0.9063915610313416, 0.9814592003822327, 0.9519615769386292, 0.015479050576686859, 0.030958101153373718, 0.9642685055732727, 0.9809603691101074, 0.9890240430831909, 0.6768651604652405, 0.22562171518802643, 0.9428288340568542, 0.9808887839317322, 0.9673212170600891, 0.9572314023971558, 0.9415839910507202, 0.9750462174415588, 0.4308095872402191, 0.49235379695892334, 0.24934032559394836, 0.24934032559394836, 0.4709761440753937, 0.9465352892875671, 0.4308095872402191, 0.49235379695892334, 0.9754304885864258, 0.971404492855072, 0.9129377007484436, 0.9724811911582947, 0.8774393796920776, 0.871749758720398, 0.9345631003379822, 0.9276412129402161, 0.323750764131546, 0.23545511066913605, 0.14715944230556488, 0.2648870050907135, 0.8541786074638367, 0.9830657839775085, 0.9050260186195374, 0.9908316731452942, 0.5603028535842896, 0.37353524565696716, 0.9431837797164917, 0.033094167709350586, 0.8922147750854492, 0.08497283607721329, 0.3348478674888611, 0.5603576302528381, 0.09567081928253174, 0.006833629682660103, 0.9551912546157837, 0.8173897862434387, 0.02608690783381462, 0.15652145445346832, 0.9118960499763489, 0.08824800699949265, 0.937029242515564, 0.961498498916626, 0.9258295893669128, 0.4308095872402191, 0.49235379695892334, 0.19687514007091522, 0.7218754887580872, 0.8189182281494141, 0.087118960916996, 0.087118960916996, 0.9623902440071106, 0.9886854887008667, 0.3500097095966339, 0.6300174593925476, 0.43598389625549316, 0.03963489830493927, 0.47561880946159363, 0.9553185701370239, 0.005384162068367004, 0.786087691783905, 0.026920810341835022, 0.17767734825611115, 0.005384162068367004, 0.909632682800293, 0.929641604423523, 0.896835446357727, 0.0768716111779213, 0.9746612310409546, 0.9138324856758118, 0.8855639696121216, 0.9351783990859985, 0.9228400588035583, 0.9926863312721252, 0.9063976407051086, 0.8939031958580017, 0.9711208343505859, 0.020271267741918564, 0.2837977409362793, 0.6892231106758118, 0.9035348296165466, 0.9443914294242859, 0.9800732731819153, 0.38221386075019836, 0.5409796237945557, 0.07056255638599396, 0.005880213342607021, 0.9689763188362122, 0.8316525220870972, 0.9243558645248413, 0.9109606146812439, 0.6537577509880066, 0.24252304434776306, 0.08435583859682083, 0.021088959649205208, 0.9587225914001465, 0.896385908126831, 0.9750900864601135, 0.9578373432159424, 0.036477211862802505, 0.91193026304245, 0.036477211862802505, 0.9599360227584839, 0.8966858983039856, 0.05749170482158661, 0.942863941192627, 0.33568957448005676, 0.40282750129699707, 0.16784478724002838, 0.10070687532424927, 0.9295611381530762, 0.987464427947998, 0.09058742970228195, 0.8832274079322815, 0.022646857425570488, 0.46789994835853577, 0.49909326434135437, 0.9335431456565857, 0.06317209452390671, 0.9856374859809875, 0.9190981388092041, 0.9511439204216003, 0.9354733824729919, 0.9857841730117798, 0.891769289970398, 0.9696134924888611, 0.719036877155304, 0.2581157982349396, 0.0061456141993403435, 0.018436841666698456, 0.9216368198394775, 0.9383245706558228, 0.9062618613243103, 0.3815774917602539, 0.17344431579113007, 0.2948553264141083, 0.1387554556131363, 0.8482176661491394, 0.4413204789161682, 0.3115203380584717, 0.2466202676296234, 0.9733468294143677, 0.9721768498420715, 0.914003312587738, 0.9743190407752991, 0.9872846007347107, 0.21629926562309265, 0.7786773443222046, 0.6935960054397583, 0.19266556203365326, 0.11559933423995972, 0.869479238986969, 0.6036913990974426, 0.28747209906578064, 0.11498884111642838, 0.9549252390861511, 0.9924337863922119, 0.919567346572876, 0.0766306146979332, 0.15613816678524017, 0.5152559876441956, 0.32789015769958496, 0.3122788667678833, 0.5269705653190613, 0.02927614375948906, 0.009758714586496353, 0.02927614375948906, 0.09758714586496353, 0.009758714586496353, 0.9305042028427124, 0.9056965708732605, 0.9572032690048218, 0.9088319540023804, 0.08553712069988251, 0.4308095872402191, 0.49235379695892334, 0.9817724227905273, 0.9782371520996094, 0.1613958179950714, 0.4034895598888397, 0.443838506937027, 0.6692405939102173, 0.33462029695510864, 0.9182062149047852, 0.8385923504829407, 0.14473563432693481, 0.7960459589958191, 0.951885998249054, 0.8659494519233704, 0.34293633699417114, 0.6430056095123291, 0.11339610815048218, 0.86937016248703, 0.9611621499061584, 0.5407898426055908, 0.28327086567878723, 0.1287594735622406, 0.05150379240512848, 0.9950782656669617, 0.9901012182235718, 0.7385340929031372, 0.25466692447662354, 0.9006496667861938, 0.9506513476371765, 0.8914892673492432, 0.27006176114082336, 0.28356483578681946, 0.2430555820465088, 0.040509261190891266, 0.16203704476356506, 0.4808184504508972, 0.2185538411140442, 0.029140513390302658, 0.1311323046684265, 0.11656205356121063, 0.842749834060669, 0.14045831561088562, 0.8923913240432739, 0.8917903900146484, 0.8113896250724792, 0.07654619216918945, 0.107164666056633, 0.09787185490131378, 0.8808466792106628, 0.6830334067344666, 0.24107061326503754, 0.08035687357187271, 0.9425755143165588, 0.9854360818862915, 0.8704596757888794, 0.8916957378387451, 0.9440045952796936, 0.9775739312171936, 0.9713725447654724, 0.6177399754524231, 0.18910406529903412, 0.08824856579303741, 0.1008554995059967, 0.9032633304595947, 0.8463292717933655, 0.5779678225517273, 0.04032333567738533, 0.2621016800403595, 0.006720555946230888, 0.08064667135477066, 0.026882223784923553, 0.9312707185745239, 0.9714709520339966, 0.8536810874938965, 0.8624334335327148, 0.8644949793815613, 0.19366271793842316, 0.052817102521657944, 0.07042280584573746, 0.6514109373092651, 0.9323942065238953, 0.98944091796875, 0.9229506850242615, 0.8589895963668823, 0.8302791118621826, 0.9687947630882263, 0.9557710886001587, 0.9314930438995361, 0.9748461842536926, 0.8599621057510376, 0.13323356211185455, 0.3032413125038147, 0.5086628794670105, 0.19563956558704376, 0.8785857558250427, 0.4211956560611725, 0.5360671877861023, 0.9707596898078918, 0.7284809350967407, 0.26838773488998413, 0.8124411106109619, 0.8868774771690369, 0.10537858307361603, 0.08781548589468002, 0.4039512276649475, 0.4039512276649475, 0.9787321090698242, 0.9442901611328125, 0.8742656111717224, 0.9352195858955383, 0.9592995643615723, 0.6679938435554504, 0.2783307731151581, 0.055666156113147736, 0.9793970584869385, 0.9374650716781616, 0.9463776350021362, 0.901595413684845, 0.7840536236763, 0.20534737408161163, 0.9599536657333374, 0.3277134299278259, 0.42602744698524475, 0.2293993979692459, 0.8221322298049927, 0.9619233012199402, 0.8385753631591797, 0.9199417233467102, 0.9875505566596985, 0.9036312103271484, 0.27756813168525696, 0.16654087603092194, 0.499622642993927, 0.8985357880592346, 0.29057133197784424, 0.6973711848258972, 0.13793516159057617, 0.4827730655670166, 0.34483790397644043, 0.9566761255264282, 0.18646365404129028, 0.18646365404129028, 0.6060068607330322, 0.9461129903793335, 0.30993783473968506, 0.6586178541183472, 0.9543285369873047, 0.10147556662559509, 0.7683150172233582, 0.13046857714653015, 0.3968666195869446, 0.5952999591827393, 0.12369654327630997, 0.78341144323349, 0.08246435970067978, 0.9186019897460938, 0.8788144588470459, 0.13758055865764618, 0.8529995083808899, 0.9631001353263855, 0.9602383971214294, 0.5153465270996094, 0.4684968590736389, 0.930851399898529, 0.959011971950531, 0.9638413190841675, 0.931455671787262, 0.959022581577301, 0.8923226594924927, 0.8407614827156067, 0.9041101336479187, 0.4634535312652588, 0.3828529119491577, 0.14105106890201569, 0.9686654806137085, 0.37854260206222534, 0.4921053647994995, 0.11356277763843536, 0.8900015950202942, 0.9807817339897156, 0.9526569843292236, 0.9540019035339355, 0.3350253999233246, 0.11167513579130173, 0.5211506485939026, 0.9591835737228394, 0.046789441257715225, 0.9559489488601685, 0.21045787632465363, 0.6915044188499451, 0.010021802969276905, 0.08017442375421524, 0.8045232892036438, 0.11263325810432434, 0.0804523304104805, 0.8835236430168152, 0.699774980545044, 0.2766552269458771, 0.8801663517951965, 0.548179566860199, 0.20556733012199402, 0.23982855677604675, 0.9807726740837097, 0.4975773096084595, 0.4587040841579437, 0.015549290925264359, 0.023323936387896538, 0.9708534479141235, 0.4308095872402191, 0.49235379695892334, 0.6525612473487854, 0.339957058429718, 0.0078151049092412, 0.5170453786849976, 0.4374999403953552], \"Term\": [\"abuse\", \"abuse\", \"abuse\", \"abuse\", \"abuse\", \"abuse\", \"abuser\", \"abuser\", \"abusive_relationship\", \"access\", \"account\", \"account\", \"account\", \"act\", \"action\", \"action\", \"addict\", \"adult\", \"advice\", \"advice\", \"advice\", \"advice\", \"advocate\", \"age\", \"age\", \"alcohol\", \"ambulance\", \"andor\", \"anger\", \"anger\", \"answer\", \"anxiety\", \"anxiety\", \"apartment\", \"apartment\", \"apology\", \"argument\", \"argument\", \"arm\", \"assistance\", \"attack\", \"attack\", \"attention\", \"attitude\", \"aunt\", \"baby\", \"baby\", \"bank\", \"bar\", \"beater\", \"beater\", \"bed\", \"bedroom\", \"behavior\", \"belligerent\", \"best_friend\", \"bf\", \"birth\", \"birthday\", \"bit\", \"bit\", \"bit\", \"bitch\", \"blacked_eye\", \"blacked_eye\", \"blame\", \"blood\", \"body\", \"boiling\", \"book\", \"bottle\", \"box\", \"boyfriend\", \"boyfriend\", \"boyfriend\", \"boyfriend\", \"boyfriend\", \"break\", \"break\", \"break\", \"broom\", \"brother\", \"brother_sister\", \"bruise\", \"building\", \"bush\", \"business\", \"call\", \"call\", \"call\", \"car\", \"car\", \"card\", \"career\", \"cat\", \"cause\", \"chance\", \"change\", \"charge\", \"cheater\", \"child\", \"childhood\", \"choice\", \"choking\", \"city\", \"class\", \"come_back\", \"comfort\", \"comment\", \"composure\", \"console\", \"contact\", \"contact\", \"control\", \"conversation\", \"cop\", \"couch\", \"country\", \"couple\", \"court\", \"court\", \"court\", \"cousin\", \"crash\", \"credit\", \"criticism\", \"custody\", \"cycle\", \"dad\", \"date\", \"daughter\", \"day\", \"day\", \"day\", \"death\", \"decision\", \"depression\", \"dinner\", \"dinner\", \"distraught\", \"divorce\", \"doctor\", \"document\", \"dog\", \"domestic_abuse\", \"doneinstead\", \"doneinstead\", \"door\", \"door\", \"door\", \"doubt\", \"drain\", \"drain\", \"drink\", \"drinking\", \"drive\", \"drug\", \"eachother\", \"ear\", \"emergency\", \"emotion\", \"end\", \"end\", \"end\", \"end\", \"environment\", \"escape\", \"event\", \"ex\", \"experience\", \"experience\", \"face\", \"face\", \"fact\", \"fact\", \"family\", \"family\", \"family\", \"family\", \"family_friend\", \"father\", \"father\", \"father\", \"fault\", \"fault\", \"feel\", \"feeling\", \"felony\", \"fence\", \"fence\", \"fiance\", \"fiance\", \"fight\", \"fight\", \"fight\", \"find\", \"finding\", \"floor\", \"floor\", \"food\", \"food\", \"food\", \"fool\", \"friend\", \"friend\", \"friend\", \"friend\", \"friend\", \"future\", \"gate\", \"girl\", \"girl\", \"girlfriend\", \"go\", \"got_drunk\", \"grandma\", \"granny\", \"guy\", \"half_ago\", \"harassment\", \"hate\", \"head\", \"head\", \"head\", \"healing\", \"heart\", \"heartbroken\", \"help\", \"help\", \"help\", \"help\", \"history\", \"hit\", \"hole\", \"holiday\", \"home\", \"home\", \"home\", \"home\", \"hope\", \"hormone\", \"horror\", \"hospital\", \"hour\", \"hour\", \"hour\", \"household\", \"hurt\", \"husband\", \"husband\", \"incident\", \"incident\", \"incident\", \"incident\", \"income\", \"injury\", \"issue\", \"issue\", \"issue\", \"jail\", \"jail\", \"kid\", \"kid\", \"kill\", \"kind\", \"lawsorry\", \"leaf\", \"leave\", \"level\", \"leverage\", \"life\", \"life\", \"life\", \"life\", \"line\", \"listen\", \"look\", \"love\", \"love\", \"love\", \"love\", \"lying\", \"man\", \"man\", \"man\", \"mark\", \"marriage\", \"matter\", \"memory\", \"mess\", \"message\", \"message\", \"mind\", \"mind\", \"mind\", \"mine\", \"minute\", \"minute\", \"minute\", \"mistake\", \"mom\", \"moment\", \"moment\", \"money\", \"money\", \"money\", \"month\", \"month\", \"month\", \"month\", \"month\", \"month\", \"month\", \"month_ago\", \"mood\", \"morning\", \"mother\", \"mother\", \"mourning\", \"mourning\", \"name\", \"neck\", \"neighbor\", \"neighbor\", \"neighbor\", \"night\", \"night\", \"nightmare\", \"note\", \"number\", \"number\", \"offense\", \"opinion\", \"order\", \"order\", \"other\", \"other\", \"outburst\", \"pain\", \"pain\", \"pain\", \"pain\", \"parent\", \"part\", \"partner\", \"partner\", \"party\", \"path\", \"pay\", \"people\", \"people\", \"people\", \"people\", \"people\", \"person\", \"person\", \"person\", \"person\", \"person\", \"picture\", \"picture\", \"piece\", \"pillow\", \"point\", \"point\", \"point\", \"police\", \"police\", \"post\", \"post\", \"post\", \"power\", \"problem\", \"promise\", \"provider\", \"put\", \"question\", \"reality\", \"reason\", \"reason\", \"reason\", \"reason\", \"recommendation\", \"regret\", \"relationship\", \"relationship\", \"relationship\", \"relationship\", \"relationship\", \"relationship\", \"report\", \"resource\", \"response\", \"ride\", \"right\", \"room\", \"room\", \"room\", \"room\", \"safety\", \"school\", \"score\", \"scream\", \"security\", \"service\", \"share\", \"shelter\", \"sign\", \"sister\", \"sister\", \"situation\", \"situation\", \"situation\", \"slap\", \"sleep\", \"sleep\", \"snuck\", \"son\", \"son\", \"sound\", \"spawn\", \"start\", \"start\", \"start\", \"start\", \"started_hitting\", \"statement\", \"stay\", \"stepgrandfather\", \"storm\", \"story\", \"story\", \"story\", \"straw\", \"street\", \"strength\", \"stress\", \"stuff\", \"stuff\", \"suicide\", \"support\", \"support\", \"support\", \"surgery\", \"survivor\", \"temper\", \"term\", \"text\", \"text_message\", \"thank\", \"thank\", \"thank\", \"therapist\", \"therapy\", \"therapy\", \"thing\", \"thing\", \"thing\", \"think\", \"thought\", \"thought\", \"thought\", \"threat\", \"time\", \"time\", \"tip\", \"today\", \"today\", \"today\", \"tomorrow\", \"tomorrow\", \"tonight\", \"tonight\", \"tonight\", \"top\", \"track\", \"trauma\", \"trauma\", \"treatment\", \"trial\", \"trigger\", \"trigger\", \"trip\", \"trouble\", \"trust\", \"tshirt\", \"turn\", \"update\", \"vacation\", \"vibe\", \"victim\", \"victim\", \"victim\", \"video\", \"violence\", \"violence\", \"violence\", \"visit\", \"voice\", \"wait\", \"walk\", \"wall\", \"wall\", \"wall\", \"want\", \"want\", \"water\", \"way\", \"way\", \"way\", \"way\", \"week\", \"week\", \"week\", \"weekend\", \"wife\", \"wife\", \"wine\", \"woman\", \"woman\", \"woman\", \"word\", \"work\", \"work\", \"work\", \"work\", \"world\", \"would_kill\", \"would_kill\", \"year\", \"year\", \"year\", \"yesterday\", \"yesterday\"]}, \"R\": 30, \"lambda.step\": 0.01, \"plot.opts\": {\"xlab\": \"PC1\", \"ylab\": \"PC2\"}, \"topic.order\": [5, 3, 7, 2, 4, 8, 1, 6]};\n",
              "\n",
              "function LDAvis_load_lib(url, callback){\n",
              "  var s = document.createElement('script');\n",
              "  s.src = url;\n",
              "  s.async = true;\n",
              "  s.onreadystatechange = s.onload = callback;\n",
              "  s.onerror = function(){console.warn(\"failed to load library \" + url);};\n",
              "  document.getElementsByTagName(\"head\")[0].appendChild(s);\n",
              "}\n",
              "\n",
              "if(typeof(LDAvis) !== \"undefined\"){\n",
              "   // already loaded: just create the visualization\n",
              "   !function(LDAvis){\n",
              "       new LDAvis(\"#\" + \"ldavis_el1211398675544005602063641787\", ldavis_el1211398675544005602063641787_data);\n",
              "   }(LDAvis);\n",
              "}else if(typeof define === \"function\" && define.amd){\n",
              "   // require.js is available: use it to load d3/LDAvis\n",
              "   require.config({paths: {d3: \"https://cdnjs.cloudflare.com/ajax/libs/d3/3.5.5/d3.min\"}});\n",
              "   require([\"d3\"], function(d3){\n",
              "      window.d3 = d3;\n",
              "      LDAvis_load_lib(\"https://cdn.rawgit.com/bmabey/pyLDAvis/files/ldavis.v1.0.0.js\", function(){\n",
              "        new LDAvis(\"#\" + \"ldavis_el1211398675544005602063641787\", ldavis_el1211398675544005602063641787_data);\n",
              "      });\n",
              "    });\n",
              "}else{\n",
              "    // require.js not available: dynamically load d3 & LDAvis\n",
              "    LDAvis_load_lib(\"https://cdnjs.cloudflare.com/ajax/libs/d3/3.5.5/d3.min.js\", function(){\n",
              "         LDAvis_load_lib(\"https://cdn.rawgit.com/bmabey/pyLDAvis/files/ldavis.v1.0.0.js\", function(){\n",
              "                 new LDAvis(\"#\" + \"ldavis_el1211398675544005602063641787\", ldavis_el1211398675544005602063641787_data);\n",
              "            })\n",
              "         });\n",
              "}\n",
              "</script>"
            ],
            "text/plain": [
              "PreparedData(topic_coordinates=              x         y  topics  cluster       Freq\n",
              "topic                                                \n",
              "4     -0.263485 -0.000918       1        1  26.737309\n",
              "2     -0.222802  0.009464       2        1  24.234261\n",
              "6      0.059498 -0.243684       3        1   9.974943\n",
              "1      0.015364  0.152848       4        1   9.115277\n",
              "3      0.148886  0.084311       5        1   8.490917\n",
              "7      0.098151 -0.076739       6        1   7.803401\n",
              "0      0.068706 -0.068471       7        1   6.956079\n",
              "5      0.095682  0.143189       8        1   6.687816, topic_info=             Term        Freq       Total Category  logprob  loglift\n",
              "258       husband   86.000000   86.000000  Default  30.0000  30.0000\n",
              "112         child  142.000000  142.000000  Default  29.0000  29.0000\n",
              "20         friend  185.000000  185.000000  Default  28.0000  28.0000\n",
              "151       brother   62.000000   62.000000  Default  27.0000  27.0000\n",
              "58            mom  126.000000  126.000000  Default  26.0000  26.0000\n",
              "...           ...         ...         ...      ...      ...      ...\n",
              "2850  doneinstead    8.171758   16.248478   Topic8  -4.9162   2.0176\n",
              "2849  blacked_eye    8.171758   16.248478   Topic8  -4.9162   2.0176\n",
              "93         person    8.496789   68.632973   Topic8  -4.8772   0.6158\n",
              "64         reason    8.227773   79.321404   Topic8  -4.9094   0.4389\n",
              "145        advice    8.176296   68.692673   Topic8  -4.9157   0.5765\n",
              "\n",
              "[411 rows x 6 columns], token_table=      Topic      Freq       Term\n",
              "term                            \n",
              "144       1  0.366429      abuse\n",
              "144       2  0.536741      abuse\n",
              "144       3  0.020644      abuse\n",
              "144       6  0.005161      abuse\n",
              "144       7  0.067093      abuse\n",
              "...     ...       ...        ...\n",
              "73        1  0.652561       year\n",
              "73        2  0.339957       year\n",
              "73        7  0.007815       year\n",
              "171       2  0.517045  yesterday\n",
              "171       6  0.437500  yesterday\n",
              "\n",
              "[534 rows x 3 columns], R=30, lambda_step=0.01, plot_opts={'xlab': 'PC1', 'ylab': 'PC2'}, topic_order=[5, 3, 7, 2, 4, 8, 1, 6])"
            ]
          },
          "metadata": {
            "tags": []
          },
          "execution_count": 33
        }
      ]
    },
    {
      "cell_type": "code",
      "metadata": {
        "id": "M3FAzGyyVLy8",
        "colab_type": "code",
        "colab": {}
      },
      "source": [
        "pyLDAvis.save_html(vis, 'REDDITLDA.html')"
      ],
      "execution_count": 0,
      "outputs": []
    },
    {
      "cell_type": "code",
      "metadata": {
        "id": "Vc0uC9XWx11K",
        "colab_type": "code",
        "colab": {}
      },
      "source": [
        "def compute_coherence_values(dictionary, corpus, texts, limit, start=2, step=3):\n",
        "    \"\"\"\n",
        "    Compute c_v coherence for various number of topics\n",
        "\n",
        "    Parameters:\n",
        "    ----------\n",
        "    dictionary : Gensim dictionary\n",
        "    corpus : Gensim corpus\n",
        "    texts : List of input texts\n",
        "    limit : Max num of topics\n",
        "\n",
        "    Returns:\n",
        "    -------\n",
        "    model_list : List of LDA topic models\n",
        "    coherence_values : Coherence values corresponding to the LDA model with respective number of topics\n",
        "    \"\"\"\n",
        "    coherence_values = []\n",
        "    model_list = []\n",
        "    for num_topics in range(start, limit, step):\n",
        "        model = gensim.models.ldamodel.LdaModel(corpus=corpus,\n",
        "                                           id2word=id2word,\n",
        "                                           num_topics=num_topics)\n",
        "        model_list.append(model)\n",
        "        coherencemodel = CoherenceModel(model=model, texts=texts, dictionary=dictionary, coherence='c_v')\n",
        "        coherence_values.append(coherencemodel.get_coherence())\n",
        "\n",
        "    return model_list, coherence_values"
      ],
      "execution_count": 0,
      "outputs": []
    },
    {
      "cell_type": "code",
      "metadata": {
        "id": "y1yPtvXIx5HE",
        "colab_type": "code",
        "colab": {}
      },
      "source": [
        "model_list, coherence_values = compute_coherence_values(dictionary=id2word, corpus=corpus, texts=data_lemmatized, start=2, limit=40, step=6)"
      ],
      "execution_count": 0,
      "outputs": []
    },
    {
      "cell_type": "code",
      "metadata": {
        "id": "sU38Tqfex7bx",
        "colab_type": "code",
        "outputId": "f2241702-e353-41d6-aaf5-0f4b78b15506",
        "colab": {
          "base_uri": "https://localhost:8080/",
          "height": 279
        }
      },
      "source": [
        "# Show graph\n",
        "limit=40; start=2; step=6;\n",
        "x = range(start, limit, step)\n",
        "plt.plot(x, coherence_values)\n",
        "plt.xlabel(\"Num Topics\")\n",
        "plt.ylabel(\"Coherence score\")\n",
        "plt.legend((\"coherence_values\"), loc='best')\n",
        "plt.show()"
      ],
      "execution_count": 0,
      "outputs": [
        {
          "output_type": "display_data",
          "data": {
            "image/png": "[encoded data removed]",
            "text/plain": [
              "<Figure size 432x288 with 1 Axes>"
            ]
          },
          "metadata": {
            "tags": [],
            "needs_background": "light"
          }
        }
      ]
    },
    {
      "cell_type": "code",
      "metadata": {
        "id": "TF8OBZQaySBa",
        "colab_type": "code",
        "outputId": "5b03ee85-4f09-41fc-8040-18187705e202",
        "colab": {
          "base_uri": "https://localhost:8080/",
          "height": 136
        }
      },
      "source": [
        "for m, cv in zip(x, coherence_values):\n",
        "    print(\"Num Topics =\", m, \" has Coherence Value of\", round(cv, 4))"
      ],
      "execution_count": 0,
      "outputs": [
        {
          "output_type": "stream",
          "text": [
            "Num Topics = 2  has Coherence Value of 0.3663\n",
            "Num Topics = 8  has Coherence Value of 0.4228\n",
            "Num Topics = 14  has Coherence Value of 0.4173\n",
            "Num Topics = 20  has Coherence Value of 0.4177\n",
            "Num Topics = 26  has Coherence Value of 0.412\n",
            "Num Topics = 32  has Coherence Value of 0.4019\n",
            "Num Topics = 38  has Coherence Value of 0.404\n"
          ],
          "name": "stdout"
        }
      ]
    },
    {
      "cell_type": "code",
      "metadata": {
        "id": "A0g2WfcqyYVa",
        "colab_type": "code",
        "outputId": "9ebfcf07-9e84-4936-f37d-17e270c1fb8b",
        "colab": {
          "base_uri": "https://localhost:8080/",
          "height": 1000
        }
      },
      "source": [
        "# Select the model and print the topics\n",
        "optimal_model = model_list[1]\n",
        "model_topics = optimal_model.show_topics(formatted=False)\n",
        "pprint(optimal_model.print_topics(num_words=30))"
      ],
      "execution_count": 0,
      "outputs": [
        {
          "output_type": "stream",
          "text": [
            "[(0,\n",
            "  '0.020*\"mom\" + 0.017*\"relationship\" + 0.010*\"people\" + 0.010*\"mother\" + '\n",
            "  '0.010*\"help\" + 0.009*\"work\" + 0.009*\"today\" + 0.009*\"month\" + '\n",
            "  '0.007*\"father\" + 0.007*\"brother\" + 0.007*\"sister\" + 0.007*\"room\" + '\n",
            "  '0.007*\"family\" + 0.006*\"week\" + 0.006*\"phone\" + 0.005*\"face\" + '\n",
            "  '0.005*\"friend\" + 0.005*\"abuse\" + 0.005*\"dad\" + 0.005*\"parent\" + 0.005*\"day\" '\n",
            "  '+ 0.005*\"money\" + 0.005*\"apartment\" + 0.005*\"place\" + 0.005*\"car\" + '\n",
            "  '0.005*\"way\" + 0.005*\"child\" + 0.005*\"life\" + 0.005*\"bed\" + 0.004*\"night\"'),\n",
            " (1,\n",
            "  '0.014*\"friend\" + 0.013*\"year\" + 0.012*\"help\" + 0.011*\"way\" + 0.009*\"abuse\" '\n",
            "  '+ 0.008*\"relationship\" + 0.008*\"house\" + 0.007*\"leave\" + 0.007*\"car\" + '\n",
            "  '0.007*\"month\" + 0.007*\"boyfriend\" + 0.007*\"brother\" + 0.007*\"money\" + '\n",
            "  '0.006*\"child\" + 0.006*\"police\" + 0.006*\"guy\" + 0.005*\"week\" + '\n",
            "  '0.005*\"control\" + 0.005*\"room\" + 0.005*\"family\" + 0.005*\"talk\" + '\n",
            "  '0.005*\"work\" + 0.005*\"advice\" + 0.005*\"ex\" + 0.005*\"abuser\" + '\n",
            "  '0.005*\"situation\" + 0.004*\"people\" + 0.004*\"mother\" + 0.004*\"contact\" + '\n",
            "  '0.004*\"yesterday\"'),\n",
            " (2,\n",
            "  '0.010*\"help\" + 0.010*\"family\" + 0.009*\"work\" + 0.009*\"abuse\" + 0.008*\"head\" '\n",
            "  '+ 0.008*\"person\" + 0.008*\"memory\" + 0.007*\"today\" + 0.007*\"daughter\" + '\n",
            "  '0.006*\"job\" + 0.006*\"child\" + 0.005*\"talk\" + 0.005*\"month\" + '\n",
            "  '0.005*\"relationship\" + 0.005*\"food\" + 0.005*\"friend\" + 0.005*\"kid\" + '\n",
            "  '0.004*\"body\" + 0.004*\"life\" + 0.004*\"abuser\" + 0.004*\"day\" + 0.004*\"guy\" + '\n",
            "  '0.004*\"week\" + 0.004*\"year\" + 0.004*\"love\" + 0.004*\"victim\" + '\n",
            "  '0.004*\"partner\" + 0.004*\"parent\" + 0.004*\"therapy\" + 0.004*\"bit\"'),\n",
            " (3,\n",
            "  '0.019*\"sister\" + 0.010*\"daughter\" + 0.010*\"home\" + 0.010*\"situation\" + '\n",
            "  '0.009*\"people\" + 0.009*\"day\" + 0.009*\"family\" + 0.008*\"love\" + '\n",
            "  '0.008*\"friend\" + 0.008*\"phone\" + 0.008*\"way\" + 0.008*\"husband\" + '\n",
            "  '0.008*\"help\" + 0.007*\"relationship\" + 0.007*\"house\" + 0.006*\"person\" + '\n",
            "  '0.006*\"abuse\" + 0.006*\"work\" + 0.006*\"boyfriend\" + 0.006*\"advice\" + '\n",
            "  '0.006*\"door\" + 0.005*\"year\" + 0.005*\"head\" + 0.005*\"parent\" + 0.005*\"thing\" '\n",
            "  '+ 0.005*\"today\" + 0.005*\"reason\" + 0.005*\"life\" + 0.005*\"hour\" + '\n",
            "  '0.005*\"car\"'),\n",
            " (4,\n",
            "  '0.015*\"friend\" + 0.014*\"abuse\" + 0.014*\"baby\" + 0.013*\"year\" + '\n",
            "  '0.012*\"relationship\" + 0.011*\"mother\" + 0.011*\"family\" + 0.011*\"phone\" + '\n",
            "  '0.010*\"son\" + 0.010*\"parent\" + 0.009*\"life\" + 0.009*\"boyfriend\" + '\n",
            "  '0.009*\"mom\" + 0.008*\"day\" + 0.007*\"home\" + 0.007*\"way\" + 0.007*\"partner\" + '\n",
            "  '0.006*\"victim\" + 0.006*\"situation\" + 0.006*\"father\" + 0.006*\"week\" + '\n",
            "  '0.005*\"person\" + 0.005*\"child\" + 0.005*\"help\" + 0.005*\"kid\" + 0.005*\"house\" '\n",
            "  '+ 0.005*\"people\" + 0.005*\"advice\" + 0.005*\"dad\" + 0.005*\"anger\"'),\n",
            " (5,\n",
            "  '0.019*\"year\" + 0.015*\"friend\" + 0.011*\"advice\" + 0.010*\"help\" + '\n",
            "  '0.009*\"point\" + 0.008*\"kid\" + 0.008*\"child\" + 0.008*\"abuse\" + 0.008*\"month\" '\n",
            "  '+ 0.007*\"relationship\" + 0.007*\"day\" + 0.007*\"way\" + 0.007*\"life\" + '\n",
            "  '0.007*\"work\" + 0.007*\"parent\" + 0.006*\"violence\" + 0.006*\"mom\" + '\n",
            "  '0.006*\"partner\" + 0.006*\"people\" + 0.005*\"post\" + 0.005*\"place\" + '\n",
            "  '0.005*\"issue\" + 0.005*\"woman\" + 0.005*\"fight\" + 0.005*\"incident\" + '\n",
            "  '0.005*\"ex\" + 0.004*\"leave\" + 0.004*\"call\" + 0.004*\"sister\" + '\n",
            "  '0.004*\"situation\"'),\n",
            " (6,\n",
            "  '0.022*\"year\" + 0.018*\"life\" + 0.015*\"help\" + 0.014*\"mom\" + 0.014*\"family\" + '\n",
            "  '0.012*\"kid\" + 0.012*\"husband\" + 0.011*\"child\" + 0.010*\"abuse\" + 0.008*\"day\" '\n",
            "  '+ 0.008*\"friend\" + 0.007*\"situation\" + 0.007*\"man\" + 0.007*\"ex\" + '\n",
            "  '0.007*\"work\" + 0.007*\"money\" + 0.007*\"today\" + 0.006*\"son\" + 0.005*\"face\" + '\n",
            "  '0.005*\"woman\" + 0.005*\"job\" + 0.005*\"month\" + 0.005*\"way\" + 0.004*\"court\" + '\n",
            "  '0.004*\"mother\" + 0.004*\"person\" + 0.004*\"home\" + 0.004*\"other\" + '\n",
            "  '0.004*\"love\" + 0.004*\"week\"'),\n",
            " (7,\n",
            "  '0.013*\"brother\" + 0.013*\"abuse\" + 0.010*\"relationship\" + 0.010*\"parent\" + '\n",
            "  '0.009*\"child\" + 0.009*\"boyfriend\" + 0.008*\"help\" + 0.008*\"day\" + '\n",
            "  '0.008*\"year\" + 0.008*\"hour\" + 0.008*\"home\" + 0.008*\"sister\" + 0.008*\"room\" '\n",
            "  '+ 0.007*\"family\" + 0.007*\"situation\" + 0.007*\"friend\" + 0.007*\"night\" + '\n",
            "  '0.007*\"way\" + 0.007*\"life\" + 0.007*\"ex\" + 0.007*\"month\" + 0.006*\"want\" + '\n",
            "  '0.006*\"bed\" + 0.006*\"message\" + 0.006*\"stuff\" + 0.006*\"love\" + 0.005*\"car\" '\n",
            "  '+ 0.005*\"husband\" + 0.005*\"advice\" + 0.005*\"point\"')]\n"
          ],
          "name": "stdout"
        }
      ]
    },
    {
      "cell_type": "markdown",
      "metadata": {
        "id": "xGlKVvKJEB63",
        "colab_type": "text"
      },
      "source": [
        ""
      ]
    },
    {
      "cell_type": "markdown",
      "metadata": {
        "id": "CelfOfcxzihZ",
        "colab_type": "text"
      },
      "source": [
        "#Dominant topic in each sentence/testimony/document"
      ]
    },
    {
      "cell_type": "code",
      "metadata": {
        "id": "bCZ6PKCjzqGx",
        "colab_type": "code",
        "outputId": "555f416a-2902-454a-d47b-2c90d422532b",
        "colab": {
          "base_uri": "https://localhost:8080/",
          "height": 1000
        }
      },
      "source": [
        "def format_topics_sentences(ldamodel=lda_model, corpus=corpus, texts=data):\n",
        "    # Init output\n",
        "    sent_topics_df = pd.DataFrame()\n",
        "\n",
        "    # Get main topic in each document\n",
        "    for i, row in enumerate(ldamodel[corpus]):\n",
        "        row = sorted(row, key=lambda x: (x[1]), reverse=True)\n",
        "        # Get the Dominant topic, Perc Contribution and Keywords for each document\n",
        "        for j, (topic_num, prop_topic) in enumerate(row):\n",
        "            if j == 0:  # => dominant topic\n",
        "                wp = ldamodel.show_topic(topic_num)\n",
        "                topic_keywords = \", \".join([word for word, prop in wp])\n",
        "                sent_topics_df = sent_topics_df.append(pd.Series([int(topic_num), round(prop_topic,4), topic_keywords]), ignore_index=True)\n",
        "            else:\n",
        "                break\n",
        "    sent_topics_df.columns = ['Dominant_Topic', 'Perc_Contribution', 'Topic_Keywords']\n",
        "\n",
        "    # Add original text to the end of the output\n",
        "    contents = pd.Series(texts)\n",
        "    sent_topics_df = pd.concat([sent_topics_df, contents], axis=1)\n",
        "    return(sent_topics_df)\n",
        "\n",
        "\n",
        "df_topic_sents_keywords = format_topics_sentences(ldamodel=optimal_model, corpus=corpus, texts=data)\n",
        "\n",
        "# Format\n",
        "df_dominant_topic = df_topic_sents_keywords.reset_index()\n",
        "df_dominant_topic.columns = ['Document_No', 'Dominant_Topic', 'Topic_Perc_Contrib', 'Keywords', 'Text']\n",
        "\n",
        "# Show\n",
        "\n",
        "pd.set_option('display.max_colwidth', -1)\n",
        "df_dominant_topic.head(10).sort_values('Topic_Perc_Contrib',ascending=False)\n"
      ],
      "execution_count": 0,
      "outputs": [
        {
          "output_type": "execute_result",
          "data": {
            "text/html": [
              "<div>\n",
              "<style scoped>\n",
              "    .dataframe tbody tr th:only-of-type {\n",
              "        vertical-align: middle;\n",
              "    }\n",
              "\n",
              "    .dataframe tbody tr th {\n",
              "        vertical-align: top;\n",
              "    }\n",
              "\n",
              "    .dataframe thead th {\n",
              "        text-align: right;\n",
              "    }\n",
              "</style>\n",
              "<table border=\"1\" class=\"dataframe\">\n",
              "  <thead>\n",
              "    <tr style=\"text-align: right;\">\n",
              "      <th></th>\n",
              "      <th>Document_No</th>\n",
              "      <th>Dominant_Topic</th>\n",
              "      <th>Topic_Perc_Contrib</th>\n",
              "      <th>Keywords</th>\n",
              "      <th>Text</th>\n",
              "    </tr>\n",
              "  </thead>\n",
              "  <tbody>\n",
              "    <tr>\n",
              "      <th>6</th>\n",
              "      <td>6</td>\n",
              "      <td>0.0</td>\n",
              "      <td>0.9809</td>\n",
              "      <td>family, friend, relationship, way, parent, mom, year, people, situation, day</td>\n",
              "      <td>lost help okay going try much sense possible two year ago left kid dad abusive towards them took kid left stayed homeless shelter six month program homeless shelter got place yearandahalf ago since met somebody else luck abusive to much physically mentally emotionally like threatening suicide threatening lose kids top hoping stimulus check away decided self income way file tax cuz thought tax filer going guess something wrong know say still processing tax return mean eligible stimulus know wait letter irs try call live person talk to top nobody talk family friends wish phone somebody irs see fix return money away 8 year old boy 7 year old girl 5 year old boy 3 year old girl want girl grow thinking okay man treat way seen treated want boy grow thinking okay treat woman like anybody income child support cash assistance government nothing</td>\n",
              "    </tr>\n",
              "    <tr>\n",
              "      <th>3</th>\n",
              "      <td>3</td>\n",
              "      <td>0.0</td>\n",
              "      <td>0.9791</td>\n",
              "      <td>family, friend, relationship, way, parent, mom, year, people, situation, day</td>\n",
              "      <td>concerned friend do hoping someone help shed light current situation best friend 20yr old recently moved abusive boyfriend fought constantly moved would break multiple thing threaten kill crash car recent express concern relationship although knew denial tonight called cry barely able form sentence asked could come ofc welcomed stay night almost hour passed calling phone unavailable mind racing knew something right hopped car drive place starting worry thing got hand received message boyfriend friend account managed hold of told hid bathroom throwing up concerned waited leaving without see her asked pick broken phone thrown balcony multiple friend blindly ignored violent situation unfolded apartment found way talked car broke told threatened stab family left broke him sat talked 2 hour begged come home would scared hurting family her also consumed xanax smoked weed which regular occurrence returned back room degraded forced sexually told want leave scared confused researching service hotlines help help need still feel bit helpless</td>\n",
              "    </tr>\n",
              "    <tr>\n",
              "      <th>4</th>\n",
              "      <td>4</td>\n",
              "      <td>0.0</td>\n",
              "      <td>0.9786</td>\n",
              "      <td>family, friend, relationship, way, parent, mom, year, people, situation, day</td>\n",
              "      <td>rare guy abused mom often feel pretty alone talking experience cuz seems people victim behaviour woman male partner parents grew mom emotional problems mom would often violently beat stick hanger shoe miss behaved leaving bruised leg arm back would hateful way felt like man would suffered much greater physical harm hold back one 11 mom chased house kitchen knife year always apologize making mad always say reason beat cuz bad oftentimes excuse like you remember beat yell come remember bought expensive toy video game took travel le physical violence simply small disagreement would lash violent manner would rage several day hide room avoid confrontation know always twist around sound like victim woman older feel like people believe me shared friend coworkers expressed supportive attitude feel like still word her</td>\n",
              "    </tr>\n",
              "    <tr>\n",
              "      <th>8</th>\n",
              "      <td>8</td>\n",
              "      <td>0.0</td>\n",
              "      <td>0.9416</td>\n",
              "      <td>family, friend, relationship, way, parent, mom, year, people, situation, day</td>\n",
              "      <td>truly free hi guys never posted finding this felt to know purpose post guess want finally much chest maybe ask question people always made out etc want super long context describe happened me 19 met him 20 met online definitely naive came dating lived pretty big distance away way spoke immediately caught attention absolutely obsessed dated before would never felt drawn someone realise like things intensity made feel typical particularly healthy</td>\n",
              "    </tr>\n",
              "    <tr>\n",
              "      <th>1</th>\n",
              "      <td>1</td>\n",
              "      <td>1.0</td>\n",
              "      <td>0.8905</td>\n",
              "      <td>year, life, relationship, mother, family, people, day, wife, friend, person</td>\n",
              "      <td>girl i’m “talking” tpo ex messaged me talking girl fairly frequently last 3 weeks first week talking supposed come hang stopped responding me turn ex boyfriend stopped apartment beat her arrested got temporary protection order him since violated protection order warrant arrest</td>\n",
              "    </tr>\n",
              "    <tr>\n",
              "      <th>5</th>\n",
              "      <td>5</td>\n",
              "      <td>0.0</td>\n",
              "      <td>0.8540</td>\n",
              "      <td>family, friend, relationship, way, parent, mom, year, people, situation, day</td>\n",
              "      <td>referred rrelationships referred post made rrelationships long story short f21 ex m23 would call name stupid bitch loser pathetic piece shit etc still hangout can’t seem separate him</td>\n",
              "    </tr>\n",
              "    <tr>\n",
              "      <th>9</th>\n",
              "      <td>9</td>\n",
              "      <td>3.0</td>\n",
              "      <td>0.7896</td>\n",
              "      <td>sister, situation, parent, son, phone, abuse, year, room, kid, life</td>\n",
              "      <td>emotional physical abuse advice live grandma brother gran 70 year old still working struggling share put money it 45 year ago kicked older sister house abusing gran brother would hold sister granbrother doesnt hurt brother disability adhd sister gone stayed bf lived parent age 47 i know right parent move house rid them staying here baby boy leverage u feel guilty wanting rid emotional physical abuse receive them tried kick many time continue refuse staying u 6 month even put single cent help out eat food whatever granted everyday argument fist fight tired lifestyle gran brother called cop come talk go even shuts down yesterday got black eye sister unhappy eat home eat sister still nerve complain still take u happy till get better half things life hard make thing worse us wanna call child line could nephew away threat saying going people come attack u street like eg walking shop is honesty tired anything life good do tried explaining reality worse</td>\n",
              "    </tr>\n",
              "    <tr>\n",
              "      <th>7</th>\n",
              "      <td>7</td>\n",
              "      <td>3.0</td>\n",
              "      <td>0.7349</td>\n",
              "      <td>sister, situation, parent, son, phone, abuse, year, room, kid, life</td>\n",
              "      <td>nightmare year abused me didn’t see that perhaps ‘that’ was arrested 2018 pulled knife me following month physical assaults even wasn’t enough arrested attacked one night daughter rang police understood right and went along prosecution social service got involved said placing child section could child away safeguarding them dropped charges didn’t want s lives seven month arrest restraining order lifted got touch obviously sorry changed expected stupidly fell it convinced closest u give another chance changed fat chance that reality was found better way disguise it began slow soon built up thought hid well week middle lockdown stood street threatened stab me front neighbour friends then threatened stab kill them drunk probably couldn’t remember name then jumped vehicle drove off soon caught crashed wall refused give breath test obviously arrested threw cell police involved haven’t pressed charges seems didn’t too one neighbour reported hearing cry called slag hit me neighbour reported witnessing behaviour towards me heard say kill and worst mean worst teenage daughter reported witnessing beat push stairs didn’t know saw it can’t even begin describe guilt feel like complete idiot friend neighbour know happening thought hid it seems didn’t even well</td>\n",
              "    </tr>\n",
              "    <tr>\n",
              "      <th>2</th>\n",
              "      <td>2</td>\n",
              "      <td>6.0</td>\n",
              "      <td>0.5625</td>\n",
              "      <td>child, year, help, life, kid, car, family, advice, situation, friend</td>\n",
              "      <td>coronavirus lockdown affecting domestic violence  stream</td>\n",
              "    </tr>\n",
              "    <tr>\n",
              "      <th>0</th>\n",
              "      <td>0</td>\n",
              "      <td>0.0</td>\n",
              "      <td>0.5621</td>\n",
              "      <td>family, friend, relationship, way, parent, mom, year, people, situation, day</td>\n",
              "      <td>covid19 resource abuse victim</td>\n",
              "    </tr>\n",
              "  </tbody>\n",
              "</table>\n",
              "</div>"
            ],
            "text/plain": [
              "   Document_No  ...                                                                                                                                                                                                                                                                                                                                                                                                                                                                                                                                                                                                                                                                                                                                                                                                                                                                                                                                                                                                                                                                                                                                                                                                                                                                                                                Text\n",
              "6  6            ...  lost help okay going try much sense possible two year ago left kid dad abusive towards them took kid left stayed homeless shelter six month program homeless shelter got place yearandahalf ago since met somebody else luck abusive to much physically mentally emotionally like threatening suicide threatening lose kids top hoping stimulus check away decided self income way file tax cuz thought tax filer going guess something wrong know say still processing tax return mean eligible stimulus know wait letter irs try call live person talk to top nobody talk family friends wish phone somebody irs see fix return money away 8 year old boy 7 year old girl 5 year old boy 3 year old girl want girl grow thinking okay man treat way seen treated want boy grow thinking okay treat woman like anybody income child support cash assistance government nothing                                                                                                                                                                                                                                                                                                                                                                                                                                   \n",
              "3  3            ...  concerned friend do hoping someone help shed light current situation best friend 20yr old recently moved abusive boyfriend fought constantly moved would break multiple thing threaten kill crash car recent express concern relationship although knew denial tonight called cry barely able form sentence asked could come ofc welcomed stay night almost hour passed calling phone unavailable mind racing knew something right hopped car drive place starting worry thing got hand received message boyfriend friend account managed hold of told hid bathroom throwing up concerned waited leaving without see her asked pick broken phone thrown balcony multiple friend blindly ignored violent situation unfolded apartment found way talked car broke told threatened stab family left broke him sat talked 2 hour begged come home would scared hurting family her also consumed xanax smoked weed which regular occurrence returned back room degraded forced sexually told want leave scared confused researching service hotlines help help need still feel bit helpless                                                                                                                                                                                                                            \n",
              "4  4            ...  rare guy abused mom often feel pretty alone talking experience cuz seems people victim behaviour woman male partner parents grew mom emotional problems mom would often violently beat stick hanger shoe miss behaved leaving bruised leg arm back would hateful way felt like man would suffered much greater physical harm hold back one 11 mom chased house kitchen knife year always apologize making mad always say reason beat cuz bad oftentimes excuse like you remember beat yell come remember bought expensive toy video game took travel le physical violence simply small disagreement would lash violent manner would rage several day hide room avoid confrontation know always twist around sound like victim woman older feel like people believe me shared friend coworkers expressed supportive attitude feel like still word her                                                                                                                                                                                                                                                                                                                                                                                                                                                              \n",
              "8  8            ...  truly free hi guys never posted finding this felt to know purpose post guess want finally much chest maybe ask question people always made out etc want super long context describe happened me 19 met him 20 met online definitely naive came dating lived pretty big distance away way spoke immediately caught attention absolutely obsessed dated before would never felt drawn someone realise like things intensity made feel typical particularly healthy                                                                                                                                                                                                                                                                                                                                                                                                                                                                                                                                                                                                                                                                                                                                                                                                                                                  \n",
              "1  1            ...  girl i’m “talking” tpo ex messaged me talking girl fairly frequently last 3 weeks first week talking supposed come hang stopped responding me turn ex boyfriend stopped apartment beat her arrested got temporary protection order him since violated protection order warrant arrest                                                                                                                                                                                                                                                                                                                                                                                                                                                                                                                                                                                                                                                                                                                                                                                                                                                                                                                                                                                                                             \n",
              "5  5            ...  referred rrelationships referred post made rrelationships long story short f21 ex m23 would call name stupid bitch loser pathetic piece shit etc still hangout can’t seem separate him                                                                                                                                                                                                                                                                                                                                                                                                                                                                                                                                                                                                                                                                                                                                                                                                                                                                                                                                                                                                                                                                                                                            \n",
              "9  9            ...  emotional physical abuse advice live grandma brother gran 70 year old still working struggling share put money it 45 year ago kicked older sister house abusing gran brother would hold sister granbrother doesnt hurt brother disability adhd sister gone stayed bf lived parent age 47 i know right parent move house rid them staying here baby boy leverage u feel guilty wanting rid emotional physical abuse receive them tried kick many time continue refuse staying u 6 month even put single cent help out eat food whatever granted everyday argument fist fight tired lifestyle gran brother called cop come talk go even shuts down yesterday got black eye sister unhappy eat home eat sister still nerve complain still take u happy till get better half things life hard make thing worse us wanna call child line could nephew away threat saying going people come attack u street like eg walking shop is honesty tired anything life good do tried explaining reality worse                                                                                                                                                                                                                                                                                                                  \n",
              "7  7            ...  nightmare year abused me didn’t see that perhaps ‘that’ was arrested 2018 pulled knife me following month physical assaults even wasn’t enough arrested attacked one night daughter rang police understood right and went along prosecution social service got involved said placing child section could child away safeguarding them dropped charges didn’t want s lives seven month arrest restraining order lifted got touch obviously sorry changed expected stupidly fell it convinced closest u give another chance changed fat chance that reality was found better way disguise it began slow soon built up thought hid well week middle lockdown stood street threatened stab me front neighbour friends then threatened stab kill them drunk probably couldn’t remember name then jumped vehicle drove off soon caught crashed wall refused give breath test obviously arrested threw cell police involved haven’t pressed charges seems didn’t too one neighbour reported hearing cry called slag hit me neighbour reported witnessing behaviour towards me heard say kill and worst mean worst teenage daughter reported witnessing beat push stairs didn’t know saw it can’t even begin describe guilt feel like complete idiot friend neighbour know happening thought hid it seems didn’t even well\n",
              "2  2            ...  coronavirus lockdown affecting domestic violence  stream                                                                                                                                                                                                                                                                                                                                                                                                                                                                                                                                                                                                                                                                                                                                                                                                                                                                                                                                                                                                                                                                                                                                                                                                                                                          \n",
              "0  0            ...  covid19 resource abuse victim                                                                                                                                                                                                                                                                                                                                                                                                                                                                                                                                                                                                                                                                                                                                                                                                                                                                                                                                                                                                                                                                                                                                                                                                                                                                                     \n",
              "\n",
              "[10 rows x 5 columns]"
            ]
          },
          "metadata": {
            "tags": []
          },
          "execution_count": 40
        }
      ]
    },
    {
      "cell_type": "markdown",
      "metadata": {
        "id": "Z3wV_oQ7z0sk",
        "colab_type": "text"
      },
      "source": [
        "#Most representattive documeny for each topic "
      ]
    },
    {
      "cell_type": "code",
      "metadata": {
        "id": "Dt8WkslqzseZ",
        "colab_type": "code",
        "outputId": "1df9cf8f-8a97-49f8-f820-e6e78178da07",
        "colab": {
          "base_uri": "https://localhost:8080/",
          "height": 1000
        }
      },
      "source": [
        "sent_topics_sorteddf_mallet = pd.DataFrame()\n",
        "\n",
        "sent_topics_outdf_grpd = df_topic_sents_keywords.groupby('Dominant_Topic')\n",
        "\n",
        "for i, grp in sent_topics_outdf_grpd:\n",
        "    sent_topics_sorteddf_mallet = pd.concat([sent_topics_sorteddf_mallet, \n",
        "                                             grp.sort_values(['Perc_Contribution'], ascending=[0]).head(1)], \n",
        "                                            axis=0)\n",
        "\n",
        "# Reset Index    \n",
        "sent_topics_sorteddf_mallet.reset_index(drop=True, inplace=True)\n",
        "\n",
        "# Format\n",
        "sent_topics_sorteddf_mallet.columns = ['Topic_Num', \"Topic_Perc_Contrib\", \"Keywords\", \"Text\"]\n",
        "\n",
        "# Show\n",
        "pd.set_option('display.max_colwidth', -1)\n",
        "sent_topics_sorteddf_mallet.head().sort_values('Topic_Perc_Contrib',ascending=False)"
      ],
      "execution_count": 0,
      "outputs": [
        {
          "output_type": "execute_result",
          "data": {
            "text/html": [
              "<div>\n",
              "<style scoped>\n",
              "    .dataframe tbody tr th:only-of-type {\n",
              "        vertical-align: middle;\n",
              "    }\n",
              "\n",
              "    .dataframe tbody tr th {\n",
              "        vertical-align: top;\n",
              "    }\n",
              "\n",
              "    .dataframe thead th {\n",
              "        text-align: right;\n",
              "    }\n",
              "</style>\n",
              "<table border=\"1\" class=\"dataframe\">\n",
              "  <thead>\n",
              "    <tr style=\"text-align: right;\">\n",
              "      <th></th>\n",
              "      <th>Topic_Num</th>\n",
              "      <th>Topic_Perc_Contrib</th>\n",
              "      <th>Keywords</th>\n",
              "      <th>Text</th>\n",
              "    </tr>\n",
              "  </thead>\n",
              "  <tbody>\n",
              "    <tr>\n",
              "      <th>0</th>\n",
              "      <td>0.0</td>\n",
              "      <td>0.9920</td>\n",
              "      <td>family, friend, relationship, way, parent, mom, year, people, situation, day</td>\n",
              "      <td>18 year old sister leave abusive boyfriend  long story help trying convince sister leave relationship started dating boy 18 wasn’t originally community mutual friendship family our community close everyone basically connected related someway initially knew cousin 1 worked with always hung etc basically thing kind broke told ice meth didn’t even know guy like oh sucks plus ice common community found dating cousin 2 close friendship sister drug user well that’s learned abusive came told people this started dating sister could imagine reaction this started major conflict cousin 2 online bullying post sloppy second asking would want crack head woman basher etc etc eventually foundation mistrust sister thinking would go back cousin 2 week went sister basically moved caravan parked behind family house looked him lost weight due heavy drug party drug mostly money even though worked full time didn’t pay rent bills groceries basically she’s going hill found posted private instagram concern becoming abusive towards she stated scruffed paranoid texting blanket dismissed “i guess wasn’t fault head” btw pill caravan lay around became suspicious fact might tried ice my sister easily influenced major especially fact eldest sister heavy drug user eg ice heroin 2 year prior attempted murder mother school angered massive slap face mum world ice impacting life again turned 18 put party road hall basically drug fest high ketamine kissed another boy yes boyfriend party fight kicked caravan sister told older cousin work scruffed her also contacted family staying caravan told smoking crack caravan amd told keep pipe back home raised suspicion more also behaviour jacked she memory conversation acted paranoia also hanging around community member known harbouring dealing ice didn’t want massive fight break working cousin 3 speak they close tell everything sister would deny deny deny even turned cousin 3 insinuating crack tried convince boyfriend quit long ago could see right also knew ice year prior also best friend 3 guy knew high school convicted user traffickers sister used accusation mocking way shocking anyone didn’t know inside scoop would also like would never crack wtf lies anyway older male cousin furious threatened boyfriend also knew abusive cousin 2 sister pleaded lying turned them told cousin broke deflate situation also told brother next day shut out made mum turn well complained everyone chiming forgot one told people cousin drove passed house saw car driveway screamed something sister cut fully</td>\n",
              "    </tr>\n",
              "    <tr>\n",
              "      <th>4</th>\n",
              "      <td>4.0</td>\n",
              "      <td>0.9875</td>\n",
              "      <td>mom, relationship, home, help, kid, sister, house, car, head, mother</td>\n",
              "      <td>ohio concerned  think neighbor victim dv hi all popped onto subreddit sure post allowed please direct best place them think neighbor may victim dv sometimes hear banging walls tonight contributed sex kid playing around i believe 3 appear like 3 5 7 tonight significantly worse usually last 510 min tonight went upwards half hour hear screaming anything repetitive banging still attributed bed kids right end end what presume be argument heard gutwrenching no scream woman lasted upwards 10 seconds scared shit me wondered contact police perform wellness check sure best do live apartment 3 apartment longways instead side side top other imagine like 150x30 rectangle divide thirds live middle section live end neighbour would able hear them googled i think neighbour abused said sometimes best call police could situation worse kids dad said something arguing street couple week ago getting car leave somewhere like full screaming embarrassing mess introduced kid moved sitting porch came check house late 20 seems like pretty girl never formally met boyfriendhusband seen since moved may got cable installed cable guy hang wire house rap around got knocked storm week prior accent super thick believe russian english fine though however seen since day car never leaf house believe may work home often see woman kid school leavereturn work never see accompanying her trying paint picture anyways something concerned about call police next time dangerous her me live disabled parent care them want problem arise also want help mean too</td>\n",
              "    </tr>\n",
              "    <tr>\n",
              "      <th>2</th>\n",
              "      <td>2.0</td>\n",
              "      <td>0.9871</td>\n",
              "      <td>abuse, friend, help, brother, work, day, month, boyfriend, relationship, year</td>\n",
              "      <td>think husband abusive help live state far friends hello everyone first post sure introduce myself married husband almost 3 years problem toxic behavior past 2 3 years time gotten worse today gotten shower shower talking saying something someone brother met kept saying said i know is something along lines kind yell necessarily scream set off started throwing thing shower even broke top one bottles told never directly hit call cops apparently want call cop using money rich make 7hr do like me also went telling whole family grandparents sister mom one give shit me later work nerve text ask going apologize texted saying yelled right throw things still think somehow fault blame everything may directly punch face time grab hard tell stop middle east personally seen culture past 3 year find sexist culture like tell would basically piece shit without could cook clean right help around house even though cookclean study work apparently help belief saint does sure many previous abused woman feel scared leave many thing jointly made together bank accounts car lease etc luckily kids 3 year ago moved midwest southern state honestly many friend here friend know everything done know plan leaving eventually even know first step go it fucking toxic awful person around hate stuck man child even pay bill without help breakfast dinner constantly feel unappreciated emotionally abused know point know damaging mental health feel hopeless times please advice appreciated also many recording thing said proofevidence know may useful future please help way word wisdom advice thank you</td>\n",
              "    </tr>\n",
              "    <tr>\n",
              "      <th>3</th>\n",
              "      <td>3.0</td>\n",
              "      <td>0.9861</td>\n",
              "      <td>sister, situation, parent, son, phone, abuse, year, room, kid, life</td>\n",
              "      <td>revisiting custody court next week trying prepare soo june 2018 extremely abusive raging narcissist exhusband husband time literally kicked 8 yo son house dumping u parents stole car ran away nyc become rockstar shovel heroin face wrong midst plan leave anyway left instead complete total relief son killed him order protection ex kept harassing threatening family way could left city actually cajonès corner threaten court custody left got sole custody duh decade emotional abuse incessant verbal berratement left complex ptsd treated for feel like bubble tar stuck abuse fucking incubus sucked dry since around august supervised visitation week last week got petition court stating want right son now want alone so naturally started preparing court going messages emails audio recording took proof abuse everything case him plain petrified succeed getting son mine alone manipulate gaslight witnessed gaslighting son already phone supervising happen together listening recording ex telling son shut fuck up an asshole a jerk spoiled name it hit son numerous times fact found heroin baggies son play area lovely tidbit ex promised show son petition past order protection him statistic gone back abuser multiple times promised turn son me want hate me recorded heard son cry screaming dad background supposed do men change wins get ahold beautiful compassionate wonderful boy beyond scared right now idk do not</td>\n",
              "    </tr>\n",
              "    <tr>\n",
              "      <th>1</th>\n",
              "      <td>1.0</td>\n",
              "      <td>0.9832</td>\n",
              "      <td>year, life, relationship, mother, family, people, day, wife, friend, person</td>\n",
              "      <td>know want anymore 23 year old female moved back home 7 month ago abusive relationship first stage healing searching someone console pain healing realize thought committed relationship fucking scare me like commitment part part someone afraid wrong person again want grow building forward anyone serious manner plus still dealing court stuff ex requested snapchat profile kind scared right now dealing that mind moment trying surround friend focus relationship feel like nothing left give anyone bisexual met girl recently cool seems match atleast right now never dated girl before comfortable it much stuff going ex idea state im going next year kind like still work progress healing like id love date someday right want wait stay undefined fling frustrated thats wants afraid hurting feeling sure say afraid telling hold slow down instantly regret it feel like im ready feel like person start dating guess right person wrong time although kind soon say right person anyone advice approach take want give someone soon given myself want abuser life completely too</td>\n",
              "    </tr>\n",
              "  </tbody>\n",
              "</table>\n",
              "</div>"
            ],
            "text/plain": [
              "   Topic_Num  ...                                                                                                                                                                                                                                                                                                                                                                                                                                                                                                                                                                                                                                                                                                                                                                                                                                                                                                                                                                                                                                                                                                                                                                                                                                                                                                                                                                                                                                                                                                                                                                                                                                                                                                                                                                                                                                                                                                                                                                                                                                                                                                                                                                                                                                                                                                                                                                                                                                                                                                                                                                                                                               Text\n",
              "0  0.0        ...  18 year old sister leave abusive boyfriend  long story help trying convince sister leave relationship started dating boy 18 wasn’t originally community mutual friendship family our community close everyone basically connected related someway initially knew cousin 1 worked with always hung etc basically thing kind broke told ice meth didn’t even know guy like oh sucks plus ice common community found dating cousin 2 close friendship sister drug user well that’s learned abusive came told people this started dating sister could imagine reaction this started major conflict cousin 2 online bullying post sloppy second asking would want crack head woman basher etc etc eventually foundation mistrust sister thinking would go back cousin 2 week went sister basically moved caravan parked behind family house looked him lost weight due heavy drug party drug mostly money even though worked full time didn’t pay rent bills groceries basically she’s going hill found posted private instagram concern becoming abusive towards she stated scruffed paranoid texting blanket dismissed “i guess wasn’t fault head” btw pill caravan lay around became suspicious fact might tried ice my sister easily influenced major especially fact eldest sister heavy drug user eg ice heroin 2 year prior attempted murder mother school angered massive slap face mum world ice impacting life again turned 18 put party road hall basically drug fest high ketamine kissed another boy yes boyfriend party fight kicked caravan sister told older cousin work scruffed her also contacted family staying caravan told smoking crack caravan amd told keep pipe back home raised suspicion more also behaviour jacked she memory conversation acted paranoia also hanging around community member known harbouring dealing ice didn’t want massive fight break working cousin 3 speak they close tell everything sister would deny deny deny even turned cousin 3 insinuating crack tried convince boyfriend quit long ago could see right also knew ice year prior also best friend 3 guy knew high school convicted user traffickers sister used accusation mocking way shocking anyone didn’t know inside scoop would also like would never crack wtf lies anyway older male cousin furious threatened boyfriend also knew abusive cousin 2 sister pleaded lying turned them told cousin broke deflate situation also told brother next day shut out made mum turn well complained everyone chiming forgot one told people cousin drove passed house saw car driveway screamed something sister cut fully\n",
              "4  4.0        ...  ohio concerned  think neighbor victim dv hi all popped onto subreddit sure post allowed please direct best place them think neighbor may victim dv sometimes hear banging walls tonight contributed sex kid playing around i believe 3 appear like 3 5 7 tonight significantly worse usually last 510 min tonight went upwards half hour hear screaming anything repetitive banging still attributed bed kids right end end what presume be argument heard gutwrenching no scream woman lasted upwards 10 seconds scared shit me wondered contact police perform wellness check sure best do live apartment 3 apartment longways instead side side top other imagine like 150x30 rectangle divide thirds live middle section live end neighbour would able hear them googled i think neighbour abused said sometimes best call police could situation worse kids dad said something arguing street couple week ago getting car leave somewhere like full screaming embarrassing mess introduced kid moved sitting porch came check house late 20 seems like pretty girl never formally met boyfriendhusband seen since moved may got cable installed cable guy hang wire house rap around got knocked storm week prior accent super thick believe russian english fine though however seen since day car never leaf house believe may work home often see woman kid school leavereturn work never see accompanying her trying paint picture anyways something concerned about call police next time dangerous her me live disabled parent care them want problem arise also want help mean too                                                                                                                                                                                                                                                                                                                                                                                                                                                                                                                                                                                                                                                                                                                                                                                                                                                                                                                                                                                                                                   \n",
              "2  2.0        ...  think husband abusive help live state far friends hello everyone first post sure introduce myself married husband almost 3 years problem toxic behavior past 2 3 years time gotten worse today gotten shower shower talking saying something someone brother met kept saying said i know is something along lines kind yell necessarily scream set off started throwing thing shower even broke top one bottles told never directly hit call cops apparently want call cop using money rich make 7hr do like me also went telling whole family grandparents sister mom one give shit me later work nerve text ask going apologize texted saying yelled right throw things still think somehow fault blame everything may directly punch face time grab hard tell stop middle east personally seen culture past 3 year find sexist culture like tell would basically piece shit without could cook clean right help around house even though cookclean study work apparently help belief saint does sure many previous abused woman feel scared leave many thing jointly made together bank accounts car lease etc luckily kids 3 year ago moved midwest southern state honestly many friend here friend know everything done know plan leaving eventually even know first step go it fucking toxic awful person around hate stuck man child even pay bill without help breakfast dinner constantly feel unappreciated emotionally abused know point know damaging mental health feel hopeless times please advice appreciated also many recording thing said proofevidence know may useful future please help way word wisdom advice thank you                                                                                                                                                                                                                                                                                                                                                                                                                                                                                                                                                                                                                                                                                                                                                                                                                                                                                                                                                                                   \n",
              "3  3.0        ...  revisiting custody court next week trying prepare soo june 2018 extremely abusive raging narcissist exhusband husband time literally kicked 8 yo son house dumping u parents stole car ran away nyc become rockstar shovel heroin face wrong midst plan leave anyway left instead complete total relief son killed him order protection ex kept harassing threatening family way could left city actually cajonès corner threaten court custody left got sole custody duh decade emotional abuse incessant verbal berratement left complex ptsd treated for feel like bubble tar stuck abuse fucking incubus sucked dry since around august supervised visitation week last week got petition court stating want right son now want alone so naturally started preparing court going messages emails audio recording took proof abuse everything case him plain petrified succeed getting son mine alone manipulate gaslight witnessed gaslighting son already phone supervising happen together listening recording ex telling son shut fuck up an asshole a jerk spoiled name it hit son numerous times fact found heroin baggies son play area lovely tidbit ex promised show son petition past order protection him statistic gone back abuser multiple times promised turn son me want hate me recorded heard son cry screaming dad background supposed do men change wins get ahold beautiful compassionate wonderful boy beyond scared right now idk do not                                                                                                                                                                                                                                                                                                                                                                                                                                                                                                                                                                                                                                                                                                                                                                                                                                                                                                                                                                                                                                                                                                                                                               \n",
              "1  1.0        ...  know want anymore 23 year old female moved back home 7 month ago abusive relationship first stage healing searching someone console pain healing realize thought committed relationship fucking scare me like commitment part part someone afraid wrong person again want grow building forward anyone serious manner plus still dealing court stuff ex requested snapchat profile kind scared right now dealing that mind moment trying surround friend focus relationship feel like nothing left give anyone bisexual met girl recently cool seems match atleast right now never dated girl before comfortable it much stuff going ex idea state im going next year kind like still work progress healing like id love date someday right want wait stay undefined fling frustrated thats wants afraid hurting feeling sure say afraid telling hold slow down instantly regret it feel like im ready feel like person start dating guess right person wrong time although kind soon say right person anyone advice approach take want give someone soon given myself want abuser life completely too                                                                                                                                                                                                                                                                                                                                                                                                                                                                                                                                                                                                                                                                                                                                                                                                                                                                                                                                                                                                                                                                                                                                                                                                                                                                                                                                                                                                                                                                                                                           \n",
              "\n",
              "[5 rows x 4 columns]"
            ]
          },
          "metadata": {
            "tags": []
          },
          "execution_count": 43
        }
      ]
    },
    {
      "cell_type": "markdown",
      "metadata": {
        "id": "s0rIf4ZG0Np4",
        "colab_type": "text"
      },
      "source": [
        "# Topic distributions across documents"
      ]
    },
    {
      "cell_type": "markdown",
      "metadata": {
        "id": "FTxUL_hy0SOw",
        "colab_type": "text"
      },
      "source": [
        ""
      ]
    },
    {
      "cell_type": "code",
      "metadata": {
        "id": "nbPs5nFez7MG",
        "colab_type": "code",
        "outputId": "4363991f-4518-43c4-aaf0-46a339b784f6",
        "colab": {
          "base_uri": "https://localhost:8080/",
          "height": 669
        }
      },
      "source": [
        "# Number of Documents for Each Topic\n",
        "topic_counts = df_topic_sents_keywords['Dominant_Topic'].value_counts()\n",
        "\n",
        "# Percentage of Documents for Each Topic\n",
        "topic_contribution = round(topic_counts/topic_counts.sum(), 4)\n",
        "\n",
        "# Topic Number and Keywords\n",
        "topic_num_keywords = df_topic_sents_keywords[['Dominant_Topic', 'Topic_Keywords']]\n",
        "\n",
        "# Concatenate Column wise\n",
        "df_dominant_topics = pd.concat([topic_num_keywords, topic_counts, topic_contribution], axis=1)\n",
        "\n",
        "# Change Column names\n",
        "df_dominant_topics.columns = ['Dominant_Topic', 'Topic_Keywords', 'Num_Documents', 'Perc_Documents']\n",
        "\n",
        "# Show\n",
        "df_dominant_topics.head(20)"
      ],
      "execution_count": 0,
      "outputs": [
        {
          "output_type": "execute_result",
          "data": {
            "text/html": [
              "<div>\n",
              "<style scoped>\n",
              "    .dataframe tbody tr th:only-of-type {\n",
              "        vertical-align: middle;\n",
              "    }\n",
              "\n",
              "    .dataframe tbody tr th {\n",
              "        vertical-align: top;\n",
              "    }\n",
              "\n",
              "    .dataframe thead th {\n",
              "        text-align: right;\n",
              "    }\n",
              "</style>\n",
              "<table border=\"1\" class=\"dataframe\">\n",
              "  <thead>\n",
              "    <tr style=\"text-align: right;\">\n",
              "      <th></th>\n",
              "      <th>Dominant_Topic</th>\n",
              "      <th>Topic_Keywords</th>\n",
              "      <th>Num_Documents</th>\n",
              "      <th>Perc_Documents</th>\n",
              "    </tr>\n",
              "  </thead>\n",
              "  <tbody>\n",
              "    <tr>\n",
              "      <th>0.0</th>\n",
              "      <td>0.0</td>\n",
              "      <td>family, friend, relationship, way, parent, mom, year, people, situation, day</td>\n",
              "      <td>157.0</td>\n",
              "      <td>0.1912</td>\n",
              "    </tr>\n",
              "    <tr>\n",
              "      <th>1.0</th>\n",
              "      <td>1.0</td>\n",
              "      <td>year, life, relationship, mother, family, people, day, wife, friend, person</td>\n",
              "      <td>114.0</td>\n",
              "      <td>0.1389</td>\n",
              "    </tr>\n",
              "    <tr>\n",
              "      <th>2.0</th>\n",
              "      <td>6.0</td>\n",
              "      <td>child, year, help, life, kid, car, family, advice, situation, friend</td>\n",
              "      <td>117.0</td>\n",
              "      <td>0.1425</td>\n",
              "    </tr>\n",
              "    <tr>\n",
              "      <th>3.0</th>\n",
              "      <td>0.0</td>\n",
              "      <td>family, friend, relationship, way, parent, mom, year, people, situation, day</td>\n",
              "      <td>121.0</td>\n",
              "      <td>0.1474</td>\n",
              "    </tr>\n",
              "    <tr>\n",
              "      <th>4.0</th>\n",
              "      <td>0.0</td>\n",
              "      <td>family, friend, relationship, way, parent, mom, year, people, situation, day</td>\n",
              "      <td>78.0</td>\n",
              "      <td>0.0950</td>\n",
              "    </tr>\n",
              "    <tr>\n",
              "      <th>5.0</th>\n",
              "      <td>0.0</td>\n",
              "      <td>family, friend, relationship, way, parent, mom, year, people, situation, day</td>\n",
              "      <td>104.0</td>\n",
              "      <td>0.1267</td>\n",
              "    </tr>\n",
              "    <tr>\n",
              "      <th>6.0</th>\n",
              "      <td>0.0</td>\n",
              "      <td>family, friend, relationship, way, parent, mom, year, people, situation, day</td>\n",
              "      <td>75.0</td>\n",
              "      <td>0.0914</td>\n",
              "    </tr>\n",
              "    <tr>\n",
              "      <th>7.0</th>\n",
              "      <td>3.0</td>\n",
              "      <td>sister, situation, parent, son, phone, abuse, year, room, kid, life</td>\n",
              "      <td>55.0</td>\n",
              "      <td>0.0670</td>\n",
              "    </tr>\n",
              "    <tr>\n",
              "      <th>8.0</th>\n",
              "      <td>0.0</td>\n",
              "      <td>family, friend, relationship, way, parent, mom, year, people, situation, day</td>\n",
              "      <td>NaN</td>\n",
              "      <td>NaN</td>\n",
              "    </tr>\n",
              "    <tr>\n",
              "      <th>9.0</th>\n",
              "      <td>3.0</td>\n",
              "      <td>sister, situation, parent, son, phone, abuse, year, room, kid, life</td>\n",
              "      <td>NaN</td>\n",
              "      <td>NaN</td>\n",
              "    </tr>\n",
              "    <tr>\n",
              "      <th>10.0</th>\n",
              "      <td>1.0</td>\n",
              "      <td>year, life, relationship, mother, family, people, day, wife, friend, person</td>\n",
              "      <td>NaN</td>\n",
              "      <td>NaN</td>\n",
              "    </tr>\n",
              "    <tr>\n",
              "      <th>11.0</th>\n",
              "      <td>3.0</td>\n",
              "      <td>sister, situation, parent, son, phone, abuse, year, room, kid, life</td>\n",
              "      <td>NaN</td>\n",
              "      <td>NaN</td>\n",
              "    </tr>\n",
              "    <tr>\n",
              "      <th>12.0</th>\n",
              "      <td>1.0</td>\n",
              "      <td>year, life, relationship, mother, family, people, day, wife, friend, person</td>\n",
              "      <td>NaN</td>\n",
              "      <td>NaN</td>\n",
              "    </tr>\n",
              "    <tr>\n",
              "      <th>13.0</th>\n",
              "      <td>2.0</td>\n",
              "      <td>abuse, friend, help, brother, work, day, month, boyfriend, relationship, year</td>\n",
              "      <td>NaN</td>\n",
              "      <td>NaN</td>\n",
              "    </tr>\n",
              "    <tr>\n",
              "      <th>14.0</th>\n",
              "      <td>0.0</td>\n",
              "      <td>family, friend, relationship, way, parent, mom, year, people, situation, day</td>\n",
              "      <td>NaN</td>\n",
              "      <td>NaN</td>\n",
              "    </tr>\n",
              "    <tr>\n",
              "      <th>15.0</th>\n",
              "      <td>0.0</td>\n",
              "      <td>family, friend, relationship, way, parent, mom, year, people, situation, day</td>\n",
              "      <td>NaN</td>\n",
              "      <td>NaN</td>\n",
              "    </tr>\n",
              "    <tr>\n",
              "      <th>16.0</th>\n",
              "      <td>3.0</td>\n",
              "      <td>sister, situation, parent, son, phone, abuse, year, room, kid, life</td>\n",
              "      <td>NaN</td>\n",
              "      <td>NaN</td>\n",
              "    </tr>\n",
              "    <tr>\n",
              "      <th>17.0</th>\n",
              "      <td>0.0</td>\n",
              "      <td>family, friend, relationship, way, parent, mom, year, people, situation, day</td>\n",
              "      <td>NaN</td>\n",
              "      <td>NaN</td>\n",
              "    </tr>\n",
              "    <tr>\n",
              "      <th>18.0</th>\n",
              "      <td>1.0</td>\n",
              "      <td>year, life, relationship, mother, family, people, day, wife, friend, person</td>\n",
              "      <td>NaN</td>\n",
              "      <td>NaN</td>\n",
              "    </tr>\n",
              "    <tr>\n",
              "      <th>19.0</th>\n",
              "      <td>5.0</td>\n",
              "      <td>abuse, help, year, husband, mom, work, money, child, family, son</td>\n",
              "      <td>NaN</td>\n",
              "      <td>NaN</td>\n",
              "    </tr>\n",
              "  </tbody>\n",
              "</table>\n",
              "</div>"
            ],
            "text/plain": [
              "      Dominant_Topic  ... Perc_Documents\n",
              "0.0   0.0             ...  0.1912       \n",
              "1.0   1.0             ...  0.1389       \n",
              "2.0   6.0             ...  0.1425       \n",
              "3.0   0.0             ...  0.1474       \n",
              "4.0   0.0             ...  0.0950       \n",
              "5.0   0.0             ...  0.1267       \n",
              "6.0   0.0             ...  0.0914       \n",
              "7.0   3.0             ...  0.0670       \n",
              "8.0   0.0             ... NaN           \n",
              "9.0   3.0             ... NaN           \n",
              "10.0  1.0             ... NaN           \n",
              "11.0  3.0             ... NaN           \n",
              "12.0  1.0             ... NaN           \n",
              "13.0  2.0             ... NaN           \n",
              "14.0  0.0             ... NaN           \n",
              "15.0  0.0             ... NaN           \n",
              "16.0  3.0             ... NaN           \n",
              "17.0  0.0             ... NaN           \n",
              "18.0  1.0             ... NaN           \n",
              "19.0  5.0             ... NaN           \n",
              "\n",
              "[20 rows x 4 columns]"
            ]
          },
          "metadata": {
            "tags": []
          },
          "execution_count": 48
        }
      ]
    },
    {
      "cell_type": "code",
      "metadata": {
        "id": "JhFqAg53FOiw",
        "colab_type": "code",
        "colab": {}
      },
      "source": [
        "from gensim.corpora import Dictionary\n",
        "from gensim.models import CoherenceModel, LdaModel, LsiModel, HdpModel"
      ],
      "execution_count": 0,
      "outputs": []
    },
    {
      "cell_type": "code",
      "metadata": {
        "id": "cmBwMRfNFVUm",
        "colab_type": "code",
        "colab": {}
      },
      "source": [
        "lsimodel = LsiModel(corpus=corpus, num_topics=8, id2word=id2word)"
      ],
      "execution_count": 0,
      "outputs": []
    },
    {
      "cell_type": "code",
      "metadata": {
        "id": "vP2AWChwFXbO",
        "colab_type": "code",
        "outputId": "24657c5f-a48c-4b63-e158-578948b2e79d",
        "colab": {
          "base_uri": "https://localhost:8080/",
          "height": 309
        }
      },
      "source": [
        "lsimodel.show_topics()"
      ],
      "execution_count": 0,
      "outputs": [
        {
          "output_type": "execute_result",
          "data": {
            "text/plain": [
              "[(0,\n",
              "  '0.229*\"year\" + 0.218*\"family\" + 0.217*\"help\" + 0.211*\"friend\" + 0.207*\"mom\" + 0.202*\"life\" + 0.179*\"abuse\" + 0.172*\"relationship\" + 0.171*\"sister\" + 0.166*\"child\"'),\n",
              " (1,\n",
              "  '-0.765*\"sister\" + -0.304*\"cousin\" + -0.152*\"mom\" + -0.148*\"family\" + 0.147*\"friend\" + 0.112*\"baby\" + 0.111*\"child\" + -0.108*\"drug\" + -0.104*\"ice\" + -0.103*\"community\"'),\n",
              " (2,\n",
              "  '0.521*\"friend\" + -0.395*\"mom\" + -0.241*\"son\" + -0.200*\"child\" + 0.183*\"relationship\" + 0.181*\"car\" + -0.158*\"kid\" + -0.157*\"mother\" + -0.145*\"year\" + 0.140*\"boyfriend\"'),\n",
              " (3,\n",
              "  '-0.468*\"mom\" + -0.345*\"friend\" + 0.308*\"son\" + -0.186*\"mother\" + 0.165*\"hour\" + 0.153*\"week\" + -0.153*\"brother\" + 0.140*\"sister\" + 0.139*\"bed\" + 0.131*\"room\"'),\n",
              " (4,\n",
              "  '0.440*\"child\" + -0.313*\"husband\" + -0.263*\"mom\" + 0.240*\"year\" + -0.207*\"room\" + -0.200*\"work\" + -0.172*\"day\" + -0.171*\"bed\" + 0.159*\"abuse\" + 0.142*\"family\"'),\n",
              " (5,\n",
              "  '0.553*\"child\" + -0.278*\"year\" + -0.220*\"mom\" + 0.194*\"husband\" + 0.185*\"abuse\" + -0.176*\"hour\" + -0.175*\"month\" + 0.158*\"sister\" + 0.152*\"room\" + -0.148*\"life\"'),\n",
              " (6,\n",
              "  '0.305*\"son\" + 0.302*\"brother\" + 0.291*\"abuse\" + -0.275*\"family\" + -0.273*\"help\" + 0.270*\"mother\" + -0.227*\"daughter\" + -0.198*\"husband\" + -0.181*\"kid\" + 0.180*\"home\"'),\n",
              " (7,\n",
              "  '0.323*\"mom\" + -0.267*\"friend\" + -0.251*\"year\" + 0.239*\"relationship\" + -0.231*\"son\" + 0.210*\"help\" + -0.202*\"money\" + -0.187*\"family\" + -0.187*\"brother\" + -0.185*\"wife\"')]"
            ]
          },
          "metadata": {
            "tags": []
          },
          "execution_count": 51
        }
      ]
    },
    {
      "cell_type": "code",
      "metadata": {
        "id": "LAEBbWhCFXmd",
        "colab_type": "code",
        "colab": {}
      },
      "source": [
        "hdpmodel = HdpModel(corpus=corpus, id2word=id2word)"
      ],
      "execution_count": 0,
      "outputs": []
    },
    {
      "cell_type": "code",
      "metadata": {
        "id": "FVqoms0lFXxK",
        "colab_type": "code",
        "outputId": "93531bbc-f3f7-4d9d-fffb-748c61a7be0b",
        "colab": {
          "base_uri": "https://localhost:8080/",
          "height": 717
        }
      },
      "source": [
        "hdpmodel.show_topics()"
      ],
      "execution_count": 0,
      "outputs": [
        {
          "output_type": "execute_result",
          "data": {
            "text/plain": [
              "[(0,\n",
              "  '0.004*advance + 0.003*broom + 0.002*attempt + 0.002*child + 0.002*trap + 0.002*cali + 0.002*harming + 0.002*grieve + 0.002*trying_stay + 0.002*exfil + 0.002*alcoholism + 0.002*firearm + 0.002*musician + 0.002*material + 0.002*outsider + 0.002*shovedhit + 0.002*hate + 0.002*scenario + 0.002*physically_violent + 0.002*part'),\n",
              " (1,\n",
              "  '0.004*vacation + 0.003*asap + 0.002*harasse + 0.002*hit + 0.002*merit + 0.002*life + 0.002*corner + 0.002*backstory + 0.002*batterer + 0.002*decade + 0.002*feel_safe + 0.002*disability + 0.002*uncle + 0.002*awareness + 0.002*trauma + 0.002*felony + 0.002*boundary + 0.002*threaten + 0.002*period + 0.002*violence'),\n",
              " (2,\n",
              "  '0.003*close_family + 0.003*go + 0.002*abuse + 0.002*last_night + 0.002*choice + 0.002*evidence + 0.002*porcelain + 0.002*correlation + 0.002*patch + 0.002*block + 0.002*existent + 0.002*started_beating + 0.002*bf + 0.002*almost_year + 0.002*friend + 0.002*pet + 0.002*disease + 0.002*good + 0.002*price + 0.002*carry'),\n",
              " (3,\n",
              "  '0.003*chain + 0.002*settle + 0.002*treatment + 0.002*every_single + 0.002*regret + 0.002*know + 0.002*anytime + 0.002*comment + 0.002*earlier_year + 0.002*shift + 0.002*research + 0.002*event + 0.002*district + 0.002*believe + 0.002*law + 0.002*tire + 0.002*makeup + 0.002*decade + 0.002*give_advice + 0.002*tomorrow'),\n",
              " (4,\n",
              "  '0.003*running + 0.003*asperger + 0.003*abuse + 0.002*staying + 0.002*pointless + 0.002*breakdown + 0.002*distress + 0.002*sex + 0.002*year + 0.002*setup + 0.002*garage + 0.002*teller + 0.002*relationship + 0.002*back_home + 0.002*one + 0.002*lol + 0.002*family + 0.002*cast + 0.002*pornography + 0.002*behaviour'),\n",
              " (5,\n",
              "  '0.003*keeping + 0.003*seek_help + 0.003*adolescent + 0.002*loving + 0.002*home_tonight + 0.002*itand + 0.002*escalate + 0.002*substitute + 0.002*risk + 0.002*mum + 0.002*deal + 0.002*nature + 0.002*vibe + 0.002*backlash + 0.002*drink + 0.002*every_day + 0.002*pattern + 0.002*visitation + 0.002*colleague + 0.002*ring'),\n",
              " (6,\n",
              "  '0.003*excuse + 0.002*coma + 0.002*name_calling + 0.002*musician + 0.002*term + 0.002*voice + 0.002*tail + 0.002*wisdom + 0.002*sandal + 0.002*legging + 0.002*marriage + 0.002*loophole + 0.002*ghost + 0.002*ingot + 0.002*together_almost + 0.002*inmate + 0.002*gaslight + 0.002*scaring + 0.002*trying_stay + 0.002*fray'),\n",
              " (7,\n",
              "  '0.003*took_phone + 0.003*sever + 0.003*identity + 0.003*flip + 0.003*three_week + 0.002*mad + 0.002*called_name + 0.002*manipulation + 0.002*verification + 0.002*stay_safe + 0.002*rest + 0.002*season + 0.002*father + 0.002*poison + 0.002*grievance + 0.002*presume + 0.002*casino + 0.002*year + 0.002*cheekbone + 0.002*vision'),\n",
              " (8,\n",
              "  '0.003*year + 0.003*hiding + 0.002*sidewalk + 0.002*gown + 0.002*occurance + 0.002*victory + 0.002*environment_son + 0.002*listen + 0.002*snuck + 0.002*project + 0.002*audio + 0.002*jmy + 0.002*gather + 0.002*place + 0.002*stepgrandmother + 0.002*form + 0.002*stick + 0.002*sit + 0.002*defense + 0.002*standing'),\n",
              " (9,\n",
              "  '0.003*lease + 0.003*ingot + 0.003*spy + 0.002*last_week + 0.002*linen + 0.002*intensity + 0.002*dcf + 0.002*default + 0.002*hold + 0.002*gather + 0.002*spike + 0.002*staying + 0.002*thank_everyone + 0.002*lunch + 0.002*started_hitting + 0.002*relateall + 0.002*probation + 0.002*thisthere + 0.002*street + 0.002*mysogenistic'),\n",
              " (10,\n",
              "  '0.003*force + 0.003*forgive_forget + 0.003*fence + 0.003*township + 0.003*isolation + 0.003*body + 0.002*creature + 0.002*last_month + 0.002*age + 0.002*glue + 0.002*exam + 0.002*lost_job + 0.002*ground + 0.002*backwood + 0.002*moved_room + 0.002*law + 0.002*ivf + 0.002*training + 0.002*spouse + 0.002*lbs'),\n",
              " (11,\n",
              "  '0.004*sister + 0.003*thing + 0.003*help + 0.003*manipulation + 0.002*fnq + 0.002*bottom + 0.002*child + 0.002*yesterday + 0.002*alot + 0.002*stimulus + 0.002*handful + 0.002*two_year + 0.002*charm + 0.002*almost_every + 0.002*destroy + 0.002*situation + 0.002*day + 0.002*word + 0.002*wife + 0.002*character'),\n",
              " (12,\n",
              "  '0.003*harrassment + 0.003*hubby + 0.003*protection_order + 0.003*face + 0.003*food + 0.002*fuck + 0.002*board + 0.002*cower + 0.002*gardener + 0.002*refuse + 0.002*textscall + 0.002*expect_court + 0.002*assassination + 0.002*act + 0.002*lacoste + 0.002*exboyfriend + 0.002*server + 0.002*isult + 0.002*brother + 0.002*memory'),\n",
              " (13,\n",
              "  '0.003*day + 0.003*walked_away + 0.003*distance + 0.003*threatened_call + 0.002*today + 0.002*meantime + 0.002*iand + 0.002*custody + 0.002*flashback + 0.002*need + 0.002*work + 0.002*volent + 0.002*fan + 0.002*motherhood + 0.002*ginna + 0.002*boyfriend + 0.002*s + 0.002*going_crazy + 0.002*etc + 0.002*son'),\n",
              " (14,\n",
              "  '0.004*wonky + 0.003*started_saying + 0.003*reference + 0.002*selfesteem + 0.002*context + 0.002*academia + 0.002*reality + 0.002*method + 0.002*township + 0.002*got + 0.002*bisexual + 0.002*coming + 0.002*blameshift + 0.002*violet + 0.002*friend + 0.002*theory + 0.002*talk + 0.002*need + 0.002*picking + 0.002*maintain'),\n",
              " (15,\n",
              "  '0.003*child + 0.003*hope + 0.003*saw + 0.002*tail + 0.002*end + 0.002*head + 0.002*haunting + 0.002*calling_dumb + 0.002*home + 0.002*favor + 0.002*son + 0.002*every_night + 0.002*chance + 0.002*phone + 0.002*tv + 0.002*purpose + 0.002*divorce_process + 0.002*xpost + 0.002*wood + 0.002*woman_man'),\n",
              " (16,\n",
              "  '0.003*shield + 0.003*hair + 0.003*excuse + 0.003*change + 0.002*clubbing + 0.002*neighbour + 0.002*adore + 0.002*society + 0.002*fall + 0.002*price + 0.002*camp + 0.002*smoking + 0.002*run + 0.002*drinking + 0.002*behave + 0.002*physical_mental + 0.002*bust + 0.002*tried_break + 0.002*sister + 0.002*boyfriend'),\n",
              " (17,\n",
              "  '0.004*adulthood + 0.003*brother + 0.002*neglect + 0.002*murder + 0.002*door_open + 0.002*contact + 0.002*respond + 0.002*bullying + 0.002*food + 0.002*saliva + 0.002*fingerprint + 0.002*people + 0.002*feb + 0.002*oil + 0.002*ride + 0.002*dollar + 0.002*intimidate + 0.002*radar + 0.002*mailbox + 0.002*relative'),\n",
              " (18,\n",
              "  '0.004*ivf + 0.003*resentment + 0.003*brush + 0.003*update + 0.002*mediation + 0.002*infidelity + 0.002*edit + 0.002*mabey + 0.002*autopilot + 0.002*shoot + 0.002*pic + 0.002*cushion + 0.002*ever_since + 0.002*response + 0.002*cower + 0.002*throwing + 0.002*equipment + 0.002*supervisor + 0.002*inform + 0.002*three_month'),\n",
              " (19,\n",
              "  '0.005*resource + 0.003*bill + 0.003*cat + 0.003*physical_abuse + 0.002*basement + 0.002*judgement + 0.002*guard + 0.002*state + 0.002*loaf + 0.002*called_police + 0.002*toddler + 0.002*fish + 0.002*speaking + 0.002*hiding + 0.002*paralysis + 0.002*ache + 0.002*come_back + 0.002*lung + 0.002*subreddit + 0.002*heroin')]"
            ]
          },
          "metadata": {
            "tags": []
          },
          "execution_count": 53
        }
      ]
    },
    {
      "cell_type": "code",
      "metadata": {
        "id": "rqNbTtbvFXur",
        "colab_type": "code",
        "colab": {}
      },
      "source": [
        "hdptopics = hdpmodel.show_topics(formatted=False)"
      ],
      "execution_count": 0,
      "outputs": []
    },
    {
      "cell_type": "code",
      "metadata": {
        "id": "6u0mEEEjFXsn",
        "colab_type": "code",
        "outputId": "36e39d71-ab42-4f17-d9f8-d28ba2a44cb5",
        "colab": {
          "base_uri": "https://localhost:8080/",
          "height": 1000
        }
      },
      "source": [
        "hdptopics"
      ],
      "execution_count": 0,
      "outputs": [
        {
          "output_type": "execute_result",
          "data": {
            "text/plain": [
              "[(0,\n",
              "  [('advance', 0.003835862776048983),\n",
              "   ('broom', 0.002602500019988716),\n",
              "   ('attempt', 0.002259909773377563),\n",
              "   ('child', 0.002165123170478167),\n",
              "   ('trap', 0.002040475364549318),\n",
              "   ('cali', 0.001991579812639183),\n",
              "   ('harming', 0.00196718481721984),\n",
              "   ('grieve', 0.001963141801256007),\n",
              "   ('trying_stay', 0.0019601727398051295),\n",
              "   ('exfil', 0.0019482400542232311),\n",
              "   ('alcoholism', 0.001938687283837607),\n",
              "   ('firearm', 0.0019291165190726963),\n",
              "   ('musician', 0.001871914669857022),\n",
              "   ('material', 0.0018506613586965956),\n",
              "   ('outsider', 0.0018406214939673052),\n",
              "   ('shovedhit', 0.001809801569799162),\n",
              "   ('hate', 0.00180700244854098),\n",
              "   ('scenario', 0.001771942529728524),\n",
              "   ('physically_violent', 0.0017671698080854838),\n",
              "   ('part', 0.0017452333106623267)]),\n",
              " (1,\n",
              "  [('vacation', 0.00367728028920621),\n",
              "   ('asap', 0.0027058059466744744),\n",
              "   ('harasse', 0.002251408100241307),\n",
              "   ('hit', 0.002087812303506482),\n",
              "   ('merit', 0.002020696365371758),\n",
              "   ('life', 0.001946229076602058),\n",
              "   ('corner', 0.0019238941478579965),\n",
              "   ('backstory', 0.0019038390663449671),\n",
              "   ('batterer', 0.0018705433139438706),\n",
              "   ('decade', 0.0018488708154808446),\n",
              "   ('feel_safe', 0.0018348782502888884),\n",
              "   ('disability', 0.0018329383437052137),\n",
              "   ('uncle', 0.0017876129464995442),\n",
              "   ('awareness', 0.0017865401098494306),\n",
              "   ('trauma', 0.0017838259270116892),\n",
              "   ('felony', 0.0017709378312393389),\n",
              "   ('boundary', 0.0017567353191826958),\n",
              "   ('threaten', 0.0016852459235441577),\n",
              "   ('period', 0.0016783563454690364),\n",
              "   ('violence', 0.0016625425502242734)]),\n",
              " (2,\n",
              "  [('close_family', 0.00301418185080372),\n",
              "   ('go', 0.002748272225318902),\n",
              "   ('abuse', 0.002357783356464657),\n",
              "   ('last_night', 0.0023566309954961883),\n",
              "   ('choice', 0.0022437607129654666),\n",
              "   ('evidence', 0.0021013152135065617),\n",
              "   ('porcelain', 0.0020614158111110425),\n",
              "   ('correlation', 0.002029467225785759),\n",
              "   ('patch', 0.0020122579038885403),\n",
              "   ('block', 0.001960309039076881),\n",
              "   ('existent', 0.0019215977361668282),\n",
              "   ('started_beating', 0.001918841661476584),\n",
              "   ('bf', 0.0019074338452662713),\n",
              "   ('almost_year', 0.001899540000920369),\n",
              "   ('friend', 0.0018093324201721868),\n",
              "   ('pet', 0.0017920247238045527),\n",
              "   ('disease', 0.0017682862164755295),\n",
              "   ('good', 0.00175806167411049),\n",
              "   ('price', 0.0017574976512558845),\n",
              "   ('carry', 0.0017510211119112485)]),\n",
              " (3,\n",
              "  [('chain', 0.0027085511805454055),\n",
              "   ('settle', 0.002380242023926174),\n",
              "   ('treatment', 0.002284462986250513),\n",
              "   ('every_single', 0.0022646659685750946),\n",
              "   ('regret', 0.0022426122458788613),\n",
              "   ('know', 0.0022062250047899007),\n",
              "   ('anytime', 0.002047512826920719),\n",
              "   ('comment', 0.0019576440016613145),\n",
              "   ('earlier_year', 0.0019492726218365926),\n",
              "   ('shift', 0.0019268548161286078),\n",
              "   ('research', 0.001923498236553307),\n",
              "   ('event', 0.0018941004353671942),\n",
              "   ('district', 0.0018545978141439486),\n",
              "   ('believe', 0.0018502240962415615),\n",
              "   ('law', 0.001811944399090128),\n",
              "   ('tire', 0.0018102312802804577),\n",
              "   ('makeup', 0.0017822375719821742),\n",
              "   ('decade', 0.0017804148092680726),\n",
              "   ('give_advice', 0.0017698906036690062),\n",
              "   ('tomorrow', 0.0017610942350468584)]),\n",
              " (4,\n",
              "  [('running', 0.002921186831464582),\n",
              "   ('asperger', 0.0027899762133752307),\n",
              "   ('abuse', 0.002547243332545058),\n",
              "   ('staying', 0.002313454136054812),\n",
              "   ('pointless', 0.0022988733494701025),\n",
              "   ('breakdown', 0.0022706015283989493),\n",
              "   ('distress', 0.002208379535403671),\n",
              "   ('sex', 0.002117196811960429),\n",
              "   ('year', 0.002104724731671409),\n",
              "   ('setup', 0.0020878615487119542),\n",
              "   ('garage', 0.0020469548496465065),\n",
              "   ('teller', 0.001997481666664802),\n",
              "   ('relationship', 0.0019181938079234839),\n",
              "   ('back_home', 0.0019063274991398436),\n",
              "   ('one', 0.0018962813539180885),\n",
              "   ('lol', 0.0018644867497663528),\n",
              "   ('family', 0.00184153950393333),\n",
              "   ('cast', 0.0018164290274568225),\n",
              "   ('pornography', 0.001795532507003046),\n",
              "   ('behaviour', 0.0017830605617573133)]),\n",
              " (5,\n",
              "  [('keeping', 0.0029626701526901484),\n",
              "   ('seek_help', 0.002696478763876445),\n",
              "   ('adolescent', 0.002562227146895507),\n",
              "   ('loving', 0.0024765518690391896),\n",
              "   ('home_tonight', 0.0024402491044338355),\n",
              "   ('itand', 0.0022975696507849994),\n",
              "   ('escalate', 0.0022564606704945683),\n",
              "   ('substitute', 0.0020968222366542486),\n",
              "   ('risk', 0.0020473956119406046),\n",
              "   ('mum', 0.0019603631666686777),\n",
              "   ('deal', 0.0018936413041438383),\n",
              "   ('nature', 0.0018629593913453773),\n",
              "   ('vibe', 0.0018043360473586148),\n",
              "   ('backlash', 0.001791995370389248),\n",
              "   ('drink', 0.0017813649092979049),\n",
              "   ('every_day', 0.001778540000016382),\n",
              "   ('pattern', 0.0017314219671613741),\n",
              "   ('visitation', 0.0017249464988578758),\n",
              "   ('colleague', 0.0017235473579435153),\n",
              "   ('ring', 0.0017030695728742704)]),\n",
              " (6,\n",
              "  [('excuse', 0.0029299021084847623),\n",
              "   ('coma', 0.002367186203115794),\n",
              "   ('name_calling', 0.0022451101096648595),\n",
              "   ('musician', 0.0022297277943993687),\n",
              "   ('term', 0.0020484452713086204),\n",
              "   ('voice', 0.0020011012693530025),\n",
              "   ('tail', 0.001986288701567731),\n",
              "   ('wisdom', 0.001958732566437051),\n",
              "   ('sandal', 0.0019493680904695452),\n",
              "   ('legging', 0.0019142735473744264),\n",
              "   ('marriage', 0.001902068180523644),\n",
              "   ('loophole', 0.0018594359081092204),\n",
              "   ('ghost', 0.0018521069979811385),\n",
              "   ('ingot', 0.0018364503838088902),\n",
              "   ('together_almost', 0.0018045399751565037),\n",
              "   ('inmate', 0.0017517426963554856),\n",
              "   ('gaslight', 0.0017262848514756329),\n",
              "   ('scaring', 0.001720307772598662),\n",
              "   ('trying_stay', 0.0017018157657744607),\n",
              "   ('fray', 0.0016983468254794028)]),\n",
              " (7,\n",
              "  [('took_phone', 0.003128238837079747),\n",
              "   ('sever', 0.0030499121170073783),\n",
              "   ('identity', 0.002949396004400385),\n",
              "   ('flip', 0.002634493537622116),\n",
              "   ('three_week', 0.0025274465264763023),\n",
              "   ('mad', 0.0022631218104595336),\n",
              "   ('called_name', 0.0022367248972074492),\n",
              "   ('manipulation', 0.0022229886073443206),\n",
              "   ('verification', 0.002185315849769999),\n",
              "   ('stay_safe', 0.002140000101724568),\n",
              "   ('rest', 0.002094031764265968),\n",
              "   ('season', 0.0019575289623404977),\n",
              "   ('father', 0.0019547465967665457),\n",
              "   ('poison', 0.0018993942683512032),\n",
              "   ('grievance', 0.0018704798279120163),\n",
              "   ('presume', 0.0018209690064407795),\n",
              "   ('casino', 0.001785456257863322),\n",
              "   ('year', 0.0017553453383439695),\n",
              "   ('cheekbone', 0.0017496006633301543),\n",
              "   ('vision', 0.0017483925913997357)]),\n",
              " (8,\n",
              "  [('year', 0.002554581907071965),\n",
              "   ('hiding', 0.0025138175591700646),\n",
              "   ('sidewalk', 0.002489551185444798),\n",
              "   ('gown', 0.002417661409936729),\n",
              "   ('occurance', 0.0022416983133945545),\n",
              "   ('victory', 0.0021947092895912576),\n",
              "   ('environment_son', 0.0021881519886979535),\n",
              "   ('listen', 0.0021665526671140467),\n",
              "   ('snuck', 0.0019859243490129323),\n",
              "   ('project', 0.001985073283625731),\n",
              "   ('audio', 0.0019261815596264332),\n",
              "   ('jmy', 0.0019059558360588862),\n",
              "   ('gather', 0.001895707707430246),\n",
              "   ('place', 0.0018819549598722517),\n",
              "   ('stepgrandmother', 0.0018781671070311106),\n",
              "   ('form', 0.0018639392375467407),\n",
              "   ('stick', 0.0018067276984734433),\n",
              "   ('sit', 0.001806491708146785),\n",
              "   ('defense', 0.0017900794328806087),\n",
              "   ('standing', 0.0017713326123692287)]),\n",
              " (9,\n",
              "  [('lease', 0.0030639964895616796),\n",
              "   ('ingot', 0.002576045646481771),\n",
              "   ('spy', 0.0025278693868660256),\n",
              "   ('last_week', 0.0023336753590549666),\n",
              "   ('linen', 0.0022935199302535655),\n",
              "   ('intensity', 0.0022615872751451066),\n",
              "   ('dcf', 0.0022279408518174264),\n",
              "   ('default', 0.002226850765311558),\n",
              "   ('hold', 0.0021752392551884665),\n",
              "   ('gather', 0.002162817933025374),\n",
              "   ('spike', 0.0021590500271439434),\n",
              "   ('staying', 0.002125947312594862),\n",
              "   ('thank_everyone', 0.0021160305812650965),\n",
              "   ('lunch', 0.002033959976656172),\n",
              "   ('started_hitting', 0.0020128637174270593),\n",
              "   ('relateall', 0.0019571481233899707),\n",
              "   ('probation', 0.0019521137341622934),\n",
              "   ('thisthere', 0.0019376648440461107),\n",
              "   ('street', 0.0019085995788738798),\n",
              "   ('mysogenistic', 0.001876492751054524)]),\n",
              " (10,\n",
              "  [('force', 0.0029411427588336755),\n",
              "   ('forgive_forget', 0.002890361976673445),\n",
              "   ('fence', 0.0027266486960210176),\n",
              "   ('township', 0.002678391716178221),\n",
              "   ('isolation', 0.0025860652461128573),\n",
              "   ('body', 0.002562461240303091),\n",
              "   ('creature', 0.0024538577851610363),\n",
              "   ('last_month', 0.0024535160808324893),\n",
              "   ('age', 0.0024467337370720414),\n",
              "   ('glue', 0.0023996497928498693),\n",
              "   ('exam', 0.002399338290896404),\n",
              "   ('lost_job', 0.0022429425255102273),\n",
              "   ('ground', 0.0022019840239278525),\n",
              "   ('backwood', 0.002084186937069791),\n",
              "   ('moved_room', 0.00200514645206166),\n",
              "   ('law', 0.001964310116061639),\n",
              "   ('ivf', 0.0019448297796546775),\n",
              "   ('training', 0.001923798546533191),\n",
              "   ('spouse', 0.0018732209468398033),\n",
              "   ('lbs', 0.0018562890724048416)]),\n",
              " (11,\n",
              "  [('sister', 0.003626805480737402),\n",
              "   ('thing', 0.002765888281000786),\n",
              "   ('help', 0.002661884226882046),\n",
              "   ('manipulation', 0.002547340387838917),\n",
              "   ('fnq', 0.002455287723348935),\n",
              "   ('bottom', 0.0024164630548797034),\n",
              "   ('child', 0.0024058249310220303),\n",
              "   ('yesterday', 0.002342195662282042),\n",
              "   ('alot', 0.002304376614129813),\n",
              "   ('stimulus', 0.0022588380917378122),\n",
              "   ('handful', 0.0021813871018718295),\n",
              "   ('two_year', 0.002105614991160536),\n",
              "   ('charm', 0.00208378013583734),\n",
              "   ('almost_every', 0.002018676510068985),\n",
              "   ('destroy', 0.0020036194906526508),\n",
              "   ('situation', 0.0019639864785027904),\n",
              "   ('day', 0.0019598938582538355),\n",
              "   ('word', 0.0018915317402097285),\n",
              "   ('wife', 0.001854782437724533),\n",
              "   ('character', 0.001850775128891722)]),\n",
              " (12,\n",
              "  [('harrassment', 0.003348994494011438),\n",
              "   ('hubby', 0.0026318884792699546),\n",
              "   ('protection_order', 0.0025358351774662433),\n",
              "   ('face', 0.002510970679388227),\n",
              "   ('food', 0.0025070946000629525),\n",
              "   ('fuck', 0.0024923082579550106),\n",
              "   ('board', 0.002260884236059536),\n",
              "   ('cower', 0.0020999775796625023),\n",
              "   ('gardener', 0.0020437784480985864),\n",
              "   ('refuse', 0.0020215194312908327),\n",
              "   ('textscall', 0.001987869203314525),\n",
              "   ('expect_court', 0.001973528357461191),\n",
              "   ('assassination', 0.0019503447493912376),\n",
              "   ('act', 0.0018899027153256413),\n",
              "   ('lacoste', 0.0018510103632739842),\n",
              "   ('exboyfriend', 0.001804734376665975),\n",
              "   ('server', 0.0017750006496219735),\n",
              "   ('isult', 0.0017643846368114694),\n",
              "   ('brother', 0.0017422792428100106),\n",
              "   ('memory', 0.001728359413447678)]),\n",
              " (13,\n",
              "  [('day', 0.003412897916054184),\n",
              "   ('walked_away', 0.0028823450778272973),\n",
              "   ('distance', 0.002707912399411032),\n",
              "   ('threatened_call', 0.002560307680026771),\n",
              "   ('today', 0.00245345629140715),\n",
              "   ('meantime', 0.002424585991563704),\n",
              "   ('iand', 0.0023867025740209034),\n",
              "   ('custody', 0.002324629407607802),\n",
              "   ('flashback', 0.0023243739048653855),\n",
              "   ('need', 0.0021484659476649504),\n",
              "   ('work', 0.0021174233936559327),\n",
              "   ('volent', 0.00207413237578674),\n",
              "   ('fan', 0.0020589175071302423),\n",
              "   ('motherhood', 0.0020404464445044567),\n",
              "   ('ginna', 0.0019948418733633172),\n",
              "   ('boyfriend', 0.0019825319266348284),\n",
              "   ('s', 0.0019503545198155958),\n",
              "   ('going_crazy', 0.0019421052938964568),\n",
              "   ('etc', 0.0018699750545220714),\n",
              "   ('son', 0.0018439032016614202)]),\n",
              " (14,\n",
              "  [('wonky', 0.004058342340285623),\n",
              "   ('started_saying', 0.00264081689470846),\n",
              "   ('reference', 0.002542277737223284),\n",
              "   ('selfesteem', 0.002483296431242981),\n",
              "   ('context', 0.002131775465464418),\n",
              "   ('academia', 0.0021039703941882005),\n",
              "   ('reality', 0.0020122148696817515),\n",
              "   ('method', 0.0018449631832334367),\n",
              "   ('township', 0.0017963517345801435),\n",
              "   ('got', 0.001762634045255283),\n",
              "   ('bisexual', 0.001749828329377566),\n",
              "   ('coming', 0.0017403649766452548),\n",
              "   ('blameshift', 0.0017335140295934952),\n",
              "   ('violet', 0.001713531175609314),\n",
              "   ('friend', 0.0016923078813511898),\n",
              "   ('theory', 0.0016807967678320744),\n",
              "   ('talk', 0.001673013561030978),\n",
              "   ('need', 0.0016699681708484597),\n",
              "   ('picking', 0.0016597517096467245),\n",
              "   ('maintain', 0.0016344360499786)]),\n",
              " (15,\n",
              "  [('child', 0.0030170317966698476),\n",
              "   ('hope', 0.002808586519718699),\n",
              "   ('saw', 0.002753811927465326),\n",
              "   ('tail', 0.0023238761450307646),\n",
              "   ('end', 0.0022363722457400177),\n",
              "   ('head', 0.002187340905630431),\n",
              "   ('haunting', 0.0021258249680151087),\n",
              "   ('calling_dumb', 0.002069960433870435),\n",
              "   ('home', 0.0020526195285558136),\n",
              "   ('favor', 0.002043856680058477),\n",
              "   ('son', 0.0019856859646853976),\n",
              "   ('every_night', 0.0019626028879708695),\n",
              "   ('chance', 0.0018986061907093432),\n",
              "   ('phone', 0.001883056853412407),\n",
              "   ('tv', 0.0018559292408613596),\n",
              "   ('purpose', 0.0018503894219897663),\n",
              "   ('divorce_process', 0.0018275492490416908),\n",
              "   ('xpost', 0.0018274686828172889),\n",
              "   ('wood', 0.0018205282195784655),\n",
              "   ('woman_man', 0.0017804734009337767)]),\n",
              " (16,\n",
              "  [('shield', 0.0029411724181294756),\n",
              "   ('hair', 0.0027536013112573893),\n",
              "   ('excuse', 0.0026059473690185587),\n",
              "   ('change', 0.0025806429856372504),\n",
              "   ('clubbing', 0.002489862858855529),\n",
              "   ('neighbour', 0.0020626370530522214),\n",
              "   ('adore', 0.0019525489061958412),\n",
              "   ('society', 0.0019384797137425795),\n",
              "   ('fall', 0.0019340239289208662),\n",
              "   ('price', 0.0019094346022859015),\n",
              "   ('camp', 0.0018260108339022672),\n",
              "   ('smoking', 0.001812171445563888),\n",
              "   ('run', 0.0017587755411354428),\n",
              "   ('drinking', 0.0017581838151828342),\n",
              "   ('behave', 0.0016959546875893385),\n",
              "   ('physical_mental', 0.0016664932137987047),\n",
              "   ('bust', 0.0016620554530272077),\n",
              "   ('tried_break', 0.0016575590052243174),\n",
              "   ('sister', 0.0016553231754730413),\n",
              "   ('boyfriend', 0.0016367331976046315)]),\n",
              " (17,\n",
              "  [('adulthood', 0.004047359622412594),\n",
              "   ('brother', 0.0025009457558467663),\n",
              "   ('neglect', 0.002351167940848481),\n",
              "   ('murder', 0.0022785317696895845),\n",
              "   ('door_open', 0.0022190434757883245),\n",
              "   ('contact', 0.002183635510391744),\n",
              "   ('respond', 0.002123596406720054),\n",
              "   ('bullying', 0.002088005941775759),\n",
              "   ('food', 0.0020595296368211436),\n",
              "   ('saliva', 0.0020390126154869325),\n",
              "   ('fingerprint', 0.001989681140125652),\n",
              "   ('people', 0.0019073938944872014),\n",
              "   ('feb', 0.0019043255621575537),\n",
              "   ('oil', 0.0018665075811225894),\n",
              "   ('ride', 0.0018481245336485514),\n",
              "   ('dollar', 0.001837077237790748),\n",
              "   ('intimidate', 0.001791903279005815),\n",
              "   ('radar', 0.0017846839469362649),\n",
              "   ('mailbox', 0.001750541524769087),\n",
              "   ('relative', 0.0017348079274160794)]),\n",
              " (18,\n",
              "  [('ivf', 0.003729081911621118),\n",
              "   ('resentment', 0.003358266655838496),\n",
              "   ('brush', 0.0028102648979883207),\n",
              "   ('update', 0.002586543364788837),\n",
              "   ('mediation', 0.0021920576494197145),\n",
              "   ('infidelity', 0.002179224531977565),\n",
              "   ('edit', 0.002027001673748981),\n",
              "   ('mabey', 0.0020079913373945773),\n",
              "   ('autopilot', 0.0019747142730775296),\n",
              "   ('shoot', 0.001964854192313424),\n",
              "   ('pic', 0.0019459542844366565),\n",
              "   ('cushion', 0.001933049865350074),\n",
              "   ('ever_since', 0.0018775279320663973),\n",
              "   ('response', 0.0018149204364318267),\n",
              "   ('cower', 0.0018125354067524972),\n",
              "   ('throwing', 0.0018055710917656228),\n",
              "   ('equipment', 0.001790420850917407),\n",
              "   ('supervisor', 0.001774208666629445),\n",
              "   ('inform', 0.0017332900898167618),\n",
              "   ('three_month', 0.0017234652338131826)]),\n",
              " (19,\n",
              "  [('resource', 0.00506087481835001),\n",
              "   ('bill', 0.003314620986809486),\n",
              "   ('cat', 0.003093447255611222),\n",
              "   ('physical_abuse', 0.002870741660958483),\n",
              "   ('basement', 0.0023892621824681444),\n",
              "   ('judgement', 0.00238131860951544),\n",
              "   ('guard', 0.002226644672720657),\n",
              "   ('state', 0.0021876023344711507),\n",
              "   ('loaf', 0.002045228247366849),\n",
              "   ('called_police', 0.0019827777262458584),\n",
              "   ('toddler', 0.0019620308039220843),\n",
              "   ('fish', 0.0019061127595304999),\n",
              "   ('speaking', 0.0018758770250212648),\n",
              "   ('hiding', 0.0018540717005082405),\n",
              "   ('paralysis', 0.0018001785143345454),\n",
              "   ('ache', 0.0017670274116060726),\n",
              "   ('come_back', 0.0017511966921237067),\n",
              "   ('lung', 0.001702001565553893),\n",
              "   ('subreddit', 0.0016920460134719013),\n",
              "   ('heroin', 0.0016871945897257781)])]"
            ]
          },
          "metadata": {
            "tags": []
          },
          "execution_count": 55
        }
      ]
    },
    {
      "cell_type": "code",
      "metadata": {
        "id": "WXSotdUuFXqM",
        "colab_type": "code",
        "colab": {}
      },
      "source": [
        "def evaluate_graph(dictionary, corpus, texts, limit):\n",
        "    \"\"\"\n",
        "    Function to display num_topics - LDA graph using c_v coherence\n",
        "    \n",
        "    Parameters:\n",
        "    ----------\n",
        "    dictionary : Gensim dictionary\n",
        "    corpus : Gensim corpus\n",
        "    limit : topic limit\n",
        "    \n",
        "    Returns:\n",
        "    -------\n",
        "    lm_list : List of LDA topic models\n",
        "    c_v : Coherence values corresponding to the LDA model with respective number of topics\n",
        "    \"\"\"\n",
        "    c_v = []\n",
        "    lm_list = []\n",
        "    for num_topics in range(1, limit):\n",
        "        lm = LdaModel(corpus=corpus, num_topics=num_topics, id2word=dictionary)\n",
        "        lm_list.append(lm)\n",
        "        cm = CoherenceModel(model=lm, texts=texts, dictionary=dictionary, coherence='c_v')\n",
        "        c_v.append(cm.get_coherence())\n",
        "        \n",
        "    # Show graph\n",
        "    x = range(1, limit)\n",
        "    plt.plot(x, c_v)\n",
        "    plt.xlabel(\"num_topics\")\n",
        "    plt.ylabel(\"Coherence score\")\n",
        "    plt.legend((\"c_v\"), loc='best')\n",
        "    plt.show()\n",
        "    \n",
        "    return lm_list, c_v"
      ],
      "execution_count": 0,
      "outputs": []
    },
    {
      "cell_type": "code",
      "metadata": {
        "id": "slElFksTFXk8",
        "colab_type": "code",
        "outputId": "baef9379-3acd-427d-f5db-d708a863c28f",
        "colab": {
          "base_uri": "https://localhost:8080/",
          "height": 280
        }
      },
      "source": [
        "lmlist, c_v = evaluate_graph(dictionary=id2word, corpus=corpus, texts=data_lemmatized, limit=10)"
      ],
      "execution_count": 0,
      "outputs": [
        {
          "output_type": "display_data",
          "data": {
            "image/png": "[encoded data removed]",
            "text/plain": [
              "<Figure size 432x288 with 1 Axes>"
            ]
          },
          "metadata": {
            "tags": [],
            "needs_background": "light"
          }
        }
      ]
    },
    {
      "cell_type": "code",
      "metadata": {
        "id": "k35sjMmvFnEr",
        "colab_type": "code",
        "outputId": "e0adff7c-b95f-473a-987c-e9e8d603e7bf",
        "colab": {
          "base_uri": "https://localhost:8080/",
          "height": 881
        }
      },
      "source": [
        "vis2 = pyLDAvis.gensim.prepare(lmlist[3], corpus, id2word)\n",
        "vis2"
      ],
      "execution_count": 0,
      "outputs": [
        {
          "output_type": "execute_result",
          "data": {
            "text/html": [
              "\n",
              "<link rel=\"stylesheet\" type=\"text/css\" href=\"https://cdn.rawgit.com/bmabey/pyLDAvis/files/ldavis.v1.0.0.css\">\n",
              "\n",
              "\n",
              "<div id=\"ldavis_el1241398772905322008394415425\"></div>\n",
              "<script type=\"text/javascript\">\n",
              "\n",
              "var ldavis_el1241398772905322008394415425_data = {\"mdsDat\": {\"x\": [0.009319349083786224, 0.019391565605695642, -0.052145026755479815, 0.02343411206599795], \"y\": [-0.023783579658419957, -0.026007371476015007, 0.005832768196665542, 0.043958182937769395], \"topics\": [1, 2, 3, 4], \"cluster\": [1, 1, 1, 1], \"Freq\": [31.884258270263672, 25.433650970458984, 21.706073760986328, 20.976011276245117]}, \"tinfo\": {\"Term\": [\"year\", \"friend\", \"sister\", \"family\", \"door\", \"people\", \"text\", \"partner\", \"brother\", \"abuse\", \"way\", \"mom\", \"girl\", \"face\", \"today\", \"month\", \"day\", \"mother\", \"husband\", \"trip\", \"want\", \"kid\", \"call\", \"room\", \"talk\", \"love\", \"hour\", \"point\", \"fiance\", \"father\", \"pet\", \"capacity\", \"stepgrandfather\", \"marble\", \"highschool\", \"camel\", \"phase\", \"started_hitting\", \"moved_room\", \"saying\", \"member\", \"please_help\", \"exception\", \"soap\", \"thud\", \"stay\", \"bubble\", \"called_cry\", \"aunt\", \"disorder\", \"guest\", \"packing\", \"petition\", \"sibling\", \"client\", \"victory\", \"supply\", \"employment\", \"remark\", \"personality\", \"stomach\", \"school\", \"prison\", \"domestic_abuse\", \"lock\", \"father\", \"mom\", \"thing\", \"son\", \"case\", \"house\", \"mind\", \"mother\", \"hand\", \"abuse\", \"end\", \"wife\", \"parent\", \"child\", \"order\", \"life\", \"room\", \"dad\", \"boyfriend\", \"leave\", \"daughter\", \"help\", \"family\", \"week\", \"name\", \"money\", \"night\", \"head\", \"stuff\", \"work\", \"relationship\", \"way\", \"friend\", \"home\", \"year\", \"person\", \"situation\", \"husband\", \"day\", \"people\", \"advice\", \"seat\", \"documentary\", \"pop\", \"whole_situation\", \"stroke\", \"anniversary\", \"driving\", \"dident\", \"passenger\", \"fiance\", \"address\", \"console\", \"interview\", \"gear\", \"residence\", \"stimulus\", \"brand\", \"tend\", \"would_try\", \"scare\", \"heal\", \"offense\", \"prince\", \"reporter\", \"stubbornness\", \"hertell\", \"utilize\", \"injure\", \"diffuse\", \"landlady\", \"noise\", \"nightmare\", \"piece\", \"communication\", \"coworker\", \"book\", \"bf\", \"peace\", \"anxiety\", \"doctor\", \"year\", \"friend\", \"state\", \"pill\", \"victim\", \"memory\", \"record\", \"brother\", \"abuse\", \"work\", \"help\", \"want\", \"situation\", \"talk\", \"boyfriend\", \"ex\", \"sister\", \"video\", \"room\", \"day\", \"jail\", \"girlfriend\", \"home\", \"advice\", \"money\", \"relationship\", \"child\", \"love\", \"life\", \"person\", \"today\", \"reason\", \"kid\", \"people\", \"parent\", \"mom\", \"phone\", \"husband\", \"looking_back\", \"counselling\", \"adjournment\", \"legal_fee\", \"inmate\", \"embarrassment\", \"quality\", \"noodle\", \"donate\", \"undertaking\", \"donation\", \"rice\", \"character\", \"sexuality\", \"ontop\", \"harassing\", \"afternoon\", \"meltdown\", \"squeeze\", \"thread\", \"intimidate\", \"wizard\", \"stay_house\", \"trip\", \"request\", \"intuition\", \"seems_like\", \"regard\", \"bust\", \"coffee\", \"door\", \"holiday\", \"birthday\", \"class\", \"family\", \"lawyer\", \"hour\", \"husband\", \"day\", \"today\", \"partner\", \"call\", \"brother\", \"month\", \"woman\", \"kid\", \"relationship\", \"car\", \"text\", \"wall\", \"background\", \"year\", \"moment\", \"life\", \"cry\", \"place\", \"face\", \"care\", \"man\", \"parent\", \"work\", \"situation\", \"child\", \"mother\", \"job\", \"baby\", \"way\", \"advice\", \"help\", \"son\", \"home\", \"mom\", \"ex\", \"abuse\", \"guitar\", \"detection\", \"ordeal\", \"page\", \"loser\", \"backlash\", \"intimacy\", \"mindfulness\", \"wound\", \"tshirt\", \"duration\", \"boiling\", \"mental_illness\", \"flag\", \"bush\", \"application\", \"screenshot\", \"shop\", \"firearm\", \"rape_kit\", \"alright\", \"platform\", \"godmother\", \"pan\", \"stop_thinking\", \"rape\", \"freedom\", \"jealousy\", \"grammar\", \"broke_leg\", \"lost_job\", \"pressure\", \"evening\", \"forget\", \"sit\", \"sister\", \"people\", \"topic\", \"girl\", \"timing\", \"way\", \"text\", \"point\", \"face\", \"love\", \"phone\", \"resource\", \"tear\", \"police\", \"relationship\", \"action\", \"month\", \"partner\", \"kid\", \"chance\", \"help\", \"report\", \"guy\", \"want\", \"friend\", \"talk\", \"week\", \"man\", \"bed\", \"mother\", \"question\", \"baby\", \"reason\", \"today\", \"advice\", \"ex\", \"home\", \"day\", \"family\", \"person\", \"year\", \"mom\", \"life\", \"situation\", \"abuse\", \"money\", \"child\"], \"Freq\": [198.0, 158.0, 87.0, 146.0, 38.0, 88.0, 29.0, 54.0, 75.0, 162.0, 104.0, 148.0, 38.0, 58.0, 84.0, 95.0, 117.0, 94.0, 85.0, 11.0, 47.0, 96.0, 47.0, 72.0, 52.0, 64.0, 47.0, 61.0, 11.0, 58.0, 2.032787799835205, 2.032144546508789, 2.031184196472168, 2.0302257537841797, 2.028482675552368, 2.027012825012207, 2.0209872722625732, 2.020609140396118, 2.009572744369507, 2.6580729484558105, 4.57761812210083, 1.9591141939163208, 2.5928750038146973, 1.9312217235565186, 1.9176677465438843, 6.394537925720215, 1.8822484016418457, 2.5056235790252686, 3.6907498836517334, 5.535610198974609, 2.456345319747925, 1.8353240489959717, 1.8323562145233154, 4.823831558227539, 1.7945325374603271, 1.7967181205749512, 1.7931607961654663, 1.7834625244140625, 2.3847978115081787, 2.9396650791168213, 8.2255220413208, 17.208158493041992, 7.539337635040283, 9.177318572998047, 6.8246026039123535, 35.31920623779297, 85.16856384277344, 18.076915740966797, 39.3491325378418, 19.2802677154541, 38.82033157348633, 18.799190521240234, 46.226585388183594, 22.669536590576172, 73.00981140136719, 24.023094177246094, 18.347623825073242, 43.99810028076172, 53.601200103759766, 19.195913314819336, 59.853450775146484, 33.57240676879883, 20.39348793029785, 37.583518981933594, 25.7049503326416, 26.74190902709961, 55.36167526245117, 50.95734405517578, 30.005979537963867, 18.48108673095703, 29.996810913085938, 26.763381958007812, 23.750600814819336, 21.807050704956055, 34.63836669921875, 41.59027099609375, 32.81642532348633, 39.44213104248047, 28.29332160949707, 40.929988861083984, 26.429109573364258, 28.574359893798828, 26.267833709716797, 28.705902099609375, 26.20851707458496, 25.80904769897461, 3.539891004562378, 2.6374008655548096, 2.624997138977051, 2.5226173400878906, 1.8909310102462769, 1.8885210752487183, 1.8845335245132446, 1.881534218788147, 1.8688654899597168, 8.369510650634766, 6.466568470001221, 1.7367057800292969, 1.732969045639038, 1.735870122909546, 1.6905689239501953, 2.694413661956787, 2.190525770187378, 1.6118532419204712, 2.1257309913635254, 2.617549180984497, 2.1236367225646973, 1.5804104804992676, 1.0526046752929688, 1.052294135093689, 1.052299976348877, 1.0522161722183228, 1.052161455154419, 1.052120566368103, 1.052048921585083, 1.052027702331543, 3.113621711730957, 7.56660795211792, 5.5732645988464355, 2.5665669441223145, 6.903236389160156, 5.997089862823486, 8.239346504211426, 4.494876861572266, 13.958357810974121, 9.072626113891602, 94.57109832763672, 75.7847671508789, 16.627233505249023, 4.448002815246582, 18.57967758178711, 12.536188125610352, 5.247111797332764, 30.223825454711914, 56.190284729003906, 38.7073974609375, 52.031646728515625, 19.37848663330078, 35.03041076660156, 19.532943725585938, 28.683181762695312, 22.86870002746582, 27.243310928344727, 7.74046516418457, 23.196094512939453, 32.22362518310547, 12.43149185180664, 10.886592864990234, 24.776857376098633, 24.135669708251953, 22.883237838745117, 33.67732620239258, 29.60953712463379, 19.8123836517334, 31.78612518310547, 21.965145111083984, 22.514493942260742, 16.1864070892334, 22.914962768554688, 21.787445068359375, 22.353090286254883, 25.310428619384766, 19.74407386779785, 20.08706283569336, 3.2193119525909424, 1.8935343027114868, 1.8925913572311401, 1.892035961151123, 1.8919371366500854, 1.8908507823944092, 1.8907843828201294, 1.8907091617584229, 1.8902428150177002, 1.889783501625061, 1.8891712427139282, 1.8888849020004272, 2.5161900520324707, 1.8583171367645264, 1.8530045747756958, 1.8273122310638428, 3.056473970413208, 1.80488920211792, 1.7849138975143433, 2.370023488998413, 1.7699650526046753, 1.7548524141311646, 1.7299162149429321, 8.017525672912598, 1.7154796123504639, 1.7104836702346802, 1.6798863410949707, 3.8971521854400635, 1.6378462314605713, 2.1843347549438477, 22.642789840698242, 5.644911766052246, 6.007918834686279, 7.248905658721924, 56.805789947509766, 6.213724136352539, 19.05186653137207, 30.179719924926758, 37.155818939208984, 28.07654571533203, 19.7880802154541, 17.56499481201172, 23.321439743041992, 27.486360549926758, 19.527626037597656, 25.84789276123047, 34.664302825927734, 19.964807510375977, 11.133898735046387, 8.375481605529785, 5.714624881744385, 41.11878967285156, 9.378870964050293, 30.791812896728516, 8.458640098571777, 13.447041511535645, 15.738964080810547, 10.595500946044922, 14.986724853515625, 19.907217025756836, 21.254953384399414, 20.2813720703125, 21.737592697143555, 18.930944442749023, 13.720390319824219, 13.957955360412598, 17.996540069580078, 16.247514724731445, 20.597875595092773, 15.133992195129395, 15.785619735717773, 18.585371017456055, 14.324943542480469, 15.464144706726074, 4.15571403503418, 2.6157021522521973, 2.582158327102661, 1.8083593845367432, 1.806713342666626, 1.7862582206726074, 1.7689578533172607, 1.7557690143585205, 1.7542086839675903, 1.7456032037734985, 1.7432618141174316, 1.7256428003311157, 2.2980427742004395, 2.8849399089813232, 1.7220598459243774, 2.2630908489227295, 1.6549724340438843, 2.7311344146728516, 1.6097708940505981, 2.1379826068878174, 1.5946927070617676, 1.5915501117706299, 1.5915769338607788, 1.5783766508102417, 1.5605826377868652, 2.098480701446533, 1.530119776725769, 1.5316280126571655, 1.5242345333099365, 1.5214763879776, 2.9902284145355225, 2.506814956665039, 3.8466756343841553, 1.9965629577636719, 3.2963294982910156, 34.85873031616211, 33.492427825927734, 4.097873210906982, 16.26158905029297, 3.2827742099761963, 35.410118103027344, 12.696976661682129, 21.834712982177734, 20.618974685668945, 21.189592361450195, 24.458080291748047, 9.789691925048828, 4.963935852050781, 17.271915435791016, 36.31304931640625, 5.823613166809082, 26.221426010131836, 17.037275314331055, 25.615665435791016, 7.340086460113525, 34.453125, 5.416646957397461, 14.091117858886719, 14.000712394714355, 30.997629165649414, 14.620039939880371, 17.991031646728516, 15.348506927490234, 13.150701522827148, 20.52220344543457, 9.569303512573242, 14.122231483459473, 12.47758674621582, 17.24089241027832, 16.620418548583984, 14.745043754577637, 16.656057357788086, 19.38602066040039, 20.896989822387695, 15.735611915588379, 21.680810928344727, 19.285381317138672, 18.318347930908203, 16.81627082824707, 18.067556381225586, 15.632475852966309, 16.07244300842285], \"Total\": [198.0, 158.0, 87.0, 146.0, 38.0, 88.0, 29.0, 54.0, 75.0, 162.0, 104.0, 148.0, 38.0, 58.0, 84.0, 95.0, 117.0, 94.0, 85.0, 11.0, 47.0, 96.0, 47.0, 72.0, 52.0, 64.0, 47.0, 61.0, 11.0, 58.0, 2.6608941555023193, 2.6608333587646484, 2.660806894302368, 2.6607022285461426, 2.6605710983276367, 2.6604175567626953, 2.6598939895629883, 2.6599185466766357, 2.6593565940856934, 3.547330856323242, 6.186909198760986, 2.652923822402954, 3.533019781112671, 2.6539008617401123, 2.648350954055786, 8.833328247070312, 2.6485533714294434, 3.532442092895508, 5.283298969268799, 7.9571146965026855, 3.5337464809417725, 2.641270875930786, 2.6451382637023926, 7.049878120422363, 2.6346511840820312, 2.6447718143463135, 2.641540288925171, 2.6352827548980713, 3.5282883644104004, 4.372960090637207, 12.271007537841797, 26.417505264282227, 11.42231559753418, 14.113231658935547, 10.546156883239746, 58.68815994262695, 148.34974670410156, 30.53812599182129, 72.31126403808594, 33.248558044433594, 73.10897827148438, 33.90007781982422, 94.16897583007812, 42.438297271728516, 162.73179626464844, 46.04480743408203, 33.783958435058594, 94.57695007324219, 121.0207748413086, 36.33310317993164, 140.74972534179688, 72.15640258789062, 40.978267669677734, 87.96253967285156, 56.94087219238281, 60.66710662841797, 162.4443359375, 146.7861328125, 73.76496124267578, 39.76193618774414, 78.92750549316406, 67.91416931152344, 57.52764129638672, 51.77701950073242, 106.41252899169922, 146.2449493408203, 104.35350799560547, 158.11676025390625, 85.51185607910156, 198.30068969726562, 77.83578491210938, 100.70240783691406, 85.73049926757812, 117.47135925292969, 88.79780578613281, 82.81265258789062, 4.221660137176514, 3.3856663703918457, 3.386129856109619, 3.3788204193115234, 2.535634994506836, 2.535719156265259, 2.5356621742248535, 2.5357589721679688, 2.5356249809265137, 11.98039436340332, 9.340824127197266, 2.533127784729004, 2.528561592102051, 2.5472004413604736, 2.53593111038208, 4.182743072509766, 3.4075090885162354, 2.556486129760742, 3.387622356414795, 4.186361312866211, 3.4067041873931885, 2.5359199047088623, 1.6926312446594238, 1.6926255226135254, 1.692635178565979, 1.6926325559616089, 1.6926546096801758, 1.6926372051239014, 1.6926389932632446, 1.6926401853561401, 5.039630889892578, 12.673440933227539, 9.31920051574707, 4.219329833984375, 11.831602096557617, 10.25097370147705, 14.349397659301758, 7.711369037628174, 25.588106155395508, 16.22797203063965, 198.30068969726562, 158.11676025390625, 32.414730072021484, 7.646492958068848, 39.954227447509766, 25.760353088378906, 9.364547729492188, 75.57801055908203, 162.73179626464844, 106.41252899169922, 162.4443359375, 47.92745590209961, 100.70240783691406, 52.141212463378906, 87.96253967285156, 66.06979370117188, 87.64389038085938, 16.041217803955078, 72.15640258789062, 117.47135925292969, 31.0223445892334, 25.813228607177734, 85.51185607910156, 82.81265258789062, 78.92750549316406, 146.2449493408203, 121.0207748413086, 64.98292541503906, 140.74972534179688, 77.83578491210938, 84.70588684082031, 47.567047119140625, 96.48262023925781, 88.79780578613281, 94.57695007324219, 148.34974670410156, 78.94284057617188, 85.73049926757812, 4.238317966461182, 2.5374903678894043, 2.537463665008545, 2.5375075340270996, 2.5375208854675293, 2.5375027656555176, 2.5378384590148926, 2.5379092693328857, 2.537722110748291, 2.537550926208496, 2.5379624366760254, 2.537928819656372, 3.3887782096862793, 2.5365405082702637, 2.537254810333252, 2.5346240997314453, 4.241681098937988, 2.5374109745025635, 2.533872365951538, 3.381138324737549, 2.531909227371216, 2.5311758518218994, 2.549119472503662, 11.881105422973633, 2.550629138946533, 2.5452942848205566, 2.5471367835998535, 5.952889442443848, 2.529529571533203, 3.3767123222351074, 38.396175384521484, 9.278316497802734, 10.315876007080078, 12.817893981933594, 146.7861328125, 11.824728965759277, 47.65770721435547, 85.73049926757812, 117.47135925292969, 84.70588684082031, 54.58699035644531, 47.476890563964844, 75.57801055908203, 95.8583984375, 60.81111145019531, 96.48262023925781, 146.2449493408203, 68.07957458496094, 29.942638397216797, 20.42136001586914, 12.031388282775879, 198.30068969726562, 24.895427703857422, 140.74972534179688, 21.81635856628418, 43.57623291015625, 58.85620880126953, 31.62225341796875, 58.3642463684082, 94.57695007324219, 106.41252899169922, 100.70240783691406, 121.0207748413086, 94.16897583007812, 52.16239547729492, 57.79007339477539, 104.35350799560547, 82.81265258789062, 162.4443359375, 72.31126403808594, 85.51185607910156, 148.34974670410156, 66.06979370117188, 162.73179626464844, 4.887930393218994, 3.267530918121338, 3.2692084312438965, 2.461743116378784, 2.461900234222412, 2.4627816677093506, 2.46647310256958, 2.4642844200134277, 2.464383125305176, 2.4649083614349365, 2.4660632610321045, 2.4658620357513428, 3.2852656841278076, 4.127197265625, 2.4660792350769043, 3.2840700149536133, 2.468900203704834, 4.122742652893066, 2.4709463119506836, 3.2900962829589844, 2.471573829650879, 2.473154067993164, 2.4887075424194336, 2.47255802154541, 2.4733996391296387, 3.331480026245117, 2.4802937507629395, 2.484349250793457, 2.4789929389953613, 2.474905014038086, 4.9464874267578125, 4.186672687530518, 6.602873802185059, 3.3044612407684326, 5.810967445373535, 87.64389038085938, 88.79780578613281, 7.531867980957031, 38.41794967651367, 5.8463287353515625, 104.35350799560547, 29.942638397216797, 61.78400421142578, 58.85620880126953, 64.98292541503906, 78.94284057617188, 24.583805084228516, 10.029912948608398, 53.18535614013672, 146.2449493408203, 12.52093505859375, 95.8583984375, 54.58699035644531, 96.48262023925781, 17.67672348022461, 162.4443359375, 11.60483169555664, 47.39958190917969, 47.92745590209961, 158.11676025390625, 52.141212463378906, 73.76496124267578, 58.3642463684082, 46.1680908203125, 94.16897583007812, 29.53417205810547, 57.79007339477539, 47.567047119140625, 84.70588684082031, 82.81265258789062, 66.06979370117188, 85.51185607910156, 117.47135925292969, 146.7861328125, 77.83578491210938, 198.30068969726562, 148.34974670410156, 140.74972534179688, 100.70240783691406, 162.73179626464844, 78.92750549316406, 121.0207748413086], \"Category\": [\"Default\", \"Default\", \"Default\", \"Default\", \"Default\", \"Default\", \"Default\", \"Default\", \"Default\", \"Default\", \"Default\", \"Default\", \"Default\", \"Default\", \"Default\", \"Default\", \"Default\", \"Default\", \"Default\", \"Default\", \"Default\", \"Default\", \"Default\", \"Default\", \"Default\", \"Default\", \"Default\", \"Default\", \"Default\", \"Default\", \"Topic1\", \"Topic1\", \"Topic1\", \"Topic1\", \"Topic1\", \"Topic1\", \"Topic1\", \"Topic1\", \"Topic1\", \"Topic1\", \"Topic1\", \"Topic1\", \"Topic1\", \"Topic1\", \"Topic1\", \"Topic1\", \"Topic1\", \"Topic1\", \"Topic1\", \"Topic1\", \"Topic1\", \"Topic1\", \"Topic1\", \"Topic1\", \"Topic1\", \"Topic1\", \"Topic1\", \"Topic1\", \"Topic1\", \"Topic1\", \"Topic1\", \"Topic1\", \"Topic1\", \"Topic1\", \"Topic1\", \"Topic1\", \"Topic1\", \"Topic1\", \"Topic1\", \"Topic1\", \"Topic1\", \"Topic1\", \"Topic1\", \"Topic1\", \"Topic1\", \"Topic1\", \"Topic1\", \"Topic1\", \"Topic1\", \"Topic1\", \"Topic1\", \"Topic1\", \"Topic1\", \"Topic1\", \"Topic1\", \"Topic1\", \"Topic1\", \"Topic1\", \"Topic1\", \"Topic1\", \"Topic1\", \"Topic1\", \"Topic1\", \"Topic1\", \"Topic1\", \"Topic1\", \"Topic1\", \"Topic1\", \"Topic1\", \"Topic1\", \"Topic1\", \"Topic1\", \"Topic1\", \"Topic1\", \"Topic1\", \"Topic1\", \"Topic2\", \"Topic2\", \"Topic2\", \"Topic2\", \"Topic2\", \"Topic2\", \"Topic2\", \"Topic2\", \"Topic2\", \"Topic2\", \"Topic2\", \"Topic2\", \"Topic2\", \"Topic2\", \"Topic2\", \"Topic2\", \"Topic2\", \"Topic2\", \"Topic2\", \"Topic2\", \"Topic2\", \"Topic2\", \"Topic2\", \"Topic2\", \"Topic2\", \"Topic2\", \"Topic2\", \"Topic2\", \"Topic2\", \"Topic2\", \"Topic2\", \"Topic2\", \"Topic2\", \"Topic2\", \"Topic2\", \"Topic2\", \"Topic2\", \"Topic2\", \"Topic2\", \"Topic2\", \"Topic2\", \"Topic2\", \"Topic2\", \"Topic2\", \"Topic2\", \"Topic2\", \"Topic2\", \"Topic2\", \"Topic2\", \"Topic2\", \"Topic2\", \"Topic2\", \"Topic2\", \"Topic2\", \"Topic2\", \"Topic2\", \"Topic2\", \"Topic2\", \"Topic2\", \"Topic2\", \"Topic2\", \"Topic2\", \"Topic2\", \"Topic2\", \"Topic2\", \"Topic2\", \"Topic2\", \"Topic2\", \"Topic2\", \"Topic2\", \"Topic2\", \"Topic2\", \"Topic2\", \"Topic2\", \"Topic2\", \"Topic2\", \"Topic2\", \"Topic2\", \"Topic3\", \"Topic3\", \"Topic3\", \"Topic3\", \"Topic3\", \"Topic3\", \"Topic3\", \"Topic3\", \"Topic3\", \"Topic3\", \"Topic3\", \"Topic3\", \"Topic3\", \"Topic3\", \"Topic3\", \"Topic3\", \"Topic3\", \"Topic3\", \"Topic3\", \"Topic3\", \"Topic3\", \"Topic3\", \"Topic3\", \"Topic3\", \"Topic3\", \"Topic3\", \"Topic3\", \"Topic3\", \"Topic3\", \"Topic3\", \"Topic3\", \"Topic3\", \"Topic3\", \"Topic3\", \"Topic3\", \"Topic3\", \"Topic3\", \"Topic3\", \"Topic3\", \"Topic3\", \"Topic3\", \"Topic3\", \"Topic3\", \"Topic3\", \"Topic3\", \"Topic3\", \"Topic3\", \"Topic3\", \"Topic3\", \"Topic3\", \"Topic3\", \"Topic3\", \"Topic3\", \"Topic3\", \"Topic3\", \"Topic3\", \"Topic3\", \"Topic3\", \"Topic3\", \"Topic3\", \"Topic3\", \"Topic3\", \"Topic3\", \"Topic3\", \"Topic3\", \"Topic3\", \"Topic3\", \"Topic3\", \"Topic3\", \"Topic3\", \"Topic3\", \"Topic3\", \"Topic3\", \"Topic3\", \"Topic4\", \"Topic4\", \"Topic4\", \"Topic4\", \"Topic4\", \"Topic4\", \"Topic4\", \"Topic4\", \"Topic4\", \"Topic4\", \"Topic4\", \"Topic4\", \"Topic4\", \"Topic4\", \"Topic4\", \"Topic4\", \"Topic4\", \"Topic4\", \"Topic4\", \"Topic4\", \"Topic4\", \"Topic4\", \"Topic4\", \"Topic4\", \"Topic4\", \"Topic4\", \"Topic4\", \"Topic4\", \"Topic4\", \"Topic4\", \"Topic4\", \"Topic4\", \"Topic4\", \"Topic4\", \"Topic4\", \"Topic4\", \"Topic4\", \"Topic4\", \"Topic4\", \"Topic4\", \"Topic4\", \"Topic4\", \"Topic4\", \"Topic4\", \"Topic4\", \"Topic4\", \"Topic4\", \"Topic4\", \"Topic4\", \"Topic4\", \"Topic4\", \"Topic4\", \"Topic4\", \"Topic4\", \"Topic4\", \"Topic4\", \"Topic4\", \"Topic4\", \"Topic4\", \"Topic4\", \"Topic4\", \"Topic4\", \"Topic4\", \"Topic4\", \"Topic4\", \"Topic4\", \"Topic4\", \"Topic4\", \"Topic4\", \"Topic4\", \"Topic4\", \"Topic4\", \"Topic4\", \"Topic4\", \"Topic4\", \"Topic4\", \"Topic4\", \"Topic4\", \"Topic4\", \"Topic4\", \"Topic4\", \"Topic4\"], \"logprob\": [30.0, 29.0, 28.0, 27.0, 26.0, 25.0, 24.0, 23.0, 22.0, 21.0, 20.0, 19.0, 18.0, 17.0, 16.0, 15.0, 14.0, 13.0, 12.0, 11.0, 10.0, 9.0, 8.0, 7.0, 6.0, 5.0, 4.0, 3.0, 2.0, 1.0, -7.86929988861084, -7.86959981918335, -7.870100021362305, -7.87060022354126, -7.871399879455566, -7.872200012207031, -7.875100135803223, -7.87529993057251, -7.880799770355225, -7.601099967956543, -7.057499885559082, -7.906199932098389, -7.625999927520752, -7.920599937438965, -7.927599906921387, -6.723299980163574, -7.946300029754639, -7.660200119018555, -7.272900104522705, -6.867499828338623, -7.680099964141846, -7.971499919891357, -7.973100185394287, -7.005199909210205, -7.99399995803833, -7.992800235748291, -7.994699954986572, -8.000200271606445, -7.70959997177124, -7.500400066375732, -6.471499919891357, -5.73330020904541, -6.558599948883057, -6.361999988555908, -6.658199787139893, -5.0142998695373535, -4.134099960327148, -5.684100151062012, -4.906300067901611, -5.61959981918335, -4.9197998046875, -5.644899845123291, -4.745200157165527, -5.457699775695801, -4.288099765777588, -5.399700164794922, -5.6691999435424805, -4.794600009918213, -4.5971999168396, -5.624000072479248, -4.486800193786621, -5.065000057220459, -5.563499927520752, -4.952199935913086, -5.331999778747559, -5.292500019073486, -4.564799785614014, -4.64769983291626, -5.177299976348877, -5.6620001792907715, -5.177599906921387, -5.2916998863220215, -5.411099910736084, -5.496500015258789, -5.03380012512207, -4.850900173187256, -5.087800025939941, -4.903900146484375, -5.236100196838379, -4.8668999671936035, -5.304299831390381, -5.226200103759766, -5.310400009155273, -5.22160005569458, -5.312600135803223, -5.328000068664551, -7.088600158691406, -7.382900238037109, -7.387599945068359, -7.4274001121521, -7.71560001373291, -7.716899871826172, -7.718999862670898, -7.720600128173828, -7.727399826049805, -6.228099822998047, -6.486000061035156, -7.8007001876831055, -7.8028998374938965, -7.801199913024902, -7.827600002288818, -7.361499786376953, -7.56850004196167, -7.87529993057251, -7.598599910736084, -7.390399932861328, -7.599599838256836, -7.894999980926514, -8.301400184631348, -8.3016996383667, -8.3016996383667, -8.301799774169922, -8.301799774169922, -8.301899909973145, -8.301899909973145, -8.302000045776367, -7.216899871826172, -6.32889986038208, -6.634699821472168, -7.410099983215332, -6.4207000732421875, -6.561399936676025, -6.243800163269043, -6.849800109863281, -5.716599941253662, -6.14739990234375, -3.803299903869629, -4.024799823760986, -5.541600227355957, -6.860199928283691, -5.430600166320801, -5.824100017547607, -6.695000171661377, -4.9440999031066895, -4.32390022277832, -4.696700096130371, -4.4008002281188965, -5.388500213623047, -4.796500205993652, -5.3805999755859375, -4.996399879455566, -5.222899913787842, -5.047900199890137, -6.30620002746582, -5.208700180053711, -4.880000114440918, -5.832499980926514, -5.965199947357178, -5.1427998542785645, -5.169000148773193, -5.222300052642822, -4.835899829864502, -4.964600086212158, -5.366399765014648, -4.893700122833252, -5.263199806213379, -5.238500118255615, -5.56850004196167, -5.220900058746338, -5.271399974822998, -5.245699882507324, -5.121500015258789, -5.369800090789795, -5.35260009765625, -7.025000095367432, -7.555799961090088, -7.556300163269043, -7.556600093841553, -7.556600093841553, -7.557199954986572, -7.557199954986572, -7.557300090789795, -7.557499885559082, -7.557700157165527, -7.55810022354126, -7.558199882507324, -7.271500110626221, -7.57450008392334, -7.577400207519531, -7.591400146484375, -7.076900005340576, -7.603700160980225, -7.614799976348877, -7.331299781799316, -7.623199939727783, -7.631800174713135, -7.646100044250488, -6.112599849700928, -7.6545000076293945, -7.657400131225586, -7.67549991607666, -6.834000110626221, -7.700799942016602, -7.412899971008301, -5.074399948120117, -6.463500022888184, -6.401100158691406, -6.213399887084961, -4.154600143432617, -6.367400169372559, -5.247000217437744, -4.7870001792907715, -4.579100131988525, -4.859300136566162, -5.209099769592285, -5.3282999992370605, -5.0447998046875, -4.880499839782715, -5.222400188446045, -4.941999912261963, -4.648499965667725, -5.200200080871582, -5.784200191497803, -6.068900108337402, -6.451200008392334, -4.477700233459473, -5.955699920654297, -4.767000198364258, -6.059000015258789, -5.595399856567383, -5.4380998611450195, -5.833799839019775, -5.486999988555908, -5.203100204467773, -5.137599945068359, -5.184500217437744, -5.115200042724609, -5.253399848937988, -5.575300216674805, -5.558199882507324, -5.303999900817871, -5.406300067901611, -5.169000148773193, -5.47730016708374, -5.435100078582764, -5.2718000411987305, -5.532199859619141, -5.455699920654297, -6.735499858856201, -7.198500156402588, -7.211400032043457, -7.567599773406982, -7.56850004196167, -7.579899787902832, -7.589600086212158, -7.597099781036377, -7.5980000495910645, -7.60290002822876, -7.6041998863220215, -7.6143999099731445, -7.327899932861328, -7.100500106811523, -7.616499900817871, -7.343299865722656, -7.656199932098389, -7.155300140380859, -7.683899879455566, -7.400100231170654, -7.693299770355225, -7.695300102233887, -7.695300102233887, -7.70359992980957, -7.714900016784668, -7.418799877166748, -7.734600067138672, -7.733699798583984, -7.738500118255615, -7.740300178527832, -7.064599990844727, -7.241000175476074, -6.81279993057251, -7.468599796295166, -6.967199802398682, -4.608699798583984, -4.64870023727417, -6.749499797821045, -5.371200084686279, -6.97130012512207, -4.5929999351501465, -5.618599891662598, -5.076499938964844, -5.133800029754639, -5.106500148773193, -4.9629998207092285, -5.878699779510498, -6.557799816131592, -5.3109002113342285, -4.567800045013428, -6.398099899291992, -4.893400192260742, -5.3246002197265625, -4.916800022125244, -6.166600227355957, -4.6203999519348145, -6.4704999923706055, -5.514400005340576, -5.520899772644043, -4.726099967956543, -5.47760009765625, -5.270100116729736, -5.428999900817871, -5.583499908447266, -5.138500213623047, -5.901400089263916, -5.512199878692627, -5.636099815368652, -5.312699794769287, -5.349400043487549, -5.469099998474121, -5.3471999168396, -5.195400238037109, -5.1203999519348145, -5.404099941253662, -5.083600044250488, -5.2006001472473145, -5.252099990844727, -5.337600231170654, -5.265900135040283, -5.410600185394287, -5.382900238037109], \"loglift\": [30.0, 29.0, 28.0, 27.0, 26.0, 25.0, 24.0, 23.0, 22.0, 21.0, 20.0, 19.0, 18.0, 17.0, 16.0, 15.0, 14.0, 13.0, 12.0, 11.0, 10.0, 9.0, 8.0, 7.0, 6.0, 5.0, 4.0, 3.0, 2.0, 1.0, 0.8737999796867371, 0.8734999895095825, 0.8730000257492065, 0.8726000189781189, 0.8718000054359436, 0.8711000084877014, 0.868399977684021, 0.8682000041007996, 0.8629000186920166, 0.8544999957084656, 0.8417999744415283, 0.839900016784668, 0.8337000012397766, 0.8252000212669373, 0.8202000260353088, 0.8199999928474426, 0.8015000224113464, 0.7996000051498413, 0.7843000292778015, 0.7802000045776367, 0.7793999910354614, 0.7789999842643738, 0.7759000062942505, 0.7635999917984009, 0.7591000199317932, 0.7563999891281128, 0.7556999921798706, 0.7526000142097473, 0.7513999938964844, 0.7458999752998352, 0.7430999875068665, 0.7143999934196472, 0.7275999784469604, 0.7127000093460083, 0.7077999711036682, 0.635200023651123, 0.588100016117096, 0.6187000274658203, 0.534600019454956, 0.5981000065803528, 0.5101000070571899, 0.5534999966621399, 0.43149998784065247, 0.515999972820282, 0.34150001406669617, 0.4925000071525574, 0.5325999855995178, 0.37779998779296875, 0.3287000060081482, 0.5049999952316284, 0.2879999876022339, 0.37790000438690186, 0.44519999623298645, 0.29269999265670776, 0.34769999980926514, 0.3239000141620636, 0.066600002348423, 0.08510000258684158, 0.243599995970726, 0.37689998745918274, 0.17560000717639923, 0.2117999941110611, 0.25839999318122864, 0.2782999873161316, 0.02070000022649765, -0.1143999993801117, -0.013799999840557575, -0.24539999663829803, 0.03700000047683716, -0.4348999857902527, 0.06289999932050705, -0.11659999936819077, -0.039799999445676804, -0.26600000262260437, -0.07720000296831131, -0.02280000038444996, 1.1929999589920044, 1.1193000078201294, 1.1145000457763672, 1.0769000053405762, 1.075700044631958, 1.0743999481201172, 1.0722999572753906, 1.0707000494003296, 1.0640000104904175, 1.0104000568389893, 1.0012999773025513, 0.991599977016449, 0.9912999868392944, 0.9855999946594238, 0.9635999798774719, 0.9293000102043152, 0.927299976348877, 0.907800018787384, 0.9031000137329102, 0.8995000123977661, 0.8964999914169312, 0.8962000012397766, 0.89410001039505, 0.8938000202178955, 0.8938000202178955, 0.8937000036239624, 0.8935999870300293, 0.8935999870300293, 0.8934999704360962, 0.8934999704360962, 0.8876000046730042, 0.8532999753952026, 0.8550000190734863, 0.871999979019165, 0.830299973487854, 0.8330000042915344, 0.814300000667572, 0.8292999863624573, 0.7630000114440918, 0.7875999808311462, 0.6287000179290771, 0.6337000131607056, 0.7014999985694885, 0.8273000121116638, 0.6033999919891357, 0.6488999724388123, 0.7897999882698059, 0.45260000228881836, 0.30570000410079956, 0.3578000068664551, 0.2305999994277954, 0.4636000096797943, 0.31310001015663147, 0.3871999979019165, 0.2485000044107437, 0.30820000171661377, 0.20059999823570251, 0.6403999924659729, 0.23420000076293945, 0.07559999823570251, 0.4546000063419342, 0.5056999921798706, 0.13040000200271606, 0.13619999587535858, 0.13099999725818634, -0.09939999878406525, -0.03880000114440918, 0.18129999935626984, -0.11890000104904175, 0.10400000214576721, 0.04410000145435333, 0.29109999537467957, -0.06849999725818634, -0.03590000048279762, -0.07339999824762344, -0.3993000090122223, -0.01679999940097332, -0.0820000022649765, 1.2525999546051025, 1.2347999811172485, 1.2344000339508057, 1.2339999675750732, 1.2339999675750732, 1.2333999872207642, 1.233299970626831, 1.233199954032898, 1.2330000400543213, 1.232800006866455, 1.2323999404907227, 1.232200026512146, 1.2299000024795532, 1.2164000272750854, 1.2132999897003174, 1.2003999948501587, 1.1999000310897827, 1.186900019645691, 1.1771999597549438, 1.1722999811172485, 1.169600009918213, 1.1612999439239502, 1.1398999691009521, 1.1342999935150146, 1.1309000253677368, 1.1301000118255615, 1.111299991607666, 1.1038999557495117, 1.092900037765503, 1.0920000076293945, 0.9994999766349792, 1.0306999683380127, 0.9869999885559082, 0.9575999975204468, 0.5781999826431274, 0.8841000199317932, 0.6107000112533569, 0.48350000381469727, 0.3765000104904175, 0.42329999804496765, 0.5128999948501587, 0.5332000255584717, 0.35179999470710754, 0.2784000039100647, 0.39160001277923584, 0.21040000021457672, 0.08799999952316284, 0.30090001225471497, 0.5382999777793884, 0.6363000273704529, 0.7831000089645386, -0.04569999873638153, 0.5514000058174133, 0.007799999788403511, 0.5800999999046326, 0.35179999470710754, 0.2085999995470047, 0.4341000020503998, 0.1679999977350235, -0.030799999833106995, -0.08320000022649765, -0.07490000128746033, -0.18930000066757202, -0.07670000195503235, 0.19210000336170197, 0.10679999738931656, -0.23000000417232513, -0.10109999775886536, -0.5375999808311462, -0.0364999994635582, -0.16200000047683716, -0.5496000051498413, -0.0010999999940395355, -0.8259999752044678, 1.3995000123977661, 1.3393000364303589, 1.3258999586105347, 1.2532999515533447, 1.2524000406265259, 1.2405999898910522, 1.2294000387191772, 1.2228000164031982, 1.2218999862670898, 1.2166999578475952, 1.214900016784668, 1.204800009727478, 1.2043999433517456, 1.2036999464035034, 1.2027000188827515, 1.1893999576568604, 1.1618000268936157, 1.149999976158142, 1.1332999467849731, 1.1306999921798706, 1.1236000061035156, 1.121000051498413, 1.114799976348877, 1.1129000186920166, 1.1013000011444092, 1.0995999574661255, 1.0787999629974365, 1.0780999660491943, 1.0753999948501587, 1.0752999782562256, 1.058500051498413, 1.0489000082015991, 1.0214999914169312, 1.0578999519348145, 0.9948999881744385, 0.6398000121116638, 0.5867000222206116, 0.9531000256538391, 0.7020999789237976, 0.9847000241279602, 0.48100000619888306, 0.7038999795913696, 0.5216000080108643, 0.5128999948501587, 0.44119998812675476, 0.38999998569488525, 0.640999972820282, 0.8583999872207642, 0.43709999322891235, 0.16869999468326569, 0.7962999939918518, 0.265500009059906, 0.39739999175071716, 0.23559999465942383, 0.6829000115394592, 0.011099999770522118, 0.7997999787330627, 0.34869998693466187, 0.3312000036239624, -0.06759999692440033, 0.29019999504089355, 0.15080000460147858, 0.22609999775886536, 0.3059999942779541, 0.03819999843835831, 0.43479999899864197, 0.1527000069618225, 0.22360000014305115, -0.03009999915957451, -0.044199999421834946, 0.06199999898672104, -0.07410000264644623, -0.23989999294281006, -0.38760000467300415, -0.03689999878406525, -0.6516000032424927, -0.47839999198913574, -0.4772999882698059, -0.2280000001192093, -0.6362000107765198, -0.05739999935030937, -0.4571000039577484]}, \"token.table\": {\"Topic\": [1, 2, 3, 4, 1, 2, 3, 4, 1, 2, 3, 4, 3, 1, 2, 3, 4, 1, 3, 4, 2, 1, 2, 3, 4, 4, 1, 2, 4, 1, 2, 3, 4, 1, 2, 3, 4, 4, 1, 2, 3, 4, 1, 2, 3, 4, 1, 3, 4, 4, 1, 2, 3, 4, 1, 2, 3, 4, 1, 2, 2, 4, 1, 2, 3, 4, 1, 4, 3, 1, 2, 3, 4, 1, 1, 1, 1, 2, 3, 4, 1, 2, 3, 4, 1, 2, 3, 4, 1, 2, 3, 4, 3, 1, 2, 3, 4, 1, 2, 3, 4, 1, 3, 4, 2, 3, 4, 2, 3, 1, 2, 3, 4, 1, 2, 3, 4, 1, 2, 3, 4, 1, 2, 3, 4, 1, 2, 3, 4, 4, 2, 2, 1, 2, 3, 1, 2, 3, 4, 2, 1, 2, 3, 3, 3, 1, 2, 3, 4, 2, 4, 3, 1, 1, 2, 3, 4, 1, 2, 3, 4, 1, 2, 3, 4, 1, 1, 2, 3, 4, 1, 2, 3, 4, 1, 2, 3, 4, 1, 2, 4, 1, 4, 3, 4, 4, 1, 2, 3, 4, 2, 1, 2, 3, 4, 1, 2, 3, 4, 4, 4, 1, 3, 4, 1, 2, 3, 4, 1, 2, 3, 4, 3, 1, 2, 3, 4, 1, 2, 1, 2, 3, 4, 2, 1, 1, 2, 3, 4, 1, 2, 3, 4, 1, 2, 3, 4, 1, 2, 3, 4, 1, 2, 3, 4, 2, 3, 2, 4, 3, 3, 1, 2, 3, 4, 4, 1, 2, 3, 4, 1, 2, 3, 4, 2, 1, 2, 3, 4, 1, 2, 3, 4, 3, 1, 2, 3, 4, 1, 2, 3, 4, 3, 4, 2, 3, 4, 1, 2, 3, 4, 1, 2, 3, 4, 1, 3, 1, 4, 1, 2, 3, 4, 3, 4, 1, 2, 3, 4, 4, 1, 2, 3, 4, 1, 2, 3, 4, 1, 2, 3, 4, 1, 2, 3, 4, 1, 2, 3, 4, 1, 1, 2, 3, 4, 1, 2, 3, 4, 1, 2, 3, 4, 1, 2, 4, 3, 2, 3, 3, 4, 1, 2, 3, 4, 1, 4, 4, 1, 2, 3, 4, 1, 2, 3, 4, 2, 1, 2, 3, 1, 2, 3, 4, 1, 2, 3, 4, 1, 4, 1, 1, 1, 1, 2, 3, 4, 1, 2, 3, 4, 1, 2, 3, 4, 1, 2, 3, 4, 4, 1, 1, 2, 3, 4, 1, 2, 3, 4, 2, 1, 4, 2, 1, 2, 3, 4, 3, 1, 2, 3, 4, 1, 4, 3, 4, 1, 2, 3, 4, 1, 2, 3, 4, 1, 2, 3, 1, 2, 3, 4, 1, 2, 1, 2, 3, 4, 2, 3, 2, 1, 2, 3, 4, 3, 1, 2, 3, 4, 1, 2, 4, 1, 2, 3, 4, 4, 2, 3, 3, 3, 4, 1, 2, 3, 4, 1, 2, 3, 4, 1, 2, 4, 1, 2, 3, 4, 1, 1, 2, 3, 4, 3, 1, 1, 2, 3, 4, 1, 2, 4, 3, 1, 2, 4, 1, 2, 4, 4, 2, 2, 1, 2, 3, 4, 1, 1, 2, 3, 4, 1, 2, 3, 4, 1, 2, 1, 2, 3, 4, 1, 2, 3, 4, 2, 3, 1, 1, 2, 3, 4, 1, 2, 3, 4, 1, 3, 4, 1, 3, 4, 4, 3, 2, 1, 2, 3, 4, 1, 1, 2, 3, 4, 1, 2, 3, 4, 1, 2, 3, 4, 1, 2, 3, 4, 1, 2, 3, 4, 2, 1, 2, 3, 4, 3, 1, 2, 3, 4, 1, 2, 3, 4, 2, 3, 4, 1, 2, 3, 4], \"Freq\": [0.44859087467193604, 0.34412452578544617, 0.09217620640993118, 0.1106114536523819, 0.15973247587680817, 0.15973247587680817, 0.15973247587680817, 0.4791974425315857, 0.10705693811178207, 0.6423416137695312, 0.10705693811178207, 0.10705693811178207, 0.788188636302948, 0.3139616847038269, 0.28981077671051025, 0.19320718944072723, 0.20528264343738556, 0.2357555776834488, 0.7072667479515076, 0.8092010021209717, 0.7887308597564697, 0.23448394238948822, 0.547129213809967, 0.0781613141298294, 0.11724197119474411, 0.6090003848075867, 0.7571027278900146, 0.18927568197250366, 0.18927568197250366, 0.2768641710281372, 0.24225613474845886, 0.24225613474845886, 0.24225613474845886, 0.33246371150016785, 0.16623185575008392, 0.4986955523490906, 0.08311592787504196, 0.8120898604393005, 0.38987967371940613, 0.12995989620685577, 0.19493983685970306, 0.28157976269721985, 0.13937866687774658, 0.5575146675109863, 0.06968933343887329, 0.20906801521778107, 0.2908138930797577, 0.5816277861595154, 0.09693796187639236, 0.8110753893852234, 0.2926551401615143, 0.5853102803230286, 0.09755171090364456, 0.09755171090364456, 0.43200206756591797, 0.3296858072280884, 0.09094780683517456, 0.15915866196155548, 0.29346948862075806, 0.5869389772415161, 0.4040559232234955, 0.808111846446991, 0.1720077097415924, 0.39694085717201233, 0.3043213188648224, 0.1190822571516037, 0.7551292181015015, 0.8110039234161377, 0.7906608581542969, 0.23169167339801788, 0.14744015038013458, 0.37913182377815247, 0.2527545392513275, 0.8492708206176758, 0.7517616748809814, 0.7516441941261292, 0.24970778822898865, 0.2643964886665344, 0.2937738597393036, 0.19095301628112793, 0.28460970520973206, 0.2213630974292755, 0.3478562831878662, 0.15811650454998016, 0.571453332901001, 0.1804589480161667, 0.15038245916366577, 0.09022947400808334, 0.22628627717494965, 0.28285783529281616, 0.05657156929373741, 0.3960009813308716, 0.8852748274803162, 0.44620439410209656, 0.24789132177829742, 0.18178696930408478, 0.1322087049484253, 0.2340478152036667, 0.07801593840122223, 0.546111524105072, 0.07801593840122223, 0.7591137886047363, 0.592292070388794, 0.296146035194397, 0.7110133767127991, 0.23700445890426636, 0.23700445890426636, 0.7895377278327942, 0.7881803512573242, 0.1690388172864914, 0.5916358828544617, 0.0845194086432457, 0.1690388172864914, 0.1375114917755127, 0.1375114917755127, 0.3666973114013672, 0.3208601474761963, 0.4880635738372803, 0.2928381562232971, 0.17082224786281586, 0.024403179064393044, 0.44505172967910767, 0.2637343406677246, 0.21428416669368744, 0.08241698145866394, 0.24686868488788605, 0.27240681648254395, 0.3149704039096832, 0.16174155473709106, 0.9181244373321533, 0.7887185215950012, 0.5907934308052063, 0.7540421485900879, 0.2513473927974701, 0.12567369639873505, 0.24648797512054443, 0.5545979738235474, 0.12324398756027222, 0.06162199378013611, 0.886088490486145, 0.6376994252204895, 0.21256648004055023, 0.14171098172664642, 0.7881083488464355, 0.7880337238311768, 0.23439835011959076, 0.05208852142095566, 0.5990179777145386, 0.13022130727767944, 0.7887486219406128, 0.8110092282295227, 0.7881764769554138, 0.7589318156242371, 0.5212314128875732, 0.10858988016843796, 0.21717976033687592, 0.15202583372592926, 0.15144920349121094, 0.15144920349121094, 0.15144920349121094, 0.6057968139648438, 0.2118971347808838, 0.3481167256832123, 0.2118971347808838, 0.2270326465368271, 0.8491319417953491, 0.1868961751461029, 0.1868961751461029, 0.27184897661209106, 0.3568017780780792, 0.3474442660808563, 0.1226273849606514, 0.38832005858421326, 0.14306528866291046, 0.5963724255561829, 0.13631369173526764, 0.17039212584495544, 0.10223527252674103, 0.2504091262817383, 0.6677576303482056, 0.8094065189361572, 0.24229517579078674, 0.7268855571746826, 0.30262118577957153, 0.6052423715591431, 0.8063560724258423, 0.24665316939353943, 0.4806574583053589, 0.07589328289031982, 0.19605764746665955, 0.7851757407188416, 0.15617699921131134, 0.28632450103759766, 0.13014750182628632, 0.4164719879627228, 0.3486584424972534, 0.42613810300827026, 0.11621948331594467, 0.11621948331594467, 0.803629994392395, 0.8067792057991028, 0.5659715533256531, 0.28298577666282654, 0.8183422684669495, 0.2531667947769165, 0.27426400780677795, 0.16877785325050354, 0.2953612506389618, 0.5419632792472839, 0.14138172566890717, 0.09425448626279831, 0.23563621938228607, 0.7890716195106506, 0.4171907603740692, 0.26074421405792236, 0.1042976900935173, 0.2259783297777176, 0.2935388386249542, 0.5870776772499084, 0.3385775089263916, 0.32010966539382935, 0.12927505373954773, 0.20930247008800507, 0.5907956957817078, 0.751718282699585, 0.1077781692147255, 0.215556338429451, 0.6466690301895142, 0.1077781692147255, 0.32743996381759644, 0.29235711693763733, 0.18710856139659882, 0.19880284368991852, 0.25179558992385864, 0.16786372661590576, 0.398676335811615, 0.1888466775417328, 0.533450186252594, 0.164138525724411, 0.19149494171142578, 0.12310389429330826, 0.3032759726047516, 0.2332892119884491, 0.34993380308151245, 0.10498014092445374, 0.590794026851654, 0.7881708741188049, 0.7909635305404663, 0.8108744621276855, 0.7899177074432373, 0.7857637405395508, 0.41905277967453003, 0.38681796193122864, 0.03223482891917229, 0.12893931567668915, 0.8050397634506226, 0.3067343831062317, 0.24922168254852295, 0.2683925926685333, 0.17253808677196503, 0.2280203402042389, 0.2383849024772644, 0.26947858929634094, 0.26947858929634094, 0.5907930135726929, 0.08456853777170181, 0.16913707554340363, 0.5074111819267273, 0.16913707554340363, 0.45661401748657227, 0.17562077939510345, 0.19318285584449768, 0.19318285584449768, 0.7881749868392944, 0.42628857493400574, 0.22735390067100525, 0.22024910151958466, 0.1278865784406662, 0.6637489199638367, 0.0948212742805481, 0.1896425485610962, 0.0948212742805481, 0.7078279852867126, 0.8123806118965149, 0.2021636664867401, 0.2021636664867401, 0.606490969657898, 0.2308298647403717, 0.3077731430530548, 0.13849791884422302, 0.3231618106365204, 0.2227391004562378, 0.2570066452026367, 0.2570066452026367, 0.2570066452026367, 0.7516812682151794, 0.7882049679756165, 0.8081579804420471, 0.16163159906864166, 0.31055474281311035, 0.5046514868736267, 0.11645802855491638, 0.07763868570327759, 0.3043893873691559, 0.6087787747383118, 0.560470700263977, 0.11799383163452148, 0.14749228954315186, 0.17699074745178223, 0.8115946054458618, 0.5729703307151794, 0.16852067410945892, 0.1280757188796997, 0.1280757188796997, 0.32134413719177246, 0.2008400857448578, 0.361512154340744, 0.08033603429794312, 0.38009563088417053, 0.29140666127204895, 0.1266985386610031, 0.20271767675876617, 0.2712334096431732, 0.1773449182510376, 0.28166547417640686, 0.2712334096431732, 0.48848360776901245, 0.0849536657333374, 0.20176497101783752, 0.22300338745117188, 0.7520616054534912, 0.45269426703453064, 0.251496821641922, 0.125748410820961, 0.17604777216911316, 0.39756062626838684, 0.23559148609638214, 0.19141808152198792, 0.1766936182975769, 0.15781034529209137, 0.6312413811683655, 0.15781034529209137, 0.15781034529209137, 0.1984272301197052, 0.595281720161438, 0.1984272301197052, 0.7880502343177795, 0.7886684536933899, 0.39433422684669495, 0.7882534861564636, 0.9176533222198486, 0.5229390859603882, 0.05504621937870979, 0.16513866186141968, 0.24770799279212952, 0.7572112679481506, 0.8124324679374695, 0.8088788986206055, 0.4652296304702759, 0.23261481523513794, 0.21146801114082336, 0.0845872089266777, 0.1465550661087036, 0.18319383263587952, 0.36638766527175903, 0.31142953038215637, 0.7887601852416992, 0.2593573331832886, 0.5187146663665771, 0.1296786665916443, 0.29280003905296326, 0.24775387346744537, 0.0788307785987854, 0.37163081765174866, 0.33403658866882324, 0.2826463580131531, 0.17986585199832916, 0.20556098222732544, 0.6860341429710388, 0.22867804765701294, 0.7516270279884338, 0.7561041712760925, 0.7519096732139587, 0.30401742458343506, 0.25334787368774414, 0.1393413245677948, 0.30401742458343506, 0.10730534046888351, 0.6438320279121399, 0.10730534046888351, 0.10730534046888351, 0.13077890872955322, 0.5231156349182129, 0.13077890872955322, 0.13077890872955322, 0.3212760388851166, 0.18358631432056427, 0.298327773809433, 0.20653460919857025, 0.8086839318275452, 0.7538852095603943, 0.2913375496864319, 0.17803961038589478, 0.17803961038589478, 0.35607922077178955, 0.22562602162361145, 0.20682384073734283, 0.24442818760871887, 0.31963685154914856, 0.8859671950340271, 0.23885315656661987, 0.7165594696998596, 0.5907961130142212, 0.7003833651542664, 0.0875479206442833, 0.0875479206442833, 0.0875479206442833, 0.7880722284317017, 0.237013578414917, 0.237013578414917, 0.20315450429916382, 0.3385908305644989, 0.30016690492630005, 0.6003338098526001, 0.30394247174263, 0.60788494348526, 0.273298442363739, 0.33636730909347534, 0.12613774836063385, 0.2522754967212677, 0.2135714441537857, 0.533928632736206, 0.10678572207689285, 0.10678572207689285, 0.16798564791679382, 0.16798564791679382, 0.6719425916671753, 0.28718939423561096, 0.23248666524887085, 0.23932451009750366, 0.24616234004497528, 0.5668470859527588, 0.2834235429763794, 0.08617100119590759, 0.2585130035877228, 0.2585130035877228, 0.43085500597953796, 0.5907981395721436, 0.7841202616691589, 0.7886649370193481, 0.32541748881340027, 0.16270874440670013, 0.08135437220335007, 0.40677186846733093, 0.7880441546440125, 0.4711986482143402, 0.3187520205974579, 0.16630540788173676, 0.04157635197043419, 0.8457062840461731, 0.7166127562522888, 0.23887091875076294, 0.6435126662254333, 0.07570737600326538, 0.18926844000816345, 0.07570737600326538, 0.8100773096084595, 0.9474945664405823, 0.7851953506469727, 0.7884754538536072, 0.24255697429180145, 0.7276709079742432, 0.7092320919036865, 0.1418464183807373, 0.1418464183807373, 0.1418464183807373, 0.26242560148239136, 0.3080648183822632, 0.034229423850774765, 0.3993432819843292, 0.1720883846282959, 0.1720883846282959, 0.5162651538848877, 0.2879772186279297, 0.3475587069988251, 0.1986049860715866, 0.16881424188613892, 0.7536076307296753, 0.5393350720405579, 0.12446193397045135, 0.20743656158447266, 0.12446193397045135, 0.7893057465553284, 0.75190269947052, 0.2776515483856201, 0.5244529247283936, 0.06170034408569336, 0.1542508602142334, 0.67924565076828, 0.1132076159119606, 0.1132076159119606, 0.784584641456604, 0.7516517043113708, 0.7172326445579529, 0.23907755315303802, 0.6519432067871094, 0.08149290084838867, 0.16298580169677734, 0.8086036443710327, 0.7887570858001709, 0.5907947421073914, 0.4248989224433899, 0.2510766386985779, 0.19313587248325348, 0.13519510626792908, 0.7571340203285217, 0.15342949330806732, 0.3835737407207489, 0.19178687036037445, 0.2876802980899811, 0.1994035243988037, 0.09970176219940186, 0.1994035243988037, 0.4985088109970093, 0.3911619186401367, 0.7823238372802734, 0.06679438054561615, 0.1335887610912323, 0.3673690855503082, 0.43416348099708557, 0.58942711353302, 0.13098379969596863, 0.09823785722255707, 0.16372975707054138, 0.2957583963871002, 0.5915167927742004, 0.755186915397644, 0.17104750871658325, 0.17104750871658325, 0.17104750871658325, 0.5131425261497498, 0.20069442689418793, 0.2715277671813965, 0.3305555284023285, 0.20069442689418793, 0.26553836464881897, 0.13276918232440948, 0.5310767292976379, 0.168334499001503, 0.673337996006012, 0.168334499001503, 0.8113892078399658, 0.7881615161895752, 0.5907880067825317, 0.20022912323474884, 0.47554418444633484, 0.20022912323474884, 0.12514320015907288, 0.7562088966369629, 0.18701821565628052, 0.49871525168418884, 0.062339406460523605, 0.24935762584209442, 0.24484167993068695, 0.19587333500385284, 0.3917466700077057, 0.19587333500385284, 0.14605407416820526, 0.396432489156723, 0.14605407416820526, 0.2921081483364105, 0.3162327706813812, 0.17249061167240143, 0.17249061167240143, 0.335398405790329, 0.406697154045105, 0.16267886757850647, 0.17623543739318848, 0.2440183013677597, 0.8878838419914246, 0.5327972173690796, 0.14799924194812775, 0.08879954367876053, 0.23679877817630768, 0.7901465892791748, 0.3288872539997101, 0.19733235239982605, 0.3288872539997101, 0.14799927175045013, 0.32890865206718445, 0.366498202085495, 0.19734518229961395, 0.11276867240667343, 0.5903846025466919, 0.29519230127334595, 0.8115621209144592, 0.20675672590732574, 0.4790704548358917, 0.20675672590732574, 0.11094263195991516], \"Term\": [\"abuse\", \"abuse\", \"abuse\", \"abuse\", \"action\", \"action\", \"action\", \"action\", \"address\", \"address\", \"address\", \"address\", \"adjournment\", \"advice\", \"advice\", \"advice\", \"advice\", \"afternoon\", \"afternoon\", \"alright\", \"anniversary\", \"anxiety\", \"anxiety\", \"anxiety\", \"anxiety\", \"application\", \"aunt\", \"aunt\", \"aunt\", \"baby\", \"baby\", \"baby\", \"baby\", \"background\", \"background\", \"background\", \"background\", \"backlash\", \"bed\", \"bed\", \"bed\", \"bed\", \"bf\", \"bf\", \"bf\", \"bf\", \"birthday\", \"birthday\", \"birthday\", \"boiling\", \"book\", \"book\", \"book\", \"book\", \"boyfriend\", \"boyfriend\", \"boyfriend\", \"boyfriend\", \"brand\", \"brand\", \"broke_leg\", \"broke_leg\", \"brother\", \"brother\", \"brother\", \"brother\", \"bubble\", \"bush\", \"bust\", \"call\", \"call\", \"call\", \"call\", \"called_cry\", \"camel\", \"capacity\", \"car\", \"car\", \"car\", \"car\", \"care\", \"care\", \"care\", \"care\", \"case\", \"case\", \"case\", \"case\", \"chance\", \"chance\", \"chance\", \"chance\", \"character\", \"child\", \"child\", \"child\", \"child\", \"class\", \"class\", \"class\", \"class\", \"client\", \"coffee\", \"coffee\", \"communication\", \"communication\", \"communication\", \"console\", \"counselling\", \"coworker\", \"coworker\", \"coworker\", \"coworker\", \"cry\", \"cry\", \"cry\", \"cry\", \"dad\", \"dad\", \"dad\", \"dad\", \"daughter\", \"daughter\", \"daughter\", \"daughter\", \"day\", \"day\", \"day\", \"day\", \"detection\", \"dident\", \"diffuse\", \"disorder\", \"disorder\", \"disorder\", \"doctor\", \"doctor\", \"doctor\", \"doctor\", \"documentary\", \"domestic_abuse\", \"domestic_abuse\", \"domestic_abuse\", \"donate\", \"donation\", \"door\", \"door\", \"door\", \"door\", \"driving\", \"duration\", \"embarrassment\", \"employment\", \"end\", \"end\", \"end\", \"end\", \"evening\", \"evening\", \"evening\", \"evening\", \"ex\", \"ex\", \"ex\", \"ex\", \"exception\", \"face\", \"face\", \"face\", \"face\", \"family\", \"family\", \"family\", \"family\", \"father\", \"father\", \"father\", \"father\", \"fiance\", \"fiance\", \"firearm\", \"flag\", \"flag\", \"forget\", \"forget\", \"freedom\", \"friend\", \"friend\", \"friend\", \"friend\", \"gear\", \"girl\", \"girl\", \"girl\", \"girl\", \"girlfriend\", \"girlfriend\", \"girlfriend\", \"girlfriend\", \"godmother\", \"grammar\", \"guest\", \"guest\", \"guitar\", \"guy\", \"guy\", \"guy\", \"guy\", \"hand\", \"hand\", \"hand\", \"hand\", \"harassing\", \"head\", \"head\", \"head\", \"head\", \"heal\", \"heal\", \"help\", \"help\", \"help\", \"help\", \"hertell\", \"highschool\", \"holiday\", \"holiday\", \"holiday\", \"holiday\", \"home\", \"home\", \"home\", \"home\", \"hour\", \"hour\", \"hour\", \"hour\", \"house\", \"house\", \"house\", \"house\", \"husband\", \"husband\", \"husband\", \"husband\", \"injure\", \"inmate\", \"interview\", \"intimacy\", \"intimidate\", \"intuition\", \"jail\", \"jail\", \"jail\", \"jail\", \"jealousy\", \"job\", \"job\", \"job\", \"job\", \"kid\", \"kid\", \"kid\", \"kid\", \"landlady\", \"lawyer\", \"lawyer\", \"lawyer\", \"lawyer\", \"leave\", \"leave\", \"leave\", \"leave\", \"legal_fee\", \"life\", \"life\", \"life\", \"life\", \"lock\", \"lock\", \"lock\", \"lock\", \"looking_back\", \"loser\", \"lost_job\", \"lost_job\", \"lost_job\", \"love\", \"love\", \"love\", \"love\", \"man\", \"man\", \"man\", \"man\", \"marble\", \"meltdown\", \"member\", \"member\", \"memory\", \"memory\", \"memory\", \"memory\", \"mental_illness\", \"mental_illness\", \"mind\", \"mind\", \"mind\", \"mind\", \"mindfulness\", \"mom\", \"mom\", \"mom\", \"mom\", \"moment\", \"moment\", \"moment\", \"moment\", \"money\", \"money\", \"money\", \"money\", \"month\", \"month\", \"month\", \"month\", \"mother\", \"mother\", \"mother\", \"mother\", \"moved_room\", \"name\", \"name\", \"name\", \"name\", \"night\", \"night\", \"night\", \"night\", \"nightmare\", \"nightmare\", \"nightmare\", \"nightmare\", \"noise\", \"noise\", \"noise\", \"noodle\", \"offense\", \"offense\", \"ontop\", \"ordeal\", \"order\", \"order\", \"order\", \"order\", \"packing\", \"page\", \"pan\", \"parent\", \"parent\", \"parent\", \"parent\", \"partner\", \"partner\", \"partner\", \"partner\", \"passenger\", \"peace\", \"peace\", \"peace\", \"people\", \"people\", \"people\", \"people\", \"person\", \"person\", \"person\", \"person\", \"personality\", \"personality\", \"pet\", \"petition\", \"phase\", \"phone\", \"phone\", \"phone\", \"phone\", \"piece\", \"piece\", \"piece\", \"piece\", \"pill\", \"pill\", \"pill\", \"pill\", \"place\", \"place\", \"place\", \"place\", \"platform\", \"please_help\", \"point\", \"point\", \"point\", \"point\", \"police\", \"police\", \"police\", \"police\", \"pop\", \"pressure\", \"pressure\", \"prince\", \"prison\", \"prison\", \"prison\", \"prison\", \"quality\", \"question\", \"question\", \"question\", \"question\", \"rape\", \"rape\", \"rape_kit\", \"rape_kit\", \"reason\", \"reason\", \"reason\", \"reason\", \"record\", \"record\", \"record\", \"record\", \"regard\", \"regard\", \"regard\", \"relationship\", \"relationship\", \"relationship\", \"relationship\", \"remark\", \"remark\", \"report\", \"report\", \"report\", \"report\", \"reporter\", \"request\", \"residence\", \"resource\", \"resource\", \"resource\", \"resource\", \"rice\", \"room\", \"room\", \"room\", \"room\", \"saying\", \"scare\", \"scare\", \"school\", \"school\", \"school\", \"school\", \"screenshot\", \"seat\", \"seems_like\", \"sexuality\", \"shop\", \"shop\", \"sibling\", \"sibling\", \"sibling\", \"sibling\", \"sister\", \"sister\", \"sister\", \"sister\", \"sit\", \"sit\", \"sit\", \"situation\", \"situation\", \"situation\", \"situation\", \"soap\", \"son\", \"son\", \"son\", \"son\", \"squeeze\", \"started_hitting\", \"state\", \"state\", \"state\", \"state\", \"stay\", \"stay\", \"stay\", \"stay_house\", \"stepgrandfather\", \"stimulus\", \"stimulus\", \"stomach\", \"stomach\", \"stomach\", \"stop_thinking\", \"stroke\", \"stubbornness\", \"stuff\", \"stuff\", \"stuff\", \"stuff\", \"supply\", \"talk\", \"talk\", \"talk\", \"talk\", \"tear\", \"tear\", \"tear\", \"tear\", \"tend\", \"tend\", \"text\", \"text\", \"text\", \"text\", \"thing\", \"thing\", \"thing\", \"thing\", \"thread\", \"thread\", \"thud\", \"timing\", \"timing\", \"timing\", \"timing\", \"today\", \"today\", \"today\", \"today\", \"topic\", \"topic\", \"topic\", \"trip\", \"trip\", \"trip\", \"tshirt\", \"undertaking\", \"utilize\", \"victim\", \"victim\", \"victim\", \"victim\", \"victory\", \"video\", \"video\", \"video\", \"video\", \"wall\", \"wall\", \"wall\", \"wall\", \"want\", \"want\", \"want\", \"want\", \"way\", \"way\", \"way\", \"way\", \"week\", \"week\", \"week\", \"week\", \"whole_situation\", \"wife\", \"wife\", \"wife\", \"wife\", \"wizard\", \"woman\", \"woman\", \"woman\", \"woman\", \"work\", \"work\", \"work\", \"work\", \"would_try\", \"would_try\", \"wound\", \"year\", \"year\", \"year\", \"year\"]}, \"R\": 30, \"lambda.step\": 0.01, \"plot.opts\": {\"xlab\": \"PC1\", \"ylab\": \"PC2\"}, \"topic.order\": [4, 2, 3, 1]};\n",
              "\n",
              "function LDAvis_load_lib(url, callback){\n",
              "  var s = document.createElement('script');\n",
              "  s.src = url;\n",
              "  s.async = true;\n",
              "  s.onreadystatechange = s.onload = callback;\n",
              "  s.onerror = function(){console.warn(\"failed to load library \" + url);};\n",
              "  document.getElementsByTagName(\"head\")[0].appendChild(s);\n",
              "}\n",
              "\n",
              "if(typeof(LDAvis) !== \"undefined\"){\n",
              "   // already loaded: just create the visualization\n",
              "   !function(LDAvis){\n",
              "       new LDAvis(\"#\" + \"ldavis_el1241398772905322008394415425\", ldavis_el1241398772905322008394415425_data);\n",
              "   }(LDAvis);\n",
              "}else if(typeof define === \"function\" && define.amd){\n",
              "   // require.js is available: use it to load d3/LDAvis\n",
              "   require.config({paths: {d3: \"https://cdnjs.cloudflare.com/ajax/libs/d3/3.5.5/d3.min\"}});\n",
              "   require([\"d3\"], function(d3){\n",
              "      window.d3 = d3;\n",
              "      LDAvis_load_lib(\"https://cdn.rawgit.com/bmabey/pyLDAvis/files/ldavis.v1.0.0.js\", function(){\n",
              "        new LDAvis(\"#\" + \"ldavis_el1241398772905322008394415425\", ldavis_el1241398772905322008394415425_data);\n",
              "      });\n",
              "    });\n",
              "}else{\n",
              "    // require.js not available: dynamically load d3 & LDAvis\n",
              "    LDAvis_load_lib(\"https://cdnjs.cloudflare.com/ajax/libs/d3/3.5.5/d3.min.js\", function(){\n",
              "         LDAvis_load_lib(\"https://cdn.rawgit.com/bmabey/pyLDAvis/files/ldavis.v1.0.0.js\", function(){\n",
              "                 new LDAvis(\"#\" + \"ldavis_el1241398772905322008394415425\", ldavis_el1241398772905322008394415425_data);\n",
              "            })\n",
              "         });\n",
              "}\n",
              "</script>"
            ],
            "text/plain": [
              "PreparedData(topic_coordinates=              x         y  topics  cluster       Freq\n",
              "topic                                                \n",
              "3      0.009319 -0.023784  1       1        31.884258\n",
              "1      0.019392 -0.026007  2       1        25.433651\n",
              "2     -0.052145  0.005833  3       1        21.706074\n",
              "0      0.023434  0.043958  4       1        20.976011, topic_info=          Term        Freq       Total Category  logprob  loglift\n",
              "73   year       198.000000  198.000000  Default  30.0000  30.0000\n",
              "20   friend     158.000000  158.000000  Default  29.0000  29.0000\n",
              "167  sister     87.000000   87.000000   Default  28.0000  28.0000\n",
              "18   family     146.000000  146.000000  Default  27.0000  27.0000\n",
              "630  door       38.000000   38.000000   Default  26.0000  26.0000\n",
              "..    ...             ...         ...       ...      ...      ...\n",
              "161  life       18.318348   140.749725  Topic4  -5.2521  -0.4773 \n",
              "38   situation  16.816271   100.702408  Topic4  -5.3376  -0.2280 \n",
              "144  abuse      18.067556   162.731796  Topic4  -5.2659  -0.6362 \n",
              "92   money      15.632476   78.927505   Topic4  -5.4106  -0.0574 \n",
              "112  child      16.072443   121.020775  Topic4  -5.3829  -0.4571 \n",
              "\n",
              "[340 rows x 6 columns], token_table=      Topic      Freq    Term\n",
              "term                         \n",
              "144   1      0.448591  abuse \n",
              "144   2      0.344125  abuse \n",
              "144   3      0.092176  abuse \n",
              "144   4      0.110611  abuse \n",
              "248   1      0.159732  action\n",
              "...  ..           ...    ... \n",
              "1687  4      0.811562  wound \n",
              "73    1      0.206757  year  \n",
              "73    2      0.479070  year  \n",
              "73    3      0.206757  year  \n",
              "73    4      0.110943  year  \n",
              "\n",
              "[600 rows x 3 columns], R=30, lambda_step=0.01, plot_opts={'xlab': 'PC1', 'ylab': 'PC2'}, topic_order=[4, 2, 3, 1])"
            ]
          },
          "metadata": {
            "tags": []
          },
          "execution_count": 58
        }
      ]
    },
    {
      "cell_type": "code",
      "metadata": {
        "id": "1Ruk6opTFnOJ",
        "colab_type": "code",
        "colab": {}
      },
      "source": [
        "def ret_top_model():\n",
        "    \"\"\"\n",
        "    Since LDAmodel is a probabilistic model, it comes up different topics each time we run it. To control the\n",
        "    quality of the topic model we produce, we can see what the interpretability of the best topic is and keep\n",
        "    evaluating the topic model until this threshold is crossed. \n",
        "    \n",
        "    Returns:\n",
        "    -------\n",
        "    lm: Final evaluated topic model\n",
        "    top_topics: ranked topics in decreasing order. List of tuples\n",
        "    \"\"\"\n",
        "    top_topics = [(0, 0)]\n",
        "    while top_topics[0][1] < 0.97:\n",
        "        lm = LdaModel(corpus=corpus, id2word=id2word)\n",
        "        coherence_values = {}\n",
        "        for n, topic in lm.show_topics(num_topics=-1, formatted=False):\n",
        "            topic = [word for word, _ in topic]\n",
        "            cm = CoherenceModel(topics=[topic], texts=data_lemmatized, dictionary=id2word, window_size=10)\n",
        "            coherence_values[n] = cm.get_coherence()\n",
        "        top_topics = sorted(coherence_values.items(), key=itemgetter(1), reverse=True)\n",
        "    return lm, top_topics"
      ],
      "execution_count": 0,
      "outputs": []
    },
    {
      "cell_type": "code",
      "metadata": {
        "id": "KnYErRX3FnSV",
        "colab_type": "code",
        "colab": {}
      },
      "source": [
        "from operator import itemgetter"
      ],
      "execution_count": 0,
      "outputs": []
    },
    {
      "cell_type": "code",
      "metadata": {
        "id": "EVIoZ8qcFnLa",
        "colab_type": "code",
        "colab": {}
      },
      "source": [
        "lm, top_topics = ret_top_model()"
      ],
      "execution_count": 0,
      "outputs": []
    },
    {
      "cell_type": "code",
      "metadata": {
        "id": "FfGR3Jg6FXjM",
        "colab_type": "code",
        "colab": {}
      },
      "source": [
        ""
      ],
      "execution_count": 0,
      "outputs": []
    }
  ]
}